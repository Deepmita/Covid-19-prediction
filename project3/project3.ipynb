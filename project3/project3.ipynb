{
 "cells": [
  {
   "cell_type": "markdown",
   "metadata": {},
   "source": [
    "CAPSTONE PROJECT-4 :- PRCP-1023-JohnsHopkinsCovid19\n",
    "PROJECT TEAM ID :- PTID-CDS-NOV-23-1680"
   ]
  },
  {
   "cell_type": "markdown",
   "metadata": {},
   "source": [
    "Problem Statement\n",
    "\n",
    "Task 1:- Prepare a complete data analysis report on the given data.\n",
    "Task 2:- Fix a period for prediction of confirmed cases/deaths. Create a\n",
    "predictive model to forecast the Covid19 cases based on past cases for a\n",
    "specific country or region.\n",
    "Task3:- Make suggestions to the government health department of the\n",
    "country/region for preparation based on your predictions."
   ]
  },
  {
   "cell_type": "code",
   "execution_count": 114,
   "metadata": {},
   "outputs": [],
   "source": [
    "import pandas as pd\n",
    "import numpy as np\n",
    "import matplotlib.pyplot as plt\n",
    "import seaborn as sns\n",
    "import matplotlib.pyplot as plt \n",
    "import matplotlib.colors as mcolors\n",
    "import random\n",
    "import math \n",
    "import time\n",
    "import wget\n",
    "import altair as alt\n",
    "import plotly.express as px\n",
    "\n",
    "from matplotlib import style\n",
    "%matplotlib inline\n",
    "import plotly\n",
    "import plotly.express as px\n",
    "import plotly.graph_objects as go\n",
    "\n",
    "from sklearn.linear_model import LinearRegression\n",
    "from sklearn.svm import SVR \n",
    "from sklearn.model_selection import train_test_split \n",
    "from sklearn.preprocessing import PolynomialFeatures\n",
    "from sklearn.model_selection import RandomizedSearchCV\n",
    "from sklearn.metrics import mean_squared_error, mean_absolute_error\n",
    "from sklearn.metrics import r2_score"
   ]
  },
  {
   "cell_type": "code",
   "execution_count": 2,
   "metadata": {},
   "outputs": [],
   "source": [
    "Confirmed_filepath = pd.read_csv(\"time_series_covid19_confirmed_global.csv\")\n",
    "Death_filepath= pd.read_csv(\"time_series_covid19_deaths_global.csv\")\n",
    "Recovered_filepath= pd.read_csv(\"time_series_covid19_recovered_global.csv\")"
   ]
  },
  {
   "cell_type": "code",
   "execution_count": 3,
   "metadata": {},
   "outputs": [],
   "source": [
    "def Import_COVIDData(Confirmed_filepath):\n",
    "        data = Confirmed_filepath\n",
    "        data = pd.read_csv(\"time_series_covid19_confirmed_global.csv\")\n",
    "        data.rename(columns={'Province/State':'Province','Country/Region':'Country'},inplace = True)\n",
    "        return data  "
   ]
  },
  {
   "cell_type": "code",
   "execution_count": 4,
   "metadata": {},
   "outputs": [],
   "source": [
    "def Import_COVIDData(Confirmed_filepath):\n",
    "        data = Confirmed_filepath\n",
    "        data = pd.read_csv(\"time_series_covid19_confirmed_global.csv\")\n",
    "        data.rename(columns={'Province/State':'Province','Country/Region':'Country'},inplace = True)\n",
    "        return data  "
   ]
  },
  {
   "cell_type": "markdown",
   "metadata": {},
   "source": [
    "Here we used melt to convert all rows to columns"
   ]
  },
  {
   "cell_type": "code",
   "execution_count": 5,
   "metadata": {},
   "outputs": [],
   "source": [
    "def transform_COVIDData(data):\n",
    "        data = pd.melt(\n",
    "        frame = data,\n",
    "        id_vars = ['Province','Country','Lat','Long','Status'],\n",
    "        var_name = 'Date',\n",
    "        value_name = 'Count'\n",
    "    )\n",
    "        return data"
   ]
  },
  {
   "cell_type": "code",
   "execution_count": 6,
   "metadata": {},
   "outputs": [],
   "source": [
    "ConfirmedCases = Import_COVIDData(Confirmed_filepath)\n",
    "ConfirmedCases['Status'] = 'Confirmed'\n",
    "ConfirmedCases = transform_COVIDData(ConfirmedCases)"
   ]
  },
  {
   "cell_type": "code",
   "execution_count": 7,
   "metadata": {},
   "outputs": [
    {
     "data": {
      "text/html": [
       "<div>\n",
       "<style scoped>\n",
       "    .dataframe tbody tr th:only-of-type {\n",
       "        vertical-align: middle;\n",
       "    }\n",
       "\n",
       "    .dataframe tbody tr th {\n",
       "        vertical-align: top;\n",
       "    }\n",
       "\n",
       "    .dataframe thead th {\n",
       "        text-align: right;\n",
       "    }\n",
       "</style>\n",
       "<table border=\"1\" class=\"dataframe\">\n",
       "  <thead>\n",
       "    <tr style=\"text-align: right;\">\n",
       "      <th></th>\n",
       "      <th>Province</th>\n",
       "      <th>Country</th>\n",
       "      <th>Lat</th>\n",
       "      <th>Long</th>\n",
       "      <th>Status</th>\n",
       "      <th>Date</th>\n",
       "      <th>Count</th>\n",
       "    </tr>\n",
       "  </thead>\n",
       "  <tbody>\n",
       "    <tr>\n",
       "      <th>0</th>\n",
       "      <td>NaN</td>\n",
       "      <td>Afghanistan</td>\n",
       "      <td>33.939110</td>\n",
       "      <td>67.709953</td>\n",
       "      <td>Confirmed</td>\n",
       "      <td>1/22/20</td>\n",
       "      <td>0</td>\n",
       "    </tr>\n",
       "    <tr>\n",
       "      <th>1</th>\n",
       "      <td>NaN</td>\n",
       "      <td>Albania</td>\n",
       "      <td>41.153300</td>\n",
       "      <td>20.168300</td>\n",
       "      <td>Confirmed</td>\n",
       "      <td>1/22/20</td>\n",
       "      <td>0</td>\n",
       "    </tr>\n",
       "    <tr>\n",
       "      <th>2</th>\n",
       "      <td>NaN</td>\n",
       "      <td>Algeria</td>\n",
       "      <td>28.033900</td>\n",
       "      <td>1.659600</td>\n",
       "      <td>Confirmed</td>\n",
       "      <td>1/22/20</td>\n",
       "      <td>0</td>\n",
       "    </tr>\n",
       "    <tr>\n",
       "      <th>3</th>\n",
       "      <td>NaN</td>\n",
       "      <td>Andorra</td>\n",
       "      <td>42.506300</td>\n",
       "      <td>1.521800</td>\n",
       "      <td>Confirmed</td>\n",
       "      <td>1/22/20</td>\n",
       "      <td>0</td>\n",
       "    </tr>\n",
       "    <tr>\n",
       "      <th>4</th>\n",
       "      <td>NaN</td>\n",
       "      <td>Angola</td>\n",
       "      <td>-11.202700</td>\n",
       "      <td>17.873900</td>\n",
       "      <td>Confirmed</td>\n",
       "      <td>1/22/20</td>\n",
       "      <td>0</td>\n",
       "    </tr>\n",
       "    <tr>\n",
       "      <th>...</th>\n",
       "      <td>...</td>\n",
       "      <td>...</td>\n",
       "      <td>...</td>\n",
       "      <td>...</td>\n",
       "      <td>...</td>\n",
       "      <td>...</td>\n",
       "      <td>...</td>\n",
       "    </tr>\n",
       "    <tr>\n",
       "      <th>64899</th>\n",
       "      <td>NaN</td>\n",
       "      <td>West Bank and Gaza</td>\n",
       "      <td>31.952200</td>\n",
       "      <td>35.233200</td>\n",
       "      <td>Confirmed</td>\n",
       "      <td>9/21/20</td>\n",
       "      <td>36151</td>\n",
       "    </tr>\n",
       "    <tr>\n",
       "      <th>64900</th>\n",
       "      <td>NaN</td>\n",
       "      <td>Western Sahara</td>\n",
       "      <td>24.215500</td>\n",
       "      <td>-12.885800</td>\n",
       "      <td>Confirmed</td>\n",
       "      <td>9/21/20</td>\n",
       "      <td>10</td>\n",
       "    </tr>\n",
       "    <tr>\n",
       "      <th>64901</th>\n",
       "      <td>NaN</td>\n",
       "      <td>Yemen</td>\n",
       "      <td>15.552727</td>\n",
       "      <td>48.516388</td>\n",
       "      <td>Confirmed</td>\n",
       "      <td>9/21/20</td>\n",
       "      <td>2028</td>\n",
       "    </tr>\n",
       "    <tr>\n",
       "      <th>64902</th>\n",
       "      <td>NaN</td>\n",
       "      <td>Zambia</td>\n",
       "      <td>-13.133897</td>\n",
       "      <td>27.849332</td>\n",
       "      <td>Confirmed</td>\n",
       "      <td>9/21/20</td>\n",
       "      <td>14175</td>\n",
       "    </tr>\n",
       "    <tr>\n",
       "      <th>64903</th>\n",
       "      <td>NaN</td>\n",
       "      <td>Zimbabwe</td>\n",
       "      <td>-19.015438</td>\n",
       "      <td>29.154857</td>\n",
       "      <td>Confirmed</td>\n",
       "      <td>9/21/20</td>\n",
       "      <td>7683</td>\n",
       "    </tr>\n",
       "  </tbody>\n",
       "</table>\n",
       "<p>64904 rows × 7 columns</p>\n",
       "</div>"
      ],
      "text/plain": [
       "      Province             Country        Lat       Long     Status     Date  \\\n",
       "0          NaN         Afghanistan  33.939110  67.709953  Confirmed  1/22/20   \n",
       "1          NaN             Albania  41.153300  20.168300  Confirmed  1/22/20   \n",
       "2          NaN             Algeria  28.033900   1.659600  Confirmed  1/22/20   \n",
       "3          NaN             Andorra  42.506300   1.521800  Confirmed  1/22/20   \n",
       "4          NaN              Angola -11.202700  17.873900  Confirmed  1/22/20   \n",
       "...        ...                 ...        ...        ...        ...      ...   \n",
       "64899      NaN  West Bank and Gaza  31.952200  35.233200  Confirmed  9/21/20   \n",
       "64900      NaN      Western Sahara  24.215500 -12.885800  Confirmed  9/21/20   \n",
       "64901      NaN               Yemen  15.552727  48.516388  Confirmed  9/21/20   \n",
       "64902      NaN              Zambia -13.133897  27.849332  Confirmed  9/21/20   \n",
       "64903      NaN            Zimbabwe -19.015438  29.154857  Confirmed  9/21/20   \n",
       "\n",
       "       Count  \n",
       "0          0  \n",
       "1          0  \n",
       "2          0  \n",
       "3          0  \n",
       "4          0  \n",
       "...      ...  \n",
       "64899  36151  \n",
       "64900     10  \n",
       "64901   2028  \n",
       "64902  14175  \n",
       "64903   7683  \n",
       "\n",
       "[64904 rows x 7 columns]"
      ]
     },
     "execution_count": 7,
     "metadata": {},
     "output_type": "execute_result"
    }
   ],
   "source": [
    "ConfirmedCases"
   ]
  },
  {
   "cell_type": "code",
   "execution_count": 8,
   "metadata": {},
   "outputs": [],
   "source": [
    "def Import_COVIDData(Death_filepath):\n",
    "        data = Death_filepath\n",
    "        data = pd.read_csv(\"time_series_covid19_deaths_global.csv\")\n",
    "        data.rename(columns={'Province/State':'Province','Country/Region':'Country'},inplace = True)\n",
    "        return data  "
   ]
  },
  {
   "cell_type": "code",
   "execution_count": 9,
   "metadata": {},
   "outputs": [],
   "source": [
    "def transform_COVIDData(data):\n",
    "        data = pd.melt(\n",
    "        frame = data,\n",
    "        id_vars = ['Province','Country','Lat','Long','Status'],\n",
    "        var_name = 'Date',\n",
    "        value_name = 'Count'\n",
    "    )\n",
    "        return data"
   ]
  },
  {
   "cell_type": "code",
   "execution_count": 10,
   "metadata": {},
   "outputs": [],
   "source": [
    "DeathCases = Import_COVIDData(Death_filepath)\n",
    "DeathCases['Status'] = 'Dealth'\n",
    "DeathCases = transform_COVIDData(DeathCases)"
   ]
  },
  {
   "cell_type": "code",
   "execution_count": 11,
   "metadata": {},
   "outputs": [
    {
     "data": {
      "text/html": [
       "<div>\n",
       "<style scoped>\n",
       "    .dataframe tbody tr th:only-of-type {\n",
       "        vertical-align: middle;\n",
       "    }\n",
       "\n",
       "    .dataframe tbody tr th {\n",
       "        vertical-align: top;\n",
       "    }\n",
       "\n",
       "    .dataframe thead th {\n",
       "        text-align: right;\n",
       "    }\n",
       "</style>\n",
       "<table border=\"1\" class=\"dataframe\">\n",
       "  <thead>\n",
       "    <tr style=\"text-align: right;\">\n",
       "      <th></th>\n",
       "      <th>Province</th>\n",
       "      <th>Country</th>\n",
       "      <th>Lat</th>\n",
       "      <th>Long</th>\n",
       "      <th>Status</th>\n",
       "      <th>Date</th>\n",
       "      <th>Count</th>\n",
       "    </tr>\n",
       "  </thead>\n",
       "  <tbody>\n",
       "    <tr>\n",
       "      <th>0</th>\n",
       "      <td>NaN</td>\n",
       "      <td>Afghanistan</td>\n",
       "      <td>33.939110</td>\n",
       "      <td>67.709953</td>\n",
       "      <td>Dealth</td>\n",
       "      <td>1/22/20</td>\n",
       "      <td>0</td>\n",
       "    </tr>\n",
       "    <tr>\n",
       "      <th>1</th>\n",
       "      <td>NaN</td>\n",
       "      <td>Albania</td>\n",
       "      <td>41.153300</td>\n",
       "      <td>20.168300</td>\n",
       "      <td>Dealth</td>\n",
       "      <td>1/22/20</td>\n",
       "      <td>0</td>\n",
       "    </tr>\n",
       "    <tr>\n",
       "      <th>2</th>\n",
       "      <td>NaN</td>\n",
       "      <td>Algeria</td>\n",
       "      <td>28.033900</td>\n",
       "      <td>1.659600</td>\n",
       "      <td>Dealth</td>\n",
       "      <td>1/22/20</td>\n",
       "      <td>0</td>\n",
       "    </tr>\n",
       "    <tr>\n",
       "      <th>3</th>\n",
       "      <td>NaN</td>\n",
       "      <td>Andorra</td>\n",
       "      <td>42.506300</td>\n",
       "      <td>1.521800</td>\n",
       "      <td>Dealth</td>\n",
       "      <td>1/22/20</td>\n",
       "      <td>0</td>\n",
       "    </tr>\n",
       "    <tr>\n",
       "      <th>4</th>\n",
       "      <td>NaN</td>\n",
       "      <td>Angola</td>\n",
       "      <td>-11.202700</td>\n",
       "      <td>17.873900</td>\n",
       "      <td>Dealth</td>\n",
       "      <td>1/22/20</td>\n",
       "      <td>0</td>\n",
       "    </tr>\n",
       "    <tr>\n",
       "      <th>...</th>\n",
       "      <td>...</td>\n",
       "      <td>...</td>\n",
       "      <td>...</td>\n",
       "      <td>...</td>\n",
       "      <td>...</td>\n",
       "      <td>...</td>\n",
       "      <td>...</td>\n",
       "    </tr>\n",
       "    <tr>\n",
       "      <th>64899</th>\n",
       "      <td>NaN</td>\n",
       "      <td>West Bank and Gaza</td>\n",
       "      <td>31.952200</td>\n",
       "      <td>35.233200</td>\n",
       "      <td>Dealth</td>\n",
       "      <td>9/21/20</td>\n",
       "      <td>265</td>\n",
       "    </tr>\n",
       "    <tr>\n",
       "      <th>64900</th>\n",
       "      <td>NaN</td>\n",
       "      <td>Western Sahara</td>\n",
       "      <td>24.215500</td>\n",
       "      <td>-12.885800</td>\n",
       "      <td>Dealth</td>\n",
       "      <td>9/21/20</td>\n",
       "      <td>1</td>\n",
       "    </tr>\n",
       "    <tr>\n",
       "      <th>64901</th>\n",
       "      <td>NaN</td>\n",
       "      <td>Yemen</td>\n",
       "      <td>15.552727</td>\n",
       "      <td>48.516388</td>\n",
       "      <td>Dealth</td>\n",
       "      <td>9/21/20</td>\n",
       "      <td>586</td>\n",
       "    </tr>\n",
       "    <tr>\n",
       "      <th>64902</th>\n",
       "      <td>NaN</td>\n",
       "      <td>Zambia</td>\n",
       "      <td>-13.133897</td>\n",
       "      <td>27.849332</td>\n",
       "      <td>Dealth</td>\n",
       "      <td>9/21/20</td>\n",
       "      <td>331</td>\n",
       "    </tr>\n",
       "    <tr>\n",
       "      <th>64903</th>\n",
       "      <td>NaN</td>\n",
       "      <td>Zimbabwe</td>\n",
       "      <td>-19.015438</td>\n",
       "      <td>29.154857</td>\n",
       "      <td>Dealth</td>\n",
       "      <td>9/21/20</td>\n",
       "      <td>225</td>\n",
       "    </tr>\n",
       "  </tbody>\n",
       "</table>\n",
       "<p>64904 rows × 7 columns</p>\n",
       "</div>"
      ],
      "text/plain": [
       "      Province             Country        Lat       Long  Status     Date  \\\n",
       "0          NaN         Afghanistan  33.939110  67.709953  Dealth  1/22/20   \n",
       "1          NaN             Albania  41.153300  20.168300  Dealth  1/22/20   \n",
       "2          NaN             Algeria  28.033900   1.659600  Dealth  1/22/20   \n",
       "3          NaN             Andorra  42.506300   1.521800  Dealth  1/22/20   \n",
       "4          NaN              Angola -11.202700  17.873900  Dealth  1/22/20   \n",
       "...        ...                 ...        ...        ...     ...      ...   \n",
       "64899      NaN  West Bank and Gaza  31.952200  35.233200  Dealth  9/21/20   \n",
       "64900      NaN      Western Sahara  24.215500 -12.885800  Dealth  9/21/20   \n",
       "64901      NaN               Yemen  15.552727  48.516388  Dealth  9/21/20   \n",
       "64902      NaN              Zambia -13.133897  27.849332  Dealth  9/21/20   \n",
       "64903      NaN            Zimbabwe -19.015438  29.154857  Dealth  9/21/20   \n",
       "\n",
       "       Count  \n",
       "0          0  \n",
       "1          0  \n",
       "2          0  \n",
       "3          0  \n",
       "4          0  \n",
       "...      ...  \n",
       "64899    265  \n",
       "64900      1  \n",
       "64901    586  \n",
       "64902    331  \n",
       "64903    225  \n",
       "\n",
       "[64904 rows x 7 columns]"
      ]
     },
     "execution_count": 11,
     "metadata": {},
     "output_type": "execute_result"
    }
   ],
   "source": [
    "DeathCases"
   ]
  },
  {
   "cell_type": "code",
   "execution_count": 12,
   "metadata": {},
   "outputs": [],
   "source": [
    "def Import_COVIDData(Recovered_filepath):\n",
    "        data = Recovered_filepath\n",
    "        data = pd.read_csv(\"time_series_covid19_recovered_global.csv\")\n",
    "        data.rename(columns={'Province/State':'Province','Country/Region':'Country'},inplace = True)\n",
    "        return data "
   ]
  },
  {
   "cell_type": "code",
   "execution_count": 13,
   "metadata": {},
   "outputs": [],
   "source": [
    "def transform_COVIDData(data):\n",
    "        data = pd.melt(\n",
    "        frame = data,\n",
    "        id_vars = ['Province','Country','Lat','Long','Status'],\n",
    "        var_name = 'Date',\n",
    "        value_name = 'Count'\n",
    "    )\n",
    "        return data"
   ]
  },
  {
   "cell_type": "code",
   "execution_count": 14,
   "metadata": {},
   "outputs": [],
   "source": [
    "RecoveredCases = Import_COVIDData(Recovered_filepath)\n",
    "RecoveredCases['Status'] = 'Recovered'\n",
    "RecoveredCases = transform_COVIDData(RecoveredCases)"
   ]
  },
  {
   "cell_type": "code",
   "execution_count": 15,
   "metadata": {},
   "outputs": [
    {
     "data": {
      "text/html": [
       "<div>\n",
       "<style scoped>\n",
       "    .dataframe tbody tr th:only-of-type {\n",
       "        vertical-align: middle;\n",
       "    }\n",
       "\n",
       "    .dataframe tbody tr th {\n",
       "        vertical-align: top;\n",
       "    }\n",
       "\n",
       "    .dataframe thead th {\n",
       "        text-align: right;\n",
       "    }\n",
       "</style>\n",
       "<table border=\"1\" class=\"dataframe\">\n",
       "  <thead>\n",
       "    <tr style=\"text-align: right;\">\n",
       "      <th></th>\n",
       "      <th>Province</th>\n",
       "      <th>Country</th>\n",
       "      <th>Lat</th>\n",
       "      <th>Long</th>\n",
       "      <th>Status</th>\n",
       "      <th>Date</th>\n",
       "      <th>Count</th>\n",
       "    </tr>\n",
       "  </thead>\n",
       "  <tbody>\n",
       "    <tr>\n",
       "      <th>0</th>\n",
       "      <td>NaN</td>\n",
       "      <td>Afghanistan</td>\n",
       "      <td>33.939110</td>\n",
       "      <td>67.709953</td>\n",
       "      <td>Recovered</td>\n",
       "      <td>1/22/20</td>\n",
       "      <td>0</td>\n",
       "    </tr>\n",
       "    <tr>\n",
       "      <th>1</th>\n",
       "      <td>NaN</td>\n",
       "      <td>Albania</td>\n",
       "      <td>41.153300</td>\n",
       "      <td>20.168300</td>\n",
       "      <td>Recovered</td>\n",
       "      <td>1/22/20</td>\n",
       "      <td>0</td>\n",
       "    </tr>\n",
       "    <tr>\n",
       "      <th>2</th>\n",
       "      <td>NaN</td>\n",
       "      <td>Algeria</td>\n",
       "      <td>28.033900</td>\n",
       "      <td>1.659600</td>\n",
       "      <td>Recovered</td>\n",
       "      <td>1/22/20</td>\n",
       "      <td>0</td>\n",
       "    </tr>\n",
       "    <tr>\n",
       "      <th>3</th>\n",
       "      <td>NaN</td>\n",
       "      <td>Andorra</td>\n",
       "      <td>42.506300</td>\n",
       "      <td>1.521800</td>\n",
       "      <td>Recovered</td>\n",
       "      <td>1/22/20</td>\n",
       "      <td>0</td>\n",
       "    </tr>\n",
       "    <tr>\n",
       "      <th>4</th>\n",
       "      <td>NaN</td>\n",
       "      <td>Angola</td>\n",
       "      <td>-11.202700</td>\n",
       "      <td>17.873900</td>\n",
       "      <td>Recovered</td>\n",
       "      <td>1/22/20</td>\n",
       "      <td>0</td>\n",
       "    </tr>\n",
       "    <tr>\n",
       "      <th>...</th>\n",
       "      <td>...</td>\n",
       "      <td>...</td>\n",
       "      <td>...</td>\n",
       "      <td>...</td>\n",
       "      <td>...</td>\n",
       "      <td>...</td>\n",
       "      <td>...</td>\n",
       "    </tr>\n",
       "    <tr>\n",
       "      <th>61727</th>\n",
       "      <td>NaN</td>\n",
       "      <td>West Bank and Gaza</td>\n",
       "      <td>31.952200</td>\n",
       "      <td>35.233200</td>\n",
       "      <td>Recovered</td>\n",
       "      <td>9/21/20</td>\n",
       "      <td>24428</td>\n",
       "    </tr>\n",
       "    <tr>\n",
       "      <th>61728</th>\n",
       "      <td>NaN</td>\n",
       "      <td>Western Sahara</td>\n",
       "      <td>24.215500</td>\n",
       "      <td>-12.885800</td>\n",
       "      <td>Recovered</td>\n",
       "      <td>9/21/20</td>\n",
       "      <td>8</td>\n",
       "    </tr>\n",
       "    <tr>\n",
       "      <th>61729</th>\n",
       "      <td>NaN</td>\n",
       "      <td>Yemen</td>\n",
       "      <td>15.552727</td>\n",
       "      <td>48.516388</td>\n",
       "      <td>Recovered</td>\n",
       "      <td>9/21/20</td>\n",
       "      <td>1235</td>\n",
       "    </tr>\n",
       "    <tr>\n",
       "      <th>61730</th>\n",
       "      <td>NaN</td>\n",
       "      <td>Zambia</td>\n",
       "      <td>-13.133897</td>\n",
       "      <td>27.849332</td>\n",
       "      <td>Recovered</td>\n",
       "      <td>9/21/20</td>\n",
       "      <td>13629</td>\n",
       "    </tr>\n",
       "    <tr>\n",
       "      <th>61731</th>\n",
       "      <td>NaN</td>\n",
       "      <td>Zimbabwe</td>\n",
       "      <td>-19.015438</td>\n",
       "      <td>29.154857</td>\n",
       "      <td>Recovered</td>\n",
       "      <td>9/21/20</td>\n",
       "      <td>5924</td>\n",
       "    </tr>\n",
       "  </tbody>\n",
       "</table>\n",
       "<p>61732 rows × 7 columns</p>\n",
       "</div>"
      ],
      "text/plain": [
       "      Province             Country        Lat       Long     Status     Date  \\\n",
       "0          NaN         Afghanistan  33.939110  67.709953  Recovered  1/22/20   \n",
       "1          NaN             Albania  41.153300  20.168300  Recovered  1/22/20   \n",
       "2          NaN             Algeria  28.033900   1.659600  Recovered  1/22/20   \n",
       "3          NaN             Andorra  42.506300   1.521800  Recovered  1/22/20   \n",
       "4          NaN              Angola -11.202700  17.873900  Recovered  1/22/20   \n",
       "...        ...                 ...        ...        ...        ...      ...   \n",
       "61727      NaN  West Bank and Gaza  31.952200  35.233200  Recovered  9/21/20   \n",
       "61728      NaN      Western Sahara  24.215500 -12.885800  Recovered  9/21/20   \n",
       "61729      NaN               Yemen  15.552727  48.516388  Recovered  9/21/20   \n",
       "61730      NaN              Zambia -13.133897  27.849332  Recovered  9/21/20   \n",
       "61731      NaN            Zimbabwe -19.015438  29.154857  Recovered  9/21/20   \n",
       "\n",
       "       Count  \n",
       "0          0  \n",
       "1          0  \n",
       "2          0  \n",
       "3          0  \n",
       "4          0  \n",
       "...      ...  \n",
       "61727  24428  \n",
       "61728      8  \n",
       "61729   1235  \n",
       "61730  13629  \n",
       "61731   5924  \n",
       "\n",
       "[61732 rows x 7 columns]"
      ]
     },
     "execution_count": 15,
     "metadata": {},
     "output_type": "execute_result"
    }
   ],
   "source": [
    "RecoveredCases"
   ]
  },
  {
   "cell_type": "markdown",
   "metadata": {},
   "source": [
    "Merge all 3 data in 1 dataframe for merge we are using concat"
   ]
  },
  {
   "cell_type": "code",
   "execution_count": 16,
   "metadata": {},
   "outputs": [
    {
     "data": {
      "text/html": [
       "<div>\n",
       "<style scoped>\n",
       "    .dataframe tbody tr th:only-of-type {\n",
       "        vertical-align: middle;\n",
       "    }\n",
       "\n",
       "    .dataframe tbody tr th {\n",
       "        vertical-align: top;\n",
       "    }\n",
       "\n",
       "    .dataframe thead th {\n",
       "        text-align: right;\n",
       "    }\n",
       "</style>\n",
       "<table border=\"1\" class=\"dataframe\">\n",
       "  <thead>\n",
       "    <tr style=\"text-align: right;\">\n",
       "      <th></th>\n",
       "      <th>Province</th>\n",
       "      <th>Country</th>\n",
       "      <th>Lat</th>\n",
       "      <th>Long</th>\n",
       "      <th>Status</th>\n",
       "      <th>Date</th>\n",
       "      <th>Count</th>\n",
       "    </tr>\n",
       "  </thead>\n",
       "  <tbody>\n",
       "    <tr>\n",
       "      <th>0</th>\n",
       "      <td>NaN</td>\n",
       "      <td>Afghanistan</td>\n",
       "      <td>33.939110</td>\n",
       "      <td>67.709953</td>\n",
       "      <td>Confirmed</td>\n",
       "      <td>1/22/20</td>\n",
       "      <td>0</td>\n",
       "    </tr>\n",
       "    <tr>\n",
       "      <th>1</th>\n",
       "      <td>NaN</td>\n",
       "      <td>Albania</td>\n",
       "      <td>41.153300</td>\n",
       "      <td>20.168300</td>\n",
       "      <td>Confirmed</td>\n",
       "      <td>1/22/20</td>\n",
       "      <td>0</td>\n",
       "    </tr>\n",
       "    <tr>\n",
       "      <th>2</th>\n",
       "      <td>NaN</td>\n",
       "      <td>Algeria</td>\n",
       "      <td>28.033900</td>\n",
       "      <td>1.659600</td>\n",
       "      <td>Confirmed</td>\n",
       "      <td>1/22/20</td>\n",
       "      <td>0</td>\n",
       "    </tr>\n",
       "    <tr>\n",
       "      <th>3</th>\n",
       "      <td>NaN</td>\n",
       "      <td>Andorra</td>\n",
       "      <td>42.506300</td>\n",
       "      <td>1.521800</td>\n",
       "      <td>Confirmed</td>\n",
       "      <td>1/22/20</td>\n",
       "      <td>0</td>\n",
       "    </tr>\n",
       "    <tr>\n",
       "      <th>4</th>\n",
       "      <td>NaN</td>\n",
       "      <td>Angola</td>\n",
       "      <td>-11.202700</td>\n",
       "      <td>17.873900</td>\n",
       "      <td>Confirmed</td>\n",
       "      <td>1/22/20</td>\n",
       "      <td>0</td>\n",
       "    </tr>\n",
       "    <tr>\n",
       "      <th>...</th>\n",
       "      <td>...</td>\n",
       "      <td>...</td>\n",
       "      <td>...</td>\n",
       "      <td>...</td>\n",
       "      <td>...</td>\n",
       "      <td>...</td>\n",
       "      <td>...</td>\n",
       "    </tr>\n",
       "    <tr>\n",
       "      <th>61727</th>\n",
       "      <td>NaN</td>\n",
       "      <td>West Bank and Gaza</td>\n",
       "      <td>31.952200</td>\n",
       "      <td>35.233200</td>\n",
       "      <td>Recovered</td>\n",
       "      <td>9/21/20</td>\n",
       "      <td>24428</td>\n",
       "    </tr>\n",
       "    <tr>\n",
       "      <th>61728</th>\n",
       "      <td>NaN</td>\n",
       "      <td>Western Sahara</td>\n",
       "      <td>24.215500</td>\n",
       "      <td>-12.885800</td>\n",
       "      <td>Recovered</td>\n",
       "      <td>9/21/20</td>\n",
       "      <td>8</td>\n",
       "    </tr>\n",
       "    <tr>\n",
       "      <th>61729</th>\n",
       "      <td>NaN</td>\n",
       "      <td>Yemen</td>\n",
       "      <td>15.552727</td>\n",
       "      <td>48.516388</td>\n",
       "      <td>Recovered</td>\n",
       "      <td>9/21/20</td>\n",
       "      <td>1235</td>\n",
       "    </tr>\n",
       "    <tr>\n",
       "      <th>61730</th>\n",
       "      <td>NaN</td>\n",
       "      <td>Zambia</td>\n",
       "      <td>-13.133897</td>\n",
       "      <td>27.849332</td>\n",
       "      <td>Recovered</td>\n",
       "      <td>9/21/20</td>\n",
       "      <td>13629</td>\n",
       "    </tr>\n",
       "    <tr>\n",
       "      <th>61731</th>\n",
       "      <td>NaN</td>\n",
       "      <td>Zimbabwe</td>\n",
       "      <td>-19.015438</td>\n",
       "      <td>29.154857</td>\n",
       "      <td>Recovered</td>\n",
       "      <td>9/21/20</td>\n",
       "      <td>5924</td>\n",
       "    </tr>\n",
       "  </tbody>\n",
       "</table>\n",
       "<p>191540 rows × 7 columns</p>\n",
       "</div>"
      ],
      "text/plain": [
       "      Province             Country        Lat       Long     Status     Date  \\\n",
       "0          NaN         Afghanistan  33.939110  67.709953  Confirmed  1/22/20   \n",
       "1          NaN             Albania  41.153300  20.168300  Confirmed  1/22/20   \n",
       "2          NaN             Algeria  28.033900   1.659600  Confirmed  1/22/20   \n",
       "3          NaN             Andorra  42.506300   1.521800  Confirmed  1/22/20   \n",
       "4          NaN              Angola -11.202700  17.873900  Confirmed  1/22/20   \n",
       "...        ...                 ...        ...        ...        ...      ...   \n",
       "61727      NaN  West Bank and Gaza  31.952200  35.233200  Recovered  9/21/20   \n",
       "61728      NaN      Western Sahara  24.215500 -12.885800  Recovered  9/21/20   \n",
       "61729      NaN               Yemen  15.552727  48.516388  Recovered  9/21/20   \n",
       "61730      NaN              Zambia -13.133897  27.849332  Recovered  9/21/20   \n",
       "61731      NaN            Zimbabwe -19.015438  29.154857  Recovered  9/21/20   \n",
       "\n",
       "       Count  \n",
       "0          0  \n",
       "1          0  \n",
       "2          0  \n",
       "3          0  \n",
       "4          0  \n",
       "...      ...  \n",
       "61727  24428  \n",
       "61728      8  \n",
       "61729   1235  \n",
       "61730  13629  \n",
       "61731   5924  \n",
       "\n",
       "[191540 rows x 7 columns]"
      ]
     },
     "execution_count": 16,
     "metadata": {},
     "output_type": "execute_result"
    }
   ],
   "source": [
    "Totaldata = pd.concat([ConfirmedCases,DeathCases,RecoveredCases])\n",
    "Totaldata"
   ]
  },
  {
   "cell_type": "code",
   "execution_count": null,
   "metadata": {},
   "outputs": [],
   "source": []
  },
  {
   "cell_type": "markdown",
   "metadata": {},
   "source": [
    "Domain Analysis \n",
    "This is a daily updating version of COVID-19 Data Repository by the Center for Systems\n",
    "Science and Engineering (CSSE) at Johns Hopkins University (JHU). The data updates\n",
    "every day at 6am UTC, which updates just after the raw JHU data typically updates.\n",
    "making it available in both a raw form (files with the prefix RAW) and convenient\n",
    "form (files prefixed with CONVENIENT).\n",
    "The data covers:\n",
    "● confirmed cases and deaths on a country level\n",
    "● confirmed cases and deaths by US county\n",
    "● some metadata thats available in the raw JHU data\n",
    "\n",
    "The RAW version is exactly as its distributed in the original dataset.\n",
    "The CONVENIENT version is aiming to be easier to analyze. The data is organized by\n",
    "column rather than by row. The metadata is stripped out into a separate file. And it\n",
    "converted to daily change rather than cumulative totals.\n",
    "I have a notebook that updates just after each data dump updates, giving a brief\n",
    "overview of the latest data. Its also a useful reference if you want to see how to read\n",
    "the CONVENIENT data into a pandas DataFrame."
   ]
  },
  {
   "cell_type": "code",
   "execution_count": 17,
   "metadata": {},
   "outputs": [
    {
     "data": {
      "text/plain": [
       "Province     object\n",
       "Country      object\n",
       "Lat         float64\n",
       "Long        float64\n",
       "Status       object\n",
       "Date         object\n",
       "Count         int64\n",
       "dtype: object"
      ]
     },
     "execution_count": 17,
     "metadata": {},
     "output_type": "execute_result"
    }
   ],
   "source": [
    "Totaldata.dtypes"
   ]
  },
  {
   "cell_type": "markdown",
   "metadata": {},
   "source": [
    "we converded Date in datetime format and store it into an index"
   ]
  },
  {
   "cell_type": "code",
   "execution_count": 18,
   "metadata": {},
   "outputs": [
    {
     "name": "stderr",
     "output_type": "stream",
     "text": [
      "C:\\Users\\LENOVO\\AppData\\Local\\Temp\\ipykernel_11892\\2729546898.py:1: UserWarning: Could not infer format, so each element will be parsed individually, falling back to `dateutil`. To ensure parsing is consistent and as-expected, please specify a format.\n",
      "  Totaldata['Date'] = pd.to_datetime(Totaldata['Date'])\n"
     ]
    }
   ],
   "source": [
    "Totaldata['Date'] = pd.to_datetime(Totaldata['Date'])\n",
    "Totaldata.set_index('Date',inplace= True)"
   ]
  },
  {
   "cell_type": "code",
   "execution_count": 19,
   "metadata": {},
   "outputs": [
    {
     "data": {
      "text/html": [
       "<div>\n",
       "<style scoped>\n",
       "    .dataframe tbody tr th:only-of-type {\n",
       "        vertical-align: middle;\n",
       "    }\n",
       "\n",
       "    .dataframe tbody tr th {\n",
       "        vertical-align: top;\n",
       "    }\n",
       "\n",
       "    .dataframe thead th {\n",
       "        text-align: right;\n",
       "    }\n",
       "</style>\n",
       "<table border=\"1\" class=\"dataframe\">\n",
       "  <thead>\n",
       "    <tr style=\"text-align: right;\">\n",
       "      <th></th>\n",
       "      <th>Province</th>\n",
       "      <th>Country</th>\n",
       "      <th>Lat</th>\n",
       "      <th>Long</th>\n",
       "      <th>Status</th>\n",
       "      <th>Count</th>\n",
       "    </tr>\n",
       "    <tr>\n",
       "      <th>Date</th>\n",
       "      <th></th>\n",
       "      <th></th>\n",
       "      <th></th>\n",
       "      <th></th>\n",
       "      <th></th>\n",
       "      <th></th>\n",
       "    </tr>\n",
       "  </thead>\n",
       "  <tbody>\n",
       "    <tr>\n",
       "      <th>2020-01-22</th>\n",
       "      <td>NaN</td>\n",
       "      <td>Afghanistan</td>\n",
       "      <td>33.939110</td>\n",
       "      <td>67.709953</td>\n",
       "      <td>Confirmed</td>\n",
       "      <td>0</td>\n",
       "    </tr>\n",
       "    <tr>\n",
       "      <th>2020-01-22</th>\n",
       "      <td>NaN</td>\n",
       "      <td>Albania</td>\n",
       "      <td>41.153300</td>\n",
       "      <td>20.168300</td>\n",
       "      <td>Confirmed</td>\n",
       "      <td>0</td>\n",
       "    </tr>\n",
       "    <tr>\n",
       "      <th>2020-01-22</th>\n",
       "      <td>NaN</td>\n",
       "      <td>Algeria</td>\n",
       "      <td>28.033900</td>\n",
       "      <td>1.659600</td>\n",
       "      <td>Confirmed</td>\n",
       "      <td>0</td>\n",
       "    </tr>\n",
       "    <tr>\n",
       "      <th>2020-01-22</th>\n",
       "      <td>NaN</td>\n",
       "      <td>Andorra</td>\n",
       "      <td>42.506300</td>\n",
       "      <td>1.521800</td>\n",
       "      <td>Confirmed</td>\n",
       "      <td>0</td>\n",
       "    </tr>\n",
       "    <tr>\n",
       "      <th>2020-01-22</th>\n",
       "      <td>NaN</td>\n",
       "      <td>Angola</td>\n",
       "      <td>-11.202700</td>\n",
       "      <td>17.873900</td>\n",
       "      <td>Confirmed</td>\n",
       "      <td>0</td>\n",
       "    </tr>\n",
       "    <tr>\n",
       "      <th>...</th>\n",
       "      <td>...</td>\n",
       "      <td>...</td>\n",
       "      <td>...</td>\n",
       "      <td>...</td>\n",
       "      <td>...</td>\n",
       "      <td>...</td>\n",
       "    </tr>\n",
       "    <tr>\n",
       "      <th>2020-09-21</th>\n",
       "      <td>NaN</td>\n",
       "      <td>West Bank and Gaza</td>\n",
       "      <td>31.952200</td>\n",
       "      <td>35.233200</td>\n",
       "      <td>Recovered</td>\n",
       "      <td>24428</td>\n",
       "    </tr>\n",
       "    <tr>\n",
       "      <th>2020-09-21</th>\n",
       "      <td>NaN</td>\n",
       "      <td>Western Sahara</td>\n",
       "      <td>24.215500</td>\n",
       "      <td>-12.885800</td>\n",
       "      <td>Recovered</td>\n",
       "      <td>8</td>\n",
       "    </tr>\n",
       "    <tr>\n",
       "      <th>2020-09-21</th>\n",
       "      <td>NaN</td>\n",
       "      <td>Yemen</td>\n",
       "      <td>15.552727</td>\n",
       "      <td>48.516388</td>\n",
       "      <td>Recovered</td>\n",
       "      <td>1235</td>\n",
       "    </tr>\n",
       "    <tr>\n",
       "      <th>2020-09-21</th>\n",
       "      <td>NaN</td>\n",
       "      <td>Zambia</td>\n",
       "      <td>-13.133897</td>\n",
       "      <td>27.849332</td>\n",
       "      <td>Recovered</td>\n",
       "      <td>13629</td>\n",
       "    </tr>\n",
       "    <tr>\n",
       "      <th>2020-09-21</th>\n",
       "      <td>NaN</td>\n",
       "      <td>Zimbabwe</td>\n",
       "      <td>-19.015438</td>\n",
       "      <td>29.154857</td>\n",
       "      <td>Recovered</td>\n",
       "      <td>5924</td>\n",
       "    </tr>\n",
       "  </tbody>\n",
       "</table>\n",
       "<p>191540 rows × 6 columns</p>\n",
       "</div>"
      ],
      "text/plain": [
       "           Province             Country        Lat       Long     Status  \\\n",
       "Date                                                                       \n",
       "2020-01-22      NaN         Afghanistan  33.939110  67.709953  Confirmed   \n",
       "2020-01-22      NaN             Albania  41.153300  20.168300  Confirmed   \n",
       "2020-01-22      NaN             Algeria  28.033900   1.659600  Confirmed   \n",
       "2020-01-22      NaN             Andorra  42.506300   1.521800  Confirmed   \n",
       "2020-01-22      NaN              Angola -11.202700  17.873900  Confirmed   \n",
       "...             ...                 ...        ...        ...        ...   \n",
       "2020-09-21      NaN  West Bank and Gaza  31.952200  35.233200  Recovered   \n",
       "2020-09-21      NaN      Western Sahara  24.215500 -12.885800  Recovered   \n",
       "2020-09-21      NaN               Yemen  15.552727  48.516388  Recovered   \n",
       "2020-09-21      NaN              Zambia -13.133897  27.849332  Recovered   \n",
       "2020-09-21      NaN            Zimbabwe -19.015438  29.154857  Recovered   \n",
       "\n",
       "            Count  \n",
       "Date               \n",
       "2020-01-22      0  \n",
       "2020-01-22      0  \n",
       "2020-01-22      0  \n",
       "2020-01-22      0  \n",
       "2020-01-22      0  \n",
       "...           ...  \n",
       "2020-09-21  24428  \n",
       "2020-09-21      8  \n",
       "2020-09-21   1235  \n",
       "2020-09-21  13629  \n",
       "2020-09-21   5924  \n",
       "\n",
       "[191540 rows x 6 columns]"
      ]
     },
     "execution_count": 19,
     "metadata": {},
     "output_type": "execute_result"
    }
   ],
   "source": [
    "Totaldata"
   ]
  },
  {
   "cell_type": "markdown",
   "metadata": {},
   "source": [
    "Basic check"
   ]
  },
  {
   "cell_type": "code",
   "execution_count": 20,
   "metadata": {},
   "outputs": [
    {
     "name": "stdout",
     "output_type": "stream",
     "text": [
      "<class 'pandas.core.frame.DataFrame'>\n",
      "DatetimeIndex: 191540 entries, 2020-01-22 to 2020-09-21\n",
      "Data columns (total 6 columns):\n",
      " #   Column    Non-Null Count   Dtype  \n",
      "---  ------    --------------   -----  \n",
      " 0   Province  55876 non-null   object \n",
      " 1   Country   191540 non-null  object \n",
      " 2   Lat       191540 non-null  float64\n",
      " 3   Long      191540 non-null  float64\n",
      " 4   Status    191540 non-null  object \n",
      " 5   Count     191540 non-null  int64  \n",
      "dtypes: float64(2), int64(1), object(3)\n",
      "memory usage: 10.2+ MB\n"
     ]
    }
   ],
   "source": [
    "Totaldata.info()"
   ]
  },
  {
   "cell_type": "code",
   "execution_count": 21,
   "metadata": {},
   "outputs": [
    {
     "data": {
      "text/plain": [
       "(191540, 6)"
      ]
     },
     "execution_count": 21,
     "metadata": {},
     "output_type": "execute_result"
    }
   ],
   "source": [
    "Totaldata.shape"
   ]
  },
  {
   "cell_type": "code",
   "execution_count": 22,
   "metadata": {},
   "outputs": [
    {
     "data": {
      "text/plain": [
       "1149240"
      ]
     },
     "execution_count": 22,
     "metadata": {},
     "output_type": "execute_result"
    }
   ],
   "source": [
    "Totaldata.size"
   ]
  },
  {
   "cell_type": "code",
   "execution_count": 23,
   "metadata": {},
   "outputs": [
    {
     "data": {
      "text/plain": [
       "Province    135664\n",
       "Country          0\n",
       "Lat              0\n",
       "Long             0\n",
       "Status           0\n",
       "Count            0\n",
       "dtype: int64"
      ]
     },
     "execution_count": 23,
     "metadata": {},
     "output_type": "execute_result"
    }
   ],
   "source": [
    "Totaldata.isnull().sum()"
   ]
  },
  {
   "cell_type": "code",
   "execution_count": 24,
   "metadata": {},
   "outputs": [
    {
     "data": {
      "text/html": [
       "<div>\n",
       "<style scoped>\n",
       "    .dataframe tbody tr th:only-of-type {\n",
       "        vertical-align: middle;\n",
       "    }\n",
       "\n",
       "    .dataframe tbody tr th {\n",
       "        vertical-align: top;\n",
       "    }\n",
       "\n",
       "    .dataframe thead th {\n",
       "        text-align: right;\n",
       "    }\n",
       "</style>\n",
       "<table border=\"1\" class=\"dataframe\">\n",
       "  <thead>\n",
       "    <tr style=\"text-align: right;\">\n",
       "      <th></th>\n",
       "      <th>Province</th>\n",
       "      <th>Country</th>\n",
       "      <th>Lat</th>\n",
       "      <th>Long</th>\n",
       "      <th>Status</th>\n",
       "      <th>Count</th>\n",
       "    </tr>\n",
       "    <tr>\n",
       "      <th>Date</th>\n",
       "      <th></th>\n",
       "      <th></th>\n",
       "      <th></th>\n",
       "      <th></th>\n",
       "      <th></th>\n",
       "      <th></th>\n",
       "    </tr>\n",
       "  </thead>\n",
       "  <tbody>\n",
       "    <tr>\n",
       "      <th>2020-01-22</th>\n",
       "      <td>NaN</td>\n",
       "      <td>Afghanistan</td>\n",
       "      <td>33.93911</td>\n",
       "      <td>67.709953</td>\n",
       "      <td>Confirmed</td>\n",
       "      <td>0</td>\n",
       "    </tr>\n",
       "    <tr>\n",
       "      <th>2020-01-22</th>\n",
       "      <td>NaN</td>\n",
       "      <td>Albania</td>\n",
       "      <td>41.15330</td>\n",
       "      <td>20.168300</td>\n",
       "      <td>Confirmed</td>\n",
       "      <td>0</td>\n",
       "    </tr>\n",
       "    <tr>\n",
       "      <th>2020-01-22</th>\n",
       "      <td>NaN</td>\n",
       "      <td>Algeria</td>\n",
       "      <td>28.03390</td>\n",
       "      <td>1.659600</td>\n",
       "      <td>Confirmed</td>\n",
       "      <td>0</td>\n",
       "    </tr>\n",
       "    <tr>\n",
       "      <th>2020-01-22</th>\n",
       "      <td>NaN</td>\n",
       "      <td>Andorra</td>\n",
       "      <td>42.50630</td>\n",
       "      <td>1.521800</td>\n",
       "      <td>Confirmed</td>\n",
       "      <td>0</td>\n",
       "    </tr>\n",
       "    <tr>\n",
       "      <th>2020-01-22</th>\n",
       "      <td>NaN</td>\n",
       "      <td>Angola</td>\n",
       "      <td>-11.20270</td>\n",
       "      <td>17.873900</td>\n",
       "      <td>Confirmed</td>\n",
       "      <td>0</td>\n",
       "    </tr>\n",
       "  </tbody>\n",
       "</table>\n",
       "</div>"
      ],
      "text/plain": [
       "           Province      Country       Lat       Long     Status  Count\n",
       "Date                                                                   \n",
       "2020-01-22      NaN  Afghanistan  33.93911  67.709953  Confirmed      0\n",
       "2020-01-22      NaN      Albania  41.15330  20.168300  Confirmed      0\n",
       "2020-01-22      NaN      Algeria  28.03390   1.659600  Confirmed      0\n",
       "2020-01-22      NaN      Andorra  42.50630   1.521800  Confirmed      0\n",
       "2020-01-22      NaN       Angola -11.20270  17.873900  Confirmed      0"
      ]
     },
     "execution_count": 24,
     "metadata": {},
     "output_type": "execute_result"
    }
   ],
   "source": [
    "Totaldata.head()"
   ]
  },
  {
   "cell_type": "code",
   "execution_count": 25,
   "metadata": {},
   "outputs": [
    {
     "data": {
      "text/html": [
       "<div>\n",
       "<style scoped>\n",
       "    .dataframe tbody tr th:only-of-type {\n",
       "        vertical-align: middle;\n",
       "    }\n",
       "\n",
       "    .dataframe tbody tr th {\n",
       "        vertical-align: top;\n",
       "    }\n",
       "\n",
       "    .dataframe thead th {\n",
       "        text-align: right;\n",
       "    }\n",
       "</style>\n",
       "<table border=\"1\" class=\"dataframe\">\n",
       "  <thead>\n",
       "    <tr style=\"text-align: right;\">\n",
       "      <th></th>\n",
       "      <th>Province</th>\n",
       "      <th>Country</th>\n",
       "      <th>Lat</th>\n",
       "      <th>Long</th>\n",
       "      <th>Status</th>\n",
       "      <th>Count</th>\n",
       "    </tr>\n",
       "    <tr>\n",
       "      <th>Date</th>\n",
       "      <th></th>\n",
       "      <th></th>\n",
       "      <th></th>\n",
       "      <th></th>\n",
       "      <th></th>\n",
       "      <th></th>\n",
       "    </tr>\n",
       "  </thead>\n",
       "  <tbody>\n",
       "    <tr>\n",
       "      <th>2020-09-21</th>\n",
       "      <td>NaN</td>\n",
       "      <td>West Bank and Gaza</td>\n",
       "      <td>31.952200</td>\n",
       "      <td>35.233200</td>\n",
       "      <td>Recovered</td>\n",
       "      <td>24428</td>\n",
       "    </tr>\n",
       "    <tr>\n",
       "      <th>2020-09-21</th>\n",
       "      <td>NaN</td>\n",
       "      <td>Western Sahara</td>\n",
       "      <td>24.215500</td>\n",
       "      <td>-12.885800</td>\n",
       "      <td>Recovered</td>\n",
       "      <td>8</td>\n",
       "    </tr>\n",
       "    <tr>\n",
       "      <th>2020-09-21</th>\n",
       "      <td>NaN</td>\n",
       "      <td>Yemen</td>\n",
       "      <td>15.552727</td>\n",
       "      <td>48.516388</td>\n",
       "      <td>Recovered</td>\n",
       "      <td>1235</td>\n",
       "    </tr>\n",
       "    <tr>\n",
       "      <th>2020-09-21</th>\n",
       "      <td>NaN</td>\n",
       "      <td>Zambia</td>\n",
       "      <td>-13.133897</td>\n",
       "      <td>27.849332</td>\n",
       "      <td>Recovered</td>\n",
       "      <td>13629</td>\n",
       "    </tr>\n",
       "    <tr>\n",
       "      <th>2020-09-21</th>\n",
       "      <td>NaN</td>\n",
       "      <td>Zimbabwe</td>\n",
       "      <td>-19.015438</td>\n",
       "      <td>29.154857</td>\n",
       "      <td>Recovered</td>\n",
       "      <td>5924</td>\n",
       "    </tr>\n",
       "  </tbody>\n",
       "</table>\n",
       "</div>"
      ],
      "text/plain": [
       "           Province             Country        Lat       Long     Status  \\\n",
       "Date                                                                       \n",
       "2020-09-21      NaN  West Bank and Gaza  31.952200  35.233200  Recovered   \n",
       "2020-09-21      NaN      Western Sahara  24.215500 -12.885800  Recovered   \n",
       "2020-09-21      NaN               Yemen  15.552727  48.516388  Recovered   \n",
       "2020-09-21      NaN              Zambia -13.133897  27.849332  Recovered   \n",
       "2020-09-21      NaN            Zimbabwe -19.015438  29.154857  Recovered   \n",
       "\n",
       "            Count  \n",
       "Date               \n",
       "2020-09-21  24428  \n",
       "2020-09-21      8  \n",
       "2020-09-21   1235  \n",
       "2020-09-21  13629  \n",
       "2020-09-21   5924  "
      ]
     },
     "execution_count": 25,
     "metadata": {},
     "output_type": "execute_result"
    }
   ],
   "source": [
    "Totaldata.tail()"
   ]
  },
  {
   "cell_type": "code",
   "execution_count": 26,
   "metadata": {},
   "outputs": [
    {
     "data": {
      "text/html": [
       "<div>\n",
       "<style scoped>\n",
       "    .dataframe tbody tr th:only-of-type {\n",
       "        vertical-align: middle;\n",
       "    }\n",
       "\n",
       "    .dataframe tbody tr th {\n",
       "        vertical-align: top;\n",
       "    }\n",
       "\n",
       "    .dataframe thead th {\n",
       "        text-align: right;\n",
       "    }\n",
       "</style>\n",
       "<table border=\"1\" class=\"dataframe\">\n",
       "  <thead>\n",
       "    <tr style=\"text-align: right;\">\n",
       "      <th></th>\n",
       "      <th>Lat</th>\n",
       "      <th>Long</th>\n",
       "      <th>Count</th>\n",
       "    </tr>\n",
       "  </thead>\n",
       "  <tbody>\n",
       "    <tr>\n",
       "      <th>count</th>\n",
       "      <td>191540.000000</td>\n",
       "      <td>191540.000000</td>\n",
       "      <td>1.915400e+05</td>\n",
       "    </tr>\n",
       "    <tr>\n",
       "      <th>mean</th>\n",
       "      <td>20.676502</td>\n",
       "      <td>24.494931</td>\n",
       "      <td>1.836390e+04</td>\n",
       "    </tr>\n",
       "    <tr>\n",
       "      <th>std</th>\n",
       "      <td>24.735871</td>\n",
       "      <td>69.200810</td>\n",
       "      <td>1.730923e+05</td>\n",
       "    </tr>\n",
       "    <tr>\n",
       "      <th>min</th>\n",
       "      <td>-51.796300</td>\n",
       "      <td>-135.000000</td>\n",
       "      <td>0.000000e+00</td>\n",
       "    </tr>\n",
       "    <tr>\n",
       "      <th>25%</th>\n",
       "      <td>6.611100</td>\n",
       "      <td>-12.885800</td>\n",
       "      <td>1.000000e+00</td>\n",
       "    </tr>\n",
       "    <tr>\n",
       "      <th>50%</th>\n",
       "      <td>22.166700</td>\n",
       "      <td>21.745300</td>\n",
       "      <td>5.800000e+01</td>\n",
       "    </tr>\n",
       "    <tr>\n",
       "      <th>75%</th>\n",
       "      <td>40.182400</td>\n",
       "      <td>80.771797</td>\n",
       "      <td>1.049000e+03</td>\n",
       "    </tr>\n",
       "    <tr>\n",
       "      <th>max</th>\n",
       "      <td>71.706900</td>\n",
       "      <td>178.065000</td>\n",
       "      <td>6.856884e+06</td>\n",
       "    </tr>\n",
       "  </tbody>\n",
       "</table>\n",
       "</div>"
      ],
      "text/plain": [
       "                 Lat           Long         Count\n",
       "count  191540.000000  191540.000000  1.915400e+05\n",
       "mean       20.676502      24.494931  1.836390e+04\n",
       "std        24.735871      69.200810  1.730923e+05\n",
       "min       -51.796300    -135.000000  0.000000e+00\n",
       "25%         6.611100     -12.885800  1.000000e+00\n",
       "50%        22.166700      21.745300  5.800000e+01\n",
       "75%        40.182400      80.771797  1.049000e+03\n",
       "max        71.706900     178.065000  6.856884e+06"
      ]
     },
     "execution_count": 26,
     "metadata": {},
     "output_type": "execute_result"
    }
   ],
   "source": [
    "Totaldata.describe()"
   ]
  },
  {
   "cell_type": "code",
   "execution_count": 27,
   "metadata": {},
   "outputs": [
    {
     "data": {
      "text/html": [
       "<div>\n",
       "<style scoped>\n",
       "    .dataframe tbody tr th:only-of-type {\n",
       "        vertical-align: middle;\n",
       "    }\n",
       "\n",
       "    .dataframe tbody tr th {\n",
       "        vertical-align: top;\n",
       "    }\n",
       "\n",
       "    .dataframe thead th {\n",
       "        text-align: right;\n",
       "    }\n",
       "</style>\n",
       "<table border=\"1\" class=\"dataframe\">\n",
       "  <thead>\n",
       "    <tr style=\"text-align: right;\">\n",
       "      <th></th>\n",
       "      <th>count</th>\n",
       "      <th>mean</th>\n",
       "      <th>std</th>\n",
       "      <th>min</th>\n",
       "      <th>25%</th>\n",
       "      <th>50%</th>\n",
       "      <th>75%</th>\n",
       "      <th>max</th>\n",
       "    </tr>\n",
       "  </thead>\n",
       "  <tbody>\n",
       "    <tr>\n",
       "      <th>Lat</th>\n",
       "      <td>191540.0</td>\n",
       "      <td>20.676502</td>\n",
       "      <td>24.735871</td>\n",
       "      <td>-51.7963</td>\n",
       "      <td>6.6111</td>\n",
       "      <td>22.1667</td>\n",
       "      <td>40.182400</td>\n",
       "      <td>7.170690e+01</td>\n",
       "    </tr>\n",
       "    <tr>\n",
       "      <th>Long</th>\n",
       "      <td>191540.0</td>\n",
       "      <td>24.494931</td>\n",
       "      <td>69.200810</td>\n",
       "      <td>-135.0000</td>\n",
       "      <td>-12.8858</td>\n",
       "      <td>21.7453</td>\n",
       "      <td>80.771797</td>\n",
       "      <td>1.780650e+02</td>\n",
       "    </tr>\n",
       "    <tr>\n",
       "      <th>Count</th>\n",
       "      <td>191540.0</td>\n",
       "      <td>18363.901911</td>\n",
       "      <td>173092.273201</td>\n",
       "      <td>0.0000</td>\n",
       "      <td>1.0000</td>\n",
       "      <td>58.0000</td>\n",
       "      <td>1049.000000</td>\n",
       "      <td>6.856884e+06</td>\n",
       "    </tr>\n",
       "  </tbody>\n",
       "</table>\n",
       "</div>"
      ],
      "text/plain": [
       "          count          mean            std       min      25%      50%  \\\n",
       "Lat    191540.0     20.676502      24.735871  -51.7963   6.6111  22.1667   \n",
       "Long   191540.0     24.494931      69.200810 -135.0000 -12.8858  21.7453   \n",
       "Count  191540.0  18363.901911  173092.273201    0.0000   1.0000  58.0000   \n",
       "\n",
       "               75%           max  \n",
       "Lat      40.182400  7.170690e+01  \n",
       "Long     80.771797  1.780650e+02  \n",
       "Count  1049.000000  6.856884e+06  "
      ]
     },
     "execution_count": 27,
     "metadata": {},
     "output_type": "execute_result"
    }
   ],
   "source": [
    "Totaldata.describe().T"
   ]
  },
  {
   "cell_type": "markdown",
   "metadata": {},
   "source": [
    "To get latest covid cases base on date"
   ]
  },
  {
   "cell_type": "code",
   "execution_count": 28,
   "metadata": {},
   "outputs": [],
   "source": [
    "date =Totaldata.index[-1] #latest date\n",
    "TotaldataConfirmed = Totaldata[(Totaldata['Status'] == 'Confirmed') & (Totaldata.index == date)]\n",
    "TotaldataRecovered = Totaldata[(Totaldata['Status'] == 'Recovered') & (Totaldata.index == date)]\n",
    "TotaldataDealth = Totaldata[(Totaldata['Status'] == 'Dealth') & (Totaldata.index == date)]"
   ]
  },
  {
   "cell_type": "markdown",
   "metadata": {},
   "source": [
    "To get latest covid cases base on second date"
   ]
  },
  {
   "cell_type": "code",
   "execution_count": 29,
   "metadata": {},
   "outputs": [],
   "source": [
    "dt = list(set(Totaldata.index))  #set is using for removing dublicates value\n",
    "dt.sort()\n",
    "date =dt[-2] #second last date\n",
    "TotaldataConfirmed_1dayMinus = Totaldata[(Totaldata['Status'] == 'Confirmed') & (Totaldata.index == date)]\n",
    "TotaldataRecovered_1dayMinus = Totaldata[(Totaldata['Status'] == 'Recovered') & (Totaldata.index == date)]\n",
    "TotaldataDealth_1dayMinus = Totaldata[(Totaldata['Status'] == 'Dealth') & (Totaldata.index == date)]"
   ]
  },
  {
   "cell_type": "markdown",
   "metadata": {},
   "source": [
    "give total of 3 cases"
   ]
  },
  {
   "cell_type": "code",
   "execution_count": 30,
   "metadata": {},
   "outputs": [
    {
     "data": {
      "text/plain": [
       "963693"
      ]
     },
     "execution_count": 30,
     "metadata": {},
     "output_type": "execute_result"
    }
   ],
   "source": [
    "TotaldataConfirmed['Count'].sum()\n",
    "TotaldataRecovered['Count'].sum()\n",
    "TotaldataDealth['Count'].sum()"
   ]
  },
  {
   "cell_type": "markdown",
   "metadata": {},
   "source": [
    "Build a kpi"
   ]
  },
  {
   "cell_type": "code",
   "execution_count": 31,
   "metadata": {},
   "outputs": [
    {
     "data": {
      "application/vnd.plotly.v1+json": {
       "config": {
        "plotlyServerURL": "https://plot.ly"
       },
       "data": [
        {
         "delta": {
          "reference": 31021972
         },
         "domain": {
          "column": 0,
          "row": 0
         },
         "mode": "number+delta",
         "title": {
          "text": "Confirmed"
         },
         "type": "indicator",
         "value": 31245797
        },
        {
         "delta": {
          "reference": 21252815
         },
         "domain": {
          "column": 1,
          "row": 0
         },
         "mode": "number+delta",
         "title": {
          "text": "Recovered"
         },
         "type": "indicator",
         "value": 21394593
        },
        {
         "delta": {
          "reference": 960695
         },
         "domain": {
          "column": 0,
          "row": 1
         },
         "mode": "number+delta",
         "number": {
          "valueformat": "0.2s"
         },
         "title": {
          "text": "Dealth"
         },
         "type": "indicator",
         "value": 963693
        }
       ],
       "layout": {
        "grid": {
         "columns": 2,
         "pattern": "independent",
         "rows": 2
        },
        "template": {
         "data": {
          "bar": [
           {
            "error_x": {
             "color": "#2a3f5f"
            },
            "error_y": {
             "color": "#2a3f5f"
            },
            "marker": {
             "line": {
              "color": "#E5ECF6",
              "width": 0.5
             },
             "pattern": {
              "fillmode": "overlay",
              "size": 10,
              "solidity": 0.2
             }
            },
            "type": "bar"
           }
          ],
          "barpolar": [
           {
            "marker": {
             "line": {
              "color": "#E5ECF6",
              "width": 0.5
             },
             "pattern": {
              "fillmode": "overlay",
              "size": 10,
              "solidity": 0.2
             }
            },
            "type": "barpolar"
           }
          ],
          "carpet": [
           {
            "aaxis": {
             "endlinecolor": "#2a3f5f",
             "gridcolor": "white",
             "linecolor": "white",
             "minorgridcolor": "white",
             "startlinecolor": "#2a3f5f"
            },
            "baxis": {
             "endlinecolor": "#2a3f5f",
             "gridcolor": "white",
             "linecolor": "white",
             "minorgridcolor": "white",
             "startlinecolor": "#2a3f5f"
            },
            "type": "carpet"
           }
          ],
          "choropleth": [
           {
            "colorbar": {
             "outlinewidth": 0,
             "ticks": ""
            },
            "type": "choropleth"
           }
          ],
          "contour": [
           {
            "colorbar": {
             "outlinewidth": 0,
             "ticks": ""
            },
            "colorscale": [
             [
              0,
              "#0d0887"
             ],
             [
              0.1111111111111111,
              "#46039f"
             ],
             [
              0.2222222222222222,
              "#7201a8"
             ],
             [
              0.3333333333333333,
              "#9c179e"
             ],
             [
              0.4444444444444444,
              "#bd3786"
             ],
             [
              0.5555555555555556,
              "#d8576b"
             ],
             [
              0.6666666666666666,
              "#ed7953"
             ],
             [
              0.7777777777777778,
              "#fb9f3a"
             ],
             [
              0.8888888888888888,
              "#fdca26"
             ],
             [
              1,
              "#f0f921"
             ]
            ],
            "type": "contour"
           }
          ],
          "contourcarpet": [
           {
            "colorbar": {
             "outlinewidth": 0,
             "ticks": ""
            },
            "type": "contourcarpet"
           }
          ],
          "heatmap": [
           {
            "colorbar": {
             "outlinewidth": 0,
             "ticks": ""
            },
            "colorscale": [
             [
              0,
              "#0d0887"
             ],
             [
              0.1111111111111111,
              "#46039f"
             ],
             [
              0.2222222222222222,
              "#7201a8"
             ],
             [
              0.3333333333333333,
              "#9c179e"
             ],
             [
              0.4444444444444444,
              "#bd3786"
             ],
             [
              0.5555555555555556,
              "#d8576b"
             ],
             [
              0.6666666666666666,
              "#ed7953"
             ],
             [
              0.7777777777777778,
              "#fb9f3a"
             ],
             [
              0.8888888888888888,
              "#fdca26"
             ],
             [
              1,
              "#f0f921"
             ]
            ],
            "type": "heatmap"
           }
          ],
          "heatmapgl": [
           {
            "colorbar": {
             "outlinewidth": 0,
             "ticks": ""
            },
            "colorscale": [
             [
              0,
              "#0d0887"
             ],
             [
              0.1111111111111111,
              "#46039f"
             ],
             [
              0.2222222222222222,
              "#7201a8"
             ],
             [
              0.3333333333333333,
              "#9c179e"
             ],
             [
              0.4444444444444444,
              "#bd3786"
             ],
             [
              0.5555555555555556,
              "#d8576b"
             ],
             [
              0.6666666666666666,
              "#ed7953"
             ],
             [
              0.7777777777777778,
              "#fb9f3a"
             ],
             [
              0.8888888888888888,
              "#fdca26"
             ],
             [
              1,
              "#f0f921"
             ]
            ],
            "type": "heatmapgl"
           }
          ],
          "histogram": [
           {
            "marker": {
             "pattern": {
              "fillmode": "overlay",
              "size": 10,
              "solidity": 0.2
             }
            },
            "type": "histogram"
           }
          ],
          "histogram2d": [
           {
            "colorbar": {
             "outlinewidth": 0,
             "ticks": ""
            },
            "colorscale": [
             [
              0,
              "#0d0887"
             ],
             [
              0.1111111111111111,
              "#46039f"
             ],
             [
              0.2222222222222222,
              "#7201a8"
             ],
             [
              0.3333333333333333,
              "#9c179e"
             ],
             [
              0.4444444444444444,
              "#bd3786"
             ],
             [
              0.5555555555555556,
              "#d8576b"
             ],
             [
              0.6666666666666666,
              "#ed7953"
             ],
             [
              0.7777777777777778,
              "#fb9f3a"
             ],
             [
              0.8888888888888888,
              "#fdca26"
             ],
             [
              1,
              "#f0f921"
             ]
            ],
            "type": "histogram2d"
           }
          ],
          "histogram2dcontour": [
           {
            "colorbar": {
             "outlinewidth": 0,
             "ticks": ""
            },
            "colorscale": [
             [
              0,
              "#0d0887"
             ],
             [
              0.1111111111111111,
              "#46039f"
             ],
             [
              0.2222222222222222,
              "#7201a8"
             ],
             [
              0.3333333333333333,
              "#9c179e"
             ],
             [
              0.4444444444444444,
              "#bd3786"
             ],
             [
              0.5555555555555556,
              "#d8576b"
             ],
             [
              0.6666666666666666,
              "#ed7953"
             ],
             [
              0.7777777777777778,
              "#fb9f3a"
             ],
             [
              0.8888888888888888,
              "#fdca26"
             ],
             [
              1,
              "#f0f921"
             ]
            ],
            "type": "histogram2dcontour"
           }
          ],
          "indicator": [
           {
            "delta": {
             "reference": 90
            },
            "mode": "number+delta+gauge",
            "title": {
             "text": "Speed"
            },
            "type": "indicator"
           }
          ],
          "mesh3d": [
           {
            "colorbar": {
             "outlinewidth": 0,
             "ticks": ""
            },
            "type": "mesh3d"
           }
          ],
          "parcoords": [
           {
            "line": {
             "colorbar": {
              "outlinewidth": 0,
              "ticks": ""
             }
            },
            "type": "parcoords"
           }
          ],
          "pie": [
           {
            "automargin": true,
            "type": "pie"
           }
          ],
          "scatter": [
           {
            "fillpattern": {
             "fillmode": "overlay",
             "size": 10,
             "solidity": 0.2
            },
            "type": "scatter"
           }
          ],
          "scatter3d": [
           {
            "line": {
             "colorbar": {
              "outlinewidth": 0,
              "ticks": ""
             }
            },
            "marker": {
             "colorbar": {
              "outlinewidth": 0,
              "ticks": ""
             }
            },
            "type": "scatter3d"
           }
          ],
          "scattercarpet": [
           {
            "marker": {
             "colorbar": {
              "outlinewidth": 0,
              "ticks": ""
             }
            },
            "type": "scattercarpet"
           }
          ],
          "scattergeo": [
           {
            "marker": {
             "colorbar": {
              "outlinewidth": 0,
              "ticks": ""
             }
            },
            "type": "scattergeo"
           }
          ],
          "scattergl": [
           {
            "marker": {
             "colorbar": {
              "outlinewidth": 0,
              "ticks": ""
             }
            },
            "type": "scattergl"
           }
          ],
          "scattermapbox": [
           {
            "marker": {
             "colorbar": {
              "outlinewidth": 0,
              "ticks": ""
             }
            },
            "type": "scattermapbox"
           }
          ],
          "scatterpolar": [
           {
            "marker": {
             "colorbar": {
              "outlinewidth": 0,
              "ticks": ""
             }
            },
            "type": "scatterpolar"
           }
          ],
          "scatterpolargl": [
           {
            "marker": {
             "colorbar": {
              "outlinewidth": 0,
              "ticks": ""
             }
            },
            "type": "scatterpolargl"
           }
          ],
          "scatterternary": [
           {
            "marker": {
             "colorbar": {
              "outlinewidth": 0,
              "ticks": ""
             }
            },
            "type": "scatterternary"
           }
          ],
          "surface": [
           {
            "colorbar": {
             "outlinewidth": 0,
             "ticks": ""
            },
            "colorscale": [
             [
              0,
              "#0d0887"
             ],
             [
              0.1111111111111111,
              "#46039f"
             ],
             [
              0.2222222222222222,
              "#7201a8"
             ],
             [
              0.3333333333333333,
              "#9c179e"
             ],
             [
              0.4444444444444444,
              "#bd3786"
             ],
             [
              0.5555555555555556,
              "#d8576b"
             ],
             [
              0.6666666666666666,
              "#ed7953"
             ],
             [
              0.7777777777777778,
              "#fb9f3a"
             ],
             [
              0.8888888888888888,
              "#fdca26"
             ],
             [
              1,
              "#f0f921"
             ]
            ],
            "type": "surface"
           }
          ],
          "table": [
           {
            "cells": {
             "fill": {
              "color": "#EBF0F8"
             },
             "line": {
              "color": "white"
             }
            },
            "header": {
             "fill": {
              "color": "#C8D4E3"
             },
             "line": {
              "color": "white"
             }
            },
            "type": "table"
           }
          ]
         },
         "layout": {
          "annotationdefaults": {
           "arrowcolor": "#2a3f5f",
           "arrowhead": 0,
           "arrowwidth": 1
          },
          "autotypenumbers": "strict",
          "coloraxis": {
           "colorbar": {
            "outlinewidth": 0,
            "ticks": ""
           }
          },
          "colorscale": {
           "diverging": [
            [
             0,
             "#8e0152"
            ],
            [
             0.1,
             "#c51b7d"
            ],
            [
             0.2,
             "#de77ae"
            ],
            [
             0.3,
             "#f1b6da"
            ],
            [
             0.4,
             "#fde0ef"
            ],
            [
             0.5,
             "#f7f7f7"
            ],
            [
             0.6,
             "#e6f5d0"
            ],
            [
             0.7,
             "#b8e186"
            ],
            [
             0.8,
             "#7fbc41"
            ],
            [
             0.9,
             "#4d9221"
            ],
            [
             1,
             "#276419"
            ]
           ],
           "sequential": [
            [
             0,
             "#0d0887"
            ],
            [
             0.1111111111111111,
             "#46039f"
            ],
            [
             0.2222222222222222,
             "#7201a8"
            ],
            [
             0.3333333333333333,
             "#9c179e"
            ],
            [
             0.4444444444444444,
             "#bd3786"
            ],
            [
             0.5555555555555556,
             "#d8576b"
            ],
            [
             0.6666666666666666,
             "#ed7953"
            ],
            [
             0.7777777777777778,
             "#fb9f3a"
            ],
            [
             0.8888888888888888,
             "#fdca26"
            ],
            [
             1,
             "#f0f921"
            ]
           ],
           "sequentialminus": [
            [
             0,
             "#0d0887"
            ],
            [
             0.1111111111111111,
             "#46039f"
            ],
            [
             0.2222222222222222,
             "#7201a8"
            ],
            [
             0.3333333333333333,
             "#9c179e"
            ],
            [
             0.4444444444444444,
             "#bd3786"
            ],
            [
             0.5555555555555556,
             "#d8576b"
            ],
            [
             0.6666666666666666,
             "#ed7953"
            ],
            [
             0.7777777777777778,
             "#fb9f3a"
            ],
            [
             0.8888888888888888,
             "#fdca26"
            ],
            [
             1,
             "#f0f921"
            ]
           ]
          },
          "colorway": [
           "#636efa",
           "#EF553B",
           "#00cc96",
           "#ab63fa",
           "#FFA15A",
           "#19d3f3",
           "#FF6692",
           "#B6E880",
           "#FF97FF",
           "#FECB52"
          ],
          "font": {
           "color": "#2a3f5f"
          },
          "geo": {
           "bgcolor": "white",
           "lakecolor": "white",
           "landcolor": "#E5ECF6",
           "showlakes": true,
           "showland": true,
           "subunitcolor": "white"
          },
          "hoverlabel": {
           "align": "left"
          },
          "hovermode": "closest",
          "mapbox": {
           "style": "light"
          },
          "paper_bgcolor": "white",
          "plot_bgcolor": "#E5ECF6",
          "polar": {
           "angularaxis": {
            "gridcolor": "white",
            "linecolor": "white",
            "ticks": ""
           },
           "bgcolor": "#E5ECF6",
           "radialaxis": {
            "gridcolor": "white",
            "linecolor": "white",
            "ticks": ""
           }
          },
          "scene": {
           "xaxis": {
            "backgroundcolor": "#E5ECF6",
            "gridcolor": "white",
            "gridwidth": 2,
            "linecolor": "white",
            "showbackground": true,
            "ticks": "",
            "zerolinecolor": "white"
           },
           "yaxis": {
            "backgroundcolor": "#E5ECF6",
            "gridcolor": "white",
            "gridwidth": 2,
            "linecolor": "white",
            "showbackground": true,
            "ticks": "",
            "zerolinecolor": "white"
           },
           "zaxis": {
            "backgroundcolor": "#E5ECF6",
            "gridcolor": "white",
            "gridwidth": 2,
            "linecolor": "white",
            "showbackground": true,
            "ticks": "",
            "zerolinecolor": "white"
           }
          },
          "shapedefaults": {
           "line": {
            "color": "#2a3f5f"
           }
          },
          "ternary": {
           "aaxis": {
            "gridcolor": "white",
            "linecolor": "white",
            "ticks": ""
           },
           "baxis": {
            "gridcolor": "white",
            "linecolor": "white",
            "ticks": ""
           },
           "bgcolor": "#E5ECF6",
           "caxis": {
            "gridcolor": "white",
            "linecolor": "white",
            "ticks": ""
           }
          },
          "title": {
           "x": 0.05
          },
          "xaxis": {
           "automargin": true,
           "gridcolor": "white",
           "linecolor": "white",
           "ticks": "",
           "title": {
            "standoff": 15
           },
           "zerolinecolor": "white",
           "zerolinewidth": 2
          },
          "yaxis": {
           "automargin": true,
           "gridcolor": "white",
           "linecolor": "white",
           "ticks": "",
           "title": {
            "standoff": 15
           },
           "zerolinecolor": "white",
           "zerolinewidth": 2
          }
         }
        }
       }
      }
     },
     "metadata": {},
     "output_type": "display_data"
    }
   ],
   "source": [
    "fig = go.Figure()\n",
    "fig.add_trace(go.Indicator(\n",
    "    mode = \"number+delta\",\n",
    "    title = {'text': \"Confirmed\"},\n",
    "    value = TotaldataConfirmed['Count'].sum(),\n",
    "    delta = {'reference': TotaldataConfirmed_1dayMinus['Count'].sum()},\n",
    "    domain = {'row': 0, 'column': 0}))\n",
    "\n",
    "fig.add_trace(go.Indicator(\n",
    "    mode = \"number+delta\",\n",
    "    title = {'text': \"Recovered\"},\n",
    "    value = TotaldataRecovered['Count'].sum(),\n",
    "    delta = {'reference': TotaldataRecovered_1dayMinus['Count'].sum()},\n",
    "    domain = {'row': 0, 'column': 1}))\n",
    "\n",
    "fig.add_trace(go.Indicator(\n",
    "    mode = \"number+delta\",\n",
    "    title = {'text': \"Dealth\"},\n",
    "    number = {'valueformat':'0.2s'},\n",
    "    value = TotaldataDealth['Count'].sum(),\n",
    "    delta = {'reference': TotaldataDealth_1dayMinus['Count'].sum()},\n",
    "    domain = {'row': 1, 'column': 0}))\n",
    "\n",
    "fig.update_layout(\n",
    "    grid = {'rows': 2, 'columns': 2, 'pattern': \"independent\"},\n",
    "    template = {'data' : {'indicator': [{\n",
    "        'title': {'text': \"Speed\"},\n",
    "        'mode' : \"number+delta+gauge\",\n",
    "        'delta' : {'reference': 90}}]\n",
    "                         }})"
   ]
  },
  {
   "cell_type": "markdown",
   "metadata": {},
   "source": [
    "Top 10 Countries with recovered cases on the most recent days"
   ]
  },
  {
   "cell_type": "code",
   "execution_count": 32,
   "metadata": {},
   "outputs": [],
   "source": [
    "def RecentCases_Top10Countries(Status):\n",
    "    Top10Countries = Totaldata[(Totaldata['Status']==Status) & (Totaldata.index==max(Totaldata[Totaldata['Status']==Status].index))].sort_values(by='Count',ascending = False).head(10)[['Country','Count']]\n",
    "    return Top10Countries"
   ]
  },
  {
   "cell_type": "code",
   "execution_count": 33,
   "metadata": {},
   "outputs": [],
   "source": [
    "Top10CountriesRecovered = RecentCases_Top10Countries('Recovered')\n",
    "Top10CountriesConfirmed = RecentCases_Top10Countries('Confirmed')\n",
    "Top10CountriesDealth = RecentCases_Top10Countries('Dealth')"
   ]
  },
  {
   "cell_type": "code",
   "execution_count": 34,
   "metadata": {},
   "outputs": [],
   "source": [
    "Top10CountriesDealth = RecentCases_Top10Countries('Dealth')\n",
    "def Display_Top10Country(Top10Countries,Status):\n",
    "    Top10Countries = Top10Countries.reset_index()\n",
    "    Top10Countries = Top10Countries[['Country','Count']]\n",
    "    date =max(Totaldata[Totaldata['Status']==Status].index)\n",
    "    date = date.date()\n",
    "    print(Status +' cases till:',date)\n",
    "    return Top10Countries"
   ]
  },
  {
   "cell_type": "code",
   "execution_count": 35,
   "metadata": {},
   "outputs": [
    {
     "name": "stdout",
     "output_type": "stream",
     "text": [
      "Recovered cases till: 2020-09-21\n"
     ]
    },
    {
     "data": {
      "text/html": [
       "<style type=\"text/css\">\n",
       "#T_3650f_row0_col1 {\n",
       "  background-color: #7f2704;\n",
       "  color: #f1f1f1;\n",
       "}\n",
       "#T_3650f_row1_col1 {\n",
       "  background-color: #9e3303;\n",
       "  color: #f1f1f1;\n",
       "}\n",
       "#T_3650f_row2_col1 {\n",
       "  background-color: #f87e2b;\n",
       "  color: #f1f1f1;\n",
       "}\n",
       "#T_3650f_row3_col1 {\n",
       "  background-color: #fee6cf;\n",
       "  color: #000000;\n",
       "}\n",
       "#T_3650f_row4_col1 {\n",
       "  background-color: #ffeede;\n",
       "  color: #000000;\n",
       "}\n",
       "#T_3650f_row5_col1 {\n",
       "  background-color: #ffefe0;\n",
       "  color: #000000;\n",
       "}\n",
       "#T_3650f_row6_col1 {\n",
       "  background-color: #fff0e1;\n",
       "  color: #000000;\n",
       "}\n",
       "#T_3650f_row7_col1 {\n",
       "  background-color: #fff0e2;\n",
       "  color: #000000;\n",
       "}\n",
       "#T_3650f_row8_col1 {\n",
       "  background-color: #fff3e6;\n",
       "  color: #000000;\n",
       "}\n",
       "#T_3650f_row9_col1 {\n",
       "  background-color: #fff5eb;\n",
       "  color: #000000;\n",
       "}\n",
       "</style>\n",
       "<table id=\"T_3650f\">\n",
       "  <thead>\n",
       "    <tr>\n",
       "      <th class=\"blank level0\" >&nbsp;</th>\n",
       "      <th id=\"T_3650f_level0_col0\" class=\"col_heading level0 col0\" >Country</th>\n",
       "      <th id=\"T_3650f_level0_col1\" class=\"col_heading level0 col1\" >Count</th>\n",
       "    </tr>\n",
       "  </thead>\n",
       "  <tbody>\n",
       "    <tr>\n",
       "      <th id=\"T_3650f_level0_row0\" class=\"row_heading level0 row0\" >0</th>\n",
       "      <td id=\"T_3650f_row0_col0\" class=\"data row0 col0\" >India</td>\n",
       "      <td id=\"T_3650f_row0_col1\" class=\"data row0 col1\" >4396399</td>\n",
       "    </tr>\n",
       "    <tr>\n",
       "      <th id=\"T_3650f_level0_row1\" class=\"row_heading level0 row1\" >1</th>\n",
       "      <td id=\"T_3650f_row1_col0\" class=\"data row1 col0\" >Brazil</td>\n",
       "      <td id=\"T_3650f_row1_col1\" class=\"data row1 col1\" >3993432</td>\n",
       "    </tr>\n",
       "    <tr>\n",
       "      <th id=\"T_3650f_level0_row2\" class=\"row_heading level0 row2\" >2</th>\n",
       "      <td id=\"T_3650f_row2_col0\" class=\"data row2 col0\" >US</td>\n",
       "      <td id=\"T_3650f_row2_col1\" class=\"data row2 col1\" >2615949</td>\n",
       "    </tr>\n",
       "    <tr>\n",
       "      <th id=\"T_3650f_level0_row3\" class=\"row_heading level0 row3\" >3</th>\n",
       "      <td id=\"T_3650f_row3_col0\" class=\"data row3 col0\" >Russia</td>\n",
       "      <td id=\"T_3650f_row3_col1\" class=\"data row3 col1\" >909026</td>\n",
       "    </tr>\n",
       "    <tr>\n",
       "      <th id=\"T_3650f_level0_row4\" class=\"row_heading level0 row4\" >4</th>\n",
       "      <td id=\"T_3650f_row4_col0\" class=\"data row4 col0\" >Colombia</td>\n",
       "      <td id=\"T_3650f_row4_col1\" class=\"data row4 col1\" >640900</td>\n",
       "    </tr>\n",
       "    <tr>\n",
       "      <th id=\"T_3650f_level0_row5\" class=\"row_heading level0 row5\" >5</th>\n",
       "      <td id=\"T_3650f_row5_col0\" class=\"data row5 col0\" >Peru</td>\n",
       "      <td id=\"T_3650f_row5_col1\" class=\"data row5 col1\" >607837</td>\n",
       "    </tr>\n",
       "    <tr>\n",
       "      <th id=\"T_3650f_level0_row6\" class=\"row_heading level0 row6\" >6</th>\n",
       "      <td id=\"T_3650f_row6_col0\" class=\"data row6 col0\" >Mexico</td>\n",
       "      <td id=\"T_3650f_row6_col1\" class=\"data row6 col1\" >596317</td>\n",
       "    </tr>\n",
       "    <tr>\n",
       "      <th id=\"T_3650f_level0_row7\" class=\"row_heading level0 row7\" >7</th>\n",
       "      <td id=\"T_3650f_row7_col0\" class=\"data row7 col0\" >South Africa</td>\n",
       "      <td id=\"T_3650f_row7_col1\" class=\"data row7 col1\" >591208</td>\n",
       "    </tr>\n",
       "    <tr>\n",
       "      <th id=\"T_3650f_level0_row8\" class=\"row_heading level0 row8\" >8</th>\n",
       "      <td id=\"T_3650f_row8_col0\" class=\"data row8 col0\" >Argentina</td>\n",
       "      <td id=\"T_3650f_row8_col1\" class=\"data row8 col1\" >508563</td>\n",
       "    </tr>\n",
       "    <tr>\n",
       "      <th id=\"T_3650f_level0_row9\" class=\"row_heading level0 row9\" >9</th>\n",
       "      <td id=\"T_3650f_row9_col0\" class=\"data row9 col0\" >Chile</td>\n",
       "      <td id=\"T_3650f_row9_col1\" class=\"data row9 col1\" >421111</td>\n",
       "    </tr>\n",
       "  </tbody>\n",
       "</table>\n"
      ],
      "text/plain": [
       "<pandas.io.formats.style.Styler at 0x221f5da7690>"
      ]
     },
     "execution_count": 35,
     "metadata": {},
     "output_type": "execute_result"
    }
   ],
   "source": [
    "Top10CountriesRecovered = Display_Top10Country(Top10CountriesRecovered,'Recovered')\n",
    "Top10CountriesRecovered.style.background_gradient(cmap = 'Oranges')"
   ]
  },
  {
   "cell_type": "code",
   "execution_count": 36,
   "metadata": {},
   "outputs": [
    {
     "name": "stdout",
     "output_type": "stream",
     "text": [
      "Confirmed cases till: 2020-09-21\n"
     ]
    },
    {
     "data": {
      "text/html": [
       "<style type=\"text/css\">\n",
       "#T_65c4a_row0_col1 {\n",
       "  background-color: #08306b;\n",
       "  color: #f1f1f1;\n",
       "}\n",
       "#T_65c4a_row1_col1 {\n",
       "  background-color: #1b69af;\n",
       "  color: #f1f1f1;\n",
       "}\n",
       "#T_65c4a_row2_col1 {\n",
       "  background-color: #4090c5;\n",
       "  color: #f1f1f1;\n",
       "}\n",
       "#T_65c4a_row3_col1 {\n",
       "  background-color: #e8f1fa;\n",
       "  color: #000000;\n",
       "}\n",
       "#T_65c4a_row4_col1, #T_65c4a_row5_col1 {\n",
       "  background-color: #f3f8fe;\n",
       "  color: #000000;\n",
       "}\n",
       "#T_65c4a_row6_col1 {\n",
       "  background-color: #f5fafe;\n",
       "  color: #000000;\n",
       "}\n",
       "#T_65c4a_row7_col1 {\n",
       "  background-color: #f6faff;\n",
       "  color: #000000;\n",
       "}\n",
       "#T_65c4a_row8_col1, #T_65c4a_row9_col1 {\n",
       "  background-color: #f7fbff;\n",
       "  color: #000000;\n",
       "}\n",
       "</style>\n",
       "<table id=\"T_65c4a\">\n",
       "  <thead>\n",
       "    <tr>\n",
       "      <th class=\"blank level0\" >&nbsp;</th>\n",
       "      <th id=\"T_65c4a_level0_col0\" class=\"col_heading level0 col0\" >Country</th>\n",
       "      <th id=\"T_65c4a_level0_col1\" class=\"col_heading level0 col1\" >Count</th>\n",
       "    </tr>\n",
       "  </thead>\n",
       "  <tbody>\n",
       "    <tr>\n",
       "      <th id=\"T_65c4a_level0_row0\" class=\"row_heading level0 row0\" >0</th>\n",
       "      <td id=\"T_65c4a_row0_col0\" class=\"data row0 col0\" >US</td>\n",
       "      <td id=\"T_65c4a_row0_col1\" class=\"data row0 col1\" >6856884</td>\n",
       "    </tr>\n",
       "    <tr>\n",
       "      <th id=\"T_65c4a_level0_row1\" class=\"row_heading level0 row1\" >1</th>\n",
       "      <td id=\"T_65c4a_row1_col0\" class=\"data row1 col0\" >India</td>\n",
       "      <td id=\"T_65c4a_row1_col1\" class=\"data row1 col1\" >5487580</td>\n",
       "    </tr>\n",
       "    <tr>\n",
       "      <th id=\"T_65c4a_level0_row2\" class=\"row_heading level0 row2\" >2</th>\n",
       "      <td id=\"T_65c4a_row2_col0\" class=\"data row2 col0\" >Brazil</td>\n",
       "      <td id=\"T_65c4a_row2_col1\" class=\"data row2 col1\" >4558040</td>\n",
       "    </tr>\n",
       "    <tr>\n",
       "      <th id=\"T_65c4a_level0_row3\" class=\"row_heading level0 row3\" >3</th>\n",
       "      <td id=\"T_65c4a_row3_col0\" class=\"data row3 col0\" >Russia</td>\n",
       "      <td id=\"T_65c4a_row3_col1\" class=\"data row3 col1\" >1105048</td>\n",
       "    </tr>\n",
       "    <tr>\n",
       "      <th id=\"T_65c4a_level0_row4\" class=\"row_heading level0 row4\" >4</th>\n",
       "      <td id=\"T_65c4a_row4_col0\" class=\"data row4 col0\" >Colombia</td>\n",
       "      <td id=\"T_65c4a_row4_col1\" class=\"data row4 col1\" >770435</td>\n",
       "    </tr>\n",
       "    <tr>\n",
       "      <th id=\"T_65c4a_level0_row5\" class=\"row_heading level0 row5\" >5</th>\n",
       "      <td id=\"T_65c4a_row5_col0\" class=\"data row5 col0\" >Peru</td>\n",
       "      <td id=\"T_65c4a_row5_col1\" class=\"data row5 col1\" >768895</td>\n",
       "    </tr>\n",
       "    <tr>\n",
       "      <th id=\"T_65c4a_level0_row6\" class=\"row_heading level0 row6\" >6</th>\n",
       "      <td id=\"T_65c4a_row6_col0\" class=\"data row6 col0\" >Mexico</td>\n",
       "      <td id=\"T_65c4a_row6_col1\" class=\"data row6 col1\" >700580</td>\n",
       "    </tr>\n",
       "    <tr>\n",
       "      <th id=\"T_65c4a_level0_row7\" class=\"row_heading level0 row7\" >7</th>\n",
       "      <td id=\"T_65c4a_row7_col0\" class=\"data row7 col0\" >Spain</td>\n",
       "      <td id=\"T_65c4a_row7_col1\" class=\"data row7 col1\" >671468</td>\n",
       "    </tr>\n",
       "    <tr>\n",
       "      <th id=\"T_65c4a_level0_row8\" class=\"row_heading level0 row8\" >8</th>\n",
       "      <td id=\"T_65c4a_row8_col0\" class=\"data row8 col0\" >South Africa</td>\n",
       "      <td id=\"T_65c4a_row8_col1\" class=\"data row8 col1\" >661936</td>\n",
       "    </tr>\n",
       "    <tr>\n",
       "      <th id=\"T_65c4a_level0_row9\" class=\"row_heading level0 row9\" >9</th>\n",
       "      <td id=\"T_65c4a_row9_col0\" class=\"data row9 col0\" >Argentina</td>\n",
       "      <td id=\"T_65c4a_row9_col1\" class=\"data row9 col1\" >640147</td>\n",
       "    </tr>\n",
       "  </tbody>\n",
       "</table>\n"
      ],
      "text/plain": [
       "<pandas.io.formats.style.Styler at 0x221f73902d0>"
      ]
     },
     "execution_count": 36,
     "metadata": {},
     "output_type": "execute_result"
    }
   ],
   "source": [
    "Top10CountriesConfirmed = Display_Top10Country(Top10CountriesConfirmed,'Confirmed')\n",
    "Top10CountriesConfirmed.style.background_gradient(cmap = 'Blues')"
   ]
  },
  {
   "cell_type": "code",
   "execution_count": 37,
   "metadata": {},
   "outputs": [
    {
     "name": "stdout",
     "output_type": "stream",
     "text": [
      "Dealth cases till: 2020-09-21\n"
     ]
    },
    {
     "data": {
      "text/html": [
       "<style type=\"text/css\">\n",
       "#T_3c962_row0_col1 {\n",
       "  background-color: #08306b;\n",
       "  color: #f1f1f1;\n",
       "}\n",
       "#T_3c962_row1_col1 {\n",
       "  background-color: #1b69af;\n",
       "  color: #f1f1f1;\n",
       "}\n",
       "#T_3c962_row2_col1 {\n",
       "  background-color: #4090c5;\n",
       "  color: #f1f1f1;\n",
       "}\n",
       "#T_3c962_row3_col1 {\n",
       "  background-color: #e8f1fa;\n",
       "  color: #000000;\n",
       "}\n",
       "#T_3c962_row4_col1, #T_3c962_row5_col1 {\n",
       "  background-color: #f3f8fe;\n",
       "  color: #000000;\n",
       "}\n",
       "#T_3c962_row6_col1 {\n",
       "  background-color: #f5fafe;\n",
       "  color: #000000;\n",
       "}\n",
       "#T_3c962_row7_col1 {\n",
       "  background-color: #f6faff;\n",
       "  color: #000000;\n",
       "}\n",
       "#T_3c962_row8_col1, #T_3c962_row9_col1 {\n",
       "  background-color: #f7fbff;\n",
       "  color: #000000;\n",
       "}\n",
       "</style>\n",
       "<table id=\"T_3c962\">\n",
       "  <thead>\n",
       "    <tr>\n",
       "      <th class=\"blank level0\" >&nbsp;</th>\n",
       "      <th id=\"T_3c962_level0_col0\" class=\"col_heading level0 col0\" >Country</th>\n",
       "      <th id=\"T_3c962_level0_col1\" class=\"col_heading level0 col1\" >Count</th>\n",
       "    </tr>\n",
       "  </thead>\n",
       "  <tbody>\n",
       "    <tr>\n",
       "      <th id=\"T_3c962_level0_row0\" class=\"row_heading level0 row0\" >0</th>\n",
       "      <td id=\"T_3c962_row0_col0\" class=\"data row0 col0\" >US</td>\n",
       "      <td id=\"T_3c962_row0_col1\" class=\"data row0 col1\" >6856884</td>\n",
       "    </tr>\n",
       "    <tr>\n",
       "      <th id=\"T_3c962_level0_row1\" class=\"row_heading level0 row1\" >1</th>\n",
       "      <td id=\"T_3c962_row1_col0\" class=\"data row1 col0\" >India</td>\n",
       "      <td id=\"T_3c962_row1_col1\" class=\"data row1 col1\" >5487580</td>\n",
       "    </tr>\n",
       "    <tr>\n",
       "      <th id=\"T_3c962_level0_row2\" class=\"row_heading level0 row2\" >2</th>\n",
       "      <td id=\"T_3c962_row2_col0\" class=\"data row2 col0\" >Brazil</td>\n",
       "      <td id=\"T_3c962_row2_col1\" class=\"data row2 col1\" >4558040</td>\n",
       "    </tr>\n",
       "    <tr>\n",
       "      <th id=\"T_3c962_level0_row3\" class=\"row_heading level0 row3\" >3</th>\n",
       "      <td id=\"T_3c962_row3_col0\" class=\"data row3 col0\" >Russia</td>\n",
       "      <td id=\"T_3c962_row3_col1\" class=\"data row3 col1\" >1105048</td>\n",
       "    </tr>\n",
       "    <tr>\n",
       "      <th id=\"T_3c962_level0_row4\" class=\"row_heading level0 row4\" >4</th>\n",
       "      <td id=\"T_3c962_row4_col0\" class=\"data row4 col0\" >Colombia</td>\n",
       "      <td id=\"T_3c962_row4_col1\" class=\"data row4 col1\" >770435</td>\n",
       "    </tr>\n",
       "    <tr>\n",
       "      <th id=\"T_3c962_level0_row5\" class=\"row_heading level0 row5\" >5</th>\n",
       "      <td id=\"T_3c962_row5_col0\" class=\"data row5 col0\" >Peru</td>\n",
       "      <td id=\"T_3c962_row5_col1\" class=\"data row5 col1\" >768895</td>\n",
       "    </tr>\n",
       "    <tr>\n",
       "      <th id=\"T_3c962_level0_row6\" class=\"row_heading level0 row6\" >6</th>\n",
       "      <td id=\"T_3c962_row6_col0\" class=\"data row6 col0\" >Mexico</td>\n",
       "      <td id=\"T_3c962_row6_col1\" class=\"data row6 col1\" >700580</td>\n",
       "    </tr>\n",
       "    <tr>\n",
       "      <th id=\"T_3c962_level0_row7\" class=\"row_heading level0 row7\" >7</th>\n",
       "      <td id=\"T_3c962_row7_col0\" class=\"data row7 col0\" >Spain</td>\n",
       "      <td id=\"T_3c962_row7_col1\" class=\"data row7 col1\" >671468</td>\n",
       "    </tr>\n",
       "    <tr>\n",
       "      <th id=\"T_3c962_level0_row8\" class=\"row_heading level0 row8\" >8</th>\n",
       "      <td id=\"T_3c962_row8_col0\" class=\"data row8 col0\" >South Africa</td>\n",
       "      <td id=\"T_3c962_row8_col1\" class=\"data row8 col1\" >661936</td>\n",
       "    </tr>\n",
       "    <tr>\n",
       "      <th id=\"T_3c962_level0_row9\" class=\"row_heading level0 row9\" >9</th>\n",
       "      <td id=\"T_3c962_row9_col0\" class=\"data row9 col0\" >Argentina</td>\n",
       "      <td id=\"T_3c962_row9_col1\" class=\"data row9 col1\" >640147</td>\n",
       "    </tr>\n",
       "  </tbody>\n",
       "</table>\n"
      ],
      "text/plain": [
       "<pandas.io.formats.style.Styler at 0x221f9c832d0>"
      ]
     },
     "execution_count": 37,
     "metadata": {},
     "output_type": "execute_result"
    }
   ],
   "source": [
    "Top10CountriesDealth = Display_Top10Country(Top10CountriesConfirmed,'Dealth')\n",
    "Top10CountriesDealth.style.background_gradient(cmap = 'Blues')"
   ]
  },
  {
   "cell_type": "code",
   "execution_count": 38,
   "metadata": {},
   "outputs": [
    {
     "data": {
      "application/vnd.plotly.v1+json": {
       "config": {
        "plotlyServerURL": "https://plot.ly"
       },
       "data": [
        {
         "alignmentgroup": "True",
         "hovertemplate": "Country=%{x}<br>Count=%{y}<extra></extra>",
         "legendgroup": "India",
         "marker": {
          "color": "#636efa",
          "pattern": {
           "shape": ""
          }
         },
         "name": "India",
         "offsetgroup": "India",
         "orientation": "v",
         "showlegend": true,
         "textposition": "auto",
         "type": "bar",
         "x": [
          "India"
         ],
         "xaxis": "x",
         "y": [
          4396399
         ],
         "yaxis": "y"
        },
        {
         "alignmentgroup": "True",
         "hovertemplate": "Country=%{x}<br>Count=%{y}<extra></extra>",
         "legendgroup": "Brazil",
         "marker": {
          "color": "#EF553B",
          "pattern": {
           "shape": ""
          }
         },
         "name": "Brazil",
         "offsetgroup": "Brazil",
         "orientation": "v",
         "showlegend": true,
         "textposition": "auto",
         "type": "bar",
         "x": [
          "Brazil"
         ],
         "xaxis": "x",
         "y": [
          3993432
         ],
         "yaxis": "y"
        },
        {
         "alignmentgroup": "True",
         "hovertemplate": "Country=%{x}<br>Count=%{y}<extra></extra>",
         "legendgroup": "US",
         "marker": {
          "color": "#00cc96",
          "pattern": {
           "shape": ""
          }
         },
         "name": "US",
         "offsetgroup": "US",
         "orientation": "v",
         "showlegend": true,
         "textposition": "auto",
         "type": "bar",
         "x": [
          "US"
         ],
         "xaxis": "x",
         "y": [
          2615949
         ],
         "yaxis": "y"
        },
        {
         "alignmentgroup": "True",
         "hovertemplate": "Country=%{x}<br>Count=%{y}<extra></extra>",
         "legendgroup": "Russia",
         "marker": {
          "color": "#ab63fa",
          "pattern": {
           "shape": ""
          }
         },
         "name": "Russia",
         "offsetgroup": "Russia",
         "orientation": "v",
         "showlegend": true,
         "textposition": "auto",
         "type": "bar",
         "x": [
          "Russia"
         ],
         "xaxis": "x",
         "y": [
          909026
         ],
         "yaxis": "y"
        },
        {
         "alignmentgroup": "True",
         "hovertemplate": "Country=%{x}<br>Count=%{y}<extra></extra>",
         "legendgroup": "Colombia",
         "marker": {
          "color": "#FFA15A",
          "pattern": {
           "shape": ""
          }
         },
         "name": "Colombia",
         "offsetgroup": "Colombia",
         "orientation": "v",
         "showlegend": true,
         "textposition": "auto",
         "type": "bar",
         "x": [
          "Colombia"
         ],
         "xaxis": "x",
         "y": [
          640900
         ],
         "yaxis": "y"
        },
        {
         "alignmentgroup": "True",
         "hovertemplate": "Country=%{x}<br>Count=%{y}<extra></extra>",
         "legendgroup": "Peru",
         "marker": {
          "color": "#19d3f3",
          "pattern": {
           "shape": ""
          }
         },
         "name": "Peru",
         "offsetgroup": "Peru",
         "orientation": "v",
         "showlegend": true,
         "textposition": "auto",
         "type": "bar",
         "x": [
          "Peru"
         ],
         "xaxis": "x",
         "y": [
          607837
         ],
         "yaxis": "y"
        },
        {
         "alignmentgroup": "True",
         "hovertemplate": "Country=%{x}<br>Count=%{y}<extra></extra>",
         "legendgroup": "Mexico",
         "marker": {
          "color": "#FF6692",
          "pattern": {
           "shape": ""
          }
         },
         "name": "Mexico",
         "offsetgroup": "Mexico",
         "orientation": "v",
         "showlegend": true,
         "textposition": "auto",
         "type": "bar",
         "x": [
          "Mexico"
         ],
         "xaxis": "x",
         "y": [
          596317
         ],
         "yaxis": "y"
        },
        {
         "alignmentgroup": "True",
         "hovertemplate": "Country=%{x}<br>Count=%{y}<extra></extra>",
         "legendgroup": "South Africa",
         "marker": {
          "color": "#B6E880",
          "pattern": {
           "shape": ""
          }
         },
         "name": "South Africa",
         "offsetgroup": "South Africa",
         "orientation": "v",
         "showlegend": true,
         "textposition": "auto",
         "type": "bar",
         "x": [
          "South Africa"
         ],
         "xaxis": "x",
         "y": [
          591208
         ],
         "yaxis": "y"
        },
        {
         "alignmentgroup": "True",
         "hovertemplate": "Country=%{x}<br>Count=%{y}<extra></extra>",
         "legendgroup": "Argentina",
         "marker": {
          "color": "#FF97FF",
          "pattern": {
           "shape": ""
          }
         },
         "name": "Argentina",
         "offsetgroup": "Argentina",
         "orientation": "v",
         "showlegend": true,
         "textposition": "auto",
         "type": "bar",
         "x": [
          "Argentina"
         ],
         "xaxis": "x",
         "y": [
          508563
         ],
         "yaxis": "y"
        },
        {
         "alignmentgroup": "True",
         "hovertemplate": "Country=%{x}<br>Count=%{y}<extra></extra>",
         "legendgroup": "Chile",
         "marker": {
          "color": "#FECB52",
          "pattern": {
           "shape": ""
          }
         },
         "name": "Chile",
         "offsetgroup": "Chile",
         "orientation": "v",
         "showlegend": true,
         "textposition": "auto",
         "type": "bar",
         "x": [
          "Chile"
         ],
         "xaxis": "x",
         "y": [
          421111
         ],
         "yaxis": "y"
        }
       ],
       "layout": {
        "barmode": "relative",
        "legend": {
         "title": {
          "text": "Country"
         },
         "tracegroupgap": 0
        },
        "template": {
         "data": {
          "bar": [
           {
            "error_x": {
             "color": "#2a3f5f"
            },
            "error_y": {
             "color": "#2a3f5f"
            },
            "marker": {
             "line": {
              "color": "#E5ECF6",
              "width": 0.5
             },
             "pattern": {
              "fillmode": "overlay",
              "size": 10,
              "solidity": 0.2
             }
            },
            "type": "bar"
           }
          ],
          "barpolar": [
           {
            "marker": {
             "line": {
              "color": "#E5ECF6",
              "width": 0.5
             },
             "pattern": {
              "fillmode": "overlay",
              "size": 10,
              "solidity": 0.2
             }
            },
            "type": "barpolar"
           }
          ],
          "carpet": [
           {
            "aaxis": {
             "endlinecolor": "#2a3f5f",
             "gridcolor": "white",
             "linecolor": "white",
             "minorgridcolor": "white",
             "startlinecolor": "#2a3f5f"
            },
            "baxis": {
             "endlinecolor": "#2a3f5f",
             "gridcolor": "white",
             "linecolor": "white",
             "minorgridcolor": "white",
             "startlinecolor": "#2a3f5f"
            },
            "type": "carpet"
           }
          ],
          "choropleth": [
           {
            "colorbar": {
             "outlinewidth": 0,
             "ticks": ""
            },
            "type": "choropleth"
           }
          ],
          "contour": [
           {
            "colorbar": {
             "outlinewidth": 0,
             "ticks": ""
            },
            "colorscale": [
             [
              0,
              "#0d0887"
             ],
             [
              0.1111111111111111,
              "#46039f"
             ],
             [
              0.2222222222222222,
              "#7201a8"
             ],
             [
              0.3333333333333333,
              "#9c179e"
             ],
             [
              0.4444444444444444,
              "#bd3786"
             ],
             [
              0.5555555555555556,
              "#d8576b"
             ],
             [
              0.6666666666666666,
              "#ed7953"
             ],
             [
              0.7777777777777778,
              "#fb9f3a"
             ],
             [
              0.8888888888888888,
              "#fdca26"
             ],
             [
              1,
              "#f0f921"
             ]
            ],
            "type": "contour"
           }
          ],
          "contourcarpet": [
           {
            "colorbar": {
             "outlinewidth": 0,
             "ticks": ""
            },
            "type": "contourcarpet"
           }
          ],
          "heatmap": [
           {
            "colorbar": {
             "outlinewidth": 0,
             "ticks": ""
            },
            "colorscale": [
             [
              0,
              "#0d0887"
             ],
             [
              0.1111111111111111,
              "#46039f"
             ],
             [
              0.2222222222222222,
              "#7201a8"
             ],
             [
              0.3333333333333333,
              "#9c179e"
             ],
             [
              0.4444444444444444,
              "#bd3786"
             ],
             [
              0.5555555555555556,
              "#d8576b"
             ],
             [
              0.6666666666666666,
              "#ed7953"
             ],
             [
              0.7777777777777778,
              "#fb9f3a"
             ],
             [
              0.8888888888888888,
              "#fdca26"
             ],
             [
              1,
              "#f0f921"
             ]
            ],
            "type": "heatmap"
           }
          ],
          "heatmapgl": [
           {
            "colorbar": {
             "outlinewidth": 0,
             "ticks": ""
            },
            "colorscale": [
             [
              0,
              "#0d0887"
             ],
             [
              0.1111111111111111,
              "#46039f"
             ],
             [
              0.2222222222222222,
              "#7201a8"
             ],
             [
              0.3333333333333333,
              "#9c179e"
             ],
             [
              0.4444444444444444,
              "#bd3786"
             ],
             [
              0.5555555555555556,
              "#d8576b"
             ],
             [
              0.6666666666666666,
              "#ed7953"
             ],
             [
              0.7777777777777778,
              "#fb9f3a"
             ],
             [
              0.8888888888888888,
              "#fdca26"
             ],
             [
              1,
              "#f0f921"
             ]
            ],
            "type": "heatmapgl"
           }
          ],
          "histogram": [
           {
            "marker": {
             "pattern": {
              "fillmode": "overlay",
              "size": 10,
              "solidity": 0.2
             }
            },
            "type": "histogram"
           }
          ],
          "histogram2d": [
           {
            "colorbar": {
             "outlinewidth": 0,
             "ticks": ""
            },
            "colorscale": [
             [
              0,
              "#0d0887"
             ],
             [
              0.1111111111111111,
              "#46039f"
             ],
             [
              0.2222222222222222,
              "#7201a8"
             ],
             [
              0.3333333333333333,
              "#9c179e"
             ],
             [
              0.4444444444444444,
              "#bd3786"
             ],
             [
              0.5555555555555556,
              "#d8576b"
             ],
             [
              0.6666666666666666,
              "#ed7953"
             ],
             [
              0.7777777777777778,
              "#fb9f3a"
             ],
             [
              0.8888888888888888,
              "#fdca26"
             ],
             [
              1,
              "#f0f921"
             ]
            ],
            "type": "histogram2d"
           }
          ],
          "histogram2dcontour": [
           {
            "colorbar": {
             "outlinewidth": 0,
             "ticks": ""
            },
            "colorscale": [
             [
              0,
              "#0d0887"
             ],
             [
              0.1111111111111111,
              "#46039f"
             ],
             [
              0.2222222222222222,
              "#7201a8"
             ],
             [
              0.3333333333333333,
              "#9c179e"
             ],
             [
              0.4444444444444444,
              "#bd3786"
             ],
             [
              0.5555555555555556,
              "#d8576b"
             ],
             [
              0.6666666666666666,
              "#ed7953"
             ],
             [
              0.7777777777777778,
              "#fb9f3a"
             ],
             [
              0.8888888888888888,
              "#fdca26"
             ],
             [
              1,
              "#f0f921"
             ]
            ],
            "type": "histogram2dcontour"
           }
          ],
          "mesh3d": [
           {
            "colorbar": {
             "outlinewidth": 0,
             "ticks": ""
            },
            "type": "mesh3d"
           }
          ],
          "parcoords": [
           {
            "line": {
             "colorbar": {
              "outlinewidth": 0,
              "ticks": ""
             }
            },
            "type": "parcoords"
           }
          ],
          "pie": [
           {
            "automargin": true,
            "type": "pie"
           }
          ],
          "scatter": [
           {
            "fillpattern": {
             "fillmode": "overlay",
             "size": 10,
             "solidity": 0.2
            },
            "type": "scatter"
           }
          ],
          "scatter3d": [
           {
            "line": {
             "colorbar": {
              "outlinewidth": 0,
              "ticks": ""
             }
            },
            "marker": {
             "colorbar": {
              "outlinewidth": 0,
              "ticks": ""
             }
            },
            "type": "scatter3d"
           }
          ],
          "scattercarpet": [
           {
            "marker": {
             "colorbar": {
              "outlinewidth": 0,
              "ticks": ""
             }
            },
            "type": "scattercarpet"
           }
          ],
          "scattergeo": [
           {
            "marker": {
             "colorbar": {
              "outlinewidth": 0,
              "ticks": ""
             }
            },
            "type": "scattergeo"
           }
          ],
          "scattergl": [
           {
            "marker": {
             "colorbar": {
              "outlinewidth": 0,
              "ticks": ""
             }
            },
            "type": "scattergl"
           }
          ],
          "scattermapbox": [
           {
            "marker": {
             "colorbar": {
              "outlinewidth": 0,
              "ticks": ""
             }
            },
            "type": "scattermapbox"
           }
          ],
          "scatterpolar": [
           {
            "marker": {
             "colorbar": {
              "outlinewidth": 0,
              "ticks": ""
             }
            },
            "type": "scatterpolar"
           }
          ],
          "scatterpolargl": [
           {
            "marker": {
             "colorbar": {
              "outlinewidth": 0,
              "ticks": ""
             }
            },
            "type": "scatterpolargl"
           }
          ],
          "scatterternary": [
           {
            "marker": {
             "colorbar": {
              "outlinewidth": 0,
              "ticks": ""
             }
            },
            "type": "scatterternary"
           }
          ],
          "surface": [
           {
            "colorbar": {
             "outlinewidth": 0,
             "ticks": ""
            },
            "colorscale": [
             [
              0,
              "#0d0887"
             ],
             [
              0.1111111111111111,
              "#46039f"
             ],
             [
              0.2222222222222222,
              "#7201a8"
             ],
             [
              0.3333333333333333,
              "#9c179e"
             ],
             [
              0.4444444444444444,
              "#bd3786"
             ],
             [
              0.5555555555555556,
              "#d8576b"
             ],
             [
              0.6666666666666666,
              "#ed7953"
             ],
             [
              0.7777777777777778,
              "#fb9f3a"
             ],
             [
              0.8888888888888888,
              "#fdca26"
             ],
             [
              1,
              "#f0f921"
             ]
            ],
            "type": "surface"
           }
          ],
          "table": [
           {
            "cells": {
             "fill": {
              "color": "#EBF0F8"
             },
             "line": {
              "color": "white"
             }
            },
            "header": {
             "fill": {
              "color": "#C8D4E3"
             },
             "line": {
              "color": "white"
             }
            },
            "type": "table"
           }
          ]
         },
         "layout": {
          "annotationdefaults": {
           "arrowcolor": "#2a3f5f",
           "arrowhead": 0,
           "arrowwidth": 1
          },
          "autotypenumbers": "strict",
          "coloraxis": {
           "colorbar": {
            "outlinewidth": 0,
            "ticks": ""
           }
          },
          "colorscale": {
           "diverging": [
            [
             0,
             "#8e0152"
            ],
            [
             0.1,
             "#c51b7d"
            ],
            [
             0.2,
             "#de77ae"
            ],
            [
             0.3,
             "#f1b6da"
            ],
            [
             0.4,
             "#fde0ef"
            ],
            [
             0.5,
             "#f7f7f7"
            ],
            [
             0.6,
             "#e6f5d0"
            ],
            [
             0.7,
             "#b8e186"
            ],
            [
             0.8,
             "#7fbc41"
            ],
            [
             0.9,
             "#4d9221"
            ],
            [
             1,
             "#276419"
            ]
           ],
           "sequential": [
            [
             0,
             "#0d0887"
            ],
            [
             0.1111111111111111,
             "#46039f"
            ],
            [
             0.2222222222222222,
             "#7201a8"
            ],
            [
             0.3333333333333333,
             "#9c179e"
            ],
            [
             0.4444444444444444,
             "#bd3786"
            ],
            [
             0.5555555555555556,
             "#d8576b"
            ],
            [
             0.6666666666666666,
             "#ed7953"
            ],
            [
             0.7777777777777778,
             "#fb9f3a"
            ],
            [
             0.8888888888888888,
             "#fdca26"
            ],
            [
             1,
             "#f0f921"
            ]
           ],
           "sequentialminus": [
            [
             0,
             "#0d0887"
            ],
            [
             0.1111111111111111,
             "#46039f"
            ],
            [
             0.2222222222222222,
             "#7201a8"
            ],
            [
             0.3333333333333333,
             "#9c179e"
            ],
            [
             0.4444444444444444,
             "#bd3786"
            ],
            [
             0.5555555555555556,
             "#d8576b"
            ],
            [
             0.6666666666666666,
             "#ed7953"
            ],
            [
             0.7777777777777778,
             "#fb9f3a"
            ],
            [
             0.8888888888888888,
             "#fdca26"
            ],
            [
             1,
             "#f0f921"
            ]
           ]
          },
          "colorway": [
           "#636efa",
           "#EF553B",
           "#00cc96",
           "#ab63fa",
           "#FFA15A",
           "#19d3f3",
           "#FF6692",
           "#B6E880",
           "#FF97FF",
           "#FECB52"
          ],
          "font": {
           "color": "#2a3f5f"
          },
          "geo": {
           "bgcolor": "white",
           "lakecolor": "white",
           "landcolor": "#E5ECF6",
           "showlakes": true,
           "showland": true,
           "subunitcolor": "white"
          },
          "hoverlabel": {
           "align": "left"
          },
          "hovermode": "closest",
          "mapbox": {
           "style": "light"
          },
          "paper_bgcolor": "white",
          "plot_bgcolor": "#E5ECF6",
          "polar": {
           "angularaxis": {
            "gridcolor": "white",
            "linecolor": "white",
            "ticks": ""
           },
           "bgcolor": "#E5ECF6",
           "radialaxis": {
            "gridcolor": "white",
            "linecolor": "white",
            "ticks": ""
           }
          },
          "scene": {
           "xaxis": {
            "backgroundcolor": "#E5ECF6",
            "gridcolor": "white",
            "gridwidth": 2,
            "linecolor": "white",
            "showbackground": true,
            "ticks": "",
            "zerolinecolor": "white"
           },
           "yaxis": {
            "backgroundcolor": "#E5ECF6",
            "gridcolor": "white",
            "gridwidth": 2,
            "linecolor": "white",
            "showbackground": true,
            "ticks": "",
            "zerolinecolor": "white"
           },
           "zaxis": {
            "backgroundcolor": "#E5ECF6",
            "gridcolor": "white",
            "gridwidth": 2,
            "linecolor": "white",
            "showbackground": true,
            "ticks": "",
            "zerolinecolor": "white"
           }
          },
          "shapedefaults": {
           "line": {
            "color": "#2a3f5f"
           }
          },
          "ternary": {
           "aaxis": {
            "gridcolor": "white",
            "linecolor": "white",
            "ticks": ""
           },
           "baxis": {
            "gridcolor": "white",
            "linecolor": "white",
            "ticks": ""
           },
           "bgcolor": "#E5ECF6",
           "caxis": {
            "gridcolor": "white",
            "linecolor": "white",
            "ticks": ""
           }
          },
          "title": {
           "x": 0.05
          },
          "xaxis": {
           "automargin": true,
           "gridcolor": "white",
           "linecolor": "white",
           "ticks": "",
           "title": {
            "standoff": 15
           },
           "zerolinecolor": "white",
           "zerolinewidth": 2
          },
          "yaxis": {
           "automargin": true,
           "gridcolor": "white",
           "linecolor": "white",
           "ticks": "",
           "title": {
            "standoff": 15
           },
           "zerolinecolor": "white",
           "zerolinewidth": 2
          }
         }
        },
        "title": {
         "text": "Top 10 Recovered cases till 2020-09-21"
        },
        "xaxis": {
         "anchor": "y",
         "categoryarray": [
          "India",
          "Brazil",
          "US",
          "Russia",
          "Colombia",
          "Peru",
          "Mexico",
          "South Africa",
          "Argentina",
          "Chile"
         ],
         "categoryorder": "array",
         "domain": [
          0,
          1
         ],
         "title": {
          "text": "Country"
         }
        },
        "yaxis": {
         "anchor": "x",
         "domain": [
          0,
          1
         ],
         "title": {
          "text": "Count"
         }
        }
       }
      }
     },
     "metadata": {},
     "output_type": "display_data"
    }
   ],
   "source": [
    "date =max(Totaldata[Totaldata['Status']=='Confirmed'].index)\n",
    "date = date.date()\n",
    "px.bar(Top10CountriesRecovered,x='Country',y='Count',color='Country',title='Top 10 Recovered cases till '+str(date))"
   ]
  },
  {
   "cell_type": "code",
   "execution_count": 39,
   "metadata": {},
   "outputs": [
    {
     "data": {
      "application/vnd.plotly.v1+json": {
       "config": {
        "plotlyServerURL": "https://plot.ly"
       },
       "data": [
        {
         "name": "Recovered",
         "text": [
          4396399,
          3993432,
          2615949,
          909026,
          640900,
          607837,
          596317,
          591208,
          508563,
          421111
         ],
         "textposition": "outside",
         "texttemplate": "%{text:.2s}",
         "type": "bar",
         "x": [
          "India",
          "Brazil",
          "US",
          "Russia",
          "Colombia",
          "Peru",
          "Mexico",
          "South Africa",
          "Argentina",
          "Chile"
         ],
         "xaxis": "x",
         "y": [
          4396399,
          3993432,
          2615949,
          909026,
          640900,
          607837,
          596317,
          591208,
          508563,
          421111
         ],
         "yaxis": "y"
        },
        {
         "name": "Confirmed",
         "text": [
          6856884,
          5487580,
          4558040,
          1105048,
          770435,
          768895,
          700580,
          671468,
          661936,
          640147
         ],
         "textposition": "outside",
         "texttemplate": "%{text:.2s}",
         "type": "bar",
         "x": [
          "US",
          "India",
          "Brazil",
          "Russia",
          "Colombia",
          "Peru",
          "Mexico",
          "Spain",
          "South Africa",
          "Argentina"
         ],
         "xaxis": "x2",
         "y": [
          6856884,
          5487580,
          4558040,
          1105048,
          770435,
          768895,
          700580,
          671468,
          661936,
          640147
         ],
         "yaxis": "y2"
        },
        {
         "name": "Dealth",
         "text": [
          6856884,
          5487580,
          4558040,
          1105048,
          770435,
          768895,
          700580,
          671468,
          661936,
          640147
         ],
         "textposition": "outside",
         "texttemplate": "%{text:.2s}",
         "type": "bar",
         "x": [
          "US",
          "India",
          "Brazil",
          "Russia",
          "Colombia",
          "Peru",
          "Mexico",
          "Spain",
          "South Africa",
          "Argentina"
         ],
         "xaxis": "x3",
         "y": [
          6856884,
          5487580,
          4558040,
          1105048,
          770435,
          768895,
          700580,
          671468,
          661936,
          640147
         ],
         "yaxis": "y3"
        }
       ],
       "layout": {
        "height": 1400,
        "template": {
         "data": {
          "bar": [
           {
            "error_x": {
             "color": "#2a3f5f"
            },
            "error_y": {
             "color": "#2a3f5f"
            },
            "marker": {
             "line": {
              "color": "#E5ECF6",
              "width": 0.5
             },
             "pattern": {
              "fillmode": "overlay",
              "size": 10,
              "solidity": 0.2
             }
            },
            "type": "bar"
           }
          ],
          "barpolar": [
           {
            "marker": {
             "line": {
              "color": "#E5ECF6",
              "width": 0.5
             },
             "pattern": {
              "fillmode": "overlay",
              "size": 10,
              "solidity": 0.2
             }
            },
            "type": "barpolar"
           }
          ],
          "carpet": [
           {
            "aaxis": {
             "endlinecolor": "#2a3f5f",
             "gridcolor": "white",
             "linecolor": "white",
             "minorgridcolor": "white",
             "startlinecolor": "#2a3f5f"
            },
            "baxis": {
             "endlinecolor": "#2a3f5f",
             "gridcolor": "white",
             "linecolor": "white",
             "minorgridcolor": "white",
             "startlinecolor": "#2a3f5f"
            },
            "type": "carpet"
           }
          ],
          "choropleth": [
           {
            "colorbar": {
             "outlinewidth": 0,
             "ticks": ""
            },
            "type": "choropleth"
           }
          ],
          "contour": [
           {
            "colorbar": {
             "outlinewidth": 0,
             "ticks": ""
            },
            "colorscale": [
             [
              0,
              "#0d0887"
             ],
             [
              0.1111111111111111,
              "#46039f"
             ],
             [
              0.2222222222222222,
              "#7201a8"
             ],
             [
              0.3333333333333333,
              "#9c179e"
             ],
             [
              0.4444444444444444,
              "#bd3786"
             ],
             [
              0.5555555555555556,
              "#d8576b"
             ],
             [
              0.6666666666666666,
              "#ed7953"
             ],
             [
              0.7777777777777778,
              "#fb9f3a"
             ],
             [
              0.8888888888888888,
              "#fdca26"
             ],
             [
              1,
              "#f0f921"
             ]
            ],
            "type": "contour"
           }
          ],
          "contourcarpet": [
           {
            "colorbar": {
             "outlinewidth": 0,
             "ticks": ""
            },
            "type": "contourcarpet"
           }
          ],
          "heatmap": [
           {
            "colorbar": {
             "outlinewidth": 0,
             "ticks": ""
            },
            "colorscale": [
             [
              0,
              "#0d0887"
             ],
             [
              0.1111111111111111,
              "#46039f"
             ],
             [
              0.2222222222222222,
              "#7201a8"
             ],
             [
              0.3333333333333333,
              "#9c179e"
             ],
             [
              0.4444444444444444,
              "#bd3786"
             ],
             [
              0.5555555555555556,
              "#d8576b"
             ],
             [
              0.6666666666666666,
              "#ed7953"
             ],
             [
              0.7777777777777778,
              "#fb9f3a"
             ],
             [
              0.8888888888888888,
              "#fdca26"
             ],
             [
              1,
              "#f0f921"
             ]
            ],
            "type": "heatmap"
           }
          ],
          "heatmapgl": [
           {
            "colorbar": {
             "outlinewidth": 0,
             "ticks": ""
            },
            "colorscale": [
             [
              0,
              "#0d0887"
             ],
             [
              0.1111111111111111,
              "#46039f"
             ],
             [
              0.2222222222222222,
              "#7201a8"
             ],
             [
              0.3333333333333333,
              "#9c179e"
             ],
             [
              0.4444444444444444,
              "#bd3786"
             ],
             [
              0.5555555555555556,
              "#d8576b"
             ],
             [
              0.6666666666666666,
              "#ed7953"
             ],
             [
              0.7777777777777778,
              "#fb9f3a"
             ],
             [
              0.8888888888888888,
              "#fdca26"
             ],
             [
              1,
              "#f0f921"
             ]
            ],
            "type": "heatmapgl"
           }
          ],
          "histogram": [
           {
            "marker": {
             "pattern": {
              "fillmode": "overlay",
              "size": 10,
              "solidity": 0.2
             }
            },
            "type": "histogram"
           }
          ],
          "histogram2d": [
           {
            "colorbar": {
             "outlinewidth": 0,
             "ticks": ""
            },
            "colorscale": [
             [
              0,
              "#0d0887"
             ],
             [
              0.1111111111111111,
              "#46039f"
             ],
             [
              0.2222222222222222,
              "#7201a8"
             ],
             [
              0.3333333333333333,
              "#9c179e"
             ],
             [
              0.4444444444444444,
              "#bd3786"
             ],
             [
              0.5555555555555556,
              "#d8576b"
             ],
             [
              0.6666666666666666,
              "#ed7953"
             ],
             [
              0.7777777777777778,
              "#fb9f3a"
             ],
             [
              0.8888888888888888,
              "#fdca26"
             ],
             [
              1,
              "#f0f921"
             ]
            ],
            "type": "histogram2d"
           }
          ],
          "histogram2dcontour": [
           {
            "colorbar": {
             "outlinewidth": 0,
             "ticks": ""
            },
            "colorscale": [
             [
              0,
              "#0d0887"
             ],
             [
              0.1111111111111111,
              "#46039f"
             ],
             [
              0.2222222222222222,
              "#7201a8"
             ],
             [
              0.3333333333333333,
              "#9c179e"
             ],
             [
              0.4444444444444444,
              "#bd3786"
             ],
             [
              0.5555555555555556,
              "#d8576b"
             ],
             [
              0.6666666666666666,
              "#ed7953"
             ],
             [
              0.7777777777777778,
              "#fb9f3a"
             ],
             [
              0.8888888888888888,
              "#fdca26"
             ],
             [
              1,
              "#f0f921"
             ]
            ],
            "type": "histogram2dcontour"
           }
          ],
          "mesh3d": [
           {
            "colorbar": {
             "outlinewidth": 0,
             "ticks": ""
            },
            "type": "mesh3d"
           }
          ],
          "parcoords": [
           {
            "line": {
             "colorbar": {
              "outlinewidth": 0,
              "ticks": ""
             }
            },
            "type": "parcoords"
           }
          ],
          "pie": [
           {
            "automargin": true,
            "type": "pie"
           }
          ],
          "scatter": [
           {
            "fillpattern": {
             "fillmode": "overlay",
             "size": 10,
             "solidity": 0.2
            },
            "type": "scatter"
           }
          ],
          "scatter3d": [
           {
            "line": {
             "colorbar": {
              "outlinewidth": 0,
              "ticks": ""
             }
            },
            "marker": {
             "colorbar": {
              "outlinewidth": 0,
              "ticks": ""
             }
            },
            "type": "scatter3d"
           }
          ],
          "scattercarpet": [
           {
            "marker": {
             "colorbar": {
              "outlinewidth": 0,
              "ticks": ""
             }
            },
            "type": "scattercarpet"
           }
          ],
          "scattergeo": [
           {
            "marker": {
             "colorbar": {
              "outlinewidth": 0,
              "ticks": ""
             }
            },
            "type": "scattergeo"
           }
          ],
          "scattergl": [
           {
            "marker": {
             "colorbar": {
              "outlinewidth": 0,
              "ticks": ""
             }
            },
            "type": "scattergl"
           }
          ],
          "scattermapbox": [
           {
            "marker": {
             "colorbar": {
              "outlinewidth": 0,
              "ticks": ""
             }
            },
            "type": "scattermapbox"
           }
          ],
          "scatterpolar": [
           {
            "marker": {
             "colorbar": {
              "outlinewidth": 0,
              "ticks": ""
             }
            },
            "type": "scatterpolar"
           }
          ],
          "scatterpolargl": [
           {
            "marker": {
             "colorbar": {
              "outlinewidth": 0,
              "ticks": ""
             }
            },
            "type": "scatterpolargl"
           }
          ],
          "scatterternary": [
           {
            "marker": {
             "colorbar": {
              "outlinewidth": 0,
              "ticks": ""
             }
            },
            "type": "scatterternary"
           }
          ],
          "surface": [
           {
            "colorbar": {
             "outlinewidth": 0,
             "ticks": ""
            },
            "colorscale": [
             [
              0,
              "#0d0887"
             ],
             [
              0.1111111111111111,
              "#46039f"
             ],
             [
              0.2222222222222222,
              "#7201a8"
             ],
             [
              0.3333333333333333,
              "#9c179e"
             ],
             [
              0.4444444444444444,
              "#bd3786"
             ],
             [
              0.5555555555555556,
              "#d8576b"
             ],
             [
              0.6666666666666666,
              "#ed7953"
             ],
             [
              0.7777777777777778,
              "#fb9f3a"
             ],
             [
              0.8888888888888888,
              "#fdca26"
             ],
             [
              1,
              "#f0f921"
             ]
            ],
            "type": "surface"
           }
          ],
          "table": [
           {
            "cells": {
             "fill": {
              "color": "#EBF0F8"
             },
             "line": {
              "color": "white"
             }
            },
            "header": {
             "fill": {
              "color": "#C8D4E3"
             },
             "line": {
              "color": "white"
             }
            },
            "type": "table"
           }
          ]
         },
         "layout": {
          "annotationdefaults": {
           "arrowcolor": "#2a3f5f",
           "arrowhead": 0,
           "arrowwidth": 1
          },
          "autotypenumbers": "strict",
          "coloraxis": {
           "colorbar": {
            "outlinewidth": 0,
            "ticks": ""
           }
          },
          "colorscale": {
           "diverging": [
            [
             0,
             "#8e0152"
            ],
            [
             0.1,
             "#c51b7d"
            ],
            [
             0.2,
             "#de77ae"
            ],
            [
             0.3,
             "#f1b6da"
            ],
            [
             0.4,
             "#fde0ef"
            ],
            [
             0.5,
             "#f7f7f7"
            ],
            [
             0.6,
             "#e6f5d0"
            ],
            [
             0.7,
             "#b8e186"
            ],
            [
             0.8,
             "#7fbc41"
            ],
            [
             0.9,
             "#4d9221"
            ],
            [
             1,
             "#276419"
            ]
           ],
           "sequential": [
            [
             0,
             "#0d0887"
            ],
            [
             0.1111111111111111,
             "#46039f"
            ],
            [
             0.2222222222222222,
             "#7201a8"
            ],
            [
             0.3333333333333333,
             "#9c179e"
            ],
            [
             0.4444444444444444,
             "#bd3786"
            ],
            [
             0.5555555555555556,
             "#d8576b"
            ],
            [
             0.6666666666666666,
             "#ed7953"
            ],
            [
             0.7777777777777778,
             "#fb9f3a"
            ],
            [
             0.8888888888888888,
             "#fdca26"
            ],
            [
             1,
             "#f0f921"
            ]
           ],
           "sequentialminus": [
            [
             0,
             "#0d0887"
            ],
            [
             0.1111111111111111,
             "#46039f"
            ],
            [
             0.2222222222222222,
             "#7201a8"
            ],
            [
             0.3333333333333333,
             "#9c179e"
            ],
            [
             0.4444444444444444,
             "#bd3786"
            ],
            [
             0.5555555555555556,
             "#d8576b"
            ],
            [
             0.6666666666666666,
             "#ed7953"
            ],
            [
             0.7777777777777778,
             "#fb9f3a"
            ],
            [
             0.8888888888888888,
             "#fdca26"
            ],
            [
             1,
             "#f0f921"
            ]
           ]
          },
          "colorway": [
           "#636efa",
           "#EF553B",
           "#00cc96",
           "#ab63fa",
           "#FFA15A",
           "#19d3f3",
           "#FF6692",
           "#B6E880",
           "#FF97FF",
           "#FECB52"
          ],
          "font": {
           "color": "#2a3f5f"
          },
          "geo": {
           "bgcolor": "white",
           "lakecolor": "white",
           "landcolor": "#E5ECF6",
           "showlakes": true,
           "showland": true,
           "subunitcolor": "white"
          },
          "hoverlabel": {
           "align": "left"
          },
          "hovermode": "closest",
          "mapbox": {
           "style": "light"
          },
          "paper_bgcolor": "white",
          "plot_bgcolor": "#E5ECF6",
          "polar": {
           "angularaxis": {
            "gridcolor": "white",
            "linecolor": "white",
            "ticks": ""
           },
           "bgcolor": "#E5ECF6",
           "radialaxis": {
            "gridcolor": "white",
            "linecolor": "white",
            "ticks": ""
           }
          },
          "scene": {
           "xaxis": {
            "backgroundcolor": "#E5ECF6",
            "gridcolor": "white",
            "gridwidth": 2,
            "linecolor": "white",
            "showbackground": true,
            "ticks": "",
            "zerolinecolor": "white"
           },
           "yaxis": {
            "backgroundcolor": "#E5ECF6",
            "gridcolor": "white",
            "gridwidth": 2,
            "linecolor": "white",
            "showbackground": true,
            "ticks": "",
            "zerolinecolor": "white"
           },
           "zaxis": {
            "backgroundcolor": "#E5ECF6",
            "gridcolor": "white",
            "gridwidth": 2,
            "linecolor": "white",
            "showbackground": true,
            "ticks": "",
            "zerolinecolor": "white"
           }
          },
          "shapedefaults": {
           "line": {
            "color": "#2a3f5f"
           }
          },
          "ternary": {
           "aaxis": {
            "gridcolor": "white",
            "linecolor": "white",
            "ticks": ""
           },
           "baxis": {
            "gridcolor": "white",
            "linecolor": "white",
            "ticks": ""
           },
           "bgcolor": "#E5ECF6",
           "caxis": {
            "gridcolor": "white",
            "linecolor": "white",
            "ticks": ""
           }
          },
          "title": {
           "x": 0.05
          },
          "xaxis": {
           "automargin": true,
           "gridcolor": "white",
           "linecolor": "white",
           "ticks": "",
           "title": {
            "standoff": 15
           },
           "zerolinecolor": "white",
           "zerolinewidth": 2
          },
          "yaxis": {
           "automargin": true,
           "gridcolor": "white",
           "linecolor": "white",
           "ticks": "",
           "title": {
            "standoff": 15
           },
           "zerolinecolor": "white",
           "zerolinewidth": 2
          }
         }
        },
        "title": {
         "text": "Top 10 Countries as of 2020-09-21"
        },
        "width": 800,
        "xaxis": {
         "anchor": "y",
         "domain": [
          0,
          1
         ]
        },
        "xaxis2": {
         "anchor": "y2",
         "domain": [
          0,
          1
         ]
        },
        "xaxis3": {
         "anchor": "y3",
         "domain": [
          0,
          1
         ]
        },
        "yaxis": {
         "anchor": "x",
         "domain": [
          0.7333333333333333,
          1
         ]
        },
        "yaxis2": {
         "anchor": "x2",
         "domain": [
          0.36666666666666664,
          0.6333333333333333
         ]
        },
        "yaxis3": {
         "anchor": "x3",
         "domain": [
          0,
          0.26666666666666666
         ]
        }
       }
      }
     },
     "metadata": {},
     "output_type": "display_data"
    }
   ],
   "source": [
    "from plotly.subplots import make_subplots\n",
    "import plotly.graph_objects as go\n",
    "\n",
    "fig = make_subplots(rows=3, cols=1)\n",
    "\n",
    "fig.add_trace(\n",
    "    go.Bar(x=Top10CountriesRecovered['Country'],y=Top10CountriesRecovered['Count'],text = Top10CountriesRecovered['Count'],name ='Recovered'),\n",
    "    row=1, col=1\n",
    ")\n",
    "\n",
    "\n",
    "fig.add_trace(\n",
    "    go.Bar(x=Top10CountriesConfirmed['Country'],y=Top10CountriesConfirmed['Count'],text = Top10CountriesConfirmed['Count'],name ='Confirmed'),\n",
    "    row=2, col=1\n",
    ")\n",
    "\n",
    "fig.add_trace(   \n",
    "    go.Bar(x=Top10CountriesDealth['Country'],y=Top10CountriesDealth['Count'],text = Top10CountriesDealth['Count'],name ='Dealth'),\n",
    "    row=3, col=1\n",
    ")\n",
    "\n",
    "\n",
    "fig.update_layout(height=1400, width=800, title_text=\"Top 10 Countries as of \"+str(date))\n",
    "fig.update_traces(texttemplate='%{text:.2s}', textposition='outside')\n",
    "fig.show()"
   ]
  },
  {
   "cell_type": "code",
   "execution_count": 40,
   "metadata": {},
   "outputs": [
    {
     "data": {
      "text/html": [
       "<div>\n",
       "<style scoped>\n",
       "    .dataframe tbody tr th:only-of-type {\n",
       "        vertical-align: middle;\n",
       "    }\n",
       "\n",
       "    .dataframe tbody tr th {\n",
       "        vertical-align: top;\n",
       "    }\n",
       "\n",
       "    .dataframe thead th {\n",
       "        text-align: right;\n",
       "    }\n",
       "</style>\n",
       "<table border=\"1\" class=\"dataframe\">\n",
       "  <thead>\n",
       "    <tr style=\"text-align: right;\">\n",
       "      <th></th>\n",
       "      <th>Province</th>\n",
       "      <th>Country</th>\n",
       "      <th>Lat</th>\n",
       "      <th>Long</th>\n",
       "      <th>Status</th>\n",
       "      <th>Count</th>\n",
       "    </tr>\n",
       "    <tr>\n",
       "      <th>Date</th>\n",
       "      <th></th>\n",
       "      <th></th>\n",
       "      <th></th>\n",
       "      <th></th>\n",
       "      <th></th>\n",
       "      <th></th>\n",
       "    </tr>\n",
       "  </thead>\n",
       "  <tbody>\n",
       "    <tr>\n",
       "      <th>2020-01-22</th>\n",
       "      <td>NaN</td>\n",
       "      <td>Afghanistan</td>\n",
       "      <td>33.939110</td>\n",
       "      <td>67.709953</td>\n",
       "      <td>Confirmed</td>\n",
       "      <td>0</td>\n",
       "    </tr>\n",
       "    <tr>\n",
       "      <th>2020-01-22</th>\n",
       "      <td>NaN</td>\n",
       "      <td>Albania</td>\n",
       "      <td>41.153300</td>\n",
       "      <td>20.168300</td>\n",
       "      <td>Confirmed</td>\n",
       "      <td>0</td>\n",
       "    </tr>\n",
       "    <tr>\n",
       "      <th>2020-01-22</th>\n",
       "      <td>NaN</td>\n",
       "      <td>Algeria</td>\n",
       "      <td>28.033900</td>\n",
       "      <td>1.659600</td>\n",
       "      <td>Confirmed</td>\n",
       "      <td>0</td>\n",
       "    </tr>\n",
       "    <tr>\n",
       "      <th>2020-01-22</th>\n",
       "      <td>NaN</td>\n",
       "      <td>Andorra</td>\n",
       "      <td>42.506300</td>\n",
       "      <td>1.521800</td>\n",
       "      <td>Confirmed</td>\n",
       "      <td>0</td>\n",
       "    </tr>\n",
       "    <tr>\n",
       "      <th>2020-01-22</th>\n",
       "      <td>NaN</td>\n",
       "      <td>Angola</td>\n",
       "      <td>-11.202700</td>\n",
       "      <td>17.873900</td>\n",
       "      <td>Confirmed</td>\n",
       "      <td>0</td>\n",
       "    </tr>\n",
       "    <tr>\n",
       "      <th>...</th>\n",
       "      <td>...</td>\n",
       "      <td>...</td>\n",
       "      <td>...</td>\n",
       "      <td>...</td>\n",
       "      <td>...</td>\n",
       "      <td>...</td>\n",
       "    </tr>\n",
       "    <tr>\n",
       "      <th>2020-09-21</th>\n",
       "      <td>NaN</td>\n",
       "      <td>West Bank and Gaza</td>\n",
       "      <td>31.952200</td>\n",
       "      <td>35.233200</td>\n",
       "      <td>Recovered</td>\n",
       "      <td>24428</td>\n",
       "    </tr>\n",
       "    <tr>\n",
       "      <th>2020-09-21</th>\n",
       "      <td>NaN</td>\n",
       "      <td>Western Sahara</td>\n",
       "      <td>24.215500</td>\n",
       "      <td>-12.885800</td>\n",
       "      <td>Recovered</td>\n",
       "      <td>8</td>\n",
       "    </tr>\n",
       "    <tr>\n",
       "      <th>2020-09-21</th>\n",
       "      <td>NaN</td>\n",
       "      <td>Yemen</td>\n",
       "      <td>15.552727</td>\n",
       "      <td>48.516388</td>\n",
       "      <td>Recovered</td>\n",
       "      <td>1235</td>\n",
       "    </tr>\n",
       "    <tr>\n",
       "      <th>2020-09-21</th>\n",
       "      <td>NaN</td>\n",
       "      <td>Zambia</td>\n",
       "      <td>-13.133897</td>\n",
       "      <td>27.849332</td>\n",
       "      <td>Recovered</td>\n",
       "      <td>13629</td>\n",
       "    </tr>\n",
       "    <tr>\n",
       "      <th>2020-09-21</th>\n",
       "      <td>NaN</td>\n",
       "      <td>Zimbabwe</td>\n",
       "      <td>-19.015438</td>\n",
       "      <td>29.154857</td>\n",
       "      <td>Recovered</td>\n",
       "      <td>5924</td>\n",
       "    </tr>\n",
       "  </tbody>\n",
       "</table>\n",
       "<p>191540 rows × 6 columns</p>\n",
       "</div>"
      ],
      "text/plain": [
       "           Province             Country        Lat       Long     Status  \\\n",
       "Date                                                                       \n",
       "2020-01-22      NaN         Afghanistan  33.939110  67.709953  Confirmed   \n",
       "2020-01-22      NaN             Albania  41.153300  20.168300  Confirmed   \n",
       "2020-01-22      NaN             Algeria  28.033900   1.659600  Confirmed   \n",
       "2020-01-22      NaN             Andorra  42.506300   1.521800  Confirmed   \n",
       "2020-01-22      NaN              Angola -11.202700  17.873900  Confirmed   \n",
       "...             ...                 ...        ...        ...        ...   \n",
       "2020-09-21      NaN  West Bank and Gaza  31.952200  35.233200  Recovered   \n",
       "2020-09-21      NaN      Western Sahara  24.215500 -12.885800  Recovered   \n",
       "2020-09-21      NaN               Yemen  15.552727  48.516388  Recovered   \n",
       "2020-09-21      NaN              Zambia -13.133897  27.849332  Recovered   \n",
       "2020-09-21      NaN            Zimbabwe -19.015438  29.154857  Recovered   \n",
       "\n",
       "            Count  \n",
       "Date               \n",
       "2020-01-22      0  \n",
       "2020-01-22      0  \n",
       "2020-01-22      0  \n",
       "2020-01-22      0  \n",
       "2020-01-22      0  \n",
       "...           ...  \n",
       "2020-09-21  24428  \n",
       "2020-09-21      8  \n",
       "2020-09-21   1235  \n",
       "2020-09-21  13629  \n",
       "2020-09-21   5924  \n",
       "\n",
       "[191540 rows x 6 columns]"
      ]
     },
     "execution_count": 40,
     "metadata": {},
     "output_type": "execute_result"
    }
   ],
   "source": [
    "Totaldata"
   ]
  },
  {
   "cell_type": "markdown",
   "metadata": {},
   "source": [
    "converted province NAN value to N/A"
   ]
  },
  {
   "cell_type": "code",
   "execution_count": 41,
   "metadata": {},
   "outputs": [],
   "source": [
    "Totaldata['Province'] = Totaldata['Province'].fillna('N/A')"
   ]
  },
  {
   "cell_type": "code",
   "execution_count": 42,
   "metadata": {},
   "outputs": [
    {
     "data": {
      "text/html": [
       "<div>\n",
       "<style scoped>\n",
       "    .dataframe tbody tr th:only-of-type {\n",
       "        vertical-align: middle;\n",
       "    }\n",
       "\n",
       "    .dataframe tbody tr th {\n",
       "        vertical-align: top;\n",
       "    }\n",
       "\n",
       "    .dataframe thead th {\n",
       "        text-align: right;\n",
       "    }\n",
       "</style>\n",
       "<table border=\"1\" class=\"dataframe\">\n",
       "  <thead>\n",
       "    <tr style=\"text-align: right;\">\n",
       "      <th></th>\n",
       "      <th>Province</th>\n",
       "      <th>Country</th>\n",
       "      <th>Lat</th>\n",
       "      <th>Long</th>\n",
       "      <th>Status</th>\n",
       "      <th>Count</th>\n",
       "    </tr>\n",
       "    <tr>\n",
       "      <th>Date</th>\n",
       "      <th></th>\n",
       "      <th></th>\n",
       "      <th></th>\n",
       "      <th></th>\n",
       "      <th></th>\n",
       "      <th></th>\n",
       "    </tr>\n",
       "  </thead>\n",
       "  <tbody>\n",
       "    <tr>\n",
       "      <th>2020-01-22</th>\n",
       "      <td>N/A</td>\n",
       "      <td>Afghanistan</td>\n",
       "      <td>33.939110</td>\n",
       "      <td>67.709953</td>\n",
       "      <td>Confirmed</td>\n",
       "      <td>0</td>\n",
       "    </tr>\n",
       "    <tr>\n",
       "      <th>2020-01-22</th>\n",
       "      <td>N/A</td>\n",
       "      <td>Albania</td>\n",
       "      <td>41.153300</td>\n",
       "      <td>20.168300</td>\n",
       "      <td>Confirmed</td>\n",
       "      <td>0</td>\n",
       "    </tr>\n",
       "    <tr>\n",
       "      <th>2020-01-22</th>\n",
       "      <td>N/A</td>\n",
       "      <td>Algeria</td>\n",
       "      <td>28.033900</td>\n",
       "      <td>1.659600</td>\n",
       "      <td>Confirmed</td>\n",
       "      <td>0</td>\n",
       "    </tr>\n",
       "    <tr>\n",
       "      <th>2020-01-22</th>\n",
       "      <td>N/A</td>\n",
       "      <td>Andorra</td>\n",
       "      <td>42.506300</td>\n",
       "      <td>1.521800</td>\n",
       "      <td>Confirmed</td>\n",
       "      <td>0</td>\n",
       "    </tr>\n",
       "    <tr>\n",
       "      <th>2020-01-22</th>\n",
       "      <td>N/A</td>\n",
       "      <td>Angola</td>\n",
       "      <td>-11.202700</td>\n",
       "      <td>17.873900</td>\n",
       "      <td>Confirmed</td>\n",
       "      <td>0</td>\n",
       "    </tr>\n",
       "    <tr>\n",
       "      <th>...</th>\n",
       "      <td>...</td>\n",
       "      <td>...</td>\n",
       "      <td>...</td>\n",
       "      <td>...</td>\n",
       "      <td>...</td>\n",
       "      <td>...</td>\n",
       "    </tr>\n",
       "    <tr>\n",
       "      <th>2020-09-21</th>\n",
       "      <td>N/A</td>\n",
       "      <td>West Bank and Gaza</td>\n",
       "      <td>31.952200</td>\n",
       "      <td>35.233200</td>\n",
       "      <td>Recovered</td>\n",
       "      <td>24428</td>\n",
       "    </tr>\n",
       "    <tr>\n",
       "      <th>2020-09-21</th>\n",
       "      <td>N/A</td>\n",
       "      <td>Western Sahara</td>\n",
       "      <td>24.215500</td>\n",
       "      <td>-12.885800</td>\n",
       "      <td>Recovered</td>\n",
       "      <td>8</td>\n",
       "    </tr>\n",
       "    <tr>\n",
       "      <th>2020-09-21</th>\n",
       "      <td>N/A</td>\n",
       "      <td>Yemen</td>\n",
       "      <td>15.552727</td>\n",
       "      <td>48.516388</td>\n",
       "      <td>Recovered</td>\n",
       "      <td>1235</td>\n",
       "    </tr>\n",
       "    <tr>\n",
       "      <th>2020-09-21</th>\n",
       "      <td>N/A</td>\n",
       "      <td>Zambia</td>\n",
       "      <td>-13.133897</td>\n",
       "      <td>27.849332</td>\n",
       "      <td>Recovered</td>\n",
       "      <td>13629</td>\n",
       "    </tr>\n",
       "    <tr>\n",
       "      <th>2020-09-21</th>\n",
       "      <td>N/A</td>\n",
       "      <td>Zimbabwe</td>\n",
       "      <td>-19.015438</td>\n",
       "      <td>29.154857</td>\n",
       "      <td>Recovered</td>\n",
       "      <td>5924</td>\n",
       "    </tr>\n",
       "  </tbody>\n",
       "</table>\n",
       "<p>191540 rows × 6 columns</p>\n",
       "</div>"
      ],
      "text/plain": [
       "           Province             Country        Lat       Long     Status  \\\n",
       "Date                                                                       \n",
       "2020-01-22      N/A         Afghanistan  33.939110  67.709953  Confirmed   \n",
       "2020-01-22      N/A             Albania  41.153300  20.168300  Confirmed   \n",
       "2020-01-22      N/A             Algeria  28.033900   1.659600  Confirmed   \n",
       "2020-01-22      N/A             Andorra  42.506300   1.521800  Confirmed   \n",
       "2020-01-22      N/A              Angola -11.202700  17.873900  Confirmed   \n",
       "...             ...                 ...        ...        ...        ...   \n",
       "2020-09-21      N/A  West Bank and Gaza  31.952200  35.233200  Recovered   \n",
       "2020-09-21      N/A      Western Sahara  24.215500 -12.885800  Recovered   \n",
       "2020-09-21      N/A               Yemen  15.552727  48.516388  Recovered   \n",
       "2020-09-21      N/A              Zambia -13.133897  27.849332  Recovered   \n",
       "2020-09-21      N/A            Zimbabwe -19.015438  29.154857  Recovered   \n",
       "\n",
       "            Count  \n",
       "Date               \n",
       "2020-01-22      0  \n",
       "2020-01-22      0  \n",
       "2020-01-22      0  \n",
       "2020-01-22      0  \n",
       "2020-01-22      0  \n",
       "...           ...  \n",
       "2020-09-21  24428  \n",
       "2020-09-21      8  \n",
       "2020-09-21   1235  \n",
       "2020-09-21  13629  \n",
       "2020-09-21   5924  \n",
       "\n",
       "[191540 rows x 6 columns]"
      ]
     },
     "execution_count": 42,
     "metadata": {},
     "output_type": "execute_result"
    }
   ],
   "source": [
    "Totaldata"
   ]
  },
  {
   "cell_type": "code",
   "execution_count": 43,
   "metadata": {},
   "outputs": [
    {
     "name": "stdout",
     "output_type": "stream",
     "text": [
      "<class 'pandas.core.frame.DataFrame'>\n",
      "DatetimeIndex: 191540 entries, 2020-01-22 to 2020-09-21\n",
      "Data columns (total 6 columns):\n",
      " #   Column    Non-Null Count   Dtype  \n",
      "---  ------    --------------   -----  \n",
      " 0   Province  191540 non-null  object \n",
      " 1   Country   191540 non-null  object \n",
      " 2   Lat       191540 non-null  float64\n",
      " 3   Long      191540 non-null  float64\n",
      " 4   Status    191540 non-null  object \n",
      " 5   Count     191540 non-null  int64  \n",
      "dtypes: float64(2), int64(1), object(3)\n",
      "memory usage: 10.2+ MB\n"
     ]
    }
   ],
   "source": [
    "Totaldata.info()"
   ]
  },
  {
   "cell_type": "code",
   "execution_count": 44,
   "metadata": {},
   "outputs": [
    {
     "data": {
      "text/html": [
       "<div>\n",
       "<style scoped>\n",
       "    .dataframe tbody tr th:only-of-type {\n",
       "        vertical-align: middle;\n",
       "    }\n",
       "\n",
       "    .dataframe tbody tr th {\n",
       "        vertical-align: top;\n",
       "    }\n",
       "\n",
       "    .dataframe thead th {\n",
       "        text-align: right;\n",
       "    }\n",
       "</style>\n",
       "<table border=\"1\" class=\"dataframe\">\n",
       "  <thead>\n",
       "    <tr style=\"text-align: right;\">\n",
       "      <th></th>\n",
       "      <th>Province</th>\n",
       "      <th>Country</th>\n",
       "      <th>Lat</th>\n",
       "      <th>Long</th>\n",
       "      <th>Status</th>\n",
       "      <th>Count</th>\n",
       "    </tr>\n",
       "    <tr>\n",
       "      <th>Date</th>\n",
       "      <th></th>\n",
       "      <th></th>\n",
       "      <th></th>\n",
       "      <th></th>\n",
       "      <th></th>\n",
       "      <th></th>\n",
       "    </tr>\n",
       "  </thead>\n",
       "  <tbody>\n",
       "    <tr>\n",
       "      <th>2020-01-22</th>\n",
       "      <td>N/A</td>\n",
       "      <td>Afghanistan</td>\n",
       "      <td>33.93911</td>\n",
       "      <td>67.709953</td>\n",
       "      <td>Confirmed</td>\n",
       "      <td>0</td>\n",
       "    </tr>\n",
       "    <tr>\n",
       "      <th>2020-01-22</th>\n",
       "      <td>N/A</td>\n",
       "      <td>Albania</td>\n",
       "      <td>41.15330</td>\n",
       "      <td>20.168300</td>\n",
       "      <td>Confirmed</td>\n",
       "      <td>0</td>\n",
       "    </tr>\n",
       "    <tr>\n",
       "      <th>2020-01-22</th>\n",
       "      <td>N/A</td>\n",
       "      <td>Algeria</td>\n",
       "      <td>28.03390</td>\n",
       "      <td>1.659600</td>\n",
       "      <td>Confirmed</td>\n",
       "      <td>0</td>\n",
       "    </tr>\n",
       "    <tr>\n",
       "      <th>2020-01-22</th>\n",
       "      <td>N/A</td>\n",
       "      <td>Andorra</td>\n",
       "      <td>42.50630</td>\n",
       "      <td>1.521800</td>\n",
       "      <td>Confirmed</td>\n",
       "      <td>0</td>\n",
       "    </tr>\n",
       "    <tr>\n",
       "      <th>2020-01-22</th>\n",
       "      <td>N/A</td>\n",
       "      <td>Angola</td>\n",
       "      <td>-11.20270</td>\n",
       "      <td>17.873900</td>\n",
       "      <td>Confirmed</td>\n",
       "      <td>0</td>\n",
       "    </tr>\n",
       "  </tbody>\n",
       "</table>\n",
       "</div>"
      ],
      "text/plain": [
       "           Province      Country       Lat       Long     Status  Count\n",
       "Date                                                                   \n",
       "2020-01-22      N/A  Afghanistan  33.93911  67.709953  Confirmed      0\n",
       "2020-01-22      N/A      Albania  41.15330  20.168300  Confirmed      0\n",
       "2020-01-22      N/A      Algeria  28.03390   1.659600  Confirmed      0\n",
       "2020-01-22      N/A      Andorra  42.50630   1.521800  Confirmed      0\n",
       "2020-01-22      N/A       Angola -11.20270  17.873900  Confirmed      0"
      ]
     },
     "execution_count": 44,
     "metadata": {},
     "output_type": "execute_result"
    }
   ],
   "source": [
    "Totaldata.head()"
   ]
  },
  {
   "cell_type": "code",
   "execution_count": 57,
   "metadata": {},
   "outputs": [
    {
     "data": {
      "text/plain": [
       "<bound method IndexOpsMixin.value_counts of Date\n",
       "2020-01-22    N/A\n",
       "2020-01-22    N/A\n",
       "2020-01-22    N/A\n",
       "2020-01-22    N/A\n",
       "2020-01-22    N/A\n",
       "             ... \n",
       "2020-09-21    N/A\n",
       "2020-09-21    N/A\n",
       "2020-09-21    N/A\n",
       "2020-09-21    N/A\n",
       "2020-09-21    N/A\n",
       "Name: Province, Length: 191540, dtype: object>"
      ]
     },
     "execution_count": 57,
     "metadata": {},
     "output_type": "execute_result"
    }
   ],
   "source": [
    "Totaldata[\"Province\"].value_counts"
   ]
  },
  {
   "cell_type": "code",
   "execution_count": 59,
   "metadata": {},
   "outputs": [
    {
     "data": {
      "text/plain": [
       "Country\n",
       "China             24156\n",
       "United Kingdom     8052\n",
       "France             8052\n",
       "Canada             7076\n",
       "Australia          5856\n",
       "                  ...  \n",
       "Greece              732\n",
       "Grenada             732\n",
       "Guatemala           732\n",
       "Guinea              732\n",
       "Zimbabwe            732\n",
       "Name: count, Length: 188, dtype: int64"
      ]
     },
     "execution_count": 59,
     "metadata": {},
     "output_type": "execute_result"
    }
   ],
   "source": [
    "Totaldata[\"Country\"].value_counts()"
   ]
  },
  {
   "cell_type": "markdown",
   "metadata": {},
   "source": [
    "Convert all columns to row"
   ]
  },
  {
   "cell_type": "code",
   "execution_count": 45,
   "metadata": {},
   "outputs": [],
   "source": [
    "tranformeddata = pd.pivot_table(Totaldata,index=['Province','Country','Lat','Long'],columns='Status',values='Count',aggfunc=np.mean)"
   ]
  },
  {
   "cell_type": "code",
   "execution_count": 46,
   "metadata": {},
   "outputs": [
    {
     "data": {
      "text/html": [
       "<div>\n",
       "<style scoped>\n",
       "    .dataframe tbody tr th:only-of-type {\n",
       "        vertical-align: middle;\n",
       "    }\n",
       "\n",
       "    .dataframe tbody tr th {\n",
       "        vertical-align: top;\n",
       "    }\n",
       "\n",
       "    .dataframe thead th {\n",
       "        text-align: right;\n",
       "    }\n",
       "</style>\n",
       "<table border=\"1\" class=\"dataframe\">\n",
       "  <thead>\n",
       "    <tr style=\"text-align: right;\">\n",
       "      <th></th>\n",
       "      <th></th>\n",
       "      <th></th>\n",
       "      <th>Status</th>\n",
       "      <th>Confirmed</th>\n",
       "      <th>Dealth</th>\n",
       "      <th>Recovered</th>\n",
       "    </tr>\n",
       "    <tr>\n",
       "      <th>Province</th>\n",
       "      <th>Country</th>\n",
       "      <th>Lat</th>\n",
       "      <th>Long</th>\n",
       "      <th></th>\n",
       "      <th></th>\n",
       "      <th></th>\n",
       "    </tr>\n",
       "  </thead>\n",
       "  <tbody>\n",
       "    <tr>\n",
       "      <th>Alberta</th>\n",
       "      <th>Canada</th>\n",
       "      <th>53.9333</th>\n",
       "      <th>-116.5765</th>\n",
       "      <td>6126.057377</td>\n",
       "      <td>110.983607</td>\n",
       "      <td>NaN</td>\n",
       "    </tr>\n",
       "    <tr>\n",
       "      <th>Anguilla</th>\n",
       "      <th>United Kingdom</th>\n",
       "      <th>18.2206</th>\n",
       "      <th>-63.0686</th>\n",
       "      <td>2.168033</td>\n",
       "      <td>0.000000</td>\n",
       "      <td>1.877049</td>\n",
       "    </tr>\n",
       "  </tbody>\n",
       "</table>\n",
       "</div>"
      ],
      "text/plain": [
       "Status                                       Confirmed      Dealth  Recovered\n",
       "Province Country        Lat     Long                                         \n",
       "Alberta  Canada         53.9333 -116.5765  6126.057377  110.983607        NaN\n",
       "Anguilla United Kingdom 18.2206 -63.0686      2.168033    0.000000   1.877049"
      ]
     },
     "execution_count": 46,
     "metadata": {},
     "output_type": "execute_result"
    }
   ],
   "source": [
    "tranformeddata.head(2)"
   ]
  },
  {
   "cell_type": "code",
   "execution_count": 47,
   "metadata": {},
   "outputs": [],
   "source": [
    "tranformeddata['Recovered'] = tranformeddata['Recovered'].fillna(0)"
   ]
  },
  {
   "cell_type": "code",
   "execution_count": 48,
   "metadata": {},
   "outputs": [
    {
     "data": {
      "text/html": [
       "<div>\n",
       "<style scoped>\n",
       "    .dataframe tbody tr th:only-of-type {\n",
       "        vertical-align: middle;\n",
       "    }\n",
       "\n",
       "    .dataframe tbody tr th {\n",
       "        vertical-align: top;\n",
       "    }\n",
       "\n",
       "    .dataframe thead th {\n",
       "        text-align: right;\n",
       "    }\n",
       "</style>\n",
       "<table border=\"1\" class=\"dataframe\">\n",
       "  <thead>\n",
       "    <tr style=\"text-align: right;\">\n",
       "      <th>Status</th>\n",
       "      <th>Province</th>\n",
       "      <th>Country</th>\n",
       "      <th>Lat</th>\n",
       "      <th>Long</th>\n",
       "      <th>Confirmed</th>\n",
       "      <th>Dealth</th>\n",
       "      <th>Recovered</th>\n",
       "    </tr>\n",
       "  </thead>\n",
       "  <tbody>\n",
       "    <tr>\n",
       "      <th>0</th>\n",
       "      <td>Alberta</td>\n",
       "      <td>Canada</td>\n",
       "      <td>53.9333</td>\n",
       "      <td>-116.5765</td>\n",
       "      <td>6126.057377</td>\n",
       "      <td>110.983607</td>\n",
       "      <td>0.000000</td>\n",
       "    </tr>\n",
       "    <tr>\n",
       "      <th>1</th>\n",
       "      <td>Anguilla</td>\n",
       "      <td>United Kingdom</td>\n",
       "      <td>18.2206</td>\n",
       "      <td>-63.0686</td>\n",
       "      <td>2.168033</td>\n",
       "      <td>0.000000</td>\n",
       "      <td>1.877049</td>\n",
       "    </tr>\n",
       "    <tr>\n",
       "      <th>2</th>\n",
       "      <td>Anhui</td>\n",
       "      <td>China</td>\n",
       "      <td>31.8257</td>\n",
       "      <td>117.2264</td>\n",
       "      <td>934.397541</td>\n",
       "      <td>5.504098</td>\n",
       "      <td>864.459016</td>\n",
       "    </tr>\n",
       "    <tr>\n",
       "      <th>3</th>\n",
       "      <td>Aruba</td>\n",
       "      <td>Netherlands</td>\n",
       "      <td>12.5211</td>\n",
       "      <td>-69.9683</td>\n",
       "      <td>433.922131</td>\n",
       "      <td>3.413934</td>\n",
       "      <td>210.147541</td>\n",
       "    </tr>\n",
       "    <tr>\n",
       "      <th>4</th>\n",
       "      <td>Australian Capital Territory</td>\n",
       "      <td>Australia</td>\n",
       "      <td>-35.4735</td>\n",
       "      <td>149.0124</td>\n",
       "      <td>79.926230</td>\n",
       "      <td>2.077869</td>\n",
       "      <td>71.397541</td>\n",
       "    </tr>\n",
       "  </tbody>\n",
       "</table>\n",
       "</div>"
      ],
      "text/plain": [
       "Status                      Province         Country      Lat      Long  \\\n",
       "0                            Alberta          Canada  53.9333 -116.5765   \n",
       "1                           Anguilla  United Kingdom  18.2206  -63.0686   \n",
       "2                              Anhui           China  31.8257  117.2264   \n",
       "3                              Aruba     Netherlands  12.5211  -69.9683   \n",
       "4       Australian Capital Territory       Australia -35.4735  149.0124   \n",
       "\n",
       "Status    Confirmed      Dealth   Recovered  \n",
       "0       6126.057377  110.983607    0.000000  \n",
       "1          2.168033    0.000000    1.877049  \n",
       "2        934.397541    5.504098  864.459016  \n",
       "3        433.922131    3.413934  210.147541  \n",
       "4         79.926230    2.077869   71.397541  "
      ]
     },
     "execution_count": 48,
     "metadata": {},
     "output_type": "execute_result"
    }
   ],
   "source": [
    "tranformeddata= tranformeddata.reset_index()\n",
    "tranformeddata.head()"
   ]
  },
  {
   "cell_type": "code",
   "execution_count": 49,
   "metadata": {},
   "outputs": [
    {
     "name": "stdout",
     "output_type": "stream",
     "text": [
      "<class 'pandas.core.frame.DataFrame'>\n",
      "RangeIndex: 272 entries, 0 to 271\n",
      "Data columns (total 7 columns):\n",
      " #   Column     Non-Null Count  Dtype  \n",
      "---  ------     --------------  -----  \n",
      " 0   Province   272 non-null    object \n",
      " 1   Country    272 non-null    object \n",
      " 2   Lat        272 non-null    float64\n",
      " 3   Long       272 non-null    float64\n",
      " 4   Confirmed  266 non-null    float64\n",
      " 5   Dealth     266 non-null    float64\n",
      " 6   Recovered  272 non-null    float64\n",
      "dtypes: float64(5), object(2)\n",
      "memory usage: 15.0+ KB\n"
     ]
    }
   ],
   "source": [
    "tranformeddata.info()"
   ]
  },
  {
   "cell_type": "markdown",
   "metadata": {},
   "source": [
    "Fill the missing rows"
   ]
  },
  {
   "cell_type": "code",
   "execution_count": 50,
   "metadata": {},
   "outputs": [],
   "source": [
    "tranformeddata['Confirmed'] = tranformeddata['Confirmed'].fillna(0)\n",
    "tranformeddata['Dealth'] = tranformeddata['Dealth'].fillna(0)"
   ]
  },
  {
   "cell_type": "code",
   "execution_count": 51,
   "metadata": {},
   "outputs": [
    {
     "name": "stdout",
     "output_type": "stream",
     "text": [
      "<class 'pandas.core.frame.DataFrame'>\n",
      "RangeIndex: 272 entries, 0 to 271\n",
      "Data columns (total 7 columns):\n",
      " #   Column     Non-Null Count  Dtype  \n",
      "---  ------     --------------  -----  \n",
      " 0   Province   272 non-null    object \n",
      " 1   Country    272 non-null    object \n",
      " 2   Lat        272 non-null    float64\n",
      " 3   Long       272 non-null    float64\n",
      " 4   Confirmed  272 non-null    float64\n",
      " 5   Dealth     272 non-null    float64\n",
      " 6   Recovered  272 non-null    float64\n",
      "dtypes: float64(5), object(2)\n",
      "memory usage: 15.0+ KB\n"
     ]
    }
   ],
   "source": [
    "tranformeddata.info()"
   ]
  },
  {
   "cell_type": "code",
   "execution_count": 83,
   "metadata": {},
   "outputs": [
    {
     "name": "stdout",
     "output_type": "stream",
     "text": [
      "0       32\n",
      "1      178\n",
      "2       36\n",
      "3      122\n",
      "4        8\n",
      "      ... \n",
      "267      8\n",
      "268     36\n",
      "269     32\n",
      "270     36\n",
      "271     36\n",
      "Name: Country, Length: 272, dtype: int32\n"
     ]
    }
   ],
   "source": [
    "from sklearn.preprocessing import LabelEncoder\n",
    "\n",
    "    # Assuming you have a DataFrame named 'data' with a categorical column 'category'\n",
    "\n",
    "    # Initialize the LabelEncoder\n",
    "label_encoder = LabelEncoder()\n",
    "\n",
    "    # Fit and transform the categorical column\n",
    "tranformeddata['Country'] = label_encoder.fit_transform(tranformeddata['Country'])\n",
    "\n",
    "    # Display the encoded column\n",
    "print(tranformeddata['Country'])"
   ]
  },
  {
   "cell_type": "markdown",
   "metadata": {},
   "source": [
    "creting map by the help of folium"
   ]
  },
  {
   "cell_type": "markdown",
   "metadata": {},
   "source": [
    "Folium- Python's Folium library gives you access to the mapping strengths of the Leaflet JavaScript library through a Python API."
   ]
  },
  {
   "cell_type": "code",
   "execution_count": 52,
   "metadata": {},
   "outputs": [],
   "source": [
    "import folium\n",
    "\n",
    "map = folium.Map(location=[-37.8136,144.9631],zoom_start=4)\n",
    "\n",
    "for lat,long,value,name,state in zip(tranformeddata['Lat'],tranformeddata['Long'],tranformeddata['Confirmed'],tranformeddata['Country'],tranformeddata['Province']):\n",
    "    folium.CircleMarker([lat,long],radius=value/100000,popup=('<strong>State</strong>'+str(state).capitalize()+'<br>''<strong>Confirmed Cases</strong>'+str(value)+'<br>'),color='blue',fill_color='crimson',fill_opacity= 0.3).add_to(map)\n",
    "    "
   ]
  },
  {
   "cell_type": "code",
   "execution_count": 53,
   "metadata": {},
   "outputs": [],
   "source": [
    "map.save(\"map1.html\")"
   ]
  },
  {
   "cell_type": "code",
   "execution_count": 54,
   "metadata": {},
   "outputs": [
    {
     "data": {
      "text/html": [
       "<div style=\"width:100%;\"><div style=\"position:relative;width:100%;height:0;padding-bottom:60%;\"><span style=\"color:#565656\">Make this Notebook Trusted to load map: File -> Trust Notebook</span><iframe srcdoc=\"&lt;!DOCTYPE html&gt;\n",
       "&lt;html&gt;\n",
       "&lt;head&gt;\n",
       "    \n",
       "    &lt;meta http-equiv=&quot;content-type&quot; content=&quot;text/html; charset=UTF-8&quot; /&gt;\n",
       "    \n",
       "        &lt;script&gt;\n",
       "            L_NO_TOUCH = false;\n",
       "            L_DISABLE_3D = false;\n",
       "        &lt;/script&gt;\n",
       "    \n",
       "    &lt;style&gt;html, body {width: 100%;height: 100%;margin: 0;padding: 0;}&lt;/style&gt;\n",
       "    &lt;style&gt;#map {position:absolute;top:0;bottom:0;right:0;left:0;}&lt;/style&gt;\n",
       "    &lt;script src=&quot;https://cdn.jsdelivr.net/npm/leaflet@1.9.3/dist/leaflet.js&quot;&gt;&lt;/script&gt;\n",
       "    &lt;script src=&quot;https://code.jquery.com/jquery-3.7.1.min.js&quot;&gt;&lt;/script&gt;\n",
       "    &lt;script src=&quot;https://cdn.jsdelivr.net/npm/bootstrap@5.2.2/dist/js/bootstrap.bundle.min.js&quot;&gt;&lt;/script&gt;\n",
       "    &lt;script src=&quot;https://cdnjs.cloudflare.com/ajax/libs/Leaflet.awesome-markers/2.0.2/leaflet.awesome-markers.js&quot;&gt;&lt;/script&gt;\n",
       "    &lt;link rel=&quot;stylesheet&quot; href=&quot;https://cdn.jsdelivr.net/npm/leaflet@1.9.3/dist/leaflet.css&quot;/&gt;\n",
       "    &lt;link rel=&quot;stylesheet&quot; href=&quot;https://cdn.jsdelivr.net/npm/bootstrap@5.2.2/dist/css/bootstrap.min.css&quot;/&gt;\n",
       "    &lt;link rel=&quot;stylesheet&quot; href=&quot;https://netdna.bootstrapcdn.com/bootstrap/3.0.0/css/bootstrap.min.css&quot;/&gt;\n",
       "    &lt;link rel=&quot;stylesheet&quot; href=&quot;https://cdn.jsdelivr.net/npm/@fortawesome/fontawesome-free@6.2.0/css/all.min.css&quot;/&gt;\n",
       "    &lt;link rel=&quot;stylesheet&quot; href=&quot;https://cdnjs.cloudflare.com/ajax/libs/Leaflet.awesome-markers/2.0.2/leaflet.awesome-markers.css&quot;/&gt;\n",
       "    &lt;link rel=&quot;stylesheet&quot; href=&quot;https://cdn.jsdelivr.net/gh/python-visualization/folium/folium/templates/leaflet.awesome.rotate.min.css&quot;/&gt;\n",
       "    \n",
       "            &lt;meta name=&quot;viewport&quot; content=&quot;width=device-width,\n",
       "                initial-scale=1.0, maximum-scale=1.0, user-scalable=no&quot; /&gt;\n",
       "            &lt;style&gt;\n",
       "                #map_63bd30139a6212ba0546419532110ea0 {\n",
       "                    position: relative;\n",
       "                    width: 100.0%;\n",
       "                    height: 100.0%;\n",
       "                    left: 0.0%;\n",
       "                    top: 0.0%;\n",
       "                }\n",
       "                .leaflet-container { font-size: 1rem; }\n",
       "            &lt;/style&gt;\n",
       "        \n",
       "&lt;/head&gt;\n",
       "&lt;body&gt;\n",
       "    \n",
       "    \n",
       "            &lt;div class=&quot;folium-map&quot; id=&quot;map_63bd30139a6212ba0546419532110ea0&quot; &gt;&lt;/div&gt;\n",
       "        \n",
       "&lt;/body&gt;\n",
       "&lt;script&gt;\n",
       "    \n",
       "    \n",
       "            var map_63bd30139a6212ba0546419532110ea0 = L.map(\n",
       "                &quot;map_63bd30139a6212ba0546419532110ea0&quot;,\n",
       "                {\n",
       "                    center: [-37.8136, 144.9631],\n",
       "                    crs: L.CRS.EPSG3857,\n",
       "                    zoom: 4,\n",
       "                    zoomControl: true,\n",
       "                    preferCanvas: false,\n",
       "                }\n",
       "            );\n",
       "\n",
       "            \n",
       "\n",
       "        \n",
       "    \n",
       "            var tile_layer_f551113b52f4b1b439859850f2369e1c = L.tileLayer(\n",
       "                &quot;https://{s}.tile.openstreetmap.org/{z}/{x}/{y}.png&quot;,\n",
       "                {&quot;attribution&quot;: &quot;Data by \\u0026copy; \\u003ca target=\\&quot;_blank\\&quot; href=\\&quot;http://openstreetmap.org\\&quot;\\u003eOpenStreetMap\\u003c/a\\u003e, under \\u003ca target=\\&quot;_blank\\&quot; href=\\&quot;http://www.openstreetmap.org/copyright\\&quot;\\u003eODbL\\u003c/a\\u003e.&quot;, &quot;detectRetina&quot;: false, &quot;maxNativeZoom&quot;: 18, &quot;maxZoom&quot;: 18, &quot;minZoom&quot;: 0, &quot;noWrap&quot;: false, &quot;opacity&quot;: 1, &quot;subdomains&quot;: &quot;abc&quot;, &quot;tms&quot;: false}\n",
       "            );\n",
       "        \n",
       "    \n",
       "                tile_layer_f551113b52f4b1b439859850f2369e1c.addTo(map_63bd30139a6212ba0546419532110ea0);\n",
       "    \n",
       "            var circle_marker_59e6320751928f821242900343ad0de9 = L.circleMarker(\n",
       "                [53.9333, -116.5765],\n",
       "                {&quot;bubblingMouseEvents&quot;: true, &quot;color&quot;: &quot;blue&quot;, &quot;dashArray&quot;: null, &quot;dashOffset&quot;: null, &quot;fill&quot;: true, &quot;fillColor&quot;: &quot;crimson&quot;, &quot;fillOpacity&quot;: 0.3, &quot;fillRule&quot;: &quot;evenodd&quot;, &quot;lineCap&quot;: &quot;round&quot;, &quot;lineJoin&quot;: &quot;round&quot;, &quot;opacity&quot;: 1.0, &quot;radius&quot;: 0.0612605737704918, &quot;stroke&quot;: true, &quot;weight&quot;: 3}\n",
       "            ).addTo(map_63bd30139a6212ba0546419532110ea0);\n",
       "        \n",
       "    \n",
       "        var popup_6641105167c40eb8c93d7d8c6e3308bb = L.popup({&quot;maxWidth&quot;: &quot;100%&quot;});\n",
       "\n",
       "        \n",
       "            \n",
       "                var html_2bcdba08cdc196699d11e93c422131c7 = $(`&lt;div id=&quot;html_2bcdba08cdc196699d11e93c422131c7&quot; style=&quot;width: 100.0%; height: 100.0%;&quot;&gt;&lt;strong&gt;State&lt;/strong&gt;Alberta&lt;br&gt;&lt;strong&gt;Confirmed Cases&lt;/strong&gt;6126.05737704918&lt;br&gt;&lt;/div&gt;`)[0];\n",
       "                popup_6641105167c40eb8c93d7d8c6e3308bb.setContent(html_2bcdba08cdc196699d11e93c422131c7);\n",
       "            \n",
       "        \n",
       "\n",
       "        circle_marker_59e6320751928f821242900343ad0de9.bindPopup(popup_6641105167c40eb8c93d7d8c6e3308bb)\n",
       "        ;\n",
       "\n",
       "        \n",
       "    \n",
       "    \n",
       "            var circle_marker_39e539e0a32fd0d347c0703d163dc9b0 = L.circleMarker(\n",
       "                [18.2206, -63.0686],\n",
       "                {&quot;bubblingMouseEvents&quot;: true, &quot;color&quot;: &quot;blue&quot;, &quot;dashArray&quot;: null, &quot;dashOffset&quot;: null, &quot;fill&quot;: true, &quot;fillColor&quot;: &quot;crimson&quot;, &quot;fillOpacity&quot;: 0.3, &quot;fillRule&quot;: &quot;evenodd&quot;, &quot;lineCap&quot;: &quot;round&quot;, &quot;lineJoin&quot;: &quot;round&quot;, &quot;opacity&quot;: 1.0, &quot;radius&quot;: 2.168032786885246e-05, &quot;stroke&quot;: true, &quot;weight&quot;: 3}\n",
       "            ).addTo(map_63bd30139a6212ba0546419532110ea0);\n",
       "        \n",
       "    \n",
       "        var popup_3592c65ec063be8199fefb430b4f69a3 = L.popup({&quot;maxWidth&quot;: &quot;100%&quot;});\n",
       "\n",
       "        \n",
       "            \n",
       "                var html_8ec504b2eca9e45a76761cc958dc8b8f = $(`&lt;div id=&quot;html_8ec504b2eca9e45a76761cc958dc8b8f&quot; style=&quot;width: 100.0%; height: 100.0%;&quot;&gt;&lt;strong&gt;State&lt;/strong&gt;Anguilla&lt;br&gt;&lt;strong&gt;Confirmed Cases&lt;/strong&gt;2.168032786885246&lt;br&gt;&lt;/div&gt;`)[0];\n",
       "                popup_3592c65ec063be8199fefb430b4f69a3.setContent(html_8ec504b2eca9e45a76761cc958dc8b8f);\n",
       "            \n",
       "        \n",
       "\n",
       "        circle_marker_39e539e0a32fd0d347c0703d163dc9b0.bindPopup(popup_3592c65ec063be8199fefb430b4f69a3)\n",
       "        ;\n",
       "\n",
       "        \n",
       "    \n",
       "    \n",
       "            var circle_marker_6b20ee7316524b9e4330ba54563fe470 = L.circleMarker(\n",
       "                [31.8257, 117.2264],\n",
       "                {&quot;bubblingMouseEvents&quot;: true, &quot;color&quot;: &quot;blue&quot;, &quot;dashArray&quot;: null, &quot;dashOffset&quot;: null, &quot;fill&quot;: true, &quot;fillColor&quot;: &quot;crimson&quot;, &quot;fillOpacity&quot;: 0.3, &quot;fillRule&quot;: &quot;evenodd&quot;, &quot;lineCap&quot;: &quot;round&quot;, &quot;lineJoin&quot;: &quot;round&quot;, &quot;opacity&quot;: 1.0, &quot;radius&quot;: 0.009343975409836065, &quot;stroke&quot;: true, &quot;weight&quot;: 3}\n",
       "            ).addTo(map_63bd30139a6212ba0546419532110ea0);\n",
       "        \n",
       "    \n",
       "        var popup_073e9389194563ab00529730bcfbd64b = L.popup({&quot;maxWidth&quot;: &quot;100%&quot;});\n",
       "\n",
       "        \n",
       "            \n",
       "                var html_5476a596c70e26a36c4c301711bbd47a = $(`&lt;div id=&quot;html_5476a596c70e26a36c4c301711bbd47a&quot; style=&quot;width: 100.0%; height: 100.0%;&quot;&gt;&lt;strong&gt;State&lt;/strong&gt;Anhui&lt;br&gt;&lt;strong&gt;Confirmed Cases&lt;/strong&gt;934.3975409836065&lt;br&gt;&lt;/div&gt;`)[0];\n",
       "                popup_073e9389194563ab00529730bcfbd64b.setContent(html_5476a596c70e26a36c4c301711bbd47a);\n",
       "            \n",
       "        \n",
       "\n",
       "        circle_marker_6b20ee7316524b9e4330ba54563fe470.bindPopup(popup_073e9389194563ab00529730bcfbd64b)\n",
       "        ;\n",
       "\n",
       "        \n",
       "    \n",
       "    \n",
       "            var circle_marker_0b35cbd32993bd6a6a387f26725740af = L.circleMarker(\n",
       "                [12.5211, -69.9683],\n",
       "                {&quot;bubblingMouseEvents&quot;: true, &quot;color&quot;: &quot;blue&quot;, &quot;dashArray&quot;: null, &quot;dashOffset&quot;: null, &quot;fill&quot;: true, &quot;fillColor&quot;: &quot;crimson&quot;, &quot;fillOpacity&quot;: 0.3, &quot;fillRule&quot;: &quot;evenodd&quot;, &quot;lineCap&quot;: &quot;round&quot;, &quot;lineJoin&quot;: &quot;round&quot;, &quot;opacity&quot;: 1.0, &quot;radius&quot;: 0.00433922131147541, &quot;stroke&quot;: true, &quot;weight&quot;: 3}\n",
       "            ).addTo(map_63bd30139a6212ba0546419532110ea0);\n",
       "        \n",
       "    \n",
       "        var popup_649f2515aba12387d9a60ade9fa87652 = L.popup({&quot;maxWidth&quot;: &quot;100%&quot;});\n",
       "\n",
       "        \n",
       "            \n",
       "                var html_575fabb2b75b8f2d7d0913096e2bffee = $(`&lt;div id=&quot;html_575fabb2b75b8f2d7d0913096e2bffee&quot; style=&quot;width: 100.0%; height: 100.0%;&quot;&gt;&lt;strong&gt;State&lt;/strong&gt;Aruba&lt;br&gt;&lt;strong&gt;Confirmed Cases&lt;/strong&gt;433.922131147541&lt;br&gt;&lt;/div&gt;`)[0];\n",
       "                popup_649f2515aba12387d9a60ade9fa87652.setContent(html_575fabb2b75b8f2d7d0913096e2bffee);\n",
       "            \n",
       "        \n",
       "\n",
       "        circle_marker_0b35cbd32993bd6a6a387f26725740af.bindPopup(popup_649f2515aba12387d9a60ade9fa87652)\n",
       "        ;\n",
       "\n",
       "        \n",
       "    \n",
       "    \n",
       "            var circle_marker_2caef22ef1d578b66d901303e70f210c = L.circleMarker(\n",
       "                [-35.4735, 149.0124],\n",
       "                {&quot;bubblingMouseEvents&quot;: true, &quot;color&quot;: &quot;blue&quot;, &quot;dashArray&quot;: null, &quot;dashOffset&quot;: null, &quot;fill&quot;: true, &quot;fillColor&quot;: &quot;crimson&quot;, &quot;fillOpacity&quot;: 0.3, &quot;fillRule&quot;: &quot;evenodd&quot;, &quot;lineCap&quot;: &quot;round&quot;, &quot;lineJoin&quot;: &quot;round&quot;, &quot;opacity&quot;: 1.0, &quot;radius&quot;: 0.0007992622950819672, &quot;stroke&quot;: true, &quot;weight&quot;: 3}\n",
       "            ).addTo(map_63bd30139a6212ba0546419532110ea0);\n",
       "        \n",
       "    \n",
       "        var popup_41726502f70e6de48a0ee5987d5a1ed5 = L.popup({&quot;maxWidth&quot;: &quot;100%&quot;});\n",
       "\n",
       "        \n",
       "            \n",
       "                var html_33cab1c90d9b127715684101c5b872e6 = $(`&lt;div id=&quot;html_33cab1c90d9b127715684101c5b872e6&quot; style=&quot;width: 100.0%; height: 100.0%;&quot;&gt;&lt;strong&gt;State&lt;/strong&gt;Australian capital territory&lt;br&gt;&lt;strong&gt;Confirmed Cases&lt;/strong&gt;79.92622950819673&lt;br&gt;&lt;/div&gt;`)[0];\n",
       "                popup_41726502f70e6de48a0ee5987d5a1ed5.setContent(html_33cab1c90d9b127715684101c5b872e6);\n",
       "            \n",
       "        \n",
       "\n",
       "        circle_marker_2caef22ef1d578b66d901303e70f210c.bindPopup(popup_41726502f70e6de48a0ee5987d5a1ed5)\n",
       "        ;\n",
       "\n",
       "        \n",
       "    \n",
       "    \n",
       "            var circle_marker_f82fcb9a7f2cfa5efb2a993d8c76f733 = L.circleMarker(\n",
       "                [40.1824, 116.4142],\n",
       "                {&quot;bubblingMouseEvents&quot;: true, &quot;color&quot;: &quot;blue&quot;, &quot;dashArray&quot;: null, &quot;dashOffset&quot;: null, &quot;fill&quot;: true, &quot;fillColor&quot;: &quot;crimson&quot;, &quot;fillOpacity&quot;: 0.3, &quot;fillRule&quot;: &quot;evenodd&quot;, &quot;lineCap&quot;: &quot;round&quot;, &quot;lineJoin&quot;: &quot;round&quot;, &quot;opacity&quot;: 1.0, &quot;radius&quot;: 0.006592418032786885, &quot;stroke&quot;: true, &quot;weight&quot;: 3}\n",
       "            ).addTo(map_63bd30139a6212ba0546419532110ea0);\n",
       "        \n",
       "    \n",
       "        var popup_e7ba6e5281e6e13eb546fc511bafa030 = L.popup({&quot;maxWidth&quot;: &quot;100%&quot;});\n",
       "\n",
       "        \n",
       "            \n",
       "                var html_62e58e9db610788b5c709f99d830eb11 = $(`&lt;div id=&quot;html_62e58e9db610788b5c709f99d830eb11&quot; style=&quot;width: 100.0%; height: 100.0%;&quot;&gt;&lt;strong&gt;State&lt;/strong&gt;Beijing&lt;br&gt;&lt;strong&gt;Confirmed Cases&lt;/strong&gt;659.2418032786885&lt;br&gt;&lt;/div&gt;`)[0];\n",
       "                popup_e7ba6e5281e6e13eb546fc511bafa030.setContent(html_62e58e9db610788b5c709f99d830eb11);\n",
       "            \n",
       "        \n",
       "\n",
       "        circle_marker_f82fcb9a7f2cfa5efb2a993d8c76f733.bindPopup(popup_e7ba6e5281e6e13eb546fc511bafa030)\n",
       "        ;\n",
       "\n",
       "        \n",
       "    \n",
       "    \n",
       "            var circle_marker_40dd2e5df6e0fab1367ab86a60648fc5 = L.circleMarker(\n",
       "                [32.3078, -64.7505],\n",
       "                {&quot;bubblingMouseEvents&quot;: true, &quot;color&quot;: &quot;blue&quot;, &quot;dashArray&quot;: null, &quot;dashOffset&quot;: null, &quot;fill&quot;: true, &quot;fillColor&quot;: &quot;crimson&quot;, &quot;fillOpacity&quot;: 0.3, &quot;fillRule&quot;: &quot;evenodd&quot;, &quot;lineCap&quot;: &quot;round&quot;, &quot;lineJoin&quot;: &quot;round&quot;, &quot;opacity&quot;: 1.0, &quot;radius&quot;: 0.0009804918032786886, &quot;stroke&quot;: true, &quot;weight&quot;: 3}\n",
       "            ).addTo(map_63bd30139a6212ba0546419532110ea0);\n",
       "        \n",
       "    \n",
       "        var popup_c625bf64a4f552b5adf4bfedbaa9b049 = L.popup({&quot;maxWidth&quot;: &quot;100%&quot;});\n",
       "\n",
       "        \n",
       "            \n",
       "                var html_22011d7f0956665b6873219e1b29ce6e = $(`&lt;div id=&quot;html_22011d7f0956665b6873219e1b29ce6e&quot; style=&quot;width: 100.0%; height: 100.0%;&quot;&gt;&lt;strong&gt;State&lt;/strong&gt;Bermuda&lt;br&gt;&lt;strong&gt;Confirmed Cases&lt;/strong&gt;98.04918032786885&lt;br&gt;&lt;/div&gt;`)[0];\n",
       "                popup_c625bf64a4f552b5adf4bfedbaa9b049.setContent(html_22011d7f0956665b6873219e1b29ce6e);\n",
       "            \n",
       "        \n",
       "\n",
       "        circle_marker_40dd2e5df6e0fab1367ab86a60648fc5.bindPopup(popup_c625bf64a4f552b5adf4bfedbaa9b049)\n",
       "        ;\n",
       "\n",
       "        \n",
       "    \n",
       "    \n",
       "            var circle_marker_8a023662db57645827aa4666cceed558 = L.circleMarker(\n",
       "                [12.1784, -68.2385],\n",
       "                {&quot;bubblingMouseEvents&quot;: true, &quot;color&quot;: &quot;blue&quot;, &quot;dashArray&quot;: null, &quot;dashOffset&quot;: null, &quot;fill&quot;: true, &quot;fillColor&quot;: &quot;crimson&quot;, &quot;fillOpacity&quot;: 0.3, &quot;fillRule&quot;: &quot;evenodd&quot;, &quot;lineCap&quot;: &quot;round&quot;, &quot;lineJoin&quot;: &quot;round&quot;, &quot;opacity&quot;: 1.0, &quot;radius&quot;: 6.954918032786886e-05, &quot;stroke&quot;: true, &quot;weight&quot;: 3}\n",
       "            ).addTo(map_63bd30139a6212ba0546419532110ea0);\n",
       "        \n",
       "    \n",
       "        var popup_31070d811a9bf97341bb1cd1643df0f5 = L.popup({&quot;maxWidth&quot;: &quot;100%&quot;});\n",
       "\n",
       "        \n",
       "            \n",
       "                var html_8388e48a18b4c9b4028b84d16b66d03e = $(`&lt;div id=&quot;html_8388e48a18b4c9b4028b84d16b66d03e&quot; style=&quot;width: 100.0%; height: 100.0%;&quot;&gt;&lt;strong&gt;State&lt;/strong&gt;Bonaire, sint eustatius and saba&lt;br&gt;&lt;strong&gt;Confirmed Cases&lt;/strong&gt;6.954918032786885&lt;br&gt;&lt;/div&gt;`)[0];\n",
       "                popup_31070d811a9bf97341bb1cd1643df0f5.setContent(html_8388e48a18b4c9b4028b84d16b66d03e);\n",
       "            \n",
       "        \n",
       "\n",
       "        circle_marker_8a023662db57645827aa4666cceed558.bindPopup(popup_31070d811a9bf97341bb1cd1643df0f5)\n",
       "        ;\n",
       "\n",
       "        \n",
       "    \n",
       "    \n",
       "            var circle_marker_f8df896c7d2f52fd3ae691cbabdf8b16 = L.circleMarker(\n",
       "                [53.7267, -127.6476],\n",
       "                {&quot;bubblingMouseEvents&quot;: true, &quot;color&quot;: &quot;blue&quot;, &quot;dashArray&quot;: null, &quot;dashOffset&quot;: null, &quot;fill&quot;: true, &quot;fillColor&quot;: &quot;crimson&quot;, &quot;fillOpacity&quot;: 0.3, &quot;fillRule&quot;: &quot;evenodd&quot;, &quot;lineCap&quot;: &quot;round&quot;, &quot;lineJoin&quot;: &quot;round&quot;, &quot;opacity&quot;: 1.0, &quot;radius&quot;: 0.024507090163934427, &quot;stroke&quot;: true, &quot;weight&quot;: 3}\n",
       "            ).addTo(map_63bd30139a6212ba0546419532110ea0);\n",
       "        \n",
       "    \n",
       "        var popup_c0a53ea0bf42c10055e78b4c5e71f5c3 = L.popup({&quot;maxWidth&quot;: &quot;100%&quot;});\n",
       "\n",
       "        \n",
       "            \n",
       "                var html_030c398c0779538d2e0bbb016465fd48 = $(`&lt;div id=&quot;html_030c398c0779538d2e0bbb016465fd48&quot; style=&quot;width: 100.0%; height: 100.0%;&quot;&gt;&lt;strong&gt;State&lt;/strong&gt;British columbia&lt;br&gt;&lt;strong&gt;Confirmed Cases&lt;/strong&gt;2450.7090163934427&lt;br&gt;&lt;/div&gt;`)[0];\n",
       "                popup_c0a53ea0bf42c10055e78b4c5e71f5c3.setContent(html_030c398c0779538d2e0bbb016465fd48);\n",
       "            \n",
       "        \n",
       "\n",
       "        circle_marker_f8df896c7d2f52fd3ae691cbabdf8b16.bindPopup(popup_c0a53ea0bf42c10055e78b4c5e71f5c3)\n",
       "        ;\n",
       "\n",
       "        \n",
       "    \n",
       "    \n",
       "            var circle_marker_b6326355ddcded4c3ad595915737a6c0 = L.circleMarker(\n",
       "                [18.4207, -64.64],\n",
       "                {&quot;bubblingMouseEvents&quot;: true, &quot;color&quot;: &quot;blue&quot;, &quot;dashArray&quot;: null, &quot;dashOffset&quot;: null, &quot;fill&quot;: true, &quot;fillColor&quot;: &quot;crimson&quot;, &quot;fillOpacity&quot;: 0.3, &quot;fillRule&quot;: &quot;evenodd&quot;, &quot;lineCap&quot;: &quot;round&quot;, &quot;lineJoin&quot;: &quot;round&quot;, &quot;opacity&quot;: 1.0, &quot;radius&quot;: 0.0001096311475409836, &quot;stroke&quot;: true, &quot;weight&quot;: 3}\n",
       "            ).addTo(map_63bd30139a6212ba0546419532110ea0);\n",
       "        \n",
       "    \n",
       "        var popup_5a0c47b156f412abe0e110670a5578b7 = L.popup({&quot;maxWidth&quot;: &quot;100%&quot;});\n",
       "\n",
       "        \n",
       "            \n",
       "                var html_8bd68f26cdcf750dbce01c21406a2862 = $(`&lt;div id=&quot;html_8bd68f26cdcf750dbce01c21406a2862&quot; style=&quot;width: 100.0%; height: 100.0%;&quot;&gt;&lt;strong&gt;State&lt;/strong&gt;British virgin islands&lt;br&gt;&lt;strong&gt;Confirmed Cases&lt;/strong&gt;10.96311475409836&lt;br&gt;&lt;/div&gt;`)[0];\n",
       "                popup_5a0c47b156f412abe0e110670a5578b7.setContent(html_8bd68f26cdcf750dbce01c21406a2862);\n",
       "            \n",
       "        \n",
       "\n",
       "        circle_marker_b6326355ddcded4c3ad595915737a6c0.bindPopup(popup_5a0c47b156f412abe0e110670a5578b7)\n",
       "        ;\n",
       "\n",
       "        \n",
       "    \n",
       "    \n",
       "            var circle_marker_6e833218757b25b5a05473dc283fe5ec = L.circleMarker(\n",
       "                [19.3133, -81.2546],\n",
       "                {&quot;bubblingMouseEvents&quot;: true, &quot;color&quot;: &quot;blue&quot;, &quot;dashArray&quot;: null, &quot;dashOffset&quot;: null, &quot;fill&quot;: true, &quot;fillColor&quot;: &quot;crimson&quot;, &quot;fillOpacity&quot;: 0.3, &quot;fillRule&quot;: &quot;evenodd&quot;, &quot;lineCap&quot;: &quot;round&quot;, &quot;lineJoin&quot;: &quot;round&quot;, &quot;opacity&quot;: 1.0, &quot;radius&quot;: 0.0011214344262295082, &quot;stroke&quot;: true, &quot;weight&quot;: 3}\n",
       "            ).addTo(map_63bd30139a6212ba0546419532110ea0);\n",
       "        \n",
       "    \n",
       "        var popup_7f730f3f2e9c20fd852ede48c6cf0e20 = L.popup({&quot;maxWidth&quot;: &quot;100%&quot;});\n",
       "\n",
       "        \n",
       "            \n",
       "                var html_e9012213f56698e5e55c4427f453723b = $(`&lt;div id=&quot;html_e9012213f56698e5e55c4427f453723b&quot; style=&quot;width: 100.0%; height: 100.0%;&quot;&gt;&lt;strong&gt;State&lt;/strong&gt;Cayman islands&lt;br&gt;&lt;strong&gt;Confirmed Cases&lt;/strong&gt;112.14344262295081&lt;br&gt;&lt;/div&gt;`)[0];\n",
       "                popup_7f730f3f2e9c20fd852ede48c6cf0e20.setContent(html_e9012213f56698e5e55c4427f453723b);\n",
       "            \n",
       "        \n",
       "\n",
       "        circle_marker_6e833218757b25b5a05473dc283fe5ec.bindPopup(popup_7f730f3f2e9c20fd852ede48c6cf0e20)\n",
       "        ;\n",
       "\n",
       "        \n",
       "    \n",
       "    \n",
       "            var circle_marker_e083ba2243beb49ace9f08c84fbc0212 = L.circleMarker(\n",
       "                [49.3723, -2.3644],\n",
       "                {&quot;bubblingMouseEvents&quot;: true, &quot;color&quot;: &quot;blue&quot;, &quot;dashArray&quot;: null, &quot;dashOffset&quot;: null, &quot;fill&quot;: true, &quot;fillColor&quot;: &quot;crimson&quot;, &quot;fillOpacity&quot;: 0.3, &quot;fillRule&quot;: &quot;evenodd&quot;, &quot;lineCap&quot;: &quot;round&quot;, &quot;lineJoin&quot;: &quot;round&quot;, &quot;opacity&quot;: 1.0, &quot;radius&quot;: 0.004010163934426229, &quot;stroke&quot;: true, &quot;weight&quot;: 3}\n",
       "            ).addTo(map_63bd30139a6212ba0546419532110ea0);\n",
       "        \n",
       "    \n",
       "        var popup_4c9703483f68b0d1c03a632fd954d4dd = L.popup({&quot;maxWidth&quot;: &quot;100%&quot;});\n",
       "\n",
       "        \n",
       "            \n",
       "                var html_01b0cc2425b94396580b6088a0a65966 = $(`&lt;div id=&quot;html_01b0cc2425b94396580b6088a0a65966&quot; style=&quot;width: 100.0%; height: 100.0%;&quot;&gt;&lt;strong&gt;State&lt;/strong&gt;Channel islands&lt;br&gt;&lt;strong&gt;Confirmed Cases&lt;/strong&gt;401.0163934426229&lt;br&gt;&lt;/div&gt;`)[0];\n",
       "                popup_4c9703483f68b0d1c03a632fd954d4dd.setContent(html_01b0cc2425b94396580b6088a0a65966);\n",
       "            \n",
       "        \n",
       "\n",
       "        circle_marker_e083ba2243beb49ace9f08c84fbc0212.bindPopup(popup_4c9703483f68b0d1c03a632fd954d4dd)\n",
       "        ;\n",
       "\n",
       "        \n",
       "    \n",
       "    \n",
       "            var circle_marker_6cfb1e22a7389cd250b53174b76b4e6a = L.circleMarker(\n",
       "                [30.0572, 107.874],\n",
       "                {&quot;bubblingMouseEvents&quot;: true, &quot;color&quot;: &quot;blue&quot;, &quot;dashArray&quot;: null, &quot;dashOffset&quot;: null, &quot;fill&quot;: true, &quot;fillColor&quot;: &quot;crimson&quot;, &quot;fillOpacity&quot;: 0.3, &quot;fillRule&quot;: &quot;evenodd&quot;, &quot;lineCap&quot;: &quot;round&quot;, &quot;lineJoin&quot;: &quot;round&quot;, &quot;opacity&quot;: 1.0, &quot;radius&quot;: 0.005509016393442623, &quot;stroke&quot;: true, &quot;weight&quot;: 3}\n",
       "            ).addTo(map_63bd30139a6212ba0546419532110ea0);\n",
       "        \n",
       "    \n",
       "        var popup_325fd5bcd77afd6757cacd5d9a132651 = L.popup({&quot;maxWidth&quot;: &quot;100%&quot;});\n",
       "\n",
       "        \n",
       "            \n",
       "                var html_ef79d06a94878ca3fd172adb9591c8b6 = $(`&lt;div id=&quot;html_ef79d06a94878ca3fd172adb9591c8b6&quot; style=&quot;width: 100.0%; height: 100.0%;&quot;&gt;&lt;strong&gt;State&lt;/strong&gt;Chongqing&lt;br&gt;&lt;strong&gt;Confirmed Cases&lt;/strong&gt;550.9016393442623&lt;br&gt;&lt;/div&gt;`)[0];\n",
       "                popup_325fd5bcd77afd6757cacd5d9a132651.setContent(html_ef79d06a94878ca3fd172adb9591c8b6);\n",
       "            \n",
       "        \n",
       "\n",
       "        circle_marker_6cfb1e22a7389cd250b53174b76b4e6a.bindPopup(popup_325fd5bcd77afd6757cacd5d9a132651)\n",
       "        ;\n",
       "\n",
       "        \n",
       "    \n",
       "    \n",
       "            var circle_marker_7b04403c3d899bb8b8ace5b11e571e7f = L.circleMarker(\n",
       "                [12.1696, -68.99],\n",
       "                {&quot;bubblingMouseEvents&quot;: true, &quot;color&quot;: &quot;blue&quot;, &quot;dashArray&quot;: null, &quot;dashOffset&quot;: null, &quot;fill&quot;: true, &quot;fillColor&quot;: &quot;crimson&quot;, &quot;fillOpacity&quot;: 0.3, &quot;fillRule&quot;: &quot;evenodd&quot;, &quot;lineCap&quot;: &quot;round&quot;, &quot;lineJoin&quot;: &quot;round&quot;, &quot;opacity&quot;: 1.0, &quot;radius&quot;: 0.0002806147540983607, &quot;stroke&quot;: true, &quot;weight&quot;: 3}\n",
       "            ).addTo(map_63bd30139a6212ba0546419532110ea0);\n",
       "        \n",
       "    \n",
       "        var popup_5bc97fdd30a9ab915f61470213f253d1 = L.popup({&quot;maxWidth&quot;: &quot;100%&quot;});\n",
       "\n",
       "        \n",
       "            \n",
       "                var html_19c83d56f684fad664417bf1025e09fe = $(`&lt;div id=&quot;html_19c83d56f684fad664417bf1025e09fe&quot; style=&quot;width: 100.0%; height: 100.0%;&quot;&gt;&lt;strong&gt;State&lt;/strong&gt;Curacao&lt;br&gt;&lt;strong&gt;Confirmed Cases&lt;/strong&gt;28.061475409836067&lt;br&gt;&lt;/div&gt;`)[0];\n",
       "                popup_5bc97fdd30a9ab915f61470213f253d1.setContent(html_19c83d56f684fad664417bf1025e09fe);\n",
       "            \n",
       "        \n",
       "\n",
       "        circle_marker_7b04403c3d899bb8b8ace5b11e571e7f.bindPopup(popup_5bc97fdd30a9ab915f61470213f253d1)\n",
       "        ;\n",
       "\n",
       "        \n",
       "    \n",
       "    \n",
       "            var circle_marker_2838350fc781ebc8b6c9adaf81e17a25 = L.circleMarker(\n",
       "                [0.0, 0.0],\n",
       "                {&quot;bubblingMouseEvents&quot;: true, &quot;color&quot;: &quot;blue&quot;, &quot;dashArray&quot;: null, &quot;dashOffset&quot;: null, &quot;fill&quot;: true, &quot;fillColor&quot;: &quot;crimson&quot;, &quot;fillOpacity&quot;: 0.3, &quot;fillRule&quot;: &quot;evenodd&quot;, &quot;lineCap&quot;: &quot;round&quot;, &quot;lineJoin&quot;: &quot;round&quot;, &quot;opacity&quot;: 1.0, &quot;radius&quot;: 1.3114754098360657e-06, &quot;stroke&quot;: true, &quot;weight&quot;: 3}\n",
       "            ).addTo(map_63bd30139a6212ba0546419532110ea0);\n",
       "        \n",
       "    \n",
       "        var popup_d3ba3e70dd1b18f30fb77792c64b523e = L.popup({&quot;maxWidth&quot;: &quot;100%&quot;});\n",
       "\n",
       "        \n",
       "            \n",
       "                var html_ec1d7883a016c8f9f35dcee6ec7dbdbe = $(`&lt;div id=&quot;html_ec1d7883a016c8f9f35dcee6ec7dbdbe&quot; style=&quot;width: 100.0%; height: 100.0%;&quot;&gt;&lt;strong&gt;State&lt;/strong&gt;Diamond princess&lt;br&gt;&lt;strong&gt;Confirmed Cases&lt;/strong&gt;0.13114754098360656&lt;br&gt;&lt;/div&gt;`)[0];\n",
       "                popup_d3ba3e70dd1b18f30fb77792c64b523e.setContent(html_ec1d7883a016c8f9f35dcee6ec7dbdbe);\n",
       "            \n",
       "        \n",
       "\n",
       "        circle_marker_2838350fc781ebc8b6c9adaf81e17a25.bindPopup(popup_d3ba3e70dd1b18f30fb77792c64b523e)\n",
       "        ;\n",
       "\n",
       "        \n",
       "    \n",
       "    \n",
       "            var circle_marker_d46d5ee3e1f6994f321d48c3596a63d4 = L.circleMarker(\n",
       "                [-51.7963, -59.5236],\n",
       "                {&quot;bubblingMouseEvents&quot;: true, &quot;color&quot;: &quot;blue&quot;, &quot;dashArray&quot;: null, &quot;dashOffset&quot;: null, &quot;fill&quot;: true, &quot;fillColor&quot;: &quot;crimson&quot;, &quot;fillOpacity&quot;: 0.3, &quot;fillRule&quot;: &quot;evenodd&quot;, &quot;lineCap&quot;: &quot;round&quot;, &quot;lineJoin&quot;: &quot;round&quot;, &quot;opacity&quot;: 1.0, &quot;radius&quot;: 8.651639344262295e-05, &quot;stroke&quot;: true, &quot;weight&quot;: 3}\n",
       "            ).addTo(map_63bd30139a6212ba0546419532110ea0);\n",
       "        \n",
       "    \n",
       "        var popup_2389be8b5717d78e8306e64cd2b6d5d9 = L.popup({&quot;maxWidth&quot;: &quot;100%&quot;});\n",
       "\n",
       "        \n",
       "            \n",
       "                var html_71e35c3f24f0e440efe335e6d7dda9b9 = $(`&lt;div id=&quot;html_71e35c3f24f0e440efe335e6d7dda9b9&quot; style=&quot;width: 100.0%; height: 100.0%;&quot;&gt;&lt;strong&gt;State&lt;/strong&gt;Falkland islands (malvinas)&lt;br&gt;&lt;strong&gt;Confirmed Cases&lt;/strong&gt;8.651639344262295&lt;br&gt;&lt;/div&gt;`)[0];\n",
       "                popup_2389be8b5717d78e8306e64cd2b6d5d9.setContent(html_71e35c3f24f0e440efe335e6d7dda9b9);\n",
       "            \n",
       "        \n",
       "\n",
       "        circle_marker_d46d5ee3e1f6994f321d48c3596a63d4.bindPopup(popup_2389be8b5717d78e8306e64cd2b6d5d9)\n",
       "        ;\n",
       "\n",
       "        \n",
       "    \n",
       "    \n",
       "            var circle_marker_9bd7b66e585d287f79bf494377e78a3a = L.circleMarker(\n",
       "                [61.8926, -6.9118],\n",
       "                {&quot;bubblingMouseEvents&quot;: true, &quot;color&quot;: &quot;blue&quot;, &quot;dashArray&quot;: null, &quot;dashOffset&quot;: null, &quot;fill&quot;: true, &quot;fillColor&quot;: &quot;crimson&quot;, &quot;fillOpacity&quot;: 0.3, &quot;fillRule&quot;: &quot;evenodd&quot;, &quot;lineCap&quot;: &quot;round&quot;, &quot;lineJoin&quot;: &quot;round&quot;, &quot;opacity&quot;: 1.0, &quot;radius&quot;: 0.0018154918032786884, &quot;stroke&quot;: true, &quot;weight&quot;: 3}\n",
       "            ).addTo(map_63bd30139a6212ba0546419532110ea0);\n",
       "        \n",
       "    \n",
       "        var popup_1602e498cacb1290a36659f8072a87a6 = L.popup({&quot;maxWidth&quot;: &quot;100%&quot;});\n",
       "\n",
       "        \n",
       "            \n",
       "                var html_2bf9dacae34fce0e3af20ed7a019c102 = $(`&lt;div id=&quot;html_2bf9dacae34fce0e3af20ed7a019c102&quot; style=&quot;width: 100.0%; height: 100.0%;&quot;&gt;&lt;strong&gt;State&lt;/strong&gt;Faroe islands&lt;br&gt;&lt;strong&gt;Confirmed Cases&lt;/strong&gt;181.54918032786884&lt;br&gt;&lt;/div&gt;`)[0];\n",
       "                popup_1602e498cacb1290a36659f8072a87a6.setContent(html_2bf9dacae34fce0e3af20ed7a019c102);\n",
       "            \n",
       "        \n",
       "\n",
       "        circle_marker_9bd7b66e585d287f79bf494377e78a3a.bindPopup(popup_1602e498cacb1290a36659f8072a87a6)\n",
       "        ;\n",
       "\n",
       "        \n",
       "    \n",
       "    \n",
       "            var circle_marker_5dc4b4cc5806be0d77aec66f2377a0d9 = L.circleMarker(\n",
       "                [3.9339, -53.1258],\n",
       "                {&quot;bubblingMouseEvents&quot;: true, &quot;color&quot;: &quot;blue&quot;, &quot;dashArray&quot;: null, &quot;dashOffset&quot;: null, &quot;fill&quot;: true, &quot;fillColor&quot;: &quot;crimson&quot;, &quot;fillOpacity&quot;: 0.3, &quot;fillRule&quot;: &quot;evenodd&quot;, &quot;lineCap&quot;: &quot;round&quot;, &quot;lineJoin&quot;: &quot;round&quot;, &quot;opacity&quot;: 1.0, &quot;radius&quot;: 0.029552131147540985, &quot;stroke&quot;: true, &quot;weight&quot;: 3}\n",
       "            ).addTo(map_63bd30139a6212ba0546419532110ea0);\n",
       "        \n",
       "    \n",
       "        var popup_0a26c44ffa0ff5b7cf63bd317410ddfd = L.popup({&quot;maxWidth&quot;: &quot;100%&quot;});\n",
       "\n",
       "        \n",
       "            \n",
       "                var html_1ffd9422429b15bdc1c9c7e6318bfa2e = $(`&lt;div id=&quot;html_1ffd9422429b15bdc1c9c7e6318bfa2e&quot; style=&quot;width: 100.0%; height: 100.0%;&quot;&gt;&lt;strong&gt;State&lt;/strong&gt;French guiana&lt;br&gt;&lt;strong&gt;Confirmed Cases&lt;/strong&gt;2955.2131147540986&lt;br&gt;&lt;/div&gt;`)[0];\n",
       "                popup_0a26c44ffa0ff5b7cf63bd317410ddfd.setContent(html_1ffd9422429b15bdc1c9c7e6318bfa2e);\n",
       "            \n",
       "        \n",
       "\n",
       "        circle_marker_5dc4b4cc5806be0d77aec66f2377a0d9.bindPopup(popup_0a26c44ffa0ff5b7cf63bd317410ddfd)\n",
       "        ;\n",
       "\n",
       "        \n",
       "    \n",
       "    \n",
       "            var circle_marker_dff67ac89467f09188c0518e00ba6481 = L.circleMarker(\n",
       "                [-17.6797, 149.4068],\n",
       "                {&quot;bubblingMouseEvents&quot;: true, &quot;color&quot;: &quot;blue&quot;, &quot;dashArray&quot;: null, &quot;dashOffset&quot;: null, &quot;fill&quot;: true, &quot;fillColor&quot;: &quot;crimson&quot;, &quot;fillOpacity&quot;: 0.3, &quot;fillRule&quot;: &quot;evenodd&quot;, &quot;lineCap&quot;: &quot;round&quot;, &quot;lineJoin&quot;: &quot;round&quot;, &quot;opacity&quot;: 1.0, &quot;radius&quot;: 0.0013619262295081966, &quot;stroke&quot;: true, &quot;weight&quot;: 3}\n",
       "            ).addTo(map_63bd30139a6212ba0546419532110ea0);\n",
       "        \n",
       "    \n",
       "        var popup_ea2d7b1f6f988a212d9ae9ded88adc25 = L.popup({&quot;maxWidth&quot;: &quot;100%&quot;});\n",
       "\n",
       "        \n",
       "            \n",
       "                var html_7f4db0c8bdda03a557ef2ac1c4fb4931 = $(`&lt;div id=&quot;html_7f4db0c8bdda03a557ef2ac1c4fb4931&quot; style=&quot;width: 100.0%; height: 100.0%;&quot;&gt;&lt;strong&gt;State&lt;/strong&gt;French polynesia&lt;br&gt;&lt;strong&gt;Confirmed Cases&lt;/strong&gt;136.19262295081967&lt;br&gt;&lt;/div&gt;`)[0];\n",
       "                popup_ea2d7b1f6f988a212d9ae9ded88adc25.setContent(html_7f4db0c8bdda03a557ef2ac1c4fb4931);\n",
       "            \n",
       "        \n",
       "\n",
       "        circle_marker_dff67ac89467f09188c0518e00ba6481.bindPopup(popup_ea2d7b1f6f988a212d9ae9ded88adc25)\n",
       "        ;\n",
       "\n",
       "        \n",
       "    \n",
       "    \n",
       "            var circle_marker_abef7cbe775c5b04676837277f94e5ce = L.circleMarker(\n",
       "                [26.0789, 117.9874],\n",
       "                {&quot;bubblingMouseEvents&quot;: true, &quot;color&quot;: &quot;blue&quot;, &quot;dashArray&quot;: null, &quot;dashOffset&quot;: null, &quot;fill&quot;: true, &quot;fillColor&quot;: &quot;crimson&quot;, &quot;fillOpacity&quot;: 0.3, &quot;fillRule&quot;: &quot;evenodd&quot;, &quot;lineCap&quot;: &quot;round&quot;, &quot;lineJoin&quot;: &quot;round&quot;, &quot;opacity&quot;: 1.0, &quot;radius&quot;: 0.003319303278688525, &quot;stroke&quot;: true, &quot;weight&quot;: 3}\n",
       "            ).addTo(map_63bd30139a6212ba0546419532110ea0);\n",
       "        \n",
       "    \n",
       "        var popup_b93c3cc7e80caa83482f87d9978c65a1 = L.popup({&quot;maxWidth&quot;: &quot;100%&quot;});\n",
       "\n",
       "        \n",
       "            \n",
       "                var html_b81eb303f15cb9acdc386857c247b4e0 = $(`&lt;div id=&quot;html_b81eb303f15cb9acdc386857c247b4e0&quot; style=&quot;width: 100.0%; height: 100.0%;&quot;&gt;&lt;strong&gt;State&lt;/strong&gt;Fujian&lt;br&gt;&lt;strong&gt;Confirmed Cases&lt;/strong&gt;331.9303278688525&lt;br&gt;&lt;/div&gt;`)[0];\n",
       "                popup_b93c3cc7e80caa83482f87d9978c65a1.setContent(html_b81eb303f15cb9acdc386857c247b4e0);\n",
       "            \n",
       "        \n",
       "\n",
       "        circle_marker_abef7cbe775c5b04676837277f94e5ce.bindPopup(popup_b93c3cc7e80caa83482f87d9978c65a1)\n",
       "        ;\n",
       "\n",
       "        \n",
       "    \n",
       "    \n",
       "            var circle_marker_661f0f774384c5a6ddaa064d27860c80 = L.circleMarker(\n",
       "                [35.7518, 104.2861],\n",
       "                {&quot;bubblingMouseEvents&quot;: true, &quot;color&quot;: &quot;blue&quot;, &quot;dashArray&quot;: null, &quot;dashOffset&quot;: null, &quot;fill&quot;: true, &quot;fillColor&quot;: &quot;crimson&quot;, &quot;fillOpacity&quot;: 0.3, &quot;fillRule&quot;: &quot;evenodd&quot;, &quot;lineCap&quot;: &quot;round&quot;, &quot;lineJoin&quot;: &quot;round&quot;, &quot;opacity&quot;: 1.0, &quot;radius&quot;: 0.0013623360655737704, &quot;stroke&quot;: true, &quot;weight&quot;: 3}\n",
       "            ).addTo(map_63bd30139a6212ba0546419532110ea0);\n",
       "        \n",
       "    \n",
       "        var popup_d26a02fb609636f6de01619601358901 = L.popup({&quot;maxWidth&quot;: &quot;100%&quot;});\n",
       "\n",
       "        \n",
       "            \n",
       "                var html_b2f12d6bcabf4dea9836457ca4ef84ff = $(`&lt;div id=&quot;html_b2f12d6bcabf4dea9836457ca4ef84ff&quot; style=&quot;width: 100.0%; height: 100.0%;&quot;&gt;&lt;strong&gt;State&lt;/strong&gt;Gansu&lt;br&gt;&lt;strong&gt;Confirmed Cases&lt;/strong&gt;136.23360655737704&lt;br&gt;&lt;/div&gt;`)[0];\n",
       "                popup_d26a02fb609636f6de01619601358901.setContent(html_b2f12d6bcabf4dea9836457ca4ef84ff);\n",
       "            \n",
       "        \n",
       "\n",
       "        circle_marker_661f0f774384c5a6ddaa064d27860c80.bindPopup(popup_d26a02fb609636f6de01619601358901)\n",
       "        ;\n",
       "\n",
       "        \n",
       "    \n",
       "    \n",
       "            var circle_marker_4243c66283631912ad4aa9e7a4c6d8d2 = L.circleMarker(\n",
       "                [36.1408, -5.3536],\n",
       "                {&quot;bubblingMouseEvents&quot;: true, &quot;color&quot;: &quot;blue&quot;, &quot;dashArray&quot;: null, &quot;dashOffset&quot;: null, &quot;fill&quot;: true, &quot;fillColor&quot;: &quot;crimson&quot;, &quot;fillOpacity&quot;: 0.3, &quot;fillRule&quot;: &quot;evenodd&quot;, &quot;lineCap&quot;: &quot;round&quot;, &quot;lineJoin&quot;: &quot;round&quot;, &quot;opacity&quot;: 1.0, &quot;radius&quot;: 0.0013729098360655738, &quot;stroke&quot;: true, &quot;weight&quot;: 3}\n",
       "            ).addTo(map_63bd30139a6212ba0546419532110ea0);\n",
       "        \n",
       "    \n",
       "        var popup_2e5c7d66b0e16fd1567189656392d401 = L.popup({&quot;maxWidth&quot;: &quot;100%&quot;});\n",
       "\n",
       "        \n",
       "            \n",
       "                var html_15aaad64824f2075a7a998b664707ece = $(`&lt;div id=&quot;html_15aaad64824f2075a7a998b664707ece&quot; style=&quot;width: 100.0%; height: 100.0%;&quot;&gt;&lt;strong&gt;State&lt;/strong&gt;Gibraltar&lt;br&gt;&lt;strong&gt;Confirmed Cases&lt;/strong&gt;137.29098360655738&lt;br&gt;&lt;/div&gt;`)[0];\n",
       "                popup_2e5c7d66b0e16fd1567189656392d401.setContent(html_15aaad64824f2075a7a998b664707ece);\n",
       "            \n",
       "        \n",
       "\n",
       "        circle_marker_4243c66283631912ad4aa9e7a4c6d8d2.bindPopup(popup_2e5c7d66b0e16fd1567189656392d401)\n",
       "        ;\n",
       "\n",
       "        \n",
       "    \n",
       "    \n",
       "            var circle_marker_c9ec7ecc6b91fd862e34db36e5d75887 = L.circleMarker(\n",
       "                [0.0, 0.0],\n",
       "                {&quot;bubblingMouseEvents&quot;: true, &quot;color&quot;: &quot;blue&quot;, &quot;dashArray&quot;: null, &quot;dashOffset&quot;: null, &quot;fill&quot;: true, &quot;fillColor&quot;: &quot;crimson&quot;, &quot;fillOpacity&quot;: 0.3, &quot;fillRule&quot;: &quot;evenodd&quot;, &quot;lineCap&quot;: &quot;round&quot;, &quot;lineJoin&quot;: &quot;round&quot;, &quot;opacity&quot;: 1.0, &quot;radius&quot;: 0.00010024590163934427, &quot;stroke&quot;: true, &quot;weight&quot;: 3}\n",
       "            ).addTo(map_63bd30139a6212ba0546419532110ea0);\n",
       "        \n",
       "    \n",
       "        var popup_f8ad257e9e4105aa6c4d7f087b411a4a = L.popup({&quot;maxWidth&quot;: &quot;100%&quot;});\n",
       "\n",
       "        \n",
       "            \n",
       "                var html_63d1798687969807ee4d5d9188bc224d = $(`&lt;div id=&quot;html_63d1798687969807ee4d5d9188bc224d&quot; style=&quot;width: 100.0%; height: 100.0%;&quot;&gt;&lt;strong&gt;State&lt;/strong&gt;Grand princess&lt;br&gt;&lt;strong&gt;Confirmed Cases&lt;/strong&gt;10.024590163934427&lt;br&gt;&lt;/div&gt;`)[0];\n",
       "                popup_f8ad257e9e4105aa6c4d7f087b411a4a.setContent(html_63d1798687969807ee4d5d9188bc224d);\n",
       "            \n",
       "        \n",
       "\n",
       "        circle_marker_c9ec7ecc6b91fd862e34db36e5d75887.bindPopup(popup_f8ad257e9e4105aa6c4d7f087b411a4a)\n",
       "        ;\n",
       "\n",
       "        \n",
       "    \n",
       "    \n",
       "            var circle_marker_69312d8e8a8c3de5cf8efe5bf7af5a8b = L.circleMarker(\n",
       "                [71.7069, -42.6043],\n",
       "                {&quot;bubblingMouseEvents&quot;: true, &quot;color&quot;: &quot;blue&quot;, &quot;dashArray&quot;: null, &quot;dashOffset&quot;: null, &quot;fill&quot;: true, &quot;fillColor&quot;: &quot;crimson&quot;, &quot;fillOpacity&quot;: 0.3, &quot;fillRule&quot;: &quot;evenodd&quot;, &quot;lineCap&quot;: &quot;round&quot;, &quot;lineJoin&quot;: &quot;round&quot;, &quot;opacity&quot;: 1.0, &quot;radius&quot;: 9.389344262295081e-05, &quot;stroke&quot;: true, &quot;weight&quot;: 3}\n",
       "            ).addTo(map_63bd30139a6212ba0546419532110ea0);\n",
       "        \n",
       "    \n",
       "        var popup_4e335fbd7da8ff005b97b44a42a662cb = L.popup({&quot;maxWidth&quot;: &quot;100%&quot;});\n",
       "\n",
       "        \n",
       "            \n",
       "                var html_0f1cc0972297a6c1c6d2492323dc11cc = $(`&lt;div id=&quot;html_0f1cc0972297a6c1c6d2492323dc11cc&quot; style=&quot;width: 100.0%; height: 100.0%;&quot;&gt;&lt;strong&gt;State&lt;/strong&gt;Greenland&lt;br&gt;&lt;strong&gt;Confirmed Cases&lt;/strong&gt;9.389344262295081&lt;br&gt;&lt;/div&gt;`)[0];\n",
       "                popup_4e335fbd7da8ff005b97b44a42a662cb.setContent(html_0f1cc0972297a6c1c6d2492323dc11cc);\n",
       "            \n",
       "        \n",
       "\n",
       "        circle_marker_69312d8e8a8c3de5cf8efe5bf7af5a8b.bindPopup(popup_4e335fbd7da8ff005b97b44a42a662cb)\n",
       "        ;\n",
       "\n",
       "        \n",
       "    \n",
       "    \n",
       "            var circle_marker_5df991f62b6570ec9a3a5e86c2d7c29c = L.circleMarker(\n",
       "                [16.265, -61.551],\n",
       "                {&quot;bubblingMouseEvents&quot;: true, &quot;color&quot;: &quot;blue&quot;, &quot;dashArray&quot;: null, &quot;dashOffset&quot;: null, &quot;fill&quot;: true, &quot;fillColor&quot;: &quot;crimson&quot;, &quot;fillOpacity&quot;: 0.3, &quot;fillRule&quot;: &quot;evenodd&quot;, &quot;lineCap&quot;: &quot;round&quot;, &quot;lineJoin&quot;: &quot;round&quot;, &quot;opacity&quot;: 1.0, &quot;radius&quot;: 0.003678975409836066, &quot;stroke&quot;: true, &quot;weight&quot;: 3}\n",
       "            ).addTo(map_63bd30139a6212ba0546419532110ea0);\n",
       "        \n",
       "    \n",
       "        var popup_89f84f602e38abfc29bfb4bd36b51060 = L.popup({&quot;maxWidth&quot;: &quot;100%&quot;});\n",
       "\n",
       "        \n",
       "            \n",
       "                var html_0f75f631b9d7bc8b6d53ff9c27ea7e84 = $(`&lt;div id=&quot;html_0f75f631b9d7bc8b6d53ff9c27ea7e84&quot; style=&quot;width: 100.0%; height: 100.0%;&quot;&gt;&lt;strong&gt;State&lt;/strong&gt;Guadeloupe&lt;br&gt;&lt;strong&gt;Confirmed Cases&lt;/strong&gt;367.8975409836066&lt;br&gt;&lt;/div&gt;`)[0];\n",
       "                popup_89f84f602e38abfc29bfb4bd36b51060.setContent(html_0f75f631b9d7bc8b6d53ff9c27ea7e84);\n",
       "            \n",
       "        \n",
       "\n",
       "        circle_marker_5df991f62b6570ec9a3a5e86c2d7c29c.bindPopup(popup_89f84f602e38abfc29bfb4bd36b51060)\n",
       "        ;\n",
       "\n",
       "        \n",
       "    \n",
       "    \n",
       "            var circle_marker_2dab58ecb9278ff3fc60e009a444b401 = L.circleMarker(\n",
       "                [23.3417, 113.4244],\n",
       "                {&quot;bubblingMouseEvents&quot;: true, &quot;color&quot;: &quot;blue&quot;, &quot;dashArray&quot;: null, &quot;dashOffset&quot;: null, &quot;fill&quot;: true, &quot;fillColor&quot;: &quot;crimson&quot;, &quot;fillOpacity&quot;: 0.3, &quot;fillRule&quot;: &quot;evenodd&quot;, &quot;lineCap&quot;: &quot;round&quot;, &quot;lineJoin&quot;: &quot;round&quot;, &quot;opacity&quot;: 1.0, &quot;radius&quot;: 0.014964754098360657, &quot;stroke&quot;: true, &quot;weight&quot;: 3}\n",
       "            ).addTo(map_63bd30139a6212ba0546419532110ea0);\n",
       "        \n",
       "    \n",
       "        var popup_ddc43fd0efe0c426ee07d08e5d25d9c1 = L.popup({&quot;maxWidth&quot;: &quot;100%&quot;});\n",
       "\n",
       "        \n",
       "            \n",
       "                var html_25987eda3846ea49f19b505a574f8a7a = $(`&lt;div id=&quot;html_25987eda3846ea49f19b505a574f8a7a&quot; style=&quot;width: 100.0%; height: 100.0%;&quot;&gt;&lt;strong&gt;State&lt;/strong&gt;Guangdong&lt;br&gt;&lt;strong&gt;Confirmed Cases&lt;/strong&gt;1496.4754098360656&lt;br&gt;&lt;/div&gt;`)[0];\n",
       "                popup_ddc43fd0efe0c426ee07d08e5d25d9c1.setContent(html_25987eda3846ea49f19b505a574f8a7a);\n",
       "            \n",
       "        \n",
       "\n",
       "        circle_marker_2dab58ecb9278ff3fc60e009a444b401.bindPopup(popup_ddc43fd0efe0c426ee07d08e5d25d9c1)\n",
       "        ;\n",
       "\n",
       "        \n",
       "    \n",
       "    \n",
       "            var circle_marker_bfe83b18678c67c91d7b4f9db2fb4abf = L.circleMarker(\n",
       "                [23.8298, 108.7881],\n",
       "                {&quot;bubblingMouseEvents&quot;: true, &quot;color&quot;: &quot;blue&quot;, &quot;dashArray&quot;: null, &quot;dashOffset&quot;: null, &quot;fill&quot;: true, &quot;fillColor&quot;: &quot;crimson&quot;, &quot;fillOpacity&quot;: 0.3, &quot;fillRule&quot;: &quot;evenodd&quot;, &quot;lineCap&quot;: &quot;round&quot;, &quot;lineJoin&quot;: &quot;round&quot;, &quot;opacity&quot;: 1.0, &quot;radius&quot;: 0.0024055737704918034, &quot;stroke&quot;: true, &quot;weight&quot;: 3}\n",
       "            ).addTo(map_63bd30139a6212ba0546419532110ea0);\n",
       "        \n",
       "    \n",
       "        var popup_2e0f0e6046764d8217cc637e5f1c2fe8 = L.popup({&quot;maxWidth&quot;: &quot;100%&quot;});\n",
       "\n",
       "        \n",
       "            \n",
       "                var html_68c17ab6bece8a3e5cc6fbc939a00e6b = $(`&lt;div id=&quot;html_68c17ab6bece8a3e5cc6fbc939a00e6b&quot; style=&quot;width: 100.0%; height: 100.0%;&quot;&gt;&lt;strong&gt;State&lt;/strong&gt;Guangxi&lt;br&gt;&lt;strong&gt;Confirmed Cases&lt;/strong&gt;240.55737704918033&lt;br&gt;&lt;/div&gt;`)[0];\n",
       "                popup_2e0f0e6046764d8217cc637e5f1c2fe8.setContent(html_68c17ab6bece8a3e5cc6fbc939a00e6b);\n",
       "            \n",
       "        \n",
       "\n",
       "        circle_marker_bfe83b18678c67c91d7b4f9db2fb4abf.bindPopup(popup_2e0f0e6046764d8217cc637e5f1c2fe8)\n",
       "        ;\n",
       "\n",
       "        \n",
       "    \n",
       "    \n",
       "            var circle_marker_d4c9e121723758b4b683ce8663f67ea9 = L.circleMarker(\n",
       "                [26.8154, 106.8748],\n",
       "                {&quot;bubblingMouseEvents&quot;: true, &quot;color&quot;: &quot;blue&quot;, &quot;dashArray&quot;: null, &quot;dashOffset&quot;: null, &quot;fill&quot;: true, &quot;fillColor&quot;: &quot;crimson&quot;, &quot;fillOpacity&quot;: 0.3, &quot;fillRule&quot;: &quot;evenodd&quot;, &quot;lineCap&quot;: &quot;round&quot;, &quot;lineJoin&quot;: &quot;round&quot;, &quot;opacity&quot;: 1.0, &quot;radius&quot;: 0.0013759426229508196, &quot;stroke&quot;: true, &quot;weight&quot;: 3}\n",
       "            ).addTo(map_63bd30139a6212ba0546419532110ea0);\n",
       "        \n",
       "    \n",
       "        var popup_4011ca5e0582b9af4484c5fee9fc77d5 = L.popup({&quot;maxWidth&quot;: &quot;100%&quot;});\n",
       "\n",
       "        \n",
       "            \n",
       "                var html_2cfa02c8b6b6b88b2de4bfe92bacba26 = $(`&lt;div id=&quot;html_2cfa02c8b6b6b88b2de4bfe92bacba26&quot; style=&quot;width: 100.0%; height: 100.0%;&quot;&gt;&lt;strong&gt;State&lt;/strong&gt;Guizhou&lt;br&gt;&lt;strong&gt;Confirmed Cases&lt;/strong&gt;137.59426229508196&lt;br&gt;&lt;/div&gt;`)[0];\n",
       "                popup_4011ca5e0582b9af4484c5fee9fc77d5.setContent(html_2cfa02c8b6b6b88b2de4bfe92bacba26);\n",
       "            \n",
       "        \n",
       "\n",
       "        circle_marker_d4c9e121723758b4b683ce8663f67ea9.bindPopup(popup_4011ca5e0582b9af4484c5fee9fc77d5)\n",
       "        ;\n",
       "\n",
       "        \n",
       "    \n",
       "    \n",
       "            var circle_marker_37fc335500c88e0a41f68d3ba5055df3 = L.circleMarker(\n",
       "                [19.1959, 109.7453],\n",
       "                {&quot;bubblingMouseEvents&quot;: true, &quot;color&quot;: &quot;blue&quot;, &quot;dashArray&quot;: null, &quot;dashOffset&quot;: null, &quot;fill&quot;: true, &quot;fillColor&quot;: &quot;crimson&quot;, &quot;fillOpacity&quot;: 0.3, &quot;fillRule&quot;: &quot;evenodd&quot;, &quot;lineCap&quot;: &quot;round&quot;, &quot;lineJoin&quot;: &quot;round&quot;, &quot;opacity&quot;: 1.0, &quot;radius&quot;: 0.0016049180327868853, &quot;stroke&quot;: true, &quot;weight&quot;: 3}\n",
       "            ).addTo(map_63bd30139a6212ba0546419532110ea0);\n",
       "        \n",
       "    \n",
       "        var popup_aecdad8964ebcd136a1bb78b775e6efd = L.popup({&quot;maxWidth&quot;: &quot;100%&quot;});\n",
       "\n",
       "        \n",
       "            \n",
       "                var html_eaea4b59013c11c18ccc17f0082782b3 = $(`&lt;div id=&quot;html_eaea4b59013c11c18ccc17f0082782b3&quot; style=&quot;width: 100.0%; height: 100.0%;&quot;&gt;&lt;strong&gt;State&lt;/strong&gt;Hainan&lt;br&gt;&lt;strong&gt;Confirmed Cases&lt;/strong&gt;160.49180327868854&lt;br&gt;&lt;/div&gt;`)[0];\n",
       "                popup_aecdad8964ebcd136a1bb78b775e6efd.setContent(html_eaea4b59013c11c18ccc17f0082782b3);\n",
       "            \n",
       "        \n",
       "\n",
       "        circle_marker_37fc335500c88e0a41f68d3ba5055df3.bindPopup(popup_aecdad8964ebcd136a1bb78b775e6efd)\n",
       "        ;\n",
       "\n",
       "        \n",
       "    \n",
       "    \n",
       "            var circle_marker_8c65093fd59c3fa38df49d7c46d29d02 = L.circleMarker(\n",
       "                [37.8957, 114.9042],\n",
       "                {&quot;bubblingMouseEvents&quot;: true, &quot;color&quot;: &quot;blue&quot;, &quot;dashArray&quot;: null, &quot;dashOffset&quot;: null, &quot;fill&quot;: true, &quot;fillColor&quot;: &quot;crimson&quot;, &quot;fillOpacity&quot;: 0.3, &quot;fillRule&quot;: &quot;evenodd&quot;, &quot;lineCap&quot;: &quot;round&quot;, &quot;lineJoin&quot;: &quot;round&quot;, &quot;opacity&quot;: 1.0, &quot;stroke&quot;: true, &quot;weight&quot;: 3}\n",
       "            ).addTo(map_63bd30139a6212ba0546419532110ea0);\n",
       "        \n",
       "    \n",
       "        var popup_ebe90d5ec9b9cef414887c2687d1cbd3 = L.popup({&quot;maxWidth&quot;: &quot;100%&quot;});\n",
       "\n",
       "        \n",
       "            \n",
       "                var html_f42367bf03f0b92352f149519ca82757 = $(`&lt;div id=&quot;html_f42367bf03f0b92352f149519ca82757&quot; style=&quot;width: 100.0%; height: 100.0%;&quot;&gt;&lt;strong&gt;State&lt;/strong&gt;Hebei&lt;br&gt;&lt;strong&gt;Confirmed Cases&lt;/strong&gt;0.0&lt;br&gt;&lt;/div&gt;`)[0];\n",
       "                popup_ebe90d5ec9b9cef414887c2687d1cbd3.setContent(html_f42367bf03f0b92352f149519ca82757);\n",
       "            \n",
       "        \n",
       "\n",
       "        circle_marker_8c65093fd59c3fa38df49d7c46d29d02.bindPopup(popup_ebe90d5ec9b9cef414887c2687d1cbd3)\n",
       "        ;\n",
       "\n",
       "        \n",
       "    \n",
       "    \n",
       "            var circle_marker_1c82ae66ad514b2ac89ac69042b9afae = L.circleMarker(\n",
       "                [39.549, 116.1306],\n",
       "                {&quot;bubblingMouseEvents&quot;: true, &quot;color&quot;: &quot;blue&quot;, &quot;dashArray&quot;: null, &quot;dashOffset&quot;: null, &quot;fill&quot;: true, &quot;fillColor&quot;: &quot;crimson&quot;, &quot;fillOpacity&quot;: 0.3, &quot;fillRule&quot;: &quot;evenodd&quot;, &quot;lineCap&quot;: &quot;round&quot;, &quot;lineJoin&quot;: &quot;round&quot;, &quot;opacity&quot;: 1.0, &quot;radius&quot;: 0.003150655737704918, &quot;stroke&quot;: true, &quot;weight&quot;: 3}\n",
       "            ).addTo(map_63bd30139a6212ba0546419532110ea0);\n",
       "        \n",
       "    \n",
       "        var popup_2e698fcb5fdadf002d7f93fb3d566fb8 = L.popup({&quot;maxWidth&quot;: &quot;100%&quot;});\n",
       "\n",
       "        \n",
       "            \n",
       "                var html_f827a4893b9f97370dd51d7646f6b21c = $(`&lt;div id=&quot;html_f827a4893b9f97370dd51d7646f6b21c&quot; style=&quot;width: 100.0%; height: 100.0%;&quot;&gt;&lt;strong&gt;State&lt;/strong&gt;Hebei&lt;br&gt;&lt;strong&gt;Confirmed Cases&lt;/strong&gt;315.0655737704918&lt;br&gt;&lt;/div&gt;`)[0];\n",
       "                popup_2e698fcb5fdadf002d7f93fb3d566fb8.setContent(html_f827a4893b9f97370dd51d7646f6b21c);\n",
       "            \n",
       "        \n",
       "\n",
       "        circle_marker_1c82ae66ad514b2ac89ac69042b9afae.bindPopup(popup_2e698fcb5fdadf002d7f93fb3d566fb8)\n",
       "        ;\n",
       "\n",
       "        \n",
       "    \n",
       "    \n",
       "            var circle_marker_61aff774392870d2d11822ce139d151b = L.circleMarker(\n",
       "                [47.862, 127.7615],\n",
       "                {&quot;bubblingMouseEvents&quot;: true, &quot;color&quot;: &quot;blue&quot;, &quot;dashArray&quot;: null, &quot;dashOffset&quot;: null, &quot;fill&quot;: true, &quot;fillColor&quot;: &quot;crimson&quot;, &quot;fillOpacity&quot;: 0.3, &quot;fillRule&quot;: &quot;evenodd&quot;, &quot;lineCap&quot;: &quot;round&quot;, &quot;lineJoin&quot;: &quot;round&quot;, &quot;opacity&quot;: 1.0, &quot;radius&quot;: 0.0075834426229508195, &quot;stroke&quot;: true, &quot;weight&quot;: 3}\n",
       "            ).addTo(map_63bd30139a6212ba0546419532110ea0);\n",
       "        \n",
       "    \n",
       "        var popup_17871181cfd8e6d359056345fcf93518 = L.popup({&quot;maxWidth&quot;: &quot;100%&quot;});\n",
       "\n",
       "        \n",
       "            \n",
       "                var html_9f735f6eca86e980672f9f9c01e66b12 = $(`&lt;div id=&quot;html_9f735f6eca86e980672f9f9c01e66b12&quot; style=&quot;width: 100.0%; height: 100.0%;&quot;&gt;&lt;strong&gt;State&lt;/strong&gt;Heilongjiang&lt;br&gt;&lt;strong&gt;Confirmed Cases&lt;/strong&gt;758.344262295082&lt;br&gt;&lt;/div&gt;`)[0];\n",
       "                popup_17871181cfd8e6d359056345fcf93518.setContent(html_9f735f6eca86e980672f9f9c01e66b12);\n",
       "            \n",
       "        \n",
       "\n",
       "        circle_marker_61aff774392870d2d11822ce139d151b.bindPopup(popup_17871181cfd8e6d359056345fcf93518)\n",
       "        ;\n",
       "\n",
       "        \n",
       "    \n",
       "    \n",
       "            var circle_marker_10f48f4485ffdfd78bf690ca5ad3c1c5 = L.circleMarker(\n",
       "                [33.882, 113.614],\n",
       "                {&quot;bubblingMouseEvents&quot;: true, &quot;color&quot;: &quot;blue&quot;, &quot;dashArray&quot;: null, &quot;dashOffset&quot;: null, &quot;fill&quot;: true, &quot;fillColor&quot;: &quot;crimson&quot;, &quot;fillOpacity&quot;: 0.3, &quot;fillRule&quot;: &quot;evenodd&quot;, &quot;lineCap&quot;: &quot;round&quot;, &quot;lineJoin&quot;: &quot;round&quot;, &quot;opacity&quot;: 1.0, &quot;stroke&quot;: true, &quot;weight&quot;: 3}\n",
       "            ).addTo(map_63bd30139a6212ba0546419532110ea0);\n",
       "        \n",
       "    \n",
       "        var popup_9e9fc57e417adb3c89fb98bf53c41252 = L.popup({&quot;maxWidth&quot;: &quot;100%&quot;});\n",
       "\n",
       "        \n",
       "            \n",
       "                var html_2017b056fc0bcb3636744ebeef595126 = $(`&lt;div id=&quot;html_2017b056fc0bcb3636744ebeef595126&quot; style=&quot;width: 100.0%; height: 100.0%;&quot;&gt;&lt;strong&gt;State&lt;/strong&gt;Henan&lt;br&gt;&lt;strong&gt;Confirmed Cases&lt;/strong&gt;0.0&lt;br&gt;&lt;/div&gt;`)[0];\n",
       "                popup_9e9fc57e417adb3c89fb98bf53c41252.setContent(html_2017b056fc0bcb3636744ebeef595126);\n",
       "            \n",
       "        \n",
       "\n",
       "        circle_marker_10f48f4485ffdfd78bf690ca5ad3c1c5.bindPopup(popup_9e9fc57e417adb3c89fb98bf53c41252)\n",
       "        ;\n",
       "\n",
       "        \n",
       "    \n",
       "    \n",
       "            var circle_marker_79222406448ef743f3944ac552004cf1 = L.circleMarker(\n",
       "                [37.8957, 114.9042],\n",
       "                {&quot;bubblingMouseEvents&quot;: true, &quot;color&quot;: &quot;blue&quot;, &quot;dashArray&quot;: null, &quot;dashOffset&quot;: null, &quot;fill&quot;: true, &quot;fillColor&quot;: &quot;crimson&quot;, &quot;fillOpacity&quot;: 0.3, &quot;fillRule&quot;: &quot;evenodd&quot;, &quot;lineCap&quot;: &quot;round&quot;, &quot;lineJoin&quot;: &quot;round&quot;, &quot;opacity&quot;: 1.0, &quot;radius&quot;: 0.012051475409836067, &quot;stroke&quot;: true, &quot;weight&quot;: 3}\n",
       "            ).addTo(map_63bd30139a6212ba0546419532110ea0);\n",
       "        \n",
       "    \n",
       "        var popup_2848236ee0045af1ed35ebde8c5fd139 = L.popup({&quot;maxWidth&quot;: &quot;100%&quot;});\n",
       "\n",
       "        \n",
       "            \n",
       "                var html_f6122846fdfb610ba9c8e022fc57a8fe = $(`&lt;div id=&quot;html_f6122846fdfb610ba9c8e022fc57a8fe&quot; style=&quot;width: 100.0%; height: 100.0%;&quot;&gt;&lt;strong&gt;State&lt;/strong&gt;Henan&lt;br&gt;&lt;strong&gt;Confirmed Cases&lt;/strong&gt;1205.1475409836066&lt;br&gt;&lt;/div&gt;`)[0];\n",
       "                popup_2848236ee0045af1ed35ebde8c5fd139.setContent(html_f6122846fdfb610ba9c8e022fc57a8fe);\n",
       "            \n",
       "        \n",
       "\n",
       "        circle_marker_79222406448ef743f3944ac552004cf1.bindPopup(popup_2848236ee0045af1ed35ebde8c5fd139)\n",
       "        ;\n",
       "\n",
       "        \n",
       "    \n",
       "    \n",
       "            var circle_marker_dbd7c6d2aa864ba6c30f25bd797d0aad = L.circleMarker(\n",
       "                [22.3, 114.2],\n",
       "                {&quot;bubblingMouseEvents&quot;: true, &quot;color&quot;: &quot;blue&quot;, &quot;dashArray&quot;: null, &quot;dashOffset&quot;: null, &quot;fill&quot;: true, &quot;fillColor&quot;: &quot;crimson&quot;, &quot;fillOpacity&quot;: 0.3, &quot;fillRule&quot;: &quot;evenodd&quot;, &quot;lineCap&quot;: &quot;round&quot;, &quot;lineJoin&quot;: &quot;round&quot;, &quot;opacity&quot;: 1.0, &quot;radius&quot;: 0.016457459016393443, &quot;stroke&quot;: true, &quot;weight&quot;: 3}\n",
       "            ).addTo(map_63bd30139a6212ba0546419532110ea0);\n",
       "        \n",
       "    \n",
       "        var popup_f1ac153b1c2716eca10a002eabf01df1 = L.popup({&quot;maxWidth&quot;: &quot;100%&quot;});\n",
       "\n",
       "        \n",
       "            \n",
       "                var html_76620d90b87fe5930c08f143263a2f30 = $(`&lt;div id=&quot;html_76620d90b87fe5930c08f143263a2f30&quot; style=&quot;width: 100.0%; height: 100.0%;&quot;&gt;&lt;strong&gt;State&lt;/strong&gt;Hong kong&lt;br&gt;&lt;strong&gt;Confirmed Cases&lt;/strong&gt;1645.7459016393443&lt;br&gt;&lt;/div&gt;`)[0];\n",
       "                popup_f1ac153b1c2716eca10a002eabf01df1.setContent(html_76620d90b87fe5930c08f143263a2f30);\n",
       "            \n",
       "        \n",
       "\n",
       "        circle_marker_dbd7c6d2aa864ba6c30f25bd797d0aad.bindPopup(popup_f1ac153b1c2716eca10a002eabf01df1)\n",
       "        ;\n",
       "\n",
       "        \n",
       "    \n",
       "    \n",
       "            var circle_marker_a4db678e04fed7f9375fdf260b7ab4a8 = L.circleMarker(\n",
       "                [30.9756, 112.2707],\n",
       "                {&quot;bubblingMouseEvents&quot;: true, &quot;color&quot;: &quot;blue&quot;, &quot;dashArray&quot;: null, &quot;dashOffset&quot;: null, &quot;fill&quot;: true, &quot;fillColor&quot;: &quot;crimson&quot;, &quot;fillOpacity&quot;: 0.3, &quot;fillRule&quot;: &quot;evenodd&quot;, &quot;lineCap&quot;: &quot;round&quot;, &quot;lineJoin&quot;: &quot;round&quot;, &quot;opacity&quot;: 1.0, &quot;radius&quot;: 0.6265369672131148, &quot;stroke&quot;: true, &quot;weight&quot;: 3}\n",
       "            ).addTo(map_63bd30139a6212ba0546419532110ea0);\n",
       "        \n",
       "    \n",
       "        var popup_0726be081c504258e2a482b19ca8fb2e = L.popup({&quot;maxWidth&quot;: &quot;100%&quot;});\n",
       "\n",
       "        \n",
       "            \n",
       "                var html_b590d651aff8658503ee48c390b18887 = $(`&lt;div id=&quot;html_b590d651aff8658503ee48c390b18887&quot; style=&quot;width: 100.0%; height: 100.0%;&quot;&gt;&lt;strong&gt;State&lt;/strong&gt;Hubei&lt;br&gt;&lt;strong&gt;Confirmed Cases&lt;/strong&gt;62653.69672131148&lt;br&gt;&lt;/div&gt;`)[0];\n",
       "                popup_0726be081c504258e2a482b19ca8fb2e.setContent(html_b590d651aff8658503ee48c390b18887);\n",
       "            \n",
       "        \n",
       "\n",
       "        circle_marker_a4db678e04fed7f9375fdf260b7ab4a8.bindPopup(popup_0726be081c504258e2a482b19ca8fb2e)\n",
       "        ;\n",
       "\n",
       "        \n",
       "    \n",
       "    \n",
       "            var circle_marker_2e9801813c515738555486165f561366 = L.circleMarker(\n",
       "                [27.6104, 111.7088],\n",
       "                {&quot;bubblingMouseEvents&quot;: true, &quot;color&quot;: &quot;blue&quot;, &quot;dashArray&quot;: null, &quot;dashOffset&quot;: null, &quot;fill&quot;: true, &quot;fillColor&quot;: &quot;crimson&quot;, &quot;fillOpacity&quot;: 0.3, &quot;fillRule&quot;: &quot;evenodd&quot;, &quot;lineCap&quot;: &quot;round&quot;, &quot;lineJoin&quot;: &quot;round&quot;, &quot;opacity&quot;: 1.0, &quot;radius&quot;: 0.009660040983606557, &quot;stroke&quot;: true, &quot;weight&quot;: 3}\n",
       "            ).addTo(map_63bd30139a6212ba0546419532110ea0);\n",
       "        \n",
       "    \n",
       "        var popup_f746c75d5df9940d02d26e09640fc82b = L.popup({&quot;maxWidth&quot;: &quot;100%&quot;});\n",
       "\n",
       "        \n",
       "            \n",
       "                var html_257389d4d7eca869dbfb351a0a8a29f0 = $(`&lt;div id=&quot;html_257389d4d7eca869dbfb351a0a8a29f0&quot; style=&quot;width: 100.0%; height: 100.0%;&quot;&gt;&lt;strong&gt;State&lt;/strong&gt;Hunan&lt;br&gt;&lt;strong&gt;Confirmed Cases&lt;/strong&gt;966.0040983606557&lt;br&gt;&lt;/div&gt;`)[0];\n",
       "                popup_f746c75d5df9940d02d26e09640fc82b.setContent(html_257389d4d7eca869dbfb351a0a8a29f0);\n",
       "            \n",
       "        \n",
       "\n",
       "        circle_marker_2e9801813c515738555486165f561366.bindPopup(popup_f746c75d5df9940d02d26e09640fc82b)\n",
       "        ;\n",
       "\n",
       "        \n",
       "    \n",
       "    \n",
       "            var circle_marker_7fa027c65d8f6ddcbf06dd05f338b588 = L.circleMarker(\n",
       "                [44.0935, 113.9448],\n",
       "                {&quot;bubblingMouseEvents&quot;: true, &quot;color&quot;: &quot;blue&quot;, &quot;dashArray&quot;: null, &quot;dashOffset&quot;: null, &quot;fill&quot;: true, &quot;fillColor&quot;: &quot;crimson&quot;, &quot;fillOpacity&quot;: 0.3, &quot;fillRule&quot;: &quot;evenodd&quot;, &quot;lineCap&quot;: &quot;round&quot;, &quot;lineJoin&quot;: &quot;round&quot;, &quot;opacity&quot;: 1.0, &quot;radius&quot;: 0.0018170491803278688, &quot;stroke&quot;: true, &quot;weight&quot;: 3}\n",
       "            ).addTo(map_63bd30139a6212ba0546419532110ea0);\n",
       "        \n",
       "    \n",
       "        var popup_46ced6001181db05e62f102d37654bdf = L.popup({&quot;maxWidth&quot;: &quot;100%&quot;});\n",
       "\n",
       "        \n",
       "            \n",
       "                var html_f36ff4e0c91f3fb879a917438223ee18 = $(`&lt;div id=&quot;html_f36ff4e0c91f3fb879a917438223ee18&quot; style=&quot;width: 100.0%; height: 100.0%;&quot;&gt;&lt;strong&gt;State&lt;/strong&gt;Inner mongolia&lt;br&gt;&lt;strong&gt;Confirmed Cases&lt;/strong&gt;181.70491803278688&lt;br&gt;&lt;/div&gt;`)[0];\n",
       "                popup_46ced6001181db05e62f102d37654bdf.setContent(html_f36ff4e0c91f3fb879a917438223ee18);\n",
       "            \n",
       "        \n",
       "\n",
       "        circle_marker_7fa027c65d8f6ddcbf06dd05f338b588.bindPopup(popup_46ced6001181db05e62f102d37654bdf)\n",
       "        ;\n",
       "\n",
       "        \n",
       "    \n",
       "    \n",
       "            var circle_marker_8df04913eaa928e32c57b8f4156c1327 = L.circleMarker(\n",
       "                [54.2361, -4.5481],\n",
       "                {&quot;bubblingMouseEvents&quot;: true, &quot;color&quot;: &quot;blue&quot;, &quot;dashArray&quot;: null, &quot;dashOffset&quot;: null, &quot;fill&quot;: true, &quot;fillColor&quot;: &quot;crimson&quot;, &quot;fillOpacity&quot;: 0.3, &quot;fillRule&quot;: &quot;evenodd&quot;, &quot;lineCap&quot;: &quot;round&quot;, &quot;lineJoin&quot;: &quot;round&quot;, &quot;opacity&quot;: 1.0, &quot;radius&quot;: 0.0022836475409836066, &quot;stroke&quot;: true, &quot;weight&quot;: 3}\n",
       "            ).addTo(map_63bd30139a6212ba0546419532110ea0);\n",
       "        \n",
       "    \n",
       "        var popup_114d0f8aa819a1fcb129a90e1eb4cc6e = L.popup({&quot;maxWidth&quot;: &quot;100%&quot;});\n",
       "\n",
       "        \n",
       "            \n",
       "                var html_f0b3608f499392f7ae31895144367282 = $(`&lt;div id=&quot;html_f0b3608f499392f7ae31895144367282&quot; style=&quot;width: 100.0%; height: 100.0%;&quot;&gt;&lt;strong&gt;State&lt;/strong&gt;Isle of man&lt;br&gt;&lt;strong&gt;Confirmed Cases&lt;/strong&gt;228.36475409836066&lt;br&gt;&lt;/div&gt;`)[0];\n",
       "                popup_114d0f8aa819a1fcb129a90e1eb4cc6e.setContent(html_f0b3608f499392f7ae31895144367282);\n",
       "            \n",
       "        \n",
       "\n",
       "        circle_marker_8df04913eaa928e32c57b8f4156c1327.bindPopup(popup_114d0f8aa819a1fcb129a90e1eb4cc6e)\n",
       "        ;\n",
       "\n",
       "        \n",
       "    \n",
       "    \n",
       "            var circle_marker_e252d9e191e158567c095e1b4c4a543e = L.circleMarker(\n",
       "                [32.9711, 119.455],\n",
       "                {&quot;bubblingMouseEvents&quot;: true, &quot;color&quot;: &quot;blue&quot;, &quot;dashArray&quot;: null, &quot;dashOffset&quot;: null, &quot;fill&quot;: true, &quot;fillColor&quot;: &quot;crimson&quot;, &quot;fillOpacity&quot;: 0.3, &quot;fillRule&quot;: &quot;evenodd&quot;, &quot;lineCap&quot;: &quot;round&quot;, &quot;lineJoin&quot;: &quot;round&quot;, &quot;opacity&quot;: 1.0, &quot;radius&quot;: 0.00612983606557377, &quot;stroke&quot;: true, &quot;weight&quot;: 3}\n",
       "            ).addTo(map_63bd30139a6212ba0546419532110ea0);\n",
       "        \n",
       "    \n",
       "        var popup_93d15e3e41601cbf88af48526b3c144c = L.popup({&quot;maxWidth&quot;: &quot;100%&quot;});\n",
       "\n",
       "        \n",
       "            \n",
       "                var html_136cd8682489ef4dc45421ef587157c6 = $(`&lt;div id=&quot;html_136cd8682489ef4dc45421ef587157c6&quot; style=&quot;width: 100.0%; height: 100.0%;&quot;&gt;&lt;strong&gt;State&lt;/strong&gt;Jiangsu&lt;br&gt;&lt;strong&gt;Confirmed Cases&lt;/strong&gt;612.983606557377&lt;br&gt;&lt;/div&gt;`)[0];\n",
       "                popup_93d15e3e41601cbf88af48526b3c144c.setContent(html_136cd8682489ef4dc45421ef587157c6);\n",
       "            \n",
       "        \n",
       "\n",
       "        circle_marker_e252d9e191e158567c095e1b4c4a543e.bindPopup(popup_93d15e3e41601cbf88af48526b3c144c)\n",
       "        ;\n",
       "\n",
       "        \n",
       "    \n",
       "    \n",
       "            var circle_marker_7c37faeaeb69fb3518664adaa2220b76 = L.circleMarker(\n",
       "                [27.614, 115.7221],\n",
       "                {&quot;bubblingMouseEvents&quot;: true, &quot;color&quot;: &quot;blue&quot;, &quot;dashArray&quot;: null, &quot;dashOffset&quot;: null, &quot;fill&quot;: true, &quot;fillColor&quot;: &quot;crimson&quot;, &quot;fillOpacity&quot;: 0.3, &quot;fillRule&quot;: &quot;evenodd&quot;, &quot;lineCap&quot;: &quot;round&quot;, &quot;lineJoin&quot;: &quot;round&quot;, &quot;opacity&quot;: 1.0, &quot;radius&quot;: 0.008822008196721312, &quot;stroke&quot;: true, &quot;weight&quot;: 3}\n",
       "            ).addTo(map_63bd30139a6212ba0546419532110ea0);\n",
       "        \n",
       "    \n",
       "        var popup_5fadec6589d8ef331fa103eddbc45bbe = L.popup({&quot;maxWidth&quot;: &quot;100%&quot;});\n",
       "\n",
       "        \n",
       "            \n",
       "                var html_d975497d282bab0df557bef2f6424301 = $(`&lt;div id=&quot;html_d975497d282bab0df557bef2f6424301&quot; style=&quot;width: 100.0%; height: 100.0%;&quot;&gt;&lt;strong&gt;State&lt;/strong&gt;Jiangxi&lt;br&gt;&lt;strong&gt;Confirmed Cases&lt;/strong&gt;882.2008196721312&lt;br&gt;&lt;/div&gt;`)[0];\n",
       "                popup_5fadec6589d8ef331fa103eddbc45bbe.setContent(html_d975497d282bab0df557bef2f6424301);\n",
       "            \n",
       "        \n",
       "\n",
       "        circle_marker_7c37faeaeb69fb3518664adaa2220b76.bindPopup(popup_5fadec6589d8ef331fa103eddbc45bbe)\n",
       "        ;\n",
       "\n",
       "        \n",
       "    \n",
       "    \n",
       "            var circle_marker_806f5c299f7ae6c3b69cf7930db157a0 = L.circleMarker(\n",
       "                [43.6661, 126.1923],\n",
       "                {&quot;bubblingMouseEvents&quot;: true, &quot;color&quot;: &quot;blue&quot;, &quot;dashArray&quot;: null, &quot;dashOffset&quot;: null, &quot;fill&quot;: true, &quot;fillColor&quot;: &quot;crimson&quot;, &quot;fillOpacity&quot;: 0.3, &quot;fillRule&quot;: &quot;evenodd&quot;, &quot;lineCap&quot;: &quot;round&quot;, &quot;lineJoin&quot;: &quot;round&quot;, &quot;opacity&quot;: 1.0, &quot;radius&quot;: 0.0012363524590163935, &quot;stroke&quot;: true, &quot;weight&quot;: 3}\n",
       "            ).addTo(map_63bd30139a6212ba0546419532110ea0);\n",
       "        \n",
       "    \n",
       "        var popup_a9ce85104b8e1fd632d4fce006970244 = L.popup({&quot;maxWidth&quot;: &quot;100%&quot;});\n",
       "\n",
       "        \n",
       "            \n",
       "                var html_119a561ffbd4dfc56ea22141c23c7783 = $(`&lt;div id=&quot;html_119a561ffbd4dfc56ea22141c23c7783&quot; style=&quot;width: 100.0%; height: 100.0%;&quot;&gt;&lt;strong&gt;State&lt;/strong&gt;Jilin&lt;br&gt;&lt;strong&gt;Confirmed Cases&lt;/strong&gt;123.63524590163935&lt;br&gt;&lt;/div&gt;`)[0];\n",
       "                popup_a9ce85104b8e1fd632d4fce006970244.setContent(html_119a561ffbd4dfc56ea22141c23c7783);\n",
       "            \n",
       "        \n",
       "\n",
       "        circle_marker_806f5c299f7ae6c3b69cf7930db157a0.bindPopup(popup_a9ce85104b8e1fd632d4fce006970244)\n",
       "        ;\n",
       "\n",
       "        \n",
       "    \n",
       "    \n",
       "            var circle_marker_8217b2c26325d6fb4322ff8a9a293d45 = L.circleMarker(\n",
       "                [41.2956, 122.6085],\n",
       "                {&quot;bubblingMouseEvents&quot;: true, &quot;color&quot;: &quot;blue&quot;, &quot;dashArray&quot;: null, &quot;dashOffset&quot;: null, &quot;fill&quot;: true, &quot;fillColor&quot;: &quot;crimson&quot;, &quot;fillOpacity&quot;: 0.3, &quot;fillRule&quot;: &quot;evenodd&quot;, &quot;lineCap&quot;: &quot;round&quot;, &quot;lineJoin&quot;: &quot;round&quot;, &quot;opacity&quot;: 1.0, &quot;radius&quot;: 0.0016311065573770493, &quot;stroke&quot;: true, &quot;weight&quot;: 3}\n",
       "            ).addTo(map_63bd30139a6212ba0546419532110ea0);\n",
       "        \n",
       "    \n",
       "        var popup_e7df587be857811b12f1e0953ba0227e = L.popup({&quot;maxWidth&quot;: &quot;100%&quot;});\n",
       "\n",
       "        \n",
       "            \n",
       "                var html_71439af755e35e91b673ef3d1b17201b = $(`&lt;div id=&quot;html_71439af755e35e91b673ef3d1b17201b&quot; style=&quot;width: 100.0%; height: 100.0%;&quot;&gt;&lt;strong&gt;State&lt;/strong&gt;Liaoning&lt;br&gt;&lt;strong&gt;Confirmed Cases&lt;/strong&gt;163.11065573770492&lt;br&gt;&lt;/div&gt;`)[0];\n",
       "                popup_e7df587be857811b12f1e0953ba0227e.setContent(html_71439af755e35e91b673ef3d1b17201b);\n",
       "            \n",
       "        \n",
       "\n",
       "        circle_marker_8217b2c26325d6fb4322ff8a9a293d45.bindPopup(popup_e7df587be857811b12f1e0953ba0227e)\n",
       "        ;\n",
       "\n",
       "        \n",
       "    \n",
       "    \n",
       "            var circle_marker_288a7b000a0dfc99f33003e843eca74b = L.circleMarker(\n",
       "                [22.1667, 113.55],\n",
       "                {&quot;bubblingMouseEvents&quot;: true, &quot;color&quot;: &quot;blue&quot;, &quot;dashArray&quot;: null, &quot;dashOffset&quot;: null, &quot;fill&quot;: true, &quot;fillColor&quot;: &quot;crimson&quot;, &quot;fillOpacity&quot;: 0.3, &quot;fillRule&quot;: &quot;evenodd&quot;, &quot;lineCap&quot;: &quot;round&quot;, &quot;lineJoin&quot;: &quot;round&quot;, &quot;opacity&quot;: 1.0, &quot;radius&quot;: 0.00036036885245901637, &quot;stroke&quot;: true, &quot;weight&quot;: 3}\n",
       "            ).addTo(map_63bd30139a6212ba0546419532110ea0);\n",
       "        \n",
       "    \n",
       "        var popup_4e0a943bde13ed82cf32bd56ed9e876f = L.popup({&quot;maxWidth&quot;: &quot;100%&quot;});\n",
       "\n",
       "        \n",
       "            \n",
       "                var html_2a3e71eb0d4bd0eaa2712fe449dc6c97 = $(`&lt;div id=&quot;html_2a3e71eb0d4bd0eaa2712fe449dc6c97&quot; style=&quot;width: 100.0%; height: 100.0%;&quot;&gt;&lt;strong&gt;State&lt;/strong&gt;Macau&lt;br&gt;&lt;strong&gt;Confirmed Cases&lt;/strong&gt;36.03688524590164&lt;br&gt;&lt;/div&gt;`)[0];\n",
       "                popup_4e0a943bde13ed82cf32bd56ed9e876f.setContent(html_2a3e71eb0d4bd0eaa2712fe449dc6c97);\n",
       "            \n",
       "        \n",
       "\n",
       "        circle_marker_288a7b000a0dfc99f33003e843eca74b.bindPopup(popup_4e0a943bde13ed82cf32bd56ed9e876f)\n",
       "        ;\n",
       "\n",
       "        \n",
       "    \n",
       "    \n",
       "            var circle_marker_0d56f15d0ea34ef70d996ad65be4e334 = L.circleMarker(\n",
       "                [53.7609, -98.8139],\n",
       "                {&quot;bubblingMouseEvents&quot;: true, &quot;color&quot;: &quot;blue&quot;, &quot;dashArray&quot;: null, &quot;dashOffset&quot;: null, &quot;fill&quot;: true, &quot;fillColor&quot;: &quot;crimson&quot;, &quot;fillOpacity&quot;: 0.3, &quot;fillRule&quot;: &quot;evenodd&quot;, &quot;lineCap&quot;: &quot;round&quot;, &quot;lineJoin&quot;: &quot;round&quot;, &quot;opacity&quot;: 1.0, &quot;radius&quot;: 0.0036566803278688526, &quot;stroke&quot;: true, &quot;weight&quot;: 3}\n",
       "            ).addTo(map_63bd30139a6212ba0546419532110ea0);\n",
       "        \n",
       "    \n",
       "        var popup_054c08913f5438b0f948642f01ea3c0e = L.popup({&quot;maxWidth&quot;: &quot;100%&quot;});\n",
       "\n",
       "        \n",
       "            \n",
       "                var html_454d39e4efb2f1278ab83109d2ab3475 = $(`&lt;div id=&quot;html_454d39e4efb2f1278ab83109d2ab3475&quot; style=&quot;width: 100.0%; height: 100.0%;&quot;&gt;&lt;strong&gt;State&lt;/strong&gt;Manitoba&lt;br&gt;&lt;strong&gt;Confirmed Cases&lt;/strong&gt;365.66803278688525&lt;br&gt;&lt;/div&gt;`)[0];\n",
       "                popup_054c08913f5438b0f948642f01ea3c0e.setContent(html_454d39e4efb2f1278ab83109d2ab3475);\n",
       "            \n",
       "        \n",
       "\n",
       "        circle_marker_0d56f15d0ea34ef70d996ad65be4e334.bindPopup(popup_054c08913f5438b0f948642f01ea3c0e)\n",
       "        ;\n",
       "\n",
       "        \n",
       "    \n",
       "    \n",
       "            var circle_marker_7835ede42ba2795811d726f7b5bc09c8 = L.circleMarker(\n",
       "                [14.6415, -61.0242],\n",
       "                {&quot;bubblingMouseEvents&quot;: true, &quot;color&quot;: &quot;blue&quot;, &quot;dashArray&quot;: null, &quot;dashOffset&quot;: null, &quot;fill&quot;: true, &quot;fillColor&quot;: &quot;crimson&quot;, &quot;fillOpacity&quot;: 0.3, &quot;fillRule&quot;: &quot;evenodd&quot;, &quot;lineCap&quot;: &quot;round&quot;, &quot;lineJoin&quot;: &quot;round&quot;, &quot;opacity&quot;: 1.0, &quot;radius&quot;: 0.0023693852459016392, &quot;stroke&quot;: true, &quot;weight&quot;: 3}\n",
       "            ).addTo(map_63bd30139a6212ba0546419532110ea0);\n",
       "        \n",
       "    \n",
       "        var popup_55b4e6035147260a4fba8faf3dbcd769 = L.popup({&quot;maxWidth&quot;: &quot;100%&quot;});\n",
       "\n",
       "        \n",
       "            \n",
       "                var html_bd823e4a1662e2a2a6629fc97ad7bfaa = $(`&lt;div id=&quot;html_bd823e4a1662e2a2a6629fc97ad7bfaa&quot; style=&quot;width: 100.0%; height: 100.0%;&quot;&gt;&lt;strong&gt;State&lt;/strong&gt;Martinique&lt;br&gt;&lt;strong&gt;Confirmed Cases&lt;/strong&gt;236.93852459016392&lt;br&gt;&lt;/div&gt;`)[0];\n",
       "                popup_55b4e6035147260a4fba8faf3dbcd769.setContent(html_bd823e4a1662e2a2a6629fc97ad7bfaa);\n",
       "            \n",
       "        \n",
       "\n",
       "        circle_marker_7835ede42ba2795811d726f7b5bc09c8.bindPopup(popup_55b4e6035147260a4fba8faf3dbcd769)\n",
       "        ;\n",
       "\n",
       "        \n",
       "    \n",
       "    \n",
       "            var circle_marker_6ae4e678da87101797e48cb7010e26f2 = L.circleMarker(\n",
       "                [-12.8275, 45.166244],\n",
       "                {&quot;bubblingMouseEvents&quot;: true, &quot;color&quot;: &quot;blue&quot;, &quot;dashArray&quot;: null, &quot;dashOffset&quot;: null, &quot;fill&quot;: true, &quot;fillColor&quot;: &quot;crimson&quot;, &quot;fillOpacity&quot;: 0.3, &quot;fillRule&quot;: &quot;evenodd&quot;, &quot;lineCap&quot;: &quot;round&quot;, &quot;lineJoin&quot;: &quot;round&quot;, &quot;opacity&quot;: 1.0, &quot;radius&quot;: 0.015173483606557377, &quot;stroke&quot;: true, &quot;weight&quot;: 3}\n",
       "            ).addTo(map_63bd30139a6212ba0546419532110ea0);\n",
       "        \n",
       "    \n",
       "        var popup_e5592a67b0c2cb07c766d3a7142728f8 = L.popup({&quot;maxWidth&quot;: &quot;100%&quot;});\n",
       "\n",
       "        \n",
       "            \n",
       "                var html_b28f6afaf37e8a1423cc099808a275f7 = $(`&lt;div id=&quot;html_b28f6afaf37e8a1423cc099808a275f7&quot; style=&quot;width: 100.0%; height: 100.0%;&quot;&gt;&lt;strong&gt;State&lt;/strong&gt;Mayotte&lt;br&gt;&lt;strong&gt;Confirmed Cases&lt;/strong&gt;1517.3483606557377&lt;br&gt;&lt;/div&gt;`)[0];\n",
       "                popup_e5592a67b0c2cb07c766d3a7142728f8.setContent(html_b28f6afaf37e8a1423cc099808a275f7);\n",
       "            \n",
       "        \n",
       "\n",
       "        circle_marker_6ae4e678da87101797e48cb7010e26f2.bindPopup(popup_e5592a67b0c2cb07c766d3a7142728f8)\n",
       "        ;\n",
       "\n",
       "        \n",
       "    \n",
       "    \n",
       "            var circle_marker_77df94073ef0c9df1f3aa6ac9fa075dc = L.circleMarker(\n",
       "                [16.742498, -62.187366],\n",
       "                {&quot;bubblingMouseEvents&quot;: true, &quot;color&quot;: &quot;blue&quot;, &quot;dashArray&quot;: null, &quot;dashOffset&quot;: null, &quot;fill&quot;: true, &quot;fillColor&quot;: &quot;crimson&quot;, &quot;fillOpacity&quot;: 0.3, &quot;fillRule&quot;: &quot;evenodd&quot;, &quot;lineCap&quot;: &quot;round&quot;, &quot;lineJoin&quot;: &quot;round&quot;, &quot;opacity&quot;: 1.0, &quot;radius&quot;: 8.327868852459016e-05, &quot;stroke&quot;: true, &quot;weight&quot;: 3}\n",
       "            ).addTo(map_63bd30139a6212ba0546419532110ea0);\n",
       "        \n",
       "    \n",
       "        var popup_a649720d4b6b41a46e550f837773f674 = L.popup({&quot;maxWidth&quot;: &quot;100%&quot;});\n",
       "\n",
       "        \n",
       "            \n",
       "                var html_3170174f3b05bbe34b53eedd872779f3 = $(`&lt;div id=&quot;html_3170174f3b05bbe34b53eedd872779f3&quot; style=&quot;width: 100.0%; height: 100.0%;&quot;&gt;&lt;strong&gt;State&lt;/strong&gt;Montserrat&lt;br&gt;&lt;strong&gt;Confirmed Cases&lt;/strong&gt;8.327868852459016&lt;br&gt;&lt;/div&gt;`)[0];\n",
       "                popup_a649720d4b6b41a46e550f837773f674.setContent(html_3170174f3b05bbe34b53eedd872779f3);\n",
       "            \n",
       "        \n",
       "\n",
       "        circle_marker_77df94073ef0c9df1f3aa6ac9fa075dc.bindPopup(popup_a649720d4b6b41a46e550f837773f674)\n",
       "        ;\n",
       "\n",
       "        \n",
       "    \n",
       "    \n",
       "            var circle_marker_d04c0588577efd5399fd2a9d73f0b43c = L.circleMarker(\n",
       "                [33.93911, 67.709953],\n",
       "                {&quot;bubblingMouseEvents&quot;: true, &quot;color&quot;: &quot;blue&quot;, &quot;dashArray&quot;: null, &quot;dashOffset&quot;: null, &quot;fill&quot;: true, &quot;fillColor&quot;: &quot;crimson&quot;, &quot;fillOpacity&quot;: 0.3, &quot;fillRule&quot;: &quot;evenodd&quot;, &quot;lineCap&quot;: &quot;round&quot;, &quot;lineJoin&quot;: &quot;round&quot;, &quot;opacity&quot;: 1.0, &quot;radius&quot;: 0.16625311475409835, &quot;stroke&quot;: true, &quot;weight&quot;: 3}\n",
       "            ).addTo(map_63bd30139a6212ba0546419532110ea0);\n",
       "        \n",
       "    \n",
       "        var popup_da89060096e6833d189f42ba9630bba6 = L.popup({&quot;maxWidth&quot;: &quot;100%&quot;});\n",
       "\n",
       "        \n",
       "            \n",
       "                var html_c8f7e69979b780b3195099d14768c09d = $(`&lt;div id=&quot;html_c8f7e69979b780b3195099d14768c09d&quot; style=&quot;width: 100.0%; height: 100.0%;&quot;&gt;&lt;strong&gt;State&lt;/strong&gt;N/a&lt;br&gt;&lt;strong&gt;Confirmed Cases&lt;/strong&gt;16625.311475409835&lt;br&gt;&lt;/div&gt;`)[0];\n",
       "                popup_da89060096e6833d189f42ba9630bba6.setContent(html_c8f7e69979b780b3195099d14768c09d);\n",
       "            \n",
       "        \n",
       "\n",
       "        circle_marker_d04c0588577efd5399fd2a9d73f0b43c.bindPopup(popup_da89060096e6833d189f42ba9630bba6)\n",
       "        ;\n",
       "\n",
       "        \n",
       "    \n",
       "    \n",
       "            var circle_marker_3709da2170923cf2e202dfb003c207c6 = L.circleMarker(\n",
       "                [41.1533, 20.1683],\n",
       "                {&quot;bubblingMouseEvents&quot;: true, &quot;color&quot;: &quot;blue&quot;, &quot;dashArray&quot;: null, &quot;dashOffset&quot;: null, &quot;fill&quot;: true, &quot;fillColor&quot;: &quot;crimson&quot;, &quot;fillOpacity&quot;: 0.3, &quot;fillRule&quot;: &quot;evenodd&quot;, &quot;lineCap&quot;: &quot;round&quot;, &quot;lineJoin&quot;: &quot;round&quot;, &quot;opacity&quot;: 1.0, &quot;radius&quot;: 0.027840737704918034, &quot;stroke&quot;: true, &quot;weight&quot;: 3}\n",
       "            ).addTo(map_63bd30139a6212ba0546419532110ea0);\n",
       "        \n",
       "    \n",
       "        var popup_765c8bf1ee09a2812c03cea509dc8b79 = L.popup({&quot;maxWidth&quot;: &quot;100%&quot;});\n",
       "\n",
       "        \n",
       "            \n",
       "                var html_59f09810a683529f61bd7f428b07f63e = $(`&lt;div id=&quot;html_59f09810a683529f61bd7f428b07f63e&quot; style=&quot;width: 100.0%; height: 100.0%;&quot;&gt;&lt;strong&gt;State&lt;/strong&gt;N/a&lt;br&gt;&lt;strong&gt;Confirmed Cases&lt;/strong&gt;2784.0737704918033&lt;br&gt;&lt;/div&gt;`)[0];\n",
       "                popup_765c8bf1ee09a2812c03cea509dc8b79.setContent(html_59f09810a683529f61bd7f428b07f63e);\n",
       "            \n",
       "        \n",
       "\n",
       "        circle_marker_3709da2170923cf2e202dfb003c207c6.bindPopup(popup_765c8bf1ee09a2812c03cea509dc8b79)\n",
       "        ;\n",
       "\n",
       "        \n",
       "    \n",
       "    \n",
       "            var circle_marker_d74b9f8a773bb32a136d3611f30c3866 = L.circleMarker(\n",
       "                [28.0339, 1.6596],\n",
       "                {&quot;bubblingMouseEvents&quot;: true, &quot;color&quot;: &quot;blue&quot;, &quot;dashArray&quot;: null, &quot;dashOffset&quot;: null, &quot;fill&quot;: true, &quot;fillColor&quot;: &quot;crimson&quot;, &quot;fillOpacity&quot;: 0.3, &quot;fillRule&quot;: &quot;evenodd&quot;, &quot;lineCap&quot;: &quot;round&quot;, &quot;lineJoin&quot;: &quot;round&quot;, &quot;opacity&quot;: 1.0, &quot;radius&quot;: 0.14275209016393442, &quot;stroke&quot;: true, &quot;weight&quot;: 3}\n",
       "            ).addTo(map_63bd30139a6212ba0546419532110ea0);\n",
       "        \n",
       "    \n",
       "        var popup_cf9e498727b909e361856f318fe42de2 = L.popup({&quot;maxWidth&quot;: &quot;100%&quot;});\n",
       "\n",
       "        \n",
       "            \n",
       "                var html_2eb9ce1fc27cb430ad2a5ef0060454d7 = $(`&lt;div id=&quot;html_2eb9ce1fc27cb430ad2a5ef0060454d7&quot; style=&quot;width: 100.0%; height: 100.0%;&quot;&gt;&lt;strong&gt;State&lt;/strong&gt;N/a&lt;br&gt;&lt;strong&gt;Confirmed Cases&lt;/strong&gt;14275.209016393443&lt;br&gt;&lt;/div&gt;`)[0];\n",
       "                popup_cf9e498727b909e361856f318fe42de2.setContent(html_2eb9ce1fc27cb430ad2a5ef0060454d7);\n",
       "            \n",
       "        \n",
       "\n",
       "        circle_marker_d74b9f8a773bb32a136d3611f30c3866.bindPopup(popup_cf9e498727b909e361856f318fe42de2)\n",
       "        ;\n",
       "\n",
       "        \n",
       "    \n",
       "    \n",
       "            var circle_marker_2abba1f02cbf381d80696b4a079dda4e = L.circleMarker(\n",
       "                [42.5063, 1.5218],\n",
       "                {&quot;bubblingMouseEvents&quot;: true, &quot;color&quot;: &quot;blue&quot;, &quot;dashArray&quot;: null, &quot;dashOffset&quot;: null, &quot;fill&quot;: true, &quot;fillColor&quot;: &quot;crimson&quot;, &quot;fillOpacity&quot;: 0.3, &quot;fillRule&quot;: &quot;evenodd&quot;, &quot;lineCap&quot;: &quot;round&quot;, &quot;lineJoin&quot;: &quot;round&quot;, &quot;opacity&quot;: 1.0, &quot;radius&quot;: 0.006477704918032787, &quot;stroke&quot;: true, &quot;weight&quot;: 3}\n",
       "            ).addTo(map_63bd30139a6212ba0546419532110ea0);\n",
       "        \n",
       "    \n",
       "        var popup_22a5870a6a08ae7b210d0a8c13dbc61c = L.popup({&quot;maxWidth&quot;: &quot;100%&quot;});\n",
       "\n",
       "        \n",
       "            \n",
       "                var html_44e5acfa539aca244fc95f9403d127b9 = $(`&lt;div id=&quot;html_44e5acfa539aca244fc95f9403d127b9&quot; style=&quot;width: 100.0%; height: 100.0%;&quot;&gt;&lt;strong&gt;State&lt;/strong&gt;N/a&lt;br&gt;&lt;strong&gt;Confirmed Cases&lt;/strong&gt;647.7704918032787&lt;br&gt;&lt;/div&gt;`)[0];\n",
       "                popup_22a5870a6a08ae7b210d0a8c13dbc61c.setContent(html_44e5acfa539aca244fc95f9403d127b9);\n",
       "            \n",
       "        \n",
       "\n",
       "        circle_marker_2abba1f02cbf381d80696b4a079dda4e.bindPopup(popup_22a5870a6a08ae7b210d0a8c13dbc61c)\n",
       "        ;\n",
       "\n",
       "        \n",
       "    \n",
       "    \n",
       "            var circle_marker_4cda9c39b6e6daa1d021563e39c9a5a1 = L.circleMarker(\n",
       "                [-11.2027, 17.8739],\n",
       "                {&quot;bubblingMouseEvents&quot;: true, &quot;color&quot;: &quot;blue&quot;, &quot;dashArray&quot;: null, &quot;dashOffset&quot;: null, &quot;fill&quot;: true, &quot;fillColor&quot;: &quot;crimson&quot;, &quot;fillOpacity&quot;: 0.3, &quot;fillRule&quot;: &quot;evenodd&quot;, &quot;lineCap&quot;: &quot;round&quot;, &quot;lineJoin&quot;: &quot;round&quot;, &quot;opacity&quot;: 1.0, &quot;radius&quot;: 0.006389262295081967, &quot;stroke&quot;: true, &quot;weight&quot;: 3}\n",
       "            ).addTo(map_63bd30139a6212ba0546419532110ea0);\n",
       "        \n",
       "    \n",
       "        var popup_5251ae9ca01e6f3630e6c64bd533abc6 = L.popup({&quot;maxWidth&quot;: &quot;100%&quot;});\n",
       "\n",
       "        \n",
       "            \n",
       "                var html_38d05ed139387f34258f28c7cff72808 = $(`&lt;div id=&quot;html_38d05ed139387f34258f28c7cff72808&quot; style=&quot;width: 100.0%; height: 100.0%;&quot;&gt;&lt;strong&gt;State&lt;/strong&gt;N/a&lt;br&gt;&lt;strong&gt;Confirmed Cases&lt;/strong&gt;638.9262295081967&lt;br&gt;&lt;/div&gt;`)[0];\n",
       "                popup_5251ae9ca01e6f3630e6c64bd533abc6.setContent(html_38d05ed139387f34258f28c7cff72808);\n",
       "            \n",
       "        \n",
       "\n",
       "        circle_marker_4cda9c39b6e6daa1d021563e39c9a5a1.bindPopup(popup_5251ae9ca01e6f3630e6c64bd533abc6)\n",
       "        ;\n",
       "\n",
       "        \n",
       "    \n",
       "    \n",
       "            var circle_marker_a0e4b0e1cd405eb1dffa4705eb411345 = L.circleMarker(\n",
       "                [17.0608, -61.7964],\n",
       "                {&quot;bubblingMouseEvents&quot;: true, &quot;color&quot;: &quot;blue&quot;, &quot;dashArray&quot;: null, &quot;dashOffset&quot;: null, &quot;fill&quot;: true, &quot;fillColor&quot;: &quot;crimson&quot;, &quot;fillOpacity&quot;: 0.3, &quot;fillRule&quot;: &quot;evenodd&quot;, &quot;lineCap&quot;: &quot;round&quot;, &quot;lineJoin&quot;: &quot;round&quot;, &quot;opacity&quot;: 1.0, &quot;radius&quot;: 0.00039848360655737707, &quot;stroke&quot;: true, &quot;weight&quot;: 3}\n",
       "            ).addTo(map_63bd30139a6212ba0546419532110ea0);\n",
       "        \n",
       "    \n",
       "        var popup_15f2992fc554672ef3ce3f66a755879a = L.popup({&quot;maxWidth&quot;: &quot;100%&quot;});\n",
       "\n",
       "        \n",
       "            \n",
       "                var html_762663870a3b822b36d45d9c51dc88fe = $(`&lt;div id=&quot;html_762663870a3b822b36d45d9c51dc88fe&quot; style=&quot;width: 100.0%; height: 100.0%;&quot;&gt;&lt;strong&gt;State&lt;/strong&gt;N/a&lt;br&gt;&lt;strong&gt;Confirmed Cases&lt;/strong&gt;39.84836065573771&lt;br&gt;&lt;/div&gt;`)[0];\n",
       "                popup_15f2992fc554672ef3ce3f66a755879a.setContent(html_762663870a3b822b36d45d9c51dc88fe);\n",
       "            \n",
       "        \n",
       "\n",
       "        circle_marker_a0e4b0e1cd405eb1dffa4705eb411345.bindPopup(popup_15f2992fc554672ef3ce3f66a755879a)\n",
       "        ;\n",
       "\n",
       "        \n",
       "    \n",
       "    \n",
       "            var circle_marker_8f41292ffadd2189402b5e306fedf948 = L.circleMarker(\n",
       "                [-38.4161, -63.6167],\n",
       "                {&quot;bubblingMouseEvents&quot;: true, &quot;color&quot;: &quot;blue&quot;, &quot;dashArray&quot;: null, &quot;dashOffset&quot;: null, &quot;fill&quot;: true, &quot;fillColor&quot;: &quot;crimson&quot;, &quot;fillOpacity&quot;: 0.3, &quot;fillRule&quot;: &quot;evenodd&quot;, &quot;lineCap&quot;: &quot;round&quot;, &quot;lineJoin&quot;: &quot;round&quot;, &quot;opacity&quot;: 1.0, &quot;radius&quot;: 1.0515903278688525, &quot;stroke&quot;: true, &quot;weight&quot;: 3}\n",
       "            ).addTo(map_63bd30139a6212ba0546419532110ea0);\n",
       "        \n",
       "    \n",
       "        var popup_2aebfb147336eb1b6eff30e3636fc836 = L.popup({&quot;maxWidth&quot;: &quot;100%&quot;});\n",
       "\n",
       "        \n",
       "            \n",
       "                var html_187b2523f7e44910d8c5744028d71cbe = $(`&lt;div id=&quot;html_187b2523f7e44910d8c5744028d71cbe&quot; style=&quot;width: 100.0%; height: 100.0%;&quot;&gt;&lt;strong&gt;State&lt;/strong&gt;N/a&lt;br&gt;&lt;strong&gt;Confirmed Cases&lt;/strong&gt;105159.03278688525&lt;br&gt;&lt;/div&gt;`)[0];\n",
       "                popup_2aebfb147336eb1b6eff30e3636fc836.setContent(html_187b2523f7e44910d8c5744028d71cbe);\n",
       "            \n",
       "        \n",
       "\n",
       "        circle_marker_8f41292ffadd2189402b5e306fedf948.bindPopup(popup_2aebfb147336eb1b6eff30e3636fc836)\n",
       "        ;\n",
       "\n",
       "        \n",
       "    \n",
       "    \n",
       "            var circle_marker_75e7bd5e0438c9df608331a05c2b20c7 = L.circleMarker(\n",
       "                [40.0691, 45.0382],\n",
       "                {&quot;bubblingMouseEvents&quot;: true, &quot;color&quot;: &quot;blue&quot;, &quot;dashArray&quot;: null, &quot;dashOffset&quot;: null, &quot;fill&quot;: true, &quot;fillColor&quot;: &quot;crimson&quot;, &quot;fillOpacity&quot;: 0.3, &quot;fillRule&quot;: &quot;evenodd&quot;, &quot;lineCap&quot;: &quot;round&quot;, &quot;lineJoin&quot;: &quot;round&quot;, &quot;opacity&quot;: 1.0, &quot;radius&quot;: 0.16324545081967212, &quot;stroke&quot;: true, &quot;weight&quot;: 3}\n",
       "            ).addTo(map_63bd30139a6212ba0546419532110ea0);\n",
       "        \n",
       "    \n",
       "        var popup_38d2db9c8f05aef14eb44b1d86904a59 = L.popup({&quot;maxWidth&quot;: &quot;100%&quot;});\n",
       "\n",
       "        \n",
       "            \n",
       "                var html_146e54ddb24926912f6ada97557981b8 = $(`&lt;div id=&quot;html_146e54ddb24926912f6ada97557981b8&quot; style=&quot;width: 100.0%; height: 100.0%;&quot;&gt;&lt;strong&gt;State&lt;/strong&gt;N/a&lt;br&gt;&lt;strong&gt;Confirmed Cases&lt;/strong&gt;16324.545081967213&lt;br&gt;&lt;/div&gt;`)[0];\n",
       "                popup_38d2db9c8f05aef14eb44b1d86904a59.setContent(html_146e54ddb24926912f6ada97557981b8);\n",
       "            \n",
       "        \n",
       "\n",
       "        circle_marker_75e7bd5e0438c9df608331a05c2b20c7.bindPopup(popup_38d2db9c8f05aef14eb44b1d86904a59)\n",
       "        ;\n",
       "\n",
       "        \n",
       "    \n",
       "    \n",
       "            var circle_marker_5ba7452d3fcdcfe206d17c34fb883b8b = L.circleMarker(\n",
       "                [47.5162, 14.5501],\n",
       "                {&quot;bubblingMouseEvents&quot;: true, &quot;color&quot;: &quot;blue&quot;, &quot;dashArray&quot;: null, &quot;dashOffset&quot;: null, &quot;fill&quot;: true, &quot;fillColor&quot;: &quot;crimson&quot;, &quot;fillOpacity&quot;: 0.3, &quot;fillRule&quot;: &quot;evenodd&quot;, &quot;lineCap&quot;: &quot;round&quot;, &quot;lineJoin&quot;: &quot;round&quot;, &quot;opacity&quot;: 1.0, &quot;radius&quot;: 0.144854631147541, &quot;stroke&quot;: true, &quot;weight&quot;: 3}\n",
       "            ).addTo(map_63bd30139a6212ba0546419532110ea0);\n",
       "        \n",
       "    \n",
       "        var popup_8e70e6bb60f002bf21e39f2807731ce2 = L.popup({&quot;maxWidth&quot;: &quot;100%&quot;});\n",
       "\n",
       "        \n",
       "            \n",
       "                var html_2ce37bd82ff06c6f4c4bedec03b50f94 = $(`&lt;div id=&quot;html_2ce37bd82ff06c6f4c4bedec03b50f94&quot; style=&quot;width: 100.0%; height: 100.0%;&quot;&gt;&lt;strong&gt;State&lt;/strong&gt;N/a&lt;br&gt;&lt;strong&gt;Confirmed Cases&lt;/strong&gt;14485.463114754099&lt;br&gt;&lt;/div&gt;`)[0];\n",
       "                popup_8e70e6bb60f002bf21e39f2807731ce2.setContent(html_2ce37bd82ff06c6f4c4bedec03b50f94);\n",
       "            \n",
       "        \n",
       "\n",
       "        circle_marker_5ba7452d3fcdcfe206d17c34fb883b8b.bindPopup(popup_8e70e6bb60f002bf21e39f2807731ce2)\n",
       "        ;\n",
       "\n",
       "        \n",
       "    \n",
       "    \n",
       "            var circle_marker_b77af86b3232a428babe7ab458569170 = L.circleMarker(\n",
       "                [40.1431, 47.5769],\n",
       "                {&quot;bubblingMouseEvents&quot;: true, &quot;color&quot;: &quot;blue&quot;, &quot;dashArray&quot;: null, &quot;dashOffset&quot;: null, &quot;fill&quot;: true, &quot;fillColor&quot;: &quot;crimson&quot;, &quot;fillOpacity&quot;: 0.3, &quot;fillRule&quot;: &quot;evenodd&quot;, &quot;lineCap&quot;: &quot;round&quot;, &quot;lineJoin&quot;: &quot;round&quot;, &quot;opacity&quot;: 1.0, &quot;radius&quot;: 0.12800151639344262, &quot;stroke&quot;: true, &quot;weight&quot;: 3}\n",
       "            ).addTo(map_63bd30139a6212ba0546419532110ea0);\n",
       "        \n",
       "    \n",
       "        var popup_273a0c7e011972b29743f9a926bb102f = L.popup({&quot;maxWidth&quot;: &quot;100%&quot;});\n",
       "\n",
       "        \n",
       "            \n",
       "                var html_34751400e63ba712d3c116f735cac881 = $(`&lt;div id=&quot;html_34751400e63ba712d3c116f735cac881&quot; style=&quot;width: 100.0%; height: 100.0%;&quot;&gt;&lt;strong&gt;State&lt;/strong&gt;N/a&lt;br&gt;&lt;strong&gt;Confirmed Cases&lt;/strong&gt;12800.151639344262&lt;br&gt;&lt;/div&gt;`)[0];\n",
       "                popup_273a0c7e011972b29743f9a926bb102f.setContent(html_34751400e63ba712d3c116f735cac881);\n",
       "            \n",
       "        \n",
       "\n",
       "        circle_marker_b77af86b3232a428babe7ab458569170.bindPopup(popup_273a0c7e011972b29743f9a926bb102f)\n",
       "        ;\n",
       "\n",
       "        \n",
       "    \n",
       "    \n",
       "            var circle_marker_d26e46aa6ca5dc11ea7f498b9a910dd6 = L.circleMarker(\n",
       "                [25.025885, -78.035889],\n",
       "                {&quot;bubblingMouseEvents&quot;: true, &quot;color&quot;: &quot;blue&quot;, &quot;dashArray&quot;: null, &quot;dashOffset&quot;: null, &quot;fill&quot;: true, &quot;fillColor&quot;: &quot;crimson&quot;, &quot;fillOpacity&quot;: 0.3, &quot;fillRule&quot;: &quot;evenodd&quot;, &quot;lineCap&quot;: &quot;round&quot;, &quot;lineJoin&quot;: &quot;round&quot;, &quot;opacity&quot;: 1.0, &quot;radius&quot;: 0.004710286885245902, &quot;stroke&quot;: true, &quot;weight&quot;: 3}\n",
       "            ).addTo(map_63bd30139a6212ba0546419532110ea0);\n",
       "        \n",
       "    \n",
       "        var popup_6126d7b1d26323edc78215a4aa9d4a5d = L.popup({&quot;maxWidth&quot;: &quot;100%&quot;});\n",
       "\n",
       "        \n",
       "            \n",
       "                var html_63c40d09c05066cd073159f29279ad69 = $(`&lt;div id=&quot;html_63c40d09c05066cd073159f29279ad69&quot; style=&quot;width: 100.0%; height: 100.0%;&quot;&gt;&lt;strong&gt;State&lt;/strong&gt;N/a&lt;br&gt;&lt;strong&gt;Confirmed Cases&lt;/strong&gt;471.02868852459017&lt;br&gt;&lt;/div&gt;`)[0];\n",
       "                popup_6126d7b1d26323edc78215a4aa9d4a5d.setContent(html_63c40d09c05066cd073159f29279ad69);\n",
       "            \n",
       "        \n",
       "\n",
       "        circle_marker_d26e46aa6ca5dc11ea7f498b9a910dd6.bindPopup(popup_6126d7b1d26323edc78215a4aa9d4a5d)\n",
       "        ;\n",
       "\n",
       "        \n",
       "    \n",
       "    \n",
       "            var circle_marker_4553abee49cc1c1375e22d4a6b1f429f = L.circleMarker(\n",
       "                [26.0275, 50.55],\n",
       "                {&quot;bubblingMouseEvents&quot;: true, &quot;color&quot;: &quot;blue&quot;, &quot;dashArray&quot;: null, &quot;dashOffset&quot;: null, &quot;fill&quot;: true, &quot;fillColor&quot;: &quot;crimson&quot;, &quot;fillOpacity&quot;: 0.3, &quot;fillRule&quot;: &quot;evenodd&quot;, &quot;lineCap&quot;: &quot;round&quot;, &quot;lineJoin&quot;: &quot;round&quot;, &quot;opacity&quot;: 1.0, &quot;radius&quot;: 0.1886238524590164, &quot;stroke&quot;: true, &quot;weight&quot;: 3}\n",
       "            ).addTo(map_63bd30139a6212ba0546419532110ea0);\n",
       "        \n",
       "    \n",
       "        var popup_466800ee5f225855e55d30a2467108f3 = L.popup({&quot;maxWidth&quot;: &quot;100%&quot;});\n",
       "\n",
       "        \n",
       "            \n",
       "                var html_57b6d06c495e5980bb8251c712696c12 = $(`&lt;div id=&quot;html_57b6d06c495e5980bb8251c712696c12&quot; style=&quot;width: 100.0%; height: 100.0%;&quot;&gt;&lt;strong&gt;State&lt;/strong&gt;N/a&lt;br&gt;&lt;strong&gt;Confirmed Cases&lt;/strong&gt;18862.385245901638&lt;br&gt;&lt;/div&gt;`)[0];\n",
       "                popup_466800ee5f225855e55d30a2467108f3.setContent(html_57b6d06c495e5980bb8251c712696c12);\n",
       "            \n",
       "        \n",
       "\n",
       "        circle_marker_4553abee49cc1c1375e22d4a6b1f429f.bindPopup(popup_466800ee5f225855e55d30a2467108f3)\n",
       "        ;\n",
       "\n",
       "        \n",
       "    \n",
       "    \n",
       "            var circle_marker_8af0662cda803e126b39b82483547f0d = L.circleMarker(\n",
       "                [23.685, 90.3563],\n",
       "                {&quot;bubblingMouseEvents&quot;: true, &quot;color&quot;: &quot;blue&quot;, &quot;dashArray&quot;: null, &quot;dashOffset&quot;: null, &quot;fill&quot;: true, &quot;fillColor&quot;: &quot;crimson&quot;, &quot;fillOpacity&quot;: 0.3, &quot;fillRule&quot;: &quot;evenodd&quot;, &quot;lineCap&quot;: &quot;round&quot;, &quot;lineJoin&quot;: &quot;round&quot;, &quot;opacity&quot;: 1.0, &quot;radius&quot;: 1.0354968442622952, &quot;stroke&quot;: true, &quot;weight&quot;: 3}\n",
       "            ).addTo(map_63bd30139a6212ba0546419532110ea0);\n",
       "        \n",
       "    \n",
       "        var popup_0c2d18ae20f00577343dbb4e16b451f0 = L.popup({&quot;maxWidth&quot;: &quot;100%&quot;});\n",
       "\n",
       "        \n",
       "            \n",
       "                var html_fcc7264c946fd85c6d9dd7449d0a2fae = $(`&lt;div id=&quot;html_fcc7264c946fd85c6d9dd7449d0a2fae&quot; style=&quot;width: 100.0%; height: 100.0%;&quot;&gt;&lt;strong&gt;State&lt;/strong&gt;N/a&lt;br&gt;&lt;strong&gt;Confirmed Cases&lt;/strong&gt;103549.6844262295&lt;br&gt;&lt;/div&gt;`)[0];\n",
       "                popup_0c2d18ae20f00577343dbb4e16b451f0.setContent(html_fcc7264c946fd85c6d9dd7449d0a2fae);\n",
       "            \n",
       "        \n",
       "\n",
       "        circle_marker_8af0662cda803e126b39b82483547f0d.bindPopup(popup_0c2d18ae20f00577343dbb4e16b451f0)\n",
       "        ;\n",
       "\n",
       "        \n",
       "    \n",
       "    \n",
       "            var circle_marker_bb1d820242df7c5492ac23452fde2044 = L.circleMarker(\n",
       "                [13.1939, -59.5432],\n",
       "                {&quot;bubblingMouseEvents&quot;: true, &quot;color&quot;: &quot;blue&quot;, &quot;dashArray&quot;: null, &quot;dashOffset&quot;: null, &quot;fill&quot;: true, &quot;fillColor&quot;: &quot;crimson&quot;, &quot;fillOpacity&quot;: 0.3, &quot;fillRule&quot;: &quot;evenodd&quot;, &quot;lineCap&quot;: &quot;round&quot;, &quot;lineJoin&quot;: &quot;round&quot;, &quot;opacity&quot;: 1.0, &quot;radius&quot;: 0.0008013934426229508, &quot;stroke&quot;: true, &quot;weight&quot;: 3}\n",
       "            ).addTo(map_63bd30139a6212ba0546419532110ea0);\n",
       "        \n",
       "    \n",
       "        var popup_41a1f48a044c014872eab4799895450c = L.popup({&quot;maxWidth&quot;: &quot;100%&quot;});\n",
       "\n",
       "        \n",
       "            \n",
       "                var html_df738dc5cffe05b4a3883e672bf3ba83 = $(`&lt;div id=&quot;html_df738dc5cffe05b4a3883e672bf3ba83&quot; style=&quot;width: 100.0%; height: 100.0%;&quot;&gt;&lt;strong&gt;State&lt;/strong&gt;N/a&lt;br&gt;&lt;strong&gt;Confirmed Cases&lt;/strong&gt;80.13934426229508&lt;br&gt;&lt;/div&gt;`)[0];\n",
       "                popup_41a1f48a044c014872eab4799895450c.setContent(html_df738dc5cffe05b4a3883e672bf3ba83);\n",
       "            \n",
       "        \n",
       "\n",
       "        circle_marker_bb1d820242df7c5492ac23452fde2044.bindPopup(popup_41a1f48a044c014872eab4799895450c)\n",
       "        ;\n",
       "\n",
       "        \n",
       "    \n",
       "    \n",
       "            var circle_marker_a8c348ecb2c2e318a3de5c1f0fd4c328 = L.circleMarker(\n",
       "                [53.7098, 27.9534],\n",
       "                {&quot;bubblingMouseEvents&quot;: true, &quot;color&quot;: &quot;blue&quot;, &quot;dashArray&quot;: null, &quot;dashOffset&quot;: null, &quot;fill&quot;: true, &quot;fillColor&quot;: &quot;crimson&quot;, &quot;fillOpacity&quot;: 0.3, &quot;fillRule&quot;: &quot;evenodd&quot;, &quot;lineCap&quot;: &quot;round&quot;, &quot;lineJoin&quot;: &quot;round&quot;, &quot;opacity&quot;: 1.0, &quot;radius&quot;: 0.34456159836065575, &quot;stroke&quot;: true, &quot;weight&quot;: 3}\n",
       "            ).addTo(map_63bd30139a6212ba0546419532110ea0);\n",
       "        \n",
       "    \n",
       "        var popup_3181e659477acbb0c36522de53430f6e = L.popup({&quot;maxWidth&quot;: &quot;100%&quot;});\n",
       "\n",
       "        \n",
       "            \n",
       "                var html_452fa46424fe920211a6f9c238b7b177 = $(`&lt;div id=&quot;html_452fa46424fe920211a6f9c238b7b177&quot; style=&quot;width: 100.0%; height: 100.0%;&quot;&gt;&lt;strong&gt;State&lt;/strong&gt;N/a&lt;br&gt;&lt;strong&gt;Confirmed Cases&lt;/strong&gt;34456.15983606558&lt;br&gt;&lt;/div&gt;`)[0];\n",
       "                popup_3181e659477acbb0c36522de53430f6e.setContent(html_452fa46424fe920211a6f9c238b7b177);\n",
       "            \n",
       "        \n",
       "\n",
       "        circle_marker_a8c348ecb2c2e318a3de5c1f0fd4c328.bindPopup(popup_3181e659477acbb0c36522de53430f6e)\n",
       "        ;\n",
       "\n",
       "        \n",
       "    \n",
       "    \n",
       "            var circle_marker_8c1a997ff5a2163fe85e9734b812c6f6 = L.circleMarker(\n",
       "                [50.8333, 4.469936],\n",
       "                {&quot;bubblingMouseEvents&quot;: true, &quot;color&quot;: &quot;blue&quot;, &quot;dashArray&quot;: null, &quot;dashOffset&quot;: null, &quot;fill&quot;: true, &quot;fillColor&quot;: &quot;crimson&quot;, &quot;fillOpacity&quot;: 0.3, &quot;fillRule&quot;: &quot;evenodd&quot;, &quot;lineCap&quot;: &quot;round&quot;, &quot;lineJoin&quot;: &quot;round&quot;, &quot;opacity&quot;: 1.0, &quot;radius&quot;: 0.4470370901639344, &quot;stroke&quot;: true, &quot;weight&quot;: 3}\n",
       "            ).addTo(map_63bd30139a6212ba0546419532110ea0);\n",
       "        \n",
       "    \n",
       "        var popup_c230ea4bd77a691c01e92e6065697713 = L.popup({&quot;maxWidth&quot;: &quot;100%&quot;});\n",
       "\n",
       "        \n",
       "            \n",
       "                var html_641b34614e434e32887f9df8ccf41d41 = $(`&lt;div id=&quot;html_641b34614e434e32887f9df8ccf41d41&quot; style=&quot;width: 100.0%; height: 100.0%;&quot;&gt;&lt;strong&gt;State&lt;/strong&gt;N/a&lt;br&gt;&lt;strong&gt;Confirmed Cases&lt;/strong&gt;44703.70901639344&lt;br&gt;&lt;/div&gt;`)[0];\n",
       "                popup_c230ea4bd77a691c01e92e6065697713.setContent(html_641b34614e434e32887f9df8ccf41d41);\n",
       "            \n",
       "        \n",
       "\n",
       "        circle_marker_8c1a997ff5a2163fe85e9734b812c6f6.bindPopup(popup_c230ea4bd77a691c01e92e6065697713)\n",
       "        ;\n",
       "\n",
       "        \n",
       "    \n",
       "    \n",
       "            var circle_marker_05c58fcc9dc82dcc2db7a7a48fc5f805 = L.circleMarker(\n",
       "                [17.1899, -88.4976],\n",
       "                {&quot;bubblingMouseEvents&quot;: true, &quot;color&quot;: &quot;blue&quot;, &quot;dashArray&quot;: null, &quot;dashOffset&quot;: null, &quot;fill&quot;: true, &quot;fillColor&quot;: &quot;crimson&quot;, &quot;fillOpacity&quot;: 0.3, &quot;fillRule&quot;: &quot;evenodd&quot;, &quot;lineCap&quot;: &quot;round&quot;, &quot;lineJoin&quot;: &quot;round&quot;, &quot;opacity&quot;: 1.0, &quot;radius&quot;: 0.0018787704918032787, &quot;stroke&quot;: true, &quot;weight&quot;: 3}\n",
       "            ).addTo(map_63bd30139a6212ba0546419532110ea0);\n",
       "        \n",
       "    \n",
       "        var popup_993fa9a65e1d8cb2034de7765c106314 = L.popup({&quot;maxWidth&quot;: &quot;100%&quot;});\n",
       "\n",
       "        \n",
       "            \n",
       "                var html_d6d14e706050261b1f01ad1a56b61d19 = $(`&lt;div id=&quot;html_d6d14e706050261b1f01ad1a56b61d19&quot; style=&quot;width: 100.0%; height: 100.0%;&quot;&gt;&lt;strong&gt;State&lt;/strong&gt;N/a&lt;br&gt;&lt;strong&gt;Confirmed Cases&lt;/strong&gt;187.87704918032787&lt;br&gt;&lt;/div&gt;`)[0];\n",
       "                popup_993fa9a65e1d8cb2034de7765c106314.setContent(html_d6d14e706050261b1f01ad1a56b61d19);\n",
       "            \n",
       "        \n",
       "\n",
       "        circle_marker_05c58fcc9dc82dcc2db7a7a48fc5f805.bindPopup(popup_993fa9a65e1d8cb2034de7765c106314)\n",
       "        ;\n",
       "\n",
       "        \n",
       "    \n",
       "    \n",
       "            var circle_marker_14a0d3a9b7e67e6ac01cfa671016a6b6 = L.circleMarker(\n",
       "                [9.3077, 2.3158],\n",
       "                {&quot;bubblingMouseEvents&quot;: true, &quot;color&quot;: &quot;blue&quot;, &quot;dashArray&quot;: null, &quot;dashOffset&quot;: null, &quot;fill&quot;: true, &quot;fillColor&quot;: &quot;crimson&quot;, &quot;fillOpacity&quot;: 0.3, &quot;fillRule&quot;: &quot;evenodd&quot;, &quot;lineCap&quot;: &quot;round&quot;, &quot;lineJoin&quot;: &quot;round&quot;, &quot;opacity&quot;: 1.0, &quot;radius&quot;: 0.007438032786885246, &quot;stroke&quot;: true, &quot;weight&quot;: 3}\n",
       "            ).addTo(map_63bd30139a6212ba0546419532110ea0);\n",
       "        \n",
       "    \n",
       "        var popup_dc0614f3183b8aae98759300445bd4c4 = L.popup({&quot;maxWidth&quot;: &quot;100%&quot;});\n",
       "\n",
       "        \n",
       "            \n",
       "                var html_ba4aff9453e473064fa9fd6f06054241 = $(`&lt;div id=&quot;html_ba4aff9453e473064fa9fd6f06054241&quot; style=&quot;width: 100.0%; height: 100.0%;&quot;&gt;&lt;strong&gt;State&lt;/strong&gt;N/a&lt;br&gt;&lt;strong&gt;Confirmed Cases&lt;/strong&gt;743.8032786885246&lt;br&gt;&lt;/div&gt;`)[0];\n",
       "                popup_dc0614f3183b8aae98759300445bd4c4.setContent(html_ba4aff9453e473064fa9fd6f06054241);\n",
       "            \n",
       "        \n",
       "\n",
       "        circle_marker_14a0d3a9b7e67e6ac01cfa671016a6b6.bindPopup(popup_dc0614f3183b8aae98759300445bd4c4)\n",
       "        ;\n",
       "\n",
       "        \n",
       "    \n",
       "    \n",
       "            var circle_marker_fe9092d3e6801fb33203a3b52aeedad8 = L.circleMarker(\n",
       "                [27.5142, 90.4336],\n",
       "                {&quot;bubblingMouseEvents&quot;: true, &quot;color&quot;: &quot;blue&quot;, &quot;dashArray&quot;: null, &quot;dashOffset&quot;: null, &quot;fill&quot;: true, &quot;fillColor&quot;: &quot;crimson&quot;, &quot;fillOpacity&quot;: 0.3, &quot;fillRule&quot;: &quot;evenodd&quot;, &quot;lineCap&quot;: &quot;round&quot;, &quot;lineJoin&quot;: &quot;round&quot;, &quot;opacity&quot;: 1.0, &quot;radius&quot;: 0.0006072540983606558, &quot;stroke&quot;: true, &quot;weight&quot;: 3}\n",
       "            ).addTo(map_63bd30139a6212ba0546419532110ea0);\n",
       "        \n",
       "    \n",
       "        var popup_b7e7d27ba3c380e7baf04bcb3c8dd455 = L.popup({&quot;maxWidth&quot;: &quot;100%&quot;});\n",
       "\n",
       "        \n",
       "            \n",
       "                var html_187fd2811adcfd3ab1eba2f396646ec4 = $(`&lt;div id=&quot;html_187fd2811adcfd3ab1eba2f396646ec4&quot; style=&quot;width: 100.0%; height: 100.0%;&quot;&gt;&lt;strong&gt;State&lt;/strong&gt;N/a&lt;br&gt;&lt;strong&gt;Confirmed Cases&lt;/strong&gt;60.72540983606557&lt;br&gt;&lt;/div&gt;`)[0];\n",
       "                popup_b7e7d27ba3c380e7baf04bcb3c8dd455.setContent(html_187fd2811adcfd3ab1eba2f396646ec4);\n",
       "            \n",
       "        \n",
       "\n",
       "        circle_marker_fe9092d3e6801fb33203a3b52aeedad8.bindPopup(popup_b7e7d27ba3c380e7baf04bcb3c8dd455)\n",
       "        ;\n",
       "\n",
       "        \n",
       "    \n",
       "    \n",
       "            var circle_marker_465cb962a511613f9ad8faf4053a85ea = L.circleMarker(\n",
       "                [-16.2902, -63.5887],\n",
       "                {&quot;bubblingMouseEvents&quot;: true, &quot;color&quot;: &quot;blue&quot;, &quot;dashArray&quot;: null, &quot;dashOffset&quot;: null, &quot;fill&quot;: true, &quot;fillColor&quot;: &quot;crimson&quot;, &quot;fillOpacity&quot;: 0.3, &quot;fillRule&quot;: &quot;evenodd&quot;, &quot;lineCap&quot;: &quot;round&quot;, &quot;lineJoin&quot;: &quot;round&quot;, &quot;opacity&quot;: 1.0, &quot;radius&quot;: 0.33501020491803274, &quot;stroke&quot;: true, &quot;weight&quot;: 3}\n",
       "            ).addTo(map_63bd30139a6212ba0546419532110ea0);\n",
       "        \n",
       "    \n",
       "        var popup_e5bb6f934d92ecf1f4125d2bf096c56d = L.popup({&quot;maxWidth&quot;: &quot;100%&quot;});\n",
       "\n",
       "        \n",
       "            \n",
       "                var html_d068c7daae1af3384432fcfbbafaf6b3 = $(`&lt;div id=&quot;html_d068c7daae1af3384432fcfbbafaf6b3&quot; style=&quot;width: 100.0%; height: 100.0%;&quot;&gt;&lt;strong&gt;State&lt;/strong&gt;N/a&lt;br&gt;&lt;strong&gt;Confirmed Cases&lt;/strong&gt;33501.020491803276&lt;br&gt;&lt;/div&gt;`)[0];\n",
       "                popup_e5bb6f934d92ecf1f4125d2bf096c56d.setContent(html_d068c7daae1af3384432fcfbbafaf6b3);\n",
       "            \n",
       "        \n",
       "\n",
       "        circle_marker_465cb962a511613f9ad8faf4053a85ea.bindPopup(popup_e5bb6f934d92ecf1f4125d2bf096c56d)\n",
       "        ;\n",
       "\n",
       "        \n",
       "    \n",
       "    \n",
       "            var circle_marker_ef36528f7e142c1aeaeda15d08fb788d = L.circleMarker(\n",
       "                [43.9159, 17.6791],\n",
       "                {&quot;bubblingMouseEvents&quot;: true, &quot;color&quot;: &quot;blue&quot;, &quot;dashArray&quot;: null, &quot;dashOffset&quot;: null, &quot;fill&quot;: true, &quot;fillColor&quot;: &quot;crimson&quot;, &quot;fillOpacity&quot;: 0.3, &quot;fillRule&quot;: &quot;evenodd&quot;, &quot;lineCap&quot;: &quot;round&quot;, &quot;lineJoin&quot;: &quot;round&quot;, &quot;opacity&quot;: 1.0, &quot;radius&quot;: 0.05810786885245901, &quot;stroke&quot;: true, &quot;weight&quot;: 3}\n",
       "            ).addTo(map_63bd30139a6212ba0546419532110ea0);\n",
       "        \n",
       "    \n",
       "        var popup_333f05ab05e05a322983b56b5e685670 = L.popup({&quot;maxWidth&quot;: &quot;100%&quot;});\n",
       "\n",
       "        \n",
       "            \n",
       "                var html_8bf1f77bf2b4d972634235e254594f03 = $(`&lt;div id=&quot;html_8bf1f77bf2b4d972634235e254594f03&quot; style=&quot;width: 100.0%; height: 100.0%;&quot;&gt;&lt;strong&gt;State&lt;/strong&gt;N/a&lt;br&gt;&lt;strong&gt;Confirmed Cases&lt;/strong&gt;5810.786885245901&lt;br&gt;&lt;/div&gt;`)[0];\n",
       "                popup_333f05ab05e05a322983b56b5e685670.setContent(html_8bf1f77bf2b4d972634235e254594f03);\n",
       "            \n",
       "        \n",
       "\n",
       "        circle_marker_ef36528f7e142c1aeaeda15d08fb788d.bindPopup(popup_333f05ab05e05a322983b56b5e685670)\n",
       "        ;\n",
       "\n",
       "        \n",
       "    \n",
       "    \n",
       "            var circle_marker_729d2de4b8ea84ec352ff62628c3f7a7 = L.circleMarker(\n",
       "                [-22.3285, 24.6849],\n",
       "                {&quot;bubblingMouseEvents&quot;: true, &quot;color&quot;: &quot;blue&quot;, &quot;dashArray&quot;: null, &quot;dashOffset&quot;: null, &quot;fill&quot;: true, &quot;fillColor&quot;: &quot;crimson&quot;, &quot;fillOpacity&quot;: 0.3, &quot;fillRule&quot;: &quot;evenodd&quot;, &quot;lineCap&quot;: &quot;round&quot;, &quot;lineJoin&quot;: &quot;round&quot;, &quot;opacity&quot;: 1.0, &quot;radius&quot;: 0.004193811475409836, &quot;stroke&quot;: true, &quot;weight&quot;: 3}\n",
       "            ).addTo(map_63bd30139a6212ba0546419532110ea0);\n",
       "        \n",
       "    \n",
       "        var popup_d6255e8b1df0b68b77bf013f55991646 = L.popup({&quot;maxWidth&quot;: &quot;100%&quot;});\n",
       "\n",
       "        \n",
       "            \n",
       "                var html_d6f0208097823d277023ba72327c5a60 = $(`&lt;div id=&quot;html_d6f0208097823d277023ba72327c5a60&quot; style=&quot;width: 100.0%; height: 100.0%;&quot;&gt;&lt;strong&gt;State&lt;/strong&gt;N/a&lt;br&gt;&lt;strong&gt;Confirmed Cases&lt;/strong&gt;419.3811475409836&lt;br&gt;&lt;/div&gt;`)[0];\n",
       "                popup_d6255e8b1df0b68b77bf013f55991646.setContent(html_d6f0208097823d277023ba72327c5a60);\n",
       "            \n",
       "        \n",
       "\n",
       "        circle_marker_729d2de4b8ea84ec352ff62628c3f7a7.bindPopup(popup_d6255e8b1df0b68b77bf013f55991646)\n",
       "        ;\n",
       "\n",
       "        \n",
       "    \n",
       "    \n",
       "            var circle_marker_70fdd7ba14702661ce136f5968fc5387 = L.circleMarker(\n",
       "                [-14.235, -51.9253],\n",
       "                {&quot;bubblingMouseEvents&quot;: true, &quot;color&quot;: &quot;blue&quot;, &quot;dashArray&quot;: null, &quot;dashOffset&quot;: null, &quot;fill&quot;: true, &quot;fillColor&quot;: &quot;crimson&quot;, &quot;fillOpacity&quot;: 0.3, &quot;fillRule&quot;: &quot;evenodd&quot;, &quot;lineCap&quot;: &quot;round&quot;, &quot;lineJoin&quot;: &quot;round&quot;, &quot;opacity&quot;: 1.0, &quot;radius&quot;: 11.986991967213115, &quot;stroke&quot;: true, &quot;weight&quot;: 3}\n",
       "            ).addTo(map_63bd30139a6212ba0546419532110ea0);\n",
       "        \n",
       "    \n",
       "        var popup_8d2640c922f75ca790cfb2d1c70d6d40 = L.popup({&quot;maxWidth&quot;: &quot;100%&quot;});\n",
       "\n",
       "        \n",
       "            \n",
       "                var html_44033881a85d995e85664d8eb0578f13 = $(`&lt;div id=&quot;html_44033881a85d995e85664d8eb0578f13&quot; style=&quot;width: 100.0%; height: 100.0%;&quot;&gt;&lt;strong&gt;State&lt;/strong&gt;N/a&lt;br&gt;&lt;strong&gt;Confirmed Cases&lt;/strong&gt;1198699.1967213114&lt;br&gt;&lt;/div&gt;`)[0];\n",
       "                popup_8d2640c922f75ca790cfb2d1c70d6d40.setContent(html_44033881a85d995e85664d8eb0578f13);\n",
       "            \n",
       "        \n",
       "\n",
       "        circle_marker_70fdd7ba14702661ce136f5968fc5387.bindPopup(popup_8d2640c922f75ca790cfb2d1c70d6d40)\n",
       "        ;\n",
       "\n",
       "        \n",
       "    \n",
       "    \n",
       "            var circle_marker_a033367ebd3d77ffef96a2b4a47fffaa = L.circleMarker(\n",
       "                [4.5353, 114.7277],\n",
       "                {&quot;bubblingMouseEvents&quot;: true, &quot;color&quot;: &quot;blue&quot;, &quot;dashArray&quot;: null, &quot;dashOffset&quot;: null, &quot;fill&quot;: true, &quot;fillColor&quot;: &quot;crimson&quot;, &quot;fillOpacity&quot;: 0.3, &quot;fillRule&quot;: &quot;evenodd&quot;, &quot;lineCap&quot;: &quot;round&quot;, &quot;lineJoin&quot;: &quot;round&quot;, &quot;opacity&quot;: 1.0, &quot;radius&quot;: 0.0010734016393442623, &quot;stroke&quot;: true, &quot;weight&quot;: 3}\n",
       "            ).addTo(map_63bd30139a6212ba0546419532110ea0);\n",
       "        \n",
       "    \n",
       "        var popup_191986383fbab3c3921eb9df7b231ad0 = L.popup({&quot;maxWidth&quot;: &quot;100%&quot;});\n",
       "\n",
       "        \n",
       "            \n",
       "                var html_888a5e915221985d37cfd39a6f807955 = $(`&lt;div id=&quot;html_888a5e915221985d37cfd39a6f807955&quot; style=&quot;width: 100.0%; height: 100.0%;&quot;&gt;&lt;strong&gt;State&lt;/strong&gt;N/a&lt;br&gt;&lt;strong&gt;Confirmed Cases&lt;/strong&gt;107.34016393442623&lt;br&gt;&lt;/div&gt;`)[0];\n",
       "                popup_191986383fbab3c3921eb9df7b231ad0.setContent(html_888a5e915221985d37cfd39a6f807955);\n",
       "            \n",
       "        \n",
       "\n",
       "        circle_marker_a033367ebd3d77ffef96a2b4a47fffaa.bindPopup(popup_191986383fbab3c3921eb9df7b231ad0)\n",
       "        ;\n",
       "\n",
       "        \n",
       "    \n",
       "    \n",
       "            var circle_marker_49df1c87acf7f373d2db110809ebfa92 = L.circleMarker(\n",
       "                [42.7339, 25.4858],\n",
       "                {&quot;bubblingMouseEvents&quot;: true, &quot;color&quot;: &quot;blue&quot;, &quot;dashArray&quot;: null, &quot;dashOffset&quot;: null, &quot;fill&quot;: true, &quot;fillColor&quot;: &quot;crimson&quot;, &quot;fillOpacity&quot;: 0.3, &quot;fillRule&quot;: &quot;evenodd&quot;, &quot;lineCap&quot;: &quot;round&quot;, &quot;lineJoin&quot;: &quot;round&quot;, &quot;opacity&quot;: 1.0, &quot;radius&quot;: 0.052145901639344266, &quot;stroke&quot;: true, &quot;weight&quot;: 3}\n",
       "            ).addTo(map_63bd30139a6212ba0546419532110ea0);\n",
       "        \n",
       "    \n",
       "        var popup_737deb81c7e1054bafb00540493542a4 = L.popup({&quot;maxWidth&quot;: &quot;100%&quot;});\n",
       "\n",
       "        \n",
       "            \n",
       "                var html_4f5685d731def8ed73b66d84a9c58bed = $(`&lt;div id=&quot;html_4f5685d731def8ed73b66d84a9c58bed&quot; style=&quot;width: 100.0%; height: 100.0%;&quot;&gt;&lt;strong&gt;State&lt;/strong&gt;N/a&lt;br&gt;&lt;strong&gt;Confirmed Cases&lt;/strong&gt;5214.5901639344265&lt;br&gt;&lt;/div&gt;`)[0];\n",
       "                popup_737deb81c7e1054bafb00540493542a4.setContent(html_4f5685d731def8ed73b66d84a9c58bed);\n",
       "            \n",
       "        \n",
       "\n",
       "        circle_marker_49df1c87acf7f373d2db110809ebfa92.bindPopup(popup_737deb81c7e1054bafb00540493542a4)\n",
       "        ;\n",
       "\n",
       "        \n",
       "    \n",
       "    \n",
       "            var circle_marker_9766e6c6427fb87df2ef03f157bfc96e = L.circleMarker(\n",
       "                [12.2383, -1.5616],\n",
       "                {&quot;bubblingMouseEvents&quot;: true, &quot;color&quot;: &quot;blue&quot;, &quot;dashArray&quot;: null, &quot;dashOffset&quot;: null, &quot;fill&quot;: true, &quot;fillColor&quot;: &quot;crimson&quot;, &quot;fillOpacity&quot;: 0.3, &quot;fillRule&quot;: &quot;evenodd&quot;, &quot;lineCap&quot;: &quot;round&quot;, &quot;lineJoin&quot;: &quot;round&quot;, &quot;opacity&quot;: 1.0, &quot;radius&quot;: 0.007080450819672132, &quot;stroke&quot;: true, &quot;weight&quot;: 3}\n",
       "            ).addTo(map_63bd30139a6212ba0546419532110ea0);\n",
       "        \n",
       "    \n",
       "        var popup_bb714e12c587a3ddcb48d88d1e1fa88a = L.popup({&quot;maxWidth&quot;: &quot;100%&quot;});\n",
       "\n",
       "        \n",
       "            \n",
       "                var html_b05f8c61a77f633b494bb10cbc6d85df = $(`&lt;div id=&quot;html_b05f8c61a77f633b494bb10cbc6d85df&quot; style=&quot;width: 100.0%; height: 100.0%;&quot;&gt;&lt;strong&gt;State&lt;/strong&gt;N/a&lt;br&gt;&lt;strong&gt;Confirmed Cases&lt;/strong&gt;708.0450819672132&lt;br&gt;&lt;/div&gt;`)[0];\n",
       "                popup_bb714e12c587a3ddcb48d88d1e1fa88a.setContent(html_b05f8c61a77f633b494bb10cbc6d85df);\n",
       "            \n",
       "        \n",
       "\n",
       "        circle_marker_9766e6c6427fb87df2ef03f157bfc96e.bindPopup(popup_bb714e12c587a3ddcb48d88d1e1fa88a)\n",
       "        ;\n",
       "\n",
       "        \n",
       "    \n",
       "    \n",
       "            var circle_marker_d18c617e6942f664250839ef695caeb3 = L.circleMarker(\n",
       "                [21.9162, 95.956],\n",
       "                {&quot;bubblingMouseEvents&quot;: true, &quot;color&quot;: &quot;blue&quot;, &quot;dashArray&quot;: null, &quot;dashOffset&quot;: null, &quot;fill&quot;: true, &quot;fillColor&quot;: &quot;crimson&quot;, &quot;fillOpacity&quot;: 0.3, &quot;fillRule&quot;: &quot;evenodd&quot;, &quot;lineCap&quot;: &quot;round&quot;, &quot;lineJoin&quot;: &quot;round&quot;, &quot;opacity&quot;: 1.0, &quot;radius&quot;: 0.004110368852459016, &quot;stroke&quot;: true, &quot;weight&quot;: 3}\n",
       "            ).addTo(map_63bd30139a6212ba0546419532110ea0);\n",
       "        \n",
       "    \n",
       "        var popup_b39ddc20d91ec61e6b8d03ed18474dbe = L.popup({&quot;maxWidth&quot;: &quot;100%&quot;});\n",
       "\n",
       "        \n",
       "            \n",
       "                var html_9bbafd28e968af5c107d5a0e4a3cca01 = $(`&lt;div id=&quot;html_9bbafd28e968af5c107d5a0e4a3cca01&quot; style=&quot;width: 100.0%; height: 100.0%;&quot;&gt;&lt;strong&gt;State&lt;/strong&gt;N/a&lt;br&gt;&lt;strong&gt;Confirmed Cases&lt;/strong&gt;411.03688524590166&lt;br&gt;&lt;/div&gt;`)[0];\n",
       "                popup_b39ddc20d91ec61e6b8d03ed18474dbe.setContent(html_9bbafd28e968af5c107d5a0e4a3cca01);\n",
       "            \n",
       "        \n",
       "\n",
       "        circle_marker_d18c617e6942f664250839ef695caeb3.bindPopup(popup_b39ddc20d91ec61e6b8d03ed18474dbe)\n",
       "        ;\n",
       "\n",
       "        \n",
       "    \n",
       "    \n",
       "            var circle_marker_248765fbe6d58f62e44de90fff6981dd = L.circleMarker(\n",
       "                [-3.3731, 29.9189],\n",
       "                {&quot;bubblingMouseEvents&quot;: true, &quot;color&quot;: &quot;blue&quot;, &quot;dashArray&quot;: null, &quot;dashOffset&quot;: null, &quot;fill&quot;: true, &quot;fillColor&quot;: &quot;crimson&quot;, &quot;fillOpacity&quot;: 0.3, &quot;fillRule&quot;: &quot;evenodd&quot;, &quot;lineCap&quot;: &quot;round&quot;, &quot;lineJoin&quot;: &quot;round&quot;, &quot;opacity&quot;: 1.0, &quot;radius&quot;: 0.0014578688524590163, &quot;stroke&quot;: true, &quot;weight&quot;: 3}\n",
       "            ).addTo(map_63bd30139a6212ba0546419532110ea0);\n",
       "        \n",
       "    \n",
       "        var popup_bdaa4bc87b4c9164247d2568d7e8861e = L.popup({&quot;maxWidth&quot;: &quot;100%&quot;});\n",
       "\n",
       "        \n",
       "            \n",
       "                var html_92c4870d173f381eeec290ad23d13a24 = $(`&lt;div id=&quot;html_92c4870d173f381eeec290ad23d13a24&quot; style=&quot;width: 100.0%; height: 100.0%;&quot;&gt;&lt;strong&gt;State&lt;/strong&gt;N/a&lt;br&gt;&lt;strong&gt;Confirmed Cases&lt;/strong&gt;145.78688524590163&lt;br&gt;&lt;/div&gt;`)[0];\n",
       "                popup_bdaa4bc87b4c9164247d2568d7e8861e.setContent(html_92c4870d173f381eeec290ad23d13a24);\n",
       "            \n",
       "        \n",
       "\n",
       "        circle_marker_248765fbe6d58f62e44de90fff6981dd.bindPopup(popup_bdaa4bc87b4c9164247d2568d7e8861e)\n",
       "        ;\n",
       "\n",
       "        \n",
       "    \n",
       "    \n",
       "            var circle_marker_3f3185a369f180fceef68317c333b45d = L.circleMarker(\n",
       "                [16.5388, -23.0418],\n",
       "                {&quot;bubblingMouseEvents&quot;: true, &quot;color&quot;: &quot;blue&quot;, &quot;dashArray&quot;: null, &quot;dashOffset&quot;: null, &quot;fill&quot;: true, &quot;fillColor&quot;: &quot;crimson&quot;, &quot;fillOpacity&quot;: 0.3, &quot;fillRule&quot;: &quot;evenodd&quot;, &quot;lineCap&quot;: &quot;round&quot;, &quot;lineJoin&quot;: &quot;round&quot;, &quot;opacity&quot;: 1.0, &quot;radius&quot;: 0.011827377049180327, &quot;stroke&quot;: true, &quot;weight&quot;: 3}\n",
       "            ).addTo(map_63bd30139a6212ba0546419532110ea0);\n",
       "        \n",
       "    \n",
       "        var popup_e421fcdb6abef622f9559e2c67c1cabc = L.popup({&quot;maxWidth&quot;: &quot;100%&quot;});\n",
       "\n",
       "        \n",
       "            \n",
       "                var html_52d82dbe133b5bf8c4947c18cc38237d = $(`&lt;div id=&quot;html_52d82dbe133b5bf8c4947c18cc38237d&quot; style=&quot;width: 100.0%; height: 100.0%;&quot;&gt;&lt;strong&gt;State&lt;/strong&gt;N/a&lt;br&gt;&lt;strong&gt;Confirmed Cases&lt;/strong&gt;1182.7377049180327&lt;br&gt;&lt;/div&gt;`)[0];\n",
       "                popup_e421fcdb6abef622f9559e2c67c1cabc.setContent(html_52d82dbe133b5bf8c4947c18cc38237d);\n",
       "            \n",
       "        \n",
       "\n",
       "        circle_marker_3f3185a369f180fceef68317c333b45d.bindPopup(popup_e421fcdb6abef622f9559e2c67c1cabc)\n",
       "        ;\n",
       "\n",
       "        \n",
       "    \n",
       "    \n",
       "            var circle_marker_597b24f8f412c7f9939740eefb5e0c41 = L.circleMarker(\n",
       "                [11.55, 104.9167],\n",
       "                {&quot;bubblingMouseEvents&quot;: true, &quot;color&quot;: &quot;blue&quot;, &quot;dashArray&quot;: null, &quot;dashOffset&quot;: null, &quot;fill&quot;: true, &quot;fillColor&quot;: &quot;crimson&quot;, &quot;fillOpacity&quot;: 0.3, &quot;fillRule&quot;: &quot;evenodd&quot;, &quot;lineCap&quot;: &quot;round&quot;, &quot;lineJoin&quot;: &quot;round&quot;, &quot;opacity&quot;: 1.0, &quot;radius&quot;: 0.0013090573770491805, &quot;stroke&quot;: true, &quot;weight&quot;: 3}\n",
       "            ).addTo(map_63bd30139a6212ba0546419532110ea0);\n",
       "        \n",
       "    \n",
       "        var popup_7dedc32ef9d87a3a632b1e70156e6a85 = L.popup({&quot;maxWidth&quot;: &quot;100%&quot;});\n",
       "\n",
       "        \n",
       "            \n",
       "                var html_fdca3157da148f2b929131350cbd6d5f = $(`&lt;div id=&quot;html_fdca3157da148f2b929131350cbd6d5f&quot; style=&quot;width: 100.0%; height: 100.0%;&quot;&gt;&lt;strong&gt;State&lt;/strong&gt;N/a&lt;br&gt;&lt;strong&gt;Confirmed Cases&lt;/strong&gt;130.90573770491804&lt;br&gt;&lt;/div&gt;`)[0];\n",
       "                popup_7dedc32ef9d87a3a632b1e70156e6a85.setContent(html_fdca3157da148f2b929131350cbd6d5f);\n",
       "            \n",
       "        \n",
       "\n",
       "        circle_marker_597b24f8f412c7f9939740eefb5e0c41.bindPopup(popup_7dedc32ef9d87a3a632b1e70156e6a85)\n",
       "        ;\n",
       "\n",
       "        \n",
       "    \n",
       "    \n",
       "            var circle_marker_6af3fa2f0b0d1cbb0dfd616620557588 = L.circleMarker(\n",
       "                [3.848, 11.5021],\n",
       "                {&quot;bubblingMouseEvents&quot;: true, &quot;color&quot;: &quot;blue&quot;, &quot;dashArray&quot;: null, &quot;dashOffset&quot;: null, &quot;fill&quot;: true, &quot;fillColor&quot;: &quot;crimson&quot;, &quot;fillOpacity&quot;: 0.3, &quot;fillRule&quot;: &quot;evenodd&quot;, &quot;lineCap&quot;: &quot;round&quot;, &quot;lineJoin&quot;: &quot;round&quot;, &quot;opacity&quot;: 1.0, &quot;radius&quot;: 0.07802053278688524, &quot;stroke&quot;: true, &quot;weight&quot;: 3}\n",
       "            ).addTo(map_63bd30139a6212ba0546419532110ea0);\n",
       "        \n",
       "    \n",
       "        var popup_28da9ad71f5c802df1769af3655b6705 = L.popup({&quot;maxWidth&quot;: &quot;100%&quot;});\n",
       "\n",
       "        \n",
       "            \n",
       "                var html_93cfe1fddbbcaf0ce99b491fde424e40 = $(`&lt;div id=&quot;html_93cfe1fddbbcaf0ce99b491fde424e40&quot; style=&quot;width: 100.0%; height: 100.0%;&quot;&gt;&lt;strong&gt;State&lt;/strong&gt;N/a&lt;br&gt;&lt;strong&gt;Confirmed Cases&lt;/strong&gt;7802.053278688524&lt;br&gt;&lt;/div&gt;`)[0];\n",
       "                popup_28da9ad71f5c802df1769af3655b6705.setContent(html_93cfe1fddbbcaf0ce99b491fde424e40);\n",
       "            \n",
       "        \n",
       "\n",
       "        circle_marker_6af3fa2f0b0d1cbb0dfd616620557588.bindPopup(popup_28da9ad71f5c802df1769af3655b6705)\n",
       "        ;\n",
       "\n",
       "        \n",
       "    \n",
       "    \n",
       "            var circle_marker_6ca60b6ca181bbec658cf1f96e675a13 = L.circleMarker(\n",
       "                [56.1304, -106.3468],\n",
       "                {&quot;bubblingMouseEvents&quot;: true, &quot;color&quot;: &quot;blue&quot;, &quot;dashArray&quot;: null, &quot;dashOffset&quot;: null, &quot;fill&quot;: true, &quot;fillColor&quot;: &quot;crimson&quot;, &quot;fillOpacity&quot;: 0.3, &quot;fillRule&quot;: &quot;evenodd&quot;, &quot;lineCap&quot;: &quot;round&quot;, &quot;lineJoin&quot;: &quot;round&quot;, &quot;opacity&quot;: 1.0, &quot;stroke&quot;: true, &quot;weight&quot;: 3}\n",
       "            ).addTo(map_63bd30139a6212ba0546419532110ea0);\n",
       "        \n",
       "    \n",
       "        var popup_fd47abf0f5923a5f7cb2746ba5211145 = L.popup({&quot;maxWidth&quot;: &quot;100%&quot;});\n",
       "\n",
       "        \n",
       "            \n",
       "                var html_63e7e3e89f7dc44a25019af3ff528f71 = $(`&lt;div id=&quot;html_63e7e3e89f7dc44a25019af3ff528f71&quot; style=&quot;width: 100.0%; height: 100.0%;&quot;&gt;&lt;strong&gt;State&lt;/strong&gt;N/a&lt;br&gt;&lt;strong&gt;Confirmed Cases&lt;/strong&gt;0.0&lt;br&gt;&lt;/div&gt;`)[0];\n",
       "                popup_fd47abf0f5923a5f7cb2746ba5211145.setContent(html_63e7e3e89f7dc44a25019af3ff528f71);\n",
       "            \n",
       "        \n",
       "\n",
       "        circle_marker_6ca60b6ca181bbec658cf1f96e675a13.bindPopup(popup_fd47abf0f5923a5f7cb2746ba5211145)\n",
       "        ;\n",
       "\n",
       "        \n",
       "    \n",
       "    \n",
       "            var circle_marker_e175ba5af719930151c01fe4f80afdca = L.circleMarker(\n",
       "                [6.6111, 20.9394],\n",
       "                {&quot;bubblingMouseEvents&quot;: true, &quot;color&quot;: &quot;blue&quot;, &quot;dashArray&quot;: null, &quot;dashOffset&quot;: null, &quot;fill&quot;: true, &quot;fillColor&quot;: &quot;crimson&quot;, &quot;fillOpacity&quot;: 0.3, &quot;fillRule&quot;: &quot;evenodd&quot;, &quot;lineCap&quot;: &quot;round&quot;, &quot;lineJoin&quot;: &quot;round&quot;, &quot;opacity&quot;: 1.0, &quot;radius&quot;: 0.018907622950819672, &quot;stroke&quot;: true, &quot;weight&quot;: 3}\n",
       "            ).addTo(map_63bd30139a6212ba0546419532110ea0);\n",
       "        \n",
       "    \n",
       "        var popup_b93cd3fdd4f9da5dbf103864343b94f5 = L.popup({&quot;maxWidth&quot;: &quot;100%&quot;});\n",
       "\n",
       "        \n",
       "            \n",
       "                var html_32b0cb254f6839715055ba16533025de = $(`&lt;div id=&quot;html_32b0cb254f6839715055ba16533025de&quot; style=&quot;width: 100.0%; height: 100.0%;&quot;&gt;&lt;strong&gt;State&lt;/strong&gt;N/a&lt;br&gt;&lt;strong&gt;Confirmed Cases&lt;/strong&gt;1890.7622950819673&lt;br&gt;&lt;/div&gt;`)[0];\n",
       "                popup_b93cd3fdd4f9da5dbf103864343b94f5.setContent(html_32b0cb254f6839715055ba16533025de);\n",
       "            \n",
       "        \n",
       "\n",
       "        circle_marker_e175ba5af719930151c01fe4f80afdca.bindPopup(popup_b93cd3fdd4f9da5dbf103864343b94f5)\n",
       "        ;\n",
       "\n",
       "        \n",
       "    \n",
       "    \n",
       "            var circle_marker_dfb2fe99077db146dc87f05dd89b14da = L.circleMarker(\n",
       "                [15.4542, 18.7322],\n",
       "                {&quot;bubblingMouseEvents&quot;: true, &quot;color&quot;: &quot;blue&quot;, &quot;dashArray&quot;: null, &quot;dashOffset&quot;: null, &quot;fill&quot;: true, &quot;fillColor&quot;: &quot;crimson&quot;, &quot;fillOpacity&quot;: 0.3, &quot;fillRule&quot;: &quot;evenodd&quot;, &quot;lineCap&quot;: &quot;round&quot;, &quot;lineJoin&quot;: &quot;round&quot;, &quot;opacity&quot;: 1.0, &quot;radius&quot;: 0.0049366803278688524, &quot;stroke&quot;: true, &quot;weight&quot;: 3}\n",
       "            ).addTo(map_63bd30139a6212ba0546419532110ea0);\n",
       "        \n",
       "    \n",
       "        var popup_76a37023a9fbeba897ddd77e5f043963 = L.popup({&quot;maxWidth&quot;: &quot;100%&quot;});\n",
       "\n",
       "        \n",
       "            \n",
       "                var html_9e035c716c30d80429b573a1c688f353 = $(`&lt;div id=&quot;html_9e035c716c30d80429b573a1c688f353&quot; style=&quot;width: 100.0%; height: 100.0%;&quot;&gt;&lt;strong&gt;State&lt;/strong&gt;N/a&lt;br&gt;&lt;strong&gt;Confirmed Cases&lt;/strong&gt;493.66803278688525&lt;br&gt;&lt;/div&gt;`)[0];\n",
       "                popup_76a37023a9fbeba897ddd77e5f043963.setContent(html_9e035c716c30d80429b573a1c688f353);\n",
       "            \n",
       "        \n",
       "\n",
       "        circle_marker_dfb2fe99077db146dc87f05dd89b14da.bindPopup(popup_76a37023a9fbeba897ddd77e5f043963)\n",
       "        ;\n",
       "\n",
       "        \n",
       "    \n",
       "    \n",
       "            var circle_marker_3d516c4a939c313e53ba0e3971f0d709 = L.circleMarker(\n",
       "                [-35.6751, -71.543],\n",
       "                {&quot;bubblingMouseEvents&quot;: true, &quot;color&quot;: &quot;blue&quot;, &quot;dashArray&quot;: null, &quot;dashOffset&quot;: null, &quot;fill&quot;: true, &quot;fillColor&quot;: &quot;crimson&quot;, &quot;fillOpacity&quot;: 0.3, &quot;fillRule&quot;: &quot;evenodd&quot;, &quot;lineCap&quot;: &quot;round&quot;, &quot;lineJoin&quot;: &quot;round&quot;, &quot;opacity&quot;: 1.0, &quot;radius&quot;: 1.611788319672131, &quot;stroke&quot;: true, &quot;weight&quot;: 3}\n",
       "            ).addTo(map_63bd30139a6212ba0546419532110ea0);\n",
       "        \n",
       "    \n",
       "        var popup_ff9e2a71135e39b12db3884fcee946fb = L.popup({&quot;maxWidth&quot;: &quot;100%&quot;});\n",
       "\n",
       "        \n",
       "            \n",
       "                var html_d5984f3d5a8006a7e3c7431c3bd10ca4 = $(`&lt;div id=&quot;html_d5984f3d5a8006a7e3c7431c3bd10ca4&quot; style=&quot;width: 100.0%; height: 100.0%;&quot;&gt;&lt;strong&gt;State&lt;/strong&gt;N/a&lt;br&gt;&lt;strong&gt;Confirmed Cases&lt;/strong&gt;161178.8319672131&lt;br&gt;&lt;/div&gt;`)[0];\n",
       "                popup_ff9e2a71135e39b12db3884fcee946fb.setContent(html_d5984f3d5a8006a7e3c7431c3bd10ca4);\n",
       "            \n",
       "        \n",
       "\n",
       "        circle_marker_3d516c4a939c313e53ba0e3971f0d709.bindPopup(popup_ff9e2a71135e39b12db3884fcee946fb)\n",
       "        ;\n",
       "\n",
       "        \n",
       "    \n",
       "    \n",
       "            var circle_marker_9f364728100830e1db89fcc0045e9300 = L.circleMarker(\n",
       "                [4.5709, -74.2973],\n",
       "                {&quot;bubblingMouseEvents&quot;: true, &quot;color&quot;: &quot;blue&quot;, &quot;dashArray&quot;: null, &quot;dashOffset&quot;: null, &quot;fill&quot;: true, &quot;fillColor&quot;: &quot;crimson&quot;, &quot;fillOpacity&quot;: 0.3, &quot;fillRule&quot;: &quot;evenodd&quot;, &quot;lineCap&quot;: &quot;round&quot;, &quot;lineJoin&quot;: &quot;round&quot;, &quot;opacity&quot;: 1.0, &quot;radius&quot;: 1.5222675, &quot;stroke&quot;: true, &quot;weight&quot;: 3}\n",
       "            ).addTo(map_63bd30139a6212ba0546419532110ea0);\n",
       "        \n",
       "    \n",
       "        var popup_a1dd541ebe53aa8df752731fcaf58cb8 = L.popup({&quot;maxWidth&quot;: &quot;100%&quot;});\n",
       "\n",
       "        \n",
       "            \n",
       "                var html_f8bebce0f71baad047bc7bce9d617c48 = $(`&lt;div id=&quot;html_f8bebce0f71baad047bc7bce9d617c48&quot; style=&quot;width: 100.0%; height: 100.0%;&quot;&gt;&lt;strong&gt;State&lt;/strong&gt;N/a&lt;br&gt;&lt;strong&gt;Confirmed Cases&lt;/strong&gt;152226.75&lt;br&gt;&lt;/div&gt;`)[0];\n",
       "                popup_a1dd541ebe53aa8df752731fcaf58cb8.setContent(html_f8bebce0f71baad047bc7bce9d617c48);\n",
       "            \n",
       "        \n",
       "\n",
       "        circle_marker_9f364728100830e1db89fcc0045e9300.bindPopup(popup_a1dd541ebe53aa8df752731fcaf58cb8)\n",
       "        ;\n",
       "\n",
       "        \n",
       "    \n",
       "    \n",
       "            var circle_marker_2a250c840dc0d6e611cc8455afba8534 = L.circleMarker(\n",
       "                [-11.6455, 43.3333],\n",
       "                {&quot;bubblingMouseEvents&quot;: true, &quot;color&quot;: &quot;blue&quot;, &quot;dashArray&quot;: null, &quot;dashOffset&quot;: null, &quot;fill&quot;: true, &quot;fillColor&quot;: &quot;crimson&quot;, &quot;fillOpacity&quot;: 0.3, &quot;fillRule&quot;: &quot;evenodd&quot;, &quot;lineCap&quot;: &quot;round&quot;, &quot;lineJoin&quot;: &quot;round&quot;, &quot;opacity&quot;: 1.0, &quot;radius&quot;: 0.0016177868852459017, &quot;stroke&quot;: true, &quot;weight&quot;: 3}\n",
       "            ).addTo(map_63bd30139a6212ba0546419532110ea0);\n",
       "        \n",
       "    \n",
       "        var popup_3da63b76bc286ac54e36b51a8c2bac42 = L.popup({&quot;maxWidth&quot;: &quot;100%&quot;});\n",
       "\n",
       "        \n",
       "            \n",
       "                var html_00176dff9ee25acf5c7c1e569e8344de = $(`&lt;div id=&quot;html_00176dff9ee25acf5c7c1e569e8344de&quot; style=&quot;width: 100.0%; height: 100.0%;&quot;&gt;&lt;strong&gt;State&lt;/strong&gt;N/a&lt;br&gt;&lt;strong&gt;Confirmed Cases&lt;/strong&gt;161.77868852459017&lt;br&gt;&lt;/div&gt;`)[0];\n",
       "                popup_3da63b76bc286ac54e36b51a8c2bac42.setContent(html_00176dff9ee25acf5c7c1e569e8344de);\n",
       "            \n",
       "        \n",
       "\n",
       "        circle_marker_2a250c840dc0d6e611cc8455afba8534.bindPopup(popup_3da63b76bc286ac54e36b51a8c2bac42)\n",
       "        ;\n",
       "\n",
       "        \n",
       "    \n",
       "    \n",
       "            var circle_marker_29139edd629665ddd8ec9a5947d1d69c = L.circleMarker(\n",
       "                [-0.228, 15.8277],\n",
       "                {&quot;bubblingMouseEvents&quot;: true, &quot;color&quot;: &quot;blue&quot;, &quot;dashArray&quot;: null, &quot;dashOffset&quot;: null, &quot;fill&quot;: true, &quot;fillColor&quot;: &quot;crimson&quot;, &quot;fillOpacity&quot;: 0.3, &quot;fillRule&quot;: &quot;evenodd&quot;, &quot;lineCap&quot;: &quot;round&quot;, &quot;lineJoin&quot;: &quot;round&quot;, &quot;opacity&quot;: 1.0, &quot;radius&quot;: 0.013609795081967213, &quot;stroke&quot;: true, &quot;weight&quot;: 3}\n",
       "            ).addTo(map_63bd30139a6212ba0546419532110ea0);\n",
       "        \n",
       "    \n",
       "        var popup_3a534ab57ebe5312c1939a17dc110bbf = L.popup({&quot;maxWidth&quot;: &quot;100%&quot;});\n",
       "\n",
       "        \n",
       "            \n",
       "                var html_40af28ce177ce106463a21048a6dc657 = $(`&lt;div id=&quot;html_40af28ce177ce106463a21048a6dc657&quot; style=&quot;width: 100.0%; height: 100.0%;&quot;&gt;&lt;strong&gt;State&lt;/strong&gt;N/a&lt;br&gt;&lt;strong&gt;Confirmed Cases&lt;/strong&gt;1360.9795081967213&lt;br&gt;&lt;/div&gt;`)[0];\n",
       "                popup_3a534ab57ebe5312c1939a17dc110bbf.setContent(html_40af28ce177ce106463a21048a6dc657);\n",
       "            \n",
       "        \n",
       "\n",
       "        circle_marker_29139edd629665ddd8ec9a5947d1d69c.bindPopup(popup_3a534ab57ebe5312c1939a17dc110bbf)\n",
       "        ;\n",
       "\n",
       "        \n",
       "    \n",
       "    \n",
       "            var circle_marker_a8797c6ac31941044685ea2e27aebed3 = L.circleMarker(\n",
       "                [-4.0383, 21.7587],\n",
       "                {&quot;bubblingMouseEvents&quot;: true, &quot;color&quot;: &quot;blue&quot;, &quot;dashArray&quot;: null, &quot;dashOffset&quot;: null, &quot;fill&quot;: true, &quot;fillColor&quot;: &quot;crimson&quot;, &quot;fillOpacity&quot;: 0.3, &quot;fillRule&quot;: &quot;evenodd&quot;, &quot;lineCap&quot;: &quot;round&quot;, &quot;lineJoin&quot;: &quot;round&quot;, &quot;opacity&quot;: 1.0, &quot;radius&quot;: 0.04011241803278689, &quot;stroke&quot;: true, &quot;weight&quot;: 3}\n",
       "            ).addTo(map_63bd30139a6212ba0546419532110ea0);\n",
       "        \n",
       "    \n",
       "        var popup_01e09880fe7b739c320e12418180a92d = L.popup({&quot;maxWidth&quot;: &quot;100%&quot;});\n",
       "\n",
       "        \n",
       "            \n",
       "                var html_31784a8cb89d4e11a2fe73c5240da567 = $(`&lt;div id=&quot;html_31784a8cb89d4e11a2fe73c5240da567&quot; style=&quot;width: 100.0%; height: 100.0%;&quot;&gt;&lt;strong&gt;State&lt;/strong&gt;N/a&lt;br&gt;&lt;strong&gt;Confirmed Cases&lt;/strong&gt;4011.2418032786886&lt;br&gt;&lt;/div&gt;`)[0];\n",
       "                popup_01e09880fe7b739c320e12418180a92d.setContent(html_31784a8cb89d4e11a2fe73c5240da567);\n",
       "            \n",
       "        \n",
       "\n",
       "        circle_marker_a8797c6ac31941044685ea2e27aebed3.bindPopup(popup_01e09880fe7b739c320e12418180a92d)\n",
       "        ;\n",
       "\n",
       "        \n",
       "    \n",
       "    \n",
       "            var circle_marker_30b047a2f10b75fc021ab07bec30e952 = L.circleMarker(\n",
       "                [9.7489, -83.7534],\n",
       "                {&quot;bubblingMouseEvents&quot;: true, &quot;color&quot;: &quot;blue&quot;, &quot;dashArray&quot;: null, &quot;dashOffset&quot;: null, &quot;fill&quot;: true, &quot;fillColor&quot;: &quot;crimson&quot;, &quot;fillOpacity&quot;: 0.3, &quot;fillRule&quot;: &quot;evenodd&quot;, &quot;lineCap&quot;: &quot;round&quot;, &quot;lineJoin&quot;: &quot;round&quot;, &quot;opacity&quot;: 1.0, &quot;radius&quot;: 0.09975299180327869, &quot;stroke&quot;: true, &quot;weight&quot;: 3}\n",
       "            ).addTo(map_63bd30139a6212ba0546419532110ea0);\n",
       "        \n",
       "    \n",
       "        var popup_23d78203d41dc59b97415075926805bc = L.popup({&quot;maxWidth&quot;: &quot;100%&quot;});\n",
       "\n",
       "        \n",
       "            \n",
       "                var html_9fd19ebb659eff811adfbbecb954666c = $(`&lt;div id=&quot;html_9fd19ebb659eff811adfbbecb954666c&quot; style=&quot;width: 100.0%; height: 100.0%;&quot;&gt;&lt;strong&gt;State&lt;/strong&gt;N/a&lt;br&gt;&lt;strong&gt;Confirmed Cases&lt;/strong&gt;9975.29918032787&lt;br&gt;&lt;/div&gt;`)[0];\n",
       "                popup_23d78203d41dc59b97415075926805bc.setContent(html_9fd19ebb659eff811adfbbecb954666c);\n",
       "            \n",
       "        \n",
       "\n",
       "        circle_marker_30b047a2f10b75fc021ab07bec30e952.bindPopup(popup_23d78203d41dc59b97415075926805bc)\n",
       "        ;\n",
       "\n",
       "        \n",
       "    \n",
       "    \n",
       "            var circle_marker_2bd71f691d5e7ee543f1bc5045acf607 = L.circleMarker(\n",
       "                [7.54, -5.5471],\n",
       "                {&quot;bubblingMouseEvents&quot;: true, &quot;color&quot;: &quot;blue&quot;, &quot;dashArray&quot;: null, &quot;dashOffset&quot;: null, &quot;fill&quot;: true, &quot;fillColor&quot;: &quot;crimson&quot;, &quot;fillOpacity&quot;: 0.3, &quot;fillRule&quot;: &quot;evenodd&quot;, &quot;lineCap&quot;: &quot;round&quot;, &quot;lineJoin&quot;: &quot;round&quot;, &quot;opacity&quot;: 1.0, &quot;radius&quot;: 0.06552290983606557, &quot;stroke&quot;: true, &quot;weight&quot;: 3}\n",
       "            ).addTo(map_63bd30139a6212ba0546419532110ea0);\n",
       "        \n",
       "    \n",
       "        var popup_21792240c2d855cc5f8df947055f6cdb = L.popup({&quot;maxWidth&quot;: &quot;100%&quot;});\n",
       "\n",
       "        \n",
       "            \n",
       "                var html_cd0fe5e71b2194fc4c7af7cffee8431d = $(`&lt;div id=&quot;html_cd0fe5e71b2194fc4c7af7cffee8431d&quot; style=&quot;width: 100.0%; height: 100.0%;&quot;&gt;&lt;strong&gt;State&lt;/strong&gt;N/a&lt;br&gt;&lt;strong&gt;Confirmed Cases&lt;/strong&gt;6552.290983606557&lt;br&gt;&lt;/div&gt;`)[0];\n",
       "                popup_21792240c2d855cc5f8df947055f6cdb.setContent(html_cd0fe5e71b2194fc4c7af7cffee8431d);\n",
       "            \n",
       "        \n",
       "\n",
       "        circle_marker_2bd71f691d5e7ee543f1bc5045acf607.bindPopup(popup_21792240c2d855cc5f8df947055f6cdb)\n",
       "        ;\n",
       "\n",
       "        \n",
       "    \n",
       "    \n",
       "            var circle_marker_1b5bc04d8a2f7e5e54db551b2b4ba49e = L.circleMarker(\n",
       "                [45.1, 15.2],\n",
       "                {&quot;bubblingMouseEvents&quot;: true, &quot;color&quot;: &quot;blue&quot;, &quot;dashArray&quot;: null, &quot;dashOffset&quot;: null, &quot;fill&quot;: true, &quot;fillColor&quot;: &quot;crimson&quot;, &quot;fillOpacity&quot;: 0.3, &quot;fillRule&quot;: &quot;evenodd&quot;, &quot;lineCap&quot;: &quot;round&quot;, &quot;lineJoin&quot;: &quot;round&quot;, &quot;opacity&quot;: 1.0, &quot;radius&quot;: 0.0331469262295082, &quot;stroke&quot;: true, &quot;weight&quot;: 3}\n",
       "            ).addTo(map_63bd30139a6212ba0546419532110ea0);\n",
       "        \n",
       "    \n",
       "        var popup_a9cc60766f045ce84b38d91c47578c67 = L.popup({&quot;maxWidth&quot;: &quot;100%&quot;});\n",
       "\n",
       "        \n",
       "            \n",
       "                var html_dad91e1bf128e1e965b234317d81c8f4 = $(`&lt;div id=&quot;html_dad91e1bf128e1e965b234317d81c8f4&quot; style=&quot;width: 100.0%; height: 100.0%;&quot;&gt;&lt;strong&gt;State&lt;/strong&gt;N/a&lt;br&gt;&lt;strong&gt;Confirmed Cases&lt;/strong&gt;3314.69262295082&lt;br&gt;&lt;/div&gt;`)[0];\n",
       "                popup_a9cc60766f045ce84b38d91c47578c67.setContent(html_dad91e1bf128e1e965b234317d81c8f4);\n",
       "            \n",
       "        \n",
       "\n",
       "        circle_marker_1b5bc04d8a2f7e5e54db551b2b4ba49e.bindPopup(popup_a9cc60766f045ce84b38d91c47578c67)\n",
       "        ;\n",
       "\n",
       "        \n",
       "    \n",
       "    \n",
       "            var circle_marker_6e173a9dfd70f94fcf56d2199faf6d0b = L.circleMarker(\n",
       "                [21.521757, -77.78116700000002],\n",
       "                {&quot;bubblingMouseEvents&quot;: true, &quot;color&quot;: &quot;blue&quot;, &quot;dashArray&quot;: null, &quot;dashOffset&quot;: null, &quot;fill&quot;: true, &quot;fillColor&quot;: &quot;crimson&quot;, &quot;fillOpacity&quot;: 0.3, &quot;fillRule&quot;: &quot;evenodd&quot;, &quot;lineCap&quot;: &quot;round&quot;, &quot;lineJoin&quot;: &quot;round&quot;, &quot;opacity&quot;: 1.0, &quot;radius&quot;: 0.01745454918032787, &quot;stroke&quot;: true, &quot;weight&quot;: 3}\n",
       "            ).addTo(map_63bd30139a6212ba0546419532110ea0);\n",
       "        \n",
       "    \n",
       "        var popup_c233bd5343d4b1062c2efb8e4fed2914 = L.popup({&quot;maxWidth&quot;: &quot;100%&quot;});\n",
       "\n",
       "        \n",
       "            \n",
       "                var html_c7f68c97d4f86eac98db6da37ff86063 = $(`&lt;div id=&quot;html_c7f68c97d4f86eac98db6da37ff86063&quot; style=&quot;width: 100.0%; height: 100.0%;&quot;&gt;&lt;strong&gt;State&lt;/strong&gt;N/a&lt;br&gt;&lt;strong&gt;Confirmed Cases&lt;/strong&gt;1745.454918032787&lt;br&gt;&lt;/div&gt;`)[0];\n",
       "                popup_c233bd5343d4b1062c2efb8e4fed2914.setContent(html_c7f68c97d4f86eac98db6da37ff86063);\n",
       "            \n",
       "        \n",
       "\n",
       "        circle_marker_6e173a9dfd70f94fcf56d2199faf6d0b.bindPopup(popup_c233bd5343d4b1062c2efb8e4fed2914)\n",
       "        ;\n",
       "\n",
       "        \n",
       "    \n",
       "    \n",
       "            var circle_marker_eb6f953f689aaff63bf64c31732d73df = L.circleMarker(\n",
       "                [35.1264, 33.4299],\n",
       "                {&quot;bubblingMouseEvents&quot;: true, &quot;color&quot;: &quot;blue&quot;, &quot;dashArray&quot;: null, &quot;dashOffset&quot;: null, &quot;fill&quot;: true, &quot;fillColor&quot;: &quot;crimson&quot;, &quot;fillOpacity&quot;: 0.3, &quot;fillRule&quot;: &quot;evenodd&quot;, &quot;lineCap&quot;: &quot;round&quot;, &quot;lineJoin&quot;: &quot;round&quot;, &quot;opacity&quot;: 1.0, &quot;radius&quot;: 0.00758438524590164, &quot;stroke&quot;: true, &quot;weight&quot;: 3}\n",
       "            ).addTo(map_63bd30139a6212ba0546419532110ea0);\n",
       "        \n",
       "    \n",
       "        var popup_c59048cada4986d8d81aa482b788e305 = L.popup({&quot;maxWidth&quot;: &quot;100%&quot;});\n",
       "\n",
       "        \n",
       "            \n",
       "                var html_8b31667952b5bc8f5e5dd5f8d1081f3a = $(`&lt;div id=&quot;html_8b31667952b5bc8f5e5dd5f8d1081f3a&quot; style=&quot;width: 100.0%; height: 100.0%;&quot;&gt;&lt;strong&gt;State&lt;/strong&gt;N/a&lt;br&gt;&lt;strong&gt;Confirmed Cases&lt;/strong&gt;758.438524590164&lt;br&gt;&lt;/div&gt;`)[0];\n",
       "                popup_c59048cada4986d8d81aa482b788e305.setContent(html_8b31667952b5bc8f5e5dd5f8d1081f3a);\n",
       "            \n",
       "        \n",
       "\n",
       "        circle_marker_eb6f953f689aaff63bf64c31732d73df.bindPopup(popup_c59048cada4986d8d81aa482b788e305)\n",
       "        ;\n",
       "\n",
       "        \n",
       "    \n",
       "    \n",
       "            var circle_marker_77dd058ee9f7e66ffb9fe61879d322a7 = L.circleMarker(\n",
       "                [49.8175, 15.473],\n",
       "                {&quot;bubblingMouseEvents&quot;: true, &quot;color&quot;: &quot;blue&quot;, &quot;dashArray&quot;: null, &quot;dashOffset&quot;: null, &quot;fill&quot;: true, &quot;fillColor&quot;: &quot;crimson&quot;, &quot;fillOpacity&quot;: 0.3, &quot;fillRule&quot;: &quot;evenodd&quot;, &quot;lineCap&quot;: &quot;round&quot;, &quot;lineJoin&quot;: &quot;round&quot;, &quot;opacity&quot;: 1.0, &quot;radius&quot;: 0.10590405737704918, &quot;stroke&quot;: true, &quot;weight&quot;: 3}\n",
       "            ).addTo(map_63bd30139a6212ba0546419532110ea0);\n",
       "        \n",
       "    \n",
       "        var popup_62b4b1a8d4fdeb8beae53ecf7df60c77 = L.popup({&quot;maxWidth&quot;: &quot;100%&quot;});\n",
       "\n",
       "        \n",
       "            \n",
       "                var html_9a29389ddb7abcf631e35ed1390321a0 = $(`&lt;div id=&quot;html_9a29389ddb7abcf631e35ed1390321a0&quot; style=&quot;width: 100.0%; height: 100.0%;&quot;&gt;&lt;strong&gt;State&lt;/strong&gt;N/a&lt;br&gt;&lt;strong&gt;Confirmed Cases&lt;/strong&gt;10590.405737704918&lt;br&gt;&lt;/div&gt;`)[0];\n",
       "                popup_62b4b1a8d4fdeb8beae53ecf7df60c77.setContent(html_9a29389ddb7abcf631e35ed1390321a0);\n",
       "            \n",
       "        \n",
       "\n",
       "        circle_marker_77dd058ee9f7e66ffb9fe61879d322a7.bindPopup(popup_62b4b1a8d4fdeb8beae53ecf7df60c77)\n",
       "        ;\n",
       "\n",
       "        \n",
       "    \n",
       "    \n",
       "            var circle_marker_3cf9ca0286c3384ce6d544d5c94c88db = L.circleMarker(\n",
       "                [56.2639, 9.5018],\n",
       "                {&quot;bubblingMouseEvents&quot;: true, &quot;color&quot;: &quot;blue&quot;, &quot;dashArray&quot;: null, &quot;dashOffset&quot;: null, &quot;fill&quot;: true, &quot;fillColor&quot;: &quot;crimson&quot;, &quot;fillOpacity&quot;: 0.3, &quot;fillRule&quot;: &quot;evenodd&quot;, &quot;lineCap&quot;: &quot;round&quot;, &quot;lineJoin&quot;: &quot;round&quot;, &quot;opacity&quot;: 1.0, &quot;radius&quot;: 0.09128040983606557, &quot;stroke&quot;: true, &quot;weight&quot;: 3}\n",
       "            ).addTo(map_63bd30139a6212ba0546419532110ea0);\n",
       "        \n",
       "    \n",
       "        var popup_989d8583ebcdd3eebf4f4bd4e292a7d8 = L.popup({&quot;maxWidth&quot;: &quot;100%&quot;});\n",
       "\n",
       "        \n",
       "            \n",
       "                var html_9a491977b626b22830ccefd07d53fa77 = $(`&lt;div id=&quot;html_9a491977b626b22830ccefd07d53fa77&quot; style=&quot;width: 100.0%; height: 100.0%;&quot;&gt;&lt;strong&gt;State&lt;/strong&gt;N/a&lt;br&gt;&lt;strong&gt;Confirmed Cases&lt;/strong&gt;9128.040983606557&lt;br&gt;&lt;/div&gt;`)[0];\n",
       "                popup_989d8583ebcdd3eebf4f4bd4e292a7d8.setContent(html_9a491977b626b22830ccefd07d53fa77);\n",
       "            \n",
       "        \n",
       "\n",
       "        circle_marker_3cf9ca0286c3384ce6d544d5c94c88db.bindPopup(popup_989d8583ebcdd3eebf4f4bd4e292a7d8)\n",
       "        ;\n",
       "\n",
       "        \n",
       "    \n",
       "    \n",
       "            var circle_marker_c7dcc2e30252685a39c839b52d457375 = L.circleMarker(\n",
       "                [0.0, 0.0],\n",
       "                {&quot;bubblingMouseEvents&quot;: true, &quot;color&quot;: &quot;blue&quot;, &quot;dashArray&quot;: null, &quot;dashOffset&quot;: null, &quot;fill&quot;: true, &quot;fillColor&quot;: &quot;crimson&quot;, &quot;fillOpacity&quot;: 0.3, &quot;fillRule&quot;: &quot;evenodd&quot;, &quot;lineCap&quot;: &quot;round&quot;, &quot;lineJoin&quot;: &quot;round&quot;, &quot;opacity&quot;: 1.0, &quot;radius&quot;: 0.006390655737704918, &quot;stroke&quot;: true, &quot;weight&quot;: 3}\n",
       "            ).addTo(map_63bd30139a6212ba0546419532110ea0);\n",
       "        \n",
       "    \n",
       "        var popup_d5e137e50b6dba6296fd7ed837253814 = L.popup({&quot;maxWidth&quot;: &quot;100%&quot;});\n",
       "\n",
       "        \n",
       "            \n",
       "                var html_4f42120adba155c8796788b8b02ceeea = $(`&lt;div id=&quot;html_4f42120adba155c8796788b8b02ceeea&quot; style=&quot;width: 100.0%; height: 100.0%;&quot;&gt;&lt;strong&gt;State&lt;/strong&gt;N/a&lt;br&gt;&lt;strong&gt;Confirmed Cases&lt;/strong&gt;639.0655737704918&lt;br&gt;&lt;/div&gt;`)[0];\n",
       "                popup_d5e137e50b6dba6296fd7ed837253814.setContent(html_4f42120adba155c8796788b8b02ceeea);\n",
       "            \n",
       "        \n",
       "\n",
       "        circle_marker_c7dcc2e30252685a39c839b52d457375.bindPopup(popup_d5e137e50b6dba6296fd7ed837253814)\n",
       "        ;\n",
       "\n",
       "        \n",
       "    \n",
       "    \n",
       "            var circle_marker_fff7dd11101646c20eb13b414d3066ad = L.circleMarker(\n",
       "                [11.8251, 42.5903],\n",
       "                {&quot;bubblingMouseEvents&quot;: true, &quot;color&quot;: &quot;blue&quot;, &quot;dashArray&quot;: null, &quot;dashOffset&quot;: null, &quot;fill&quot;: true, &quot;fillColor&quot;: &quot;crimson&quot;, &quot;fillOpacity&quot;: 0.3, &quot;fillRule&quot;: &quot;evenodd&quot;, &quot;lineCap&quot;: &quot;round&quot;, &quot;lineJoin&quot;: &quot;round&quot;, &quot;opacity&quot;: 1.0, &quot;radius&quot;: 0.026042581967213114, &quot;stroke&quot;: true, &quot;weight&quot;: 3}\n",
       "            ).addTo(map_63bd30139a6212ba0546419532110ea0);\n",
       "        \n",
       "    \n",
       "        var popup_127442280a87be2ab6a363071c837e0e = L.popup({&quot;maxWidth&quot;: &quot;100%&quot;});\n",
       "\n",
       "        \n",
       "            \n",
       "                var html_f4f21bd2bfefb69fd5fa9d101bc440d1 = $(`&lt;div id=&quot;html_f4f21bd2bfefb69fd5fa9d101bc440d1&quot; style=&quot;width: 100.0%; height: 100.0%;&quot;&gt;&lt;strong&gt;State&lt;/strong&gt;N/a&lt;br&gt;&lt;strong&gt;Confirmed Cases&lt;/strong&gt;2604.2581967213114&lt;br&gt;&lt;/div&gt;`)[0];\n",
       "                popup_127442280a87be2ab6a363071c837e0e.setContent(html_f4f21bd2bfefb69fd5fa9d101bc440d1);\n",
       "            \n",
       "        \n",
       "\n",
       "        circle_marker_fff7dd11101646c20eb13b414d3066ad.bindPopup(popup_127442280a87be2ab6a363071c837e0e)\n",
       "        ;\n",
       "\n",
       "        \n",
       "    \n",
       "    \n",
       "            var circle_marker_be3a0b3ccd3dec08d73d84f4a338aa2a = L.circleMarker(\n",
       "                [15.415, -61.371],\n",
       "                {&quot;bubblingMouseEvents&quot;: true, &quot;color&quot;: &quot;blue&quot;, &quot;dashArray&quot;: null, &quot;dashOffset&quot;: null, &quot;fill&quot;: true, &quot;fillColor&quot;: &quot;crimson&quot;, &quot;fillOpacity&quot;: 0.3, &quot;fillRule&quot;: &quot;evenodd&quot;, &quot;lineCap&quot;: &quot;round&quot;, &quot;lineJoin&quot;: &quot;round&quot;, &quot;opacity&quot;: 1.0, &quot;radius&quot;: 0.00013053278688524592, &quot;stroke&quot;: true, &quot;weight&quot;: 3}\n",
       "            ).addTo(map_63bd30139a6212ba0546419532110ea0);\n",
       "        \n",
       "    \n",
       "        var popup_0777e0eefe646778aa388594117e6e93 = L.popup({&quot;maxWidth&quot;: &quot;100%&quot;});\n",
       "\n",
       "        \n",
       "            \n",
       "                var html_3d28d5ba657a644841b8e3493a9ee64f = $(`&lt;div id=&quot;html_3d28d5ba657a644841b8e3493a9ee64f&quot; style=&quot;width: 100.0%; height: 100.0%;&quot;&gt;&lt;strong&gt;State&lt;/strong&gt;N/a&lt;br&gt;&lt;strong&gt;Confirmed Cases&lt;/strong&gt;13.05327868852459&lt;br&gt;&lt;/div&gt;`)[0];\n",
       "                popup_0777e0eefe646778aa388594117e6e93.setContent(html_3d28d5ba657a644841b8e3493a9ee64f);\n",
       "            \n",
       "        \n",
       "\n",
       "        circle_marker_be3a0b3ccd3dec08d73d84f4a338aa2a.bindPopup(popup_0777e0eefe646778aa388594117e6e93)\n",
       "        ;\n",
       "\n",
       "        \n",
       "    \n",
       "    \n",
       "            var circle_marker_6089ec88f6623bf5e357bb2e4c1e6c89 = L.circleMarker(\n",
       "                [18.7357, -70.1627],\n",
       "                {&quot;bubblingMouseEvents&quot;: true, &quot;color&quot;: &quot;blue&quot;, &quot;dashArray&quot;: null, &quot;dashOffset&quot;: null, &quot;fill&quot;: true, &quot;fillColor&quot;: &quot;crimson&quot;, &quot;fillOpacity&quot;: 0.3, &quot;fillRule&quot;: &quot;evenodd&quot;, &quot;lineCap&quot;: &quot;round&quot;, &quot;lineJoin&quot;: &quot;round&quot;, &quot;opacity&quot;: 1.0, &quot;radius&quot;: 0.3090315573770492, &quot;stroke&quot;: true, &quot;weight&quot;: 3}\n",
       "            ).addTo(map_63bd30139a6212ba0546419532110ea0);\n",
       "        \n",
       "    \n",
       "        var popup_a544ae7dc3fcb2bf5853f74d17c4a1f5 = L.popup({&quot;maxWidth&quot;: &quot;100%&quot;});\n",
       "\n",
       "        \n",
       "            \n",
       "                var html_afe3a8b09b3dc6b97807f3865ab2a6bc = $(`&lt;div id=&quot;html_afe3a8b09b3dc6b97807f3865ab2a6bc&quot; style=&quot;width: 100.0%; height: 100.0%;&quot;&gt;&lt;strong&gt;State&lt;/strong&gt;N/a&lt;br&gt;&lt;strong&gt;Confirmed Cases&lt;/strong&gt;30903.155737704918&lt;br&gt;&lt;/div&gt;`)[0];\n",
       "                popup_a544ae7dc3fcb2bf5853f74d17c4a1f5.setContent(html_afe3a8b09b3dc6b97807f3865ab2a6bc);\n",
       "            \n",
       "        \n",
       "\n",
       "        circle_marker_6089ec88f6623bf5e357bb2e4c1e6c89.bindPopup(popup_a544ae7dc3fcb2bf5853f74d17c4a1f5)\n",
       "        ;\n",
       "\n",
       "        \n",
       "    \n",
       "    \n",
       "            var circle_marker_657c54fc1c5c12e910780c7aa96901aa = L.circleMarker(\n",
       "                [-1.8312, -78.1834],\n",
       "                {&quot;bubblingMouseEvents&quot;: true, &quot;color&quot;: &quot;blue&quot;, &quot;dashArray&quot;: null, &quot;dashOffset&quot;: null, &quot;fill&quot;: true, &quot;fillColor&quot;: &quot;crimson&quot;, &quot;fillOpacity&quot;: 0.3, &quot;fillRule&quot;: &quot;evenodd&quot;, &quot;lineCap&quot;: &quot;round&quot;, &quot;lineJoin&quot;: &quot;round&quot;, &quot;opacity&quot;: 1.0, &quot;radius&quot;: 0.43508184426229507, &quot;stroke&quot;: true, &quot;weight&quot;: 3}\n",
       "            ).addTo(map_63bd30139a6212ba0546419532110ea0);\n",
       "        \n",
       "    \n",
       "        var popup_da7b043873104f534e78b8d9c4180de0 = L.popup({&quot;maxWidth&quot;: &quot;100%&quot;});\n",
       "\n",
       "        \n",
       "            \n",
       "                var html_d81e93378e36e15f18deca44546999da = $(`&lt;div id=&quot;html_d81e93378e36e15f18deca44546999da&quot; style=&quot;width: 100.0%; height: 100.0%;&quot;&gt;&lt;strong&gt;State&lt;/strong&gt;N/a&lt;br&gt;&lt;strong&gt;Confirmed Cases&lt;/strong&gt;43508.184426229505&lt;br&gt;&lt;/div&gt;`)[0];\n",
       "                popup_da7b043873104f534e78b8d9c4180de0.setContent(html_d81e93378e36e15f18deca44546999da);\n",
       "            \n",
       "        \n",
       "\n",
       "        circle_marker_657c54fc1c5c12e910780c7aa96901aa.bindPopup(popup_da7b043873104f534e78b8d9c4180de0)\n",
       "        ;\n",
       "\n",
       "        \n",
       "    \n",
       "    \n",
       "            var circle_marker_e46cfb0c835016c99908ba50c538cc3c = L.circleMarker(\n",
       "                [26.820553000000004, 30.802498],\n",
       "                {&quot;bubblingMouseEvents&quot;: true, &quot;color&quot;: &quot;blue&quot;, &quot;dashArray&quot;: null, &quot;dashOffset&quot;: null, &quot;fill&quot;: true, &quot;fillColor&quot;: &quot;crimson&quot;, &quot;fillOpacity&quot;: 0.3, &quot;fillRule&quot;: &quot;evenodd&quot;, &quot;lineCap&quot;: &quot;round&quot;, &quot;lineJoin&quot;: &quot;round&quot;, &quot;opacity&quot;: 1.0, &quot;radius&quot;: 0.39435606557377045, &quot;stroke&quot;: true, &quot;weight&quot;: 3}\n",
       "            ).addTo(map_63bd30139a6212ba0546419532110ea0);\n",
       "        \n",
       "    \n",
       "        var popup_7f8d5a53d71326549b3b3628927c4051 = L.popup({&quot;maxWidth&quot;: &quot;100%&quot;});\n",
       "\n",
       "        \n",
       "            \n",
       "                var html_8d21fb50401535c579e53b81e8ad449d = $(`&lt;div id=&quot;html_8d21fb50401535c579e53b81e8ad449d&quot; style=&quot;width: 100.0%; height: 100.0%;&quot;&gt;&lt;strong&gt;State&lt;/strong&gt;N/a&lt;br&gt;&lt;strong&gt;Confirmed Cases&lt;/strong&gt;39435.60655737705&lt;br&gt;&lt;/div&gt;`)[0];\n",
       "                popup_7f8d5a53d71326549b3b3628927c4051.setContent(html_8d21fb50401535c579e53b81e8ad449d);\n",
       "            \n",
       "        \n",
       "\n",
       "        circle_marker_e46cfb0c835016c99908ba50c538cc3c.bindPopup(popup_7f8d5a53d71326549b3b3628927c4051)\n",
       "        ;\n",
       "\n",
       "        \n",
       "    \n",
       "    \n",
       "            var circle_marker_3ac12a871d8e1cb07f3e3131ad597170 = L.circleMarker(\n",
       "                [13.7942, -88.8965],\n",
       "                {&quot;bubblingMouseEvents&quot;: true, &quot;color&quot;: &quot;blue&quot;, &quot;dashArray&quot;: null, &quot;dashOffset&quot;: null, &quot;fill&quot;: true, &quot;fillColor&quot;: &quot;crimson&quot;, &quot;fillOpacity&quot;: 0.3, &quot;fillRule&quot;: &quot;evenodd&quot;, &quot;lineCap&quot;: &quot;round&quot;, &quot;lineJoin&quot;: &quot;round&quot;, &quot;opacity&quot;: 1.0, &quot;radius&quot;: 0.07258340163934426, &quot;stroke&quot;: true, &quot;weight&quot;: 3}\n",
       "            ).addTo(map_63bd30139a6212ba0546419532110ea0);\n",
       "        \n",
       "    \n",
       "        var popup_96f4cbf8d628e759823a8942968c5f4e = L.popup({&quot;maxWidth&quot;: &quot;100%&quot;});\n",
       "\n",
       "        \n",
       "            \n",
       "                var html_08b01f052726b06a8df33c1407d1b0e2 = $(`&lt;div id=&quot;html_08b01f052726b06a8df33c1407d1b0e2&quot; style=&quot;width: 100.0%; height: 100.0%;&quot;&gt;&lt;strong&gt;State&lt;/strong&gt;N/a&lt;br&gt;&lt;strong&gt;Confirmed Cases&lt;/strong&gt;7258.3401639344265&lt;br&gt;&lt;/div&gt;`)[0];\n",
       "                popup_96f4cbf8d628e759823a8942968c5f4e.setContent(html_08b01f052726b06a8df33c1407d1b0e2);\n",
       "            \n",
       "        \n",
       "\n",
       "        circle_marker_3ac12a871d8e1cb07f3e3131ad597170.bindPopup(popup_96f4cbf8d628e759823a8942968c5f4e)\n",
       "        ;\n",
       "\n",
       "        \n",
       "    \n",
       "    \n",
       "            var circle_marker_72fba9712d9753f8602a92e31ce3dec4 = L.circleMarker(\n",
       "                [1.6508, 10.2679],\n",
       "                {&quot;bubblingMouseEvents&quot;: true, &quot;color&quot;: &quot;blue&quot;, &quot;dashArray&quot;: null, &quot;dashOffset&quot;: null, &quot;fill&quot;: true, &quot;fillColor&quot;: &quot;crimson&quot;, &quot;fillOpacity&quot;: 0.3, &quot;fillRule&quot;: &quot;evenodd&quot;, &quot;lineCap&quot;: &quot;round&quot;, &quot;lineJoin&quot;: &quot;round&quot;, &quot;opacity&quot;: 1.0, &quot;radius&quot;: 0.01733045081967213, &quot;stroke&quot;: true, &quot;weight&quot;: 3}\n",
       "            ).addTo(map_63bd30139a6212ba0546419532110ea0);\n",
       "        \n",
       "    \n",
       "        var popup_7a3756f9148da798694fe18f1166c55d = L.popup({&quot;maxWidth&quot;: &quot;100%&quot;});\n",
       "\n",
       "        \n",
       "            \n",
       "                var html_f5bf8018276f4433c3191b698f2bbe40 = $(`&lt;div id=&quot;html_f5bf8018276f4433c3191b698f2bbe40&quot; style=&quot;width: 100.0%; height: 100.0%;&quot;&gt;&lt;strong&gt;State&lt;/strong&gt;N/a&lt;br&gt;&lt;strong&gt;Confirmed Cases&lt;/strong&gt;1733.045081967213&lt;br&gt;&lt;/div&gt;`)[0];\n",
       "                popup_7a3756f9148da798694fe18f1166c55d.setContent(html_f5bf8018276f4433c3191b698f2bbe40);\n",
       "            \n",
       "        \n",
       "\n",
       "        circle_marker_72fba9712d9753f8602a92e31ce3dec4.bindPopup(popup_7a3756f9148da798694fe18f1166c55d)\n",
       "        ;\n",
       "\n",
       "        \n",
       "    \n",
       "    \n",
       "            var circle_marker_7e0f51a80132861eec6882737691296d = L.circleMarker(\n",
       "                [15.1794, 39.7823],\n",
       "                {&quot;bubblingMouseEvents&quot;: true, &quot;color&quot;: &quot;blue&quot;, &quot;dashArray&quot;: null, &quot;dashOffset&quot;: null, &quot;fill&quot;: true, &quot;fillColor&quot;: &quot;crimson&quot;, &quot;fillOpacity&quot;: 0.3, &quot;fillRule&quot;: &quot;evenodd&quot;, &quot;lineCap&quot;: &quot;round&quot;, &quot;lineJoin&quot;: &quot;round&quot;, &quot;opacity&quot;: 1.0, &quot;radius&quot;: 0.0012038934426229508, &quot;stroke&quot;: true, &quot;weight&quot;: 3}\n",
       "            ).addTo(map_63bd30139a6212ba0546419532110ea0);\n",
       "        \n",
       "    \n",
       "        var popup_ab1b80a89f8646200ee072415859b497 = L.popup({&quot;maxWidth&quot;: &quot;100%&quot;});\n",
       "\n",
       "        \n",
       "            \n",
       "                var html_4c76caebffca9ba9c64ad454e2411f9a = $(`&lt;div id=&quot;html_4c76caebffca9ba9c64ad454e2411f9a&quot; style=&quot;width: 100.0%; height: 100.0%;&quot;&gt;&lt;strong&gt;State&lt;/strong&gt;N/a&lt;br&gt;&lt;strong&gt;Confirmed Cases&lt;/strong&gt;120.38934426229508&lt;br&gt;&lt;/div&gt;`)[0];\n",
       "                popup_ab1b80a89f8646200ee072415859b497.setContent(html_4c76caebffca9ba9c64ad454e2411f9a);\n",
       "            \n",
       "        \n",
       "\n",
       "        circle_marker_7e0f51a80132861eec6882737691296d.bindPopup(popup_ab1b80a89f8646200ee072415859b497)\n",
       "        ;\n",
       "\n",
       "        \n",
       "    \n",
       "    \n",
       "            var circle_marker_8f0ea123c327a460ed24ea4e5f951dca = L.circleMarker(\n",
       "                [58.5953, 25.0136],\n",
       "                {&quot;bubblingMouseEvents&quot;: true, &quot;color&quot;: &quot;blue&quot;, &quot;dashArray&quot;: null, &quot;dashOffset&quot;: null, &quot;fill&quot;: true, &quot;fillColor&quot;: &quot;crimson&quot;, &quot;fillOpacity&quot;: 0.3, &quot;fillRule&quot;: &quot;evenodd&quot;, &quot;lineCap&quot;: &quot;round&quot;, &quot;lineJoin&quot;: &quot;round&quot;, &quot;opacity&quot;: 1.0, &quot;radius&quot;: 0.014288811475409837, &quot;stroke&quot;: true, &quot;weight&quot;: 3}\n",
       "            ).addTo(map_63bd30139a6212ba0546419532110ea0);\n",
       "        \n",
       "    \n",
       "        var popup_7aabad9717fc5021ba6b46a55cd604e5 = L.popup({&quot;maxWidth&quot;: &quot;100%&quot;});\n",
       "\n",
       "        \n",
       "            \n",
       "                var html_8bc78f49eb71ff313d094ca3975f3403 = $(`&lt;div id=&quot;html_8bc78f49eb71ff313d094ca3975f3403&quot; style=&quot;width: 100.0%; height: 100.0%;&quot;&gt;&lt;strong&gt;State&lt;/strong&gt;N/a&lt;br&gt;&lt;strong&gt;Confirmed Cases&lt;/strong&gt;1428.8811475409836&lt;br&gt;&lt;/div&gt;`)[0];\n",
       "                popup_7aabad9717fc5021ba6b46a55cd604e5.setContent(html_8bc78f49eb71ff313d094ca3975f3403);\n",
       "            \n",
       "        \n",
       "\n",
       "        circle_marker_8f0ea123c327a460ed24ea4e5f951dca.bindPopup(popup_7aabad9717fc5021ba6b46a55cd604e5)\n",
       "        ;\n",
       "\n",
       "        \n",
       "    \n",
       "    \n",
       "            var circle_marker_ea46f53b706166fdc5261202b8a63d22 = L.circleMarker(\n",
       "                [-26.5225, 31.4659],\n",
       "                {&quot;bubblingMouseEvents&quot;: true, &quot;color&quot;: &quot;blue&quot;, &quot;dashArray&quot;: null, &quot;dashOffset&quot;: null, &quot;fill&quot;: true, &quot;fillColor&quot;: &quot;crimson&quot;, &quot;fillOpacity&quot;: 0.3, &quot;fillRule&quot;: &quot;evenodd&quot;, &quot;lineCap&quot;: &quot;round&quot;, &quot;lineJoin&quot;: &quot;round&quot;, &quot;opacity&quot;: 1.0, &quot;radius&quot;: 0.012047418032786887, &quot;stroke&quot;: true, &quot;weight&quot;: 3}\n",
       "            ).addTo(map_63bd30139a6212ba0546419532110ea0);\n",
       "        \n",
       "    \n",
       "        var popup_81060a83fb38f3be4a8b8b3c53e463dd = L.popup({&quot;maxWidth&quot;: &quot;100%&quot;});\n",
       "\n",
       "        \n",
       "            \n",
       "                var html_6d4e85155ec4e8064b7d5e1e3cd3f2a2 = $(`&lt;div id=&quot;html_6d4e85155ec4e8064b7d5e1e3cd3f2a2&quot; style=&quot;width: 100.0%; height: 100.0%;&quot;&gt;&lt;strong&gt;State&lt;/strong&gt;N/a&lt;br&gt;&lt;strong&gt;Confirmed Cases&lt;/strong&gt;1204.7418032786886&lt;br&gt;&lt;/div&gt;`)[0];\n",
       "                popup_81060a83fb38f3be4a8b8b3c53e463dd.setContent(html_6d4e85155ec4e8064b7d5e1e3cd3f2a2);\n",
       "            \n",
       "        \n",
       "\n",
       "        circle_marker_ea46f53b706166fdc5261202b8a63d22.bindPopup(popup_81060a83fb38f3be4a8b8b3c53e463dd)\n",
       "        ;\n",
       "\n",
       "        \n",
       "    \n",
       "    \n",
       "            var circle_marker_1f0090b3df92601276e9d684b9651385 = L.circleMarker(\n",
       "                [9.145, 40.4897],\n",
       "                {&quot;bubblingMouseEvents&quot;: true, &quot;color&quot;: &quot;blue&quot;, &quot;dashArray&quot;: null, &quot;dashOffset&quot;: null, &quot;fill&quot;: true, &quot;fillColor&quot;: &quot;crimson&quot;, &quot;fillOpacity&quot;: 0.3, &quot;fillRule&quot;: &quot;evenodd&quot;, &quot;lineCap&quot;: &quot;round&quot;, &quot;lineJoin&quot;: &quot;round&quot;, &quot;opacity&quot;: 1.0, &quot;radius&quot;: 0.11192909836065573, &quot;stroke&quot;: true, &quot;weight&quot;: 3}\n",
       "            ).addTo(map_63bd30139a6212ba0546419532110ea0);\n",
       "        \n",
       "    \n",
       "        var popup_724d05487afadeab43644e779fbcf87c = L.popup({&quot;maxWidth&quot;: &quot;100%&quot;});\n",
       "\n",
       "        \n",
       "            \n",
       "                var html_1874203332b568a93a5ab7244bee0d01 = $(`&lt;div id=&quot;html_1874203332b568a93a5ab7244bee0d01&quot; style=&quot;width: 100.0%; height: 100.0%;&quot;&gt;&lt;strong&gt;State&lt;/strong&gt;N/a&lt;br&gt;&lt;strong&gt;Confirmed Cases&lt;/strong&gt;11192.909836065573&lt;br&gt;&lt;/div&gt;`)[0];\n",
       "                popup_724d05487afadeab43644e779fbcf87c.setContent(html_1874203332b568a93a5ab7244bee0d01);\n",
       "            \n",
       "        \n",
       "\n",
       "        circle_marker_1f0090b3df92601276e9d684b9651385.bindPopup(popup_724d05487afadeab43644e779fbcf87c)\n",
       "        ;\n",
       "\n",
       "        \n",
       "    \n",
       "    \n",
       "            var circle_marker_6ee6af7395955a0484b4523f37fc8dc7 = L.circleMarker(\n",
       "                [-17.7134, 178.065],\n",
       "                {&quot;bubblingMouseEvents&quot;: true, &quot;color&quot;: &quot;blue&quot;, &quot;dashArray&quot;: null, &quot;dashOffset&quot;: null, &quot;fill&quot;: true, &quot;fillColor&quot;: &quot;crimson&quot;, &quot;fillOpacity&quot;: 0.3, &quot;fillRule&quot;: &quot;evenodd&quot;, &quot;lineCap&quot;: &quot;round&quot;, &quot;lineJoin&quot;: &quot;round&quot;, &quot;opacity&quot;: 1.0, &quot;radius&quot;: 0.0001592622950819672, &quot;stroke&quot;: true, &quot;weight&quot;: 3}\n",
       "            ).addTo(map_63bd30139a6212ba0546419532110ea0);\n",
       "        \n",
       "    \n",
       "        var popup_284b9a36a163e9ef29c4d4aae212fe87 = L.popup({&quot;maxWidth&quot;: &quot;100%&quot;});\n",
       "\n",
       "        \n",
       "            \n",
       "                var html_9c64ba5ff562dcca12de426aae05a5ce = $(`&lt;div id=&quot;html_9c64ba5ff562dcca12de426aae05a5ce&quot; style=&quot;width: 100.0%; height: 100.0%;&quot;&gt;&lt;strong&gt;State&lt;/strong&gt;N/a&lt;br&gt;&lt;strong&gt;Confirmed Cases&lt;/strong&gt;15.926229508196721&lt;br&gt;&lt;/div&gt;`)[0];\n",
       "                popup_284b9a36a163e9ef29c4d4aae212fe87.setContent(html_9c64ba5ff562dcca12de426aae05a5ce);\n",
       "            \n",
       "        \n",
       "\n",
       "        circle_marker_6ee6af7395955a0484b4523f37fc8dc7.bindPopup(popup_284b9a36a163e9ef29c4d4aae212fe87)\n",
       "        ;\n",
       "\n",
       "        \n",
       "    \n",
       "    \n",
       "            var circle_marker_7ce18c7ec8b27878e1cbda581288d764 = L.circleMarker(\n",
       "                [61.92411, 25.748151],\n",
       "                {&quot;bubblingMouseEvents&quot;: true, &quot;color&quot;: &quot;blue&quot;, &quot;dashArray&quot;: null, &quot;dashOffset&quot;: null, &quot;fill&quot;: true, &quot;fillColor&quot;: &quot;crimson&quot;, &quot;fillOpacity&quot;: 0.3, &quot;fillRule&quot;: &quot;evenodd&quot;, &quot;lineCap&quot;: &quot;round&quot;, &quot;lineJoin&quot;: &quot;round&quot;, &quot;opacity&quot;: 1.0, &quot;radius&quot;: 0.04763934426229508, &quot;stroke&quot;: true, &quot;weight&quot;: 3}\n",
       "            ).addTo(map_63bd30139a6212ba0546419532110ea0);\n",
       "        \n",
       "    \n",
       "        var popup_a13ec7979a2597fa9f6224be593c70b6 = L.popup({&quot;maxWidth&quot;: &quot;100%&quot;});\n",
       "\n",
       "        \n",
       "            \n",
       "                var html_85d997b640d357ac9516c94b9c72d801 = $(`&lt;div id=&quot;html_85d997b640d357ac9516c94b9c72d801&quot; style=&quot;width: 100.0%; height: 100.0%;&quot;&gt;&lt;strong&gt;State&lt;/strong&gt;N/a&lt;br&gt;&lt;strong&gt;Confirmed Cases&lt;/strong&gt;4763.934426229508&lt;br&gt;&lt;/div&gt;`)[0];\n",
       "                popup_a13ec7979a2597fa9f6224be593c70b6.setContent(html_85d997b640d357ac9516c94b9c72d801);\n",
       "            \n",
       "        \n",
       "\n",
       "        circle_marker_7ce18c7ec8b27878e1cbda581288d764.bindPopup(popup_a13ec7979a2597fa9f6224be593c70b6)\n",
       "        ;\n",
       "\n",
       "        \n",
       "    \n",
       "    \n",
       "            var circle_marker_6fb3223e6b3cd382dc483c891a0c2b33 = L.circleMarker(\n",
       "                [46.2276, 2.2137],\n",
       "                {&quot;bubblingMouseEvents&quot;: true, &quot;color&quot;: &quot;blue&quot;, &quot;dashArray&quot;: null, &quot;dashOffset&quot;: null, &quot;fill&quot;: true, &quot;fillColor&quot;: &quot;crimson&quot;, &quot;fillOpacity&quot;: 0.3, &quot;fillRule&quot;: &quot;evenodd&quot;, &quot;lineCap&quot;: &quot;round&quot;, &quot;lineJoin&quot;: &quot;round&quot;, &quot;opacity&quot;: 1.0, &quot;radius&quot;: 1.521629180327869, &quot;stroke&quot;: true, &quot;weight&quot;: 3}\n",
       "            ).addTo(map_63bd30139a6212ba0546419532110ea0);\n",
       "        \n",
       "    \n",
       "        var popup_f91404bab6f9053e182d9ddfde267939 = L.popup({&quot;maxWidth&quot;: &quot;100%&quot;});\n",
       "\n",
       "        \n",
       "            \n",
       "                var html_76493f444b5e83d72cfabc32b7477ce2 = $(`&lt;div id=&quot;html_76493f444b5e83d72cfabc32b7477ce2&quot; style=&quot;width: 100.0%; height: 100.0%;&quot;&gt;&lt;strong&gt;State&lt;/strong&gt;N/a&lt;br&gt;&lt;strong&gt;Confirmed Cases&lt;/strong&gt;152162.9180327869&lt;br&gt;&lt;/div&gt;`)[0];\n",
       "                popup_f91404bab6f9053e182d9ddfde267939.setContent(html_76493f444b5e83d72cfabc32b7477ce2);\n",
       "            \n",
       "        \n",
       "\n",
       "        circle_marker_6fb3223e6b3cd382dc483c891a0c2b33.bindPopup(popup_f91404bab6f9053e182d9ddfde267939)\n",
       "        ;\n",
       "\n",
       "        \n",
       "    \n",
       "    \n",
       "            var circle_marker_ec4fb6bb1cb626dc21d8cd03d9fc4ef9 = L.circleMarker(\n",
       "                [-0.8037, 11.6094],\n",
       "                {&quot;bubblingMouseEvents&quot;: true, &quot;color&quot;: &quot;blue&quot;, &quot;dashArray&quot;: null, &quot;dashOffset&quot;: null, &quot;fill&quot;: true, &quot;fillColor&quot;: &quot;crimson&quot;, &quot;fillOpacity&quot;: 0.3, &quot;fillRule&quot;: &quot;evenodd&quot;, &quot;lineCap&quot;: &quot;round&quot;, &quot;lineJoin&quot;: &quot;round&quot;, &quot;opacity&quot;: 1.0, &quot;radius&quot;: 0.032535245901639344, &quot;stroke&quot;: true, &quot;weight&quot;: 3}\n",
       "            ).addTo(map_63bd30139a6212ba0546419532110ea0);\n",
       "        \n",
       "    \n",
       "        var popup_c81507e6357ec0af325fa6cd8d3a5e9d = L.popup({&quot;maxWidth&quot;: &quot;100%&quot;});\n",
       "\n",
       "        \n",
       "            \n",
       "                var html_6fb6f1fa6490969d85426f8eb19300af = $(`&lt;div id=&quot;html_6fb6f1fa6490969d85426f8eb19300af&quot; style=&quot;width: 100.0%; height: 100.0%;&quot;&gt;&lt;strong&gt;State&lt;/strong&gt;N/a&lt;br&gt;&lt;strong&gt;Confirmed Cases&lt;/strong&gt;3253.5245901639346&lt;br&gt;&lt;/div&gt;`)[0];\n",
       "                popup_c81507e6357ec0af325fa6cd8d3a5e9d.setContent(html_6fb6f1fa6490969d85426f8eb19300af);\n",
       "            \n",
       "        \n",
       "\n",
       "        circle_marker_ec4fb6bb1cb626dc21d8cd03d9fc4ef9.bindPopup(popup_c81507e6357ec0af325fa6cd8d3a5e9d)\n",
       "        ;\n",
       "\n",
       "        \n",
       "    \n",
       "    \n",
       "            var circle_marker_ff62f8521f6557a8747b5050a52ff48c = L.circleMarker(\n",
       "                [13.4432, -15.3101],\n",
       "                {&quot;bubblingMouseEvents&quot;: true, &quot;color&quot;: &quot;blue&quot;, &quot;dashArray&quot;: null, &quot;dashOffset&quot;: null, &quot;fill&quot;: true, &quot;fillColor&quot;: &quot;crimson&quot;, &quot;fillOpacity&quot;: 0.3, &quot;fillRule&quot;: &quot;evenodd&quot;, &quot;lineCap&quot;: &quot;round&quot;, &quot;lineJoin&quot;: &quot;round&quot;, &quot;opacity&quot;: 1.0, &quot;radius&quot;: 0.0054415983606557385, &quot;stroke&quot;: true, &quot;weight&quot;: 3}\n",
       "            ).addTo(map_63bd30139a6212ba0546419532110ea0);\n",
       "        \n",
       "    \n",
       "        var popup_1ef7321f7583c79d13db3f9e8183ba6a = L.popup({&quot;maxWidth&quot;: &quot;100%&quot;});\n",
       "\n",
       "        \n",
       "            \n",
       "                var html_63089fe2d82866c2cd110302a84f314d = $(`&lt;div id=&quot;html_63089fe2d82866c2cd110302a84f314d&quot; style=&quot;width: 100.0%; height: 100.0%;&quot;&gt;&lt;strong&gt;State&lt;/strong&gt;N/a&lt;br&gt;&lt;strong&gt;Confirmed Cases&lt;/strong&gt;544.1598360655738&lt;br&gt;&lt;/div&gt;`)[0];\n",
       "                popup_1ef7321f7583c79d13db3f9e8183ba6a.setContent(html_63089fe2d82866c2cd110302a84f314d);\n",
       "            \n",
       "        \n",
       "\n",
       "        circle_marker_ff62f8521f6557a8747b5050a52ff48c.bindPopup(popup_1ef7321f7583c79d13db3f9e8183ba6a)\n",
       "        ;\n",
       "\n",
       "        \n",
       "    \n",
       "    \n",
       "            var circle_marker_4dc4e6fe898eabb2d963390d4333653a = L.circleMarker(\n",
       "                [42.3154, 43.3569],\n",
       "                {&quot;bubblingMouseEvents&quot;: true, &quot;color&quot;: &quot;blue&quot;, &quot;dashArray&quot;: null, &quot;dashOffset&quot;: null, &quot;fill&quot;: true, &quot;fillColor&quot;: &quot;crimson&quot;, &quot;fillOpacity&quot;: 0.3, &quot;fillRule&quot;: &quot;evenodd&quot;, &quot;lineCap&quot;: &quot;round&quot;, &quot;lineJoin&quot;: &quot;round&quot;, &quot;opacity&quot;: 1.0, &quot;radius&quot;: 0.007289467213114753, &quot;stroke&quot;: true, &quot;weight&quot;: 3}\n",
       "            ).addTo(map_63bd30139a6212ba0546419532110ea0);\n",
       "        \n",
       "    \n",
       "        var popup_f86e47e03f92d132eff2576e42123d20 = L.popup({&quot;maxWidth&quot;: &quot;100%&quot;});\n",
       "\n",
       "        \n",
       "            \n",
       "                var html_002357cceded2e47d02fc66bb2edb0d7 = $(`&lt;div id=&quot;html_002357cceded2e47d02fc66bb2edb0d7&quot; style=&quot;width: 100.0%; height: 100.0%;&quot;&gt;&lt;strong&gt;State&lt;/strong&gt;N/a&lt;br&gt;&lt;strong&gt;Confirmed Cases&lt;/strong&gt;728.9467213114754&lt;br&gt;&lt;/div&gt;`)[0];\n",
       "                popup_f86e47e03f92d132eff2576e42123d20.setContent(html_002357cceded2e47d02fc66bb2edb0d7);\n",
       "            \n",
       "        \n",
       "\n",
       "        circle_marker_4dc4e6fe898eabb2d963390d4333653a.bindPopup(popup_f86e47e03f92d132eff2576e42123d20)\n",
       "        ;\n",
       "\n",
       "        \n",
       "    \n",
       "    \n",
       "            var circle_marker_ffe15958f3202199b4d10a83adda4d42 = L.circleMarker(\n",
       "                [51.165691, 10.451526],\n",
       "                {&quot;bubblingMouseEvents&quot;: true, &quot;color&quot;: &quot;blue&quot;, &quot;dashArray&quot;: null, &quot;dashOffset&quot;: null, &quot;fill&quot;: true, &quot;fillColor&quot;: &quot;crimson&quot;, &quot;fillOpacity&quot;: 0.3, &quot;fillRule&quot;: &quot;evenodd&quot;, &quot;lineCap&quot;: &quot;round&quot;, &quot;lineJoin&quot;: &quot;round&quot;, &quot;opacity&quot;: 1.0, &quot;radius&quot;: 1.4089638524590165, &quot;stroke&quot;: true, &quot;weight&quot;: 3}\n",
       "            ).addTo(map_63bd30139a6212ba0546419532110ea0);\n",
       "        \n",
       "    \n",
       "        var popup_4b300419647d4dded685d45fbb29e956 = L.popup({&quot;maxWidth&quot;: &quot;100%&quot;});\n",
       "\n",
       "        \n",
       "            \n",
       "                var html_05822753c810443d9c1e8ca80f2ce261 = $(`&lt;div id=&quot;html_05822753c810443d9c1e8ca80f2ce261&quot; style=&quot;width: 100.0%; height: 100.0%;&quot;&gt;&lt;strong&gt;State&lt;/strong&gt;N/a&lt;br&gt;&lt;strong&gt;Confirmed Cases&lt;/strong&gt;140896.38524590165&lt;br&gt;&lt;/div&gt;`)[0];\n",
       "                popup_4b300419647d4dded685d45fbb29e956.setContent(html_05822753c810443d9c1e8ca80f2ce261);\n",
       "            \n",
       "        \n",
       "\n",
       "        circle_marker_ffe15958f3202199b4d10a83adda4d42.bindPopup(popup_4b300419647d4dded685d45fbb29e956)\n",
       "        ;\n",
       "\n",
       "        \n",
       "    \n",
       "    \n",
       "            var circle_marker_d324e74dc106fb1d79c268bf17fb0504 = L.circleMarker(\n",
       "                [7.9465, -1.0232],\n",
       "                {&quot;bubblingMouseEvents&quot;: true, &quot;color&quot;: &quot;blue&quot;, &quot;dashArray&quot;: null, &quot;dashOffset&quot;: null, &quot;fill&quot;: true, &quot;fillColor&quot;: &quot;crimson&quot;, &quot;fillOpacity&quot;: 0.3, &quot;fillRule&quot;: &quot;evenodd&quot;, &quot;lineCap&quot;: &quot;round&quot;, &quot;lineJoin&quot;: &quot;round&quot;, &quot;opacity&quot;: 1.0, &quot;radius&quot;: 0.14894532786885245, &quot;stroke&quot;: true, &quot;weight&quot;: 3}\n",
       "            ).addTo(map_63bd30139a6212ba0546419532110ea0);\n",
       "        \n",
       "    \n",
       "        var popup_446aa65f136f12d0e90d1b8c278b59f0 = L.popup({&quot;maxWidth&quot;: &quot;100%&quot;});\n",
       "\n",
       "        \n",
       "            \n",
       "                var html_738140611c98121cec3feb118134a486 = $(`&lt;div id=&quot;html_738140611c98121cec3feb118134a486&quot; style=&quot;width: 100.0%; height: 100.0%;&quot;&gt;&lt;strong&gt;State&lt;/strong&gt;N/a&lt;br&gt;&lt;strong&gt;Confirmed Cases&lt;/strong&gt;14894.532786885246&lt;br&gt;&lt;/div&gt;`)[0];\n",
       "                popup_446aa65f136f12d0e90d1b8c278b59f0.setContent(html_738140611c98121cec3feb118134a486);\n",
       "            \n",
       "        \n",
       "\n",
       "        circle_marker_d324e74dc106fb1d79c268bf17fb0504.bindPopup(popup_446aa65f136f12d0e90d1b8c278b59f0)\n",
       "        ;\n",
       "\n",
       "        \n",
       "    \n",
       "    \n",
       "            var circle_marker_036009fb67116dd38216713df223dd42 = L.circleMarker(\n",
       "                [39.0742, 21.8243],\n",
       "                {&quot;bubblingMouseEvents&quot;: true, &quot;color&quot;: &quot;blue&quot;, &quot;dashArray&quot;: null, &quot;dashOffset&quot;: null, &quot;fill&quot;: true, &quot;fillColor&quot;: &quot;crimson&quot;, &quot;fillOpacity&quot;: 0.3, &quot;fillRule&quot;: &quot;evenodd&quot;, &quot;lineCap&quot;: &quot;round&quot;, &quot;lineJoin&quot;: &quot;round&quot;, &quot;opacity&quot;: 1.0, &quot;radius&quot;: 0.03573704918032787, &quot;stroke&quot;: true, &quot;weight&quot;: 3}\n",
       "            ).addTo(map_63bd30139a6212ba0546419532110ea0);\n",
       "        \n",
       "    \n",
       "        var popup_2a344f97958b9f4fbaa59654296d83ba = L.popup({&quot;maxWidth&quot;: &quot;100%&quot;});\n",
       "\n",
       "        \n",
       "            \n",
       "                var html_38558fa5b5b03ad184e4b2ad681493af = $(`&lt;div id=&quot;html_38558fa5b5b03ad184e4b2ad681493af&quot; style=&quot;width: 100.0%; height: 100.0%;&quot;&gt;&lt;strong&gt;State&lt;/strong&gt;N/a&lt;br&gt;&lt;strong&gt;Confirmed Cases&lt;/strong&gt;3573.7049180327867&lt;br&gt;&lt;/div&gt;`)[0];\n",
       "                popup_2a344f97958b9f4fbaa59654296d83ba.setContent(html_38558fa5b5b03ad184e4b2ad681493af);\n",
       "            \n",
       "        \n",
       "\n",
       "        circle_marker_036009fb67116dd38216713df223dd42.bindPopup(popup_2a344f97958b9f4fbaa59654296d83ba)\n",
       "        ;\n",
       "\n",
       "        \n",
       "    \n",
       "    \n",
       "            var circle_marker_6e8723718ec2b39a5ccd475daed849a2 = L.circleMarker(\n",
       "                [12.1165, -61.679],\n",
       "                {&quot;bubblingMouseEvents&quot;: true, &quot;color&quot;: &quot;blue&quot;, &quot;dashArray&quot;: null, &quot;dashOffset&quot;: null, &quot;fill&quot;: true, &quot;fillColor&quot;: &quot;crimson&quot;, &quot;fillOpacity&quot;: 0.3, &quot;fillRule&quot;: &quot;evenodd&quot;, &quot;lineCap&quot;: &quot;round&quot;, &quot;lineJoin&quot;: &quot;round&quot;, &quot;opacity&quot;: 1.0, &quot;radius&quot;: 0.0001560655737704918, &quot;stroke&quot;: true, &quot;weight&quot;: 3}\n",
       "            ).addTo(map_63bd30139a6212ba0546419532110ea0);\n",
       "        \n",
       "    \n",
       "        var popup_c8ec4446ccfec70e6efcc8ca5053d101 = L.popup({&quot;maxWidth&quot;: &quot;100%&quot;});\n",
       "\n",
       "        \n",
       "            \n",
       "                var html_349300589ff20d84f7c4c15f492213a6 = $(`&lt;div id=&quot;html_349300589ff20d84f7c4c15f492213a6&quot; style=&quot;width: 100.0%; height: 100.0%;&quot;&gt;&lt;strong&gt;State&lt;/strong&gt;N/a&lt;br&gt;&lt;strong&gt;Confirmed Cases&lt;/strong&gt;15.60655737704918&lt;br&gt;&lt;/div&gt;`)[0];\n",
       "                popup_c8ec4446ccfec70e6efcc8ca5053d101.setContent(html_349300589ff20d84f7c4c15f492213a6);\n",
       "            \n",
       "        \n",
       "\n",
       "        circle_marker_6e8723718ec2b39a5ccd475daed849a2.bindPopup(popup_c8ec4446ccfec70e6efcc8ca5053d101)\n",
       "        ;\n",
       "\n",
       "        \n",
       "    \n",
       "    \n",
       "            var circle_marker_fa97e66d16e83177514c7b59e5e3dbd0 = L.circleMarker(\n",
       "                [15.7835, -90.2308],\n",
       "                {&quot;bubblingMouseEvents&quot;: true, &quot;color&quot;: &quot;blue&quot;, &quot;dashArray&quot;: null, &quot;dashOffset&quot;: null, &quot;fill&quot;: true, &quot;fillColor&quot;: &quot;crimson&quot;, &quot;fillOpacity&quot;: 0.3, &quot;fillRule&quot;: &quot;evenodd&quot;, &quot;lineCap&quot;: &quot;round&quot;, &quot;lineJoin&quot;: &quot;round&quot;, &quot;opacity&quot;: 1.0, &quot;radius&quot;: 0.20890610655737707, &quot;stroke&quot;: true, &quot;weight&quot;: 3}\n",
       "            ).addTo(map_63bd30139a6212ba0546419532110ea0);\n",
       "        \n",
       "    \n",
       "        var popup_566428b498cb6b1bdb5aa28d25296053 = L.popup({&quot;maxWidth&quot;: &quot;100%&quot;});\n",
       "\n",
       "        \n",
       "            \n",
       "                var html_9d46b86f566fc7468178928e0e0ae903 = $(`&lt;div id=&quot;html_9d46b86f566fc7468178928e0e0ae903&quot; style=&quot;width: 100.0%; height: 100.0%;&quot;&gt;&lt;strong&gt;State&lt;/strong&gt;N/a&lt;br&gt;&lt;strong&gt;Confirmed Cases&lt;/strong&gt;20890.610655737706&lt;br&gt;&lt;/div&gt;`)[0];\n",
       "                popup_566428b498cb6b1bdb5aa28d25296053.setContent(html_9d46b86f566fc7468178928e0e0ae903);\n",
       "            \n",
       "        \n",
       "\n",
       "        circle_marker_fa97e66d16e83177514c7b59e5e3dbd0.bindPopup(popup_566428b498cb6b1bdb5aa28d25296053)\n",
       "        ;\n",
       "\n",
       "        \n",
       "    \n",
       "    \n",
       "            var circle_marker_0562802a5a82c9da1fa6cd62d27d64bf = L.circleMarker(\n",
       "                [9.9456, -9.6966],\n",
       "                {&quot;bubblingMouseEvents&quot;: true, &quot;color&quot;: &quot;blue&quot;, &quot;dashArray&quot;: null, &quot;dashOffset&quot;: null, &quot;fill&quot;: true, &quot;fillColor&quot;: &quot;crimson&quot;, &quot;fillOpacity&quot;: 0.3, &quot;fillRule&quot;: &quot;evenodd&quot;, &quot;lineCap&quot;: &quot;round&quot;, &quot;lineJoin&quot;: &quot;round&quot;, &quot;opacity&quot;: 1.0, &quot;radius&quot;: 0.03699377049180328, &quot;stroke&quot;: true, &quot;weight&quot;: 3}\n",
       "            ).addTo(map_63bd30139a6212ba0546419532110ea0);\n",
       "        \n",
       "    \n",
       "        var popup_e82f0028a922f45a42c42bb8e321c3a6 = L.popup({&quot;maxWidth&quot;: &quot;100%&quot;});\n",
       "\n",
       "        \n",
       "            \n",
       "                var html_16d155383bb2f0d72f073f526b8eedb2 = $(`&lt;div id=&quot;html_16d155383bb2f0d72f073f526b8eedb2&quot; style=&quot;width: 100.0%; height: 100.0%;&quot;&gt;&lt;strong&gt;State&lt;/strong&gt;N/a&lt;br&gt;&lt;strong&gt;Confirmed Cases&lt;/strong&gt;3699.377049180328&lt;br&gt;&lt;/div&gt;`)[0];\n",
       "                popup_e82f0028a922f45a42c42bb8e321c3a6.setContent(html_16d155383bb2f0d72f073f526b8eedb2);\n",
       "            \n",
       "        \n",
       "\n",
       "        circle_marker_0562802a5a82c9da1fa6cd62d27d64bf.bindPopup(popup_e82f0028a922f45a42c42bb8e321c3a6)\n",
       "        ;\n",
       "\n",
       "        \n",
       "    \n",
       "    \n",
       "            var circle_marker_107b1af62050e3fa86120fccf25e7669 = L.circleMarker(\n",
       "                [11.8037, -15.1804],\n",
       "                {&quot;bubblingMouseEvents&quot;: true, &quot;color&quot;: &quot;blue&quot;, &quot;dashArray&quot;: null, &quot;dashOffset&quot;: null, &quot;fill&quot;: true, &quot;fillColor&quot;: &quot;crimson&quot;, &quot;fillOpacity&quot;: 0.3, &quot;fillRule&quot;: &quot;evenodd&quot;, &quot;lineCap&quot;: &quot;round&quot;, &quot;lineJoin&quot;: &quot;round&quot;, &quot;opacity&quot;: 1.0, &quot;radius&quot;: 0.009983524590163936, &quot;stroke&quot;: true, &quot;weight&quot;: 3}\n",
       "            ).addTo(map_63bd30139a6212ba0546419532110ea0);\n",
       "        \n",
       "    \n",
       "        var popup_435727ef2f3b09bf333dd0d50df30f6d = L.popup({&quot;maxWidth&quot;: &quot;100%&quot;});\n",
       "\n",
       "        \n",
       "            \n",
       "                var html_ff95cc12d86991040b7df91866e9057b = $(`&lt;div id=&quot;html_ff95cc12d86991040b7df91866e9057b&quot; style=&quot;width: 100.0%; height: 100.0%;&quot;&gt;&lt;strong&gt;State&lt;/strong&gt;N/a&lt;br&gt;&lt;strong&gt;Confirmed Cases&lt;/strong&gt;998.3524590163935&lt;br&gt;&lt;/div&gt;`)[0];\n",
       "                popup_435727ef2f3b09bf333dd0d50df30f6d.setContent(html_ff95cc12d86991040b7df91866e9057b);\n",
       "            \n",
       "        \n",
       "\n",
       "        circle_marker_107b1af62050e3fa86120fccf25e7669.bindPopup(popup_435727ef2f3b09bf333dd0d50df30f6d)\n",
       "        ;\n",
       "\n",
       "        \n",
       "    \n",
       "    \n",
       "            var circle_marker_aea87724ec2eea73f005d02cbb6f052d = L.circleMarker(\n",
       "                [4.860416000000002, -58.93018000000001],\n",
       "                {&quot;bubblingMouseEvents&quot;: true, &quot;color&quot;: &quot;blue&quot;, &quot;dashArray&quot;: null, &quot;dashOffset&quot;: null, &quot;fill&quot;: true, &quot;fillColor&quot;: &quot;crimson&quot;, &quot;fillOpacity&quot;: 0.3, &quot;fillRule&quot;: &quot;evenodd&quot;, &quot;lineCap&quot;: &quot;round&quot;, &quot;lineJoin&quot;: &quot;round&quot;, &quot;opacity&quot;: 1.0, &quot;radius&quot;: 0.003364590163934426, &quot;stroke&quot;: true, &quot;weight&quot;: 3}\n",
       "            ).addTo(map_63bd30139a6212ba0546419532110ea0);\n",
       "        \n",
       "    \n",
       "        var popup_e954e1ffb29668e684314ccafc8e0e23 = L.popup({&quot;maxWidth&quot;: &quot;100%&quot;});\n",
       "\n",
       "        \n",
       "            \n",
       "                var html_cc399d8c8b041ec4ab900ec8c2121b71 = $(`&lt;div id=&quot;html_cc399d8c8b041ec4ab900ec8c2121b71&quot; style=&quot;width: 100.0%; height: 100.0%;&quot;&gt;&lt;strong&gt;State&lt;/strong&gt;N/a&lt;br&gt;&lt;strong&gt;Confirmed Cases&lt;/strong&gt;336.4590163934426&lt;br&gt;&lt;/div&gt;`)[0];\n",
       "                popup_e954e1ffb29668e684314ccafc8e0e23.setContent(html_cc399d8c8b041ec4ab900ec8c2121b71);\n",
       "            \n",
       "        \n",
       "\n",
       "        circle_marker_aea87724ec2eea73f005d02cbb6f052d.bindPopup(popup_e954e1ffb29668e684314ccafc8e0e23)\n",
       "        ;\n",
       "\n",
       "        \n",
       "    \n",
       "    \n",
       "            var circle_marker_2fdb07d96a051bf7721584962ff8d2e0 = L.circleMarker(\n",
       "                [18.9712, -72.2852],\n",
       "                {&quot;bubblingMouseEvents&quot;: true, &quot;color&quot;: &quot;blue&quot;, &quot;dashArray&quot;: null, &quot;dashOffset&quot;: null, &quot;fill&quot;: true, &quot;fillColor&quot;: &quot;crimson&quot;, &quot;fillOpacity&quot;: 0.3, &quot;fillRule&quot;: &quot;evenodd&quot;, &quot;lineCap&quot;: &quot;round&quot;, &quot;lineJoin&quot;: &quot;round&quot;, &quot;opacity&quot;: 1.0, &quot;radius&quot;: 0.0321122131147541, &quot;stroke&quot;: true, &quot;weight&quot;: 3}\n",
       "            ).addTo(map_63bd30139a6212ba0546419532110ea0);\n",
       "        \n",
       "    \n",
       "        var popup_d3809bd741bfa8117d6a66736732a471 = L.popup({&quot;maxWidth&quot;: &quot;100%&quot;});\n",
       "\n",
       "        \n",
       "            \n",
       "                var html_10dbcd29b8dd8c2e8d9389fc891acf20 = $(`&lt;div id=&quot;html_10dbcd29b8dd8c2e8d9389fc891acf20&quot; style=&quot;width: 100.0%; height: 100.0%;&quot;&gt;&lt;strong&gt;State&lt;/strong&gt;N/a&lt;br&gt;&lt;strong&gt;Confirmed Cases&lt;/strong&gt;3211.22131147541&lt;br&gt;&lt;/div&gt;`)[0];\n",
       "                popup_d3809bd741bfa8117d6a66736732a471.setContent(html_10dbcd29b8dd8c2e8d9389fc891acf20);\n",
       "            \n",
       "        \n",
       "\n",
       "        circle_marker_2fdb07d96a051bf7721584962ff8d2e0.bindPopup(popup_d3809bd741bfa8117d6a66736732a471)\n",
       "        ;\n",
       "\n",
       "        \n",
       "    \n",
       "    \n",
       "            var circle_marker_334ae4c4ed615aa06c58ea7cf9206560 = L.circleMarker(\n",
       "                [41.9029, 12.4534],\n",
       "                {&quot;bubblingMouseEvents&quot;: true, &quot;color&quot;: &quot;blue&quot;, &quot;dashArray&quot;: null, &quot;dashOffset&quot;: null, &quot;fill&quot;: true, &quot;fillColor&quot;: &quot;crimson&quot;, &quot;fillOpacity&quot;: 0.3, &quot;fillRule&quot;: &quot;evenodd&quot;, &quot;lineCap&quot;: &quot;round&quot;, &quot;lineJoin&quot;: &quot;round&quot;, &quot;opacity&quot;: 1.0, &quot;radius&quot;: 8.311475409836065e-05, &quot;stroke&quot;: true, &quot;weight&quot;: 3}\n",
       "            ).addTo(map_63bd30139a6212ba0546419532110ea0);\n",
       "        \n",
       "    \n",
       "        var popup_d8aa5fc5027f52e68f7254c0aa403ffd = L.popup({&quot;maxWidth&quot;: &quot;100%&quot;});\n",
       "\n",
       "        \n",
       "            \n",
       "                var html_8e616ebffc2f01439cdca4f9ffbec518 = $(`&lt;div id=&quot;html_8e616ebffc2f01439cdca4f9ffbec518&quot; style=&quot;width: 100.0%; height: 100.0%;&quot;&gt;&lt;strong&gt;State&lt;/strong&gt;N/a&lt;br&gt;&lt;strong&gt;Confirmed Cases&lt;/strong&gt;8.311475409836065&lt;br&gt;&lt;/div&gt;`)[0];\n",
       "                popup_d8aa5fc5027f52e68f7254c0aa403ffd.setContent(html_8e616ebffc2f01439cdca4f9ffbec518);\n",
       "            \n",
       "        \n",
       "\n",
       "        circle_marker_334ae4c4ed615aa06c58ea7cf9206560.bindPopup(popup_d8aa5fc5027f52e68f7254c0aa403ffd)\n",
       "        ;\n",
       "\n",
       "        \n",
       "    \n",
       "    \n",
       "            var circle_marker_cafcb0231a0f5694ac7f74e51b2c2439 = L.circleMarker(\n",
       "                [15.2, -86.2419],\n",
       "                {&quot;bubblingMouseEvents&quot;: true, &quot;color&quot;: &quot;blue&quot;, &quot;dashArray&quot;: null, &quot;dashOffset&quot;: null, &quot;fill&quot;: true, &quot;fillColor&quot;: &quot;crimson&quot;, &quot;fillOpacity&quot;: 0.3, &quot;fillRule&quot;: &quot;evenodd&quot;, &quot;lineCap&quot;: &quot;round&quot;, &quot;lineJoin&quot;: &quot;round&quot;, &quot;opacity&quot;: 1.0, &quot;radius&quot;: 0.17963852459016394, &quot;stroke&quot;: true, &quot;weight&quot;: 3}\n",
       "            ).addTo(map_63bd30139a6212ba0546419532110ea0);\n",
       "        \n",
       "    \n",
       "        var popup_bc611d4b568b4f7abd110502d2a48d74 = L.popup({&quot;maxWidth&quot;: &quot;100%&quot;});\n",
       "\n",
       "        \n",
       "            \n",
       "                var html_0048a68a485236d0dca0f7b550407396 = $(`&lt;div id=&quot;html_0048a68a485236d0dca0f7b550407396&quot; style=&quot;width: 100.0%; height: 100.0%;&quot;&gt;&lt;strong&gt;State&lt;/strong&gt;N/a&lt;br&gt;&lt;strong&gt;Confirmed Cases&lt;/strong&gt;17963.852459016394&lt;br&gt;&lt;/div&gt;`)[0];\n",
       "                popup_bc611d4b568b4f7abd110502d2a48d74.setContent(html_0048a68a485236d0dca0f7b550407396);\n",
       "            \n",
       "        \n",
       "\n",
       "        circle_marker_cafcb0231a0f5694ac7f74e51b2c2439.bindPopup(popup_bc611d4b568b4f7abd110502d2a48d74)\n",
       "        ;\n",
       "\n",
       "        \n",
       "    \n",
       "    \n",
       "            var circle_marker_c461e64c48146228678798f4dd7f515e = L.circleMarker(\n",
       "                [47.1625, 19.5033],\n",
       "                {&quot;bubblingMouseEvents&quot;: true, &quot;color&quot;: &quot;blue&quot;, &quot;dashArray&quot;: null, &quot;dashOffset&quot;: null, &quot;fill&quot;: true, &quot;fillColor&quot;: &quot;crimson&quot;, &quot;fillOpacity&quot;: 0.3, &quot;fillRule&quot;: &quot;evenodd&quot;, &quot;lineCap&quot;: &quot;round&quot;, &quot;lineJoin&quot;: &quot;round&quot;, &quot;opacity&quot;: 1.0, &quot;radius&quot;: 0.033282008196721315, &quot;stroke&quot;: true, &quot;weight&quot;: 3}\n",
       "            ).addTo(map_63bd30139a6212ba0546419532110ea0);\n",
       "        \n",
       "    \n",
       "        var popup_ea13c1445ce4055db4c0c9442b039274 = L.popup({&quot;maxWidth&quot;: &quot;100%&quot;});\n",
       "\n",
       "        \n",
       "            \n",
       "                var html_0787dee61b1079f2bd36cd3562083863 = $(`&lt;div id=&quot;html_0787dee61b1079f2bd36cd3562083863&quot; style=&quot;width: 100.0%; height: 100.0%;&quot;&gt;&lt;strong&gt;State&lt;/strong&gt;N/a&lt;br&gt;&lt;strong&gt;Confirmed Cases&lt;/strong&gt;3328.2008196721313&lt;br&gt;&lt;/div&gt;`)[0];\n",
       "                popup_ea13c1445ce4055db4c0c9442b039274.setContent(html_0787dee61b1079f2bd36cd3562083863);\n",
       "            \n",
       "        \n",
       "\n",
       "        circle_marker_c461e64c48146228678798f4dd7f515e.bindPopup(popup_ea13c1445ce4055db4c0c9442b039274)\n",
       "        ;\n",
       "\n",
       "        \n",
       "    \n",
       "    \n",
       "            var circle_marker_d98278b4af3c8c9976813e1dd95bb516 = L.circleMarker(\n",
       "                [64.9631, -19.0208],\n",
       "                {&quot;bubblingMouseEvents&quot;: true, &quot;color&quot;: &quot;blue&quot;, &quot;dashArray&quot;: null, &quot;dashOffset&quot;: null, &quot;fill&quot;: true, &quot;fillColor&quot;: &quot;crimson&quot;, &quot;fillOpacity&quot;: 0.3, &quot;fillRule&quot;: &quot;evenodd&quot;, &quot;lineCap&quot;: &quot;round&quot;, &quot;lineJoin&quot;: &quot;round&quot;, &quot;opacity&quot;: 1.0, &quot;radius&quot;: 0.013802459016393443, &quot;stroke&quot;: true, &quot;weight&quot;: 3}\n",
       "            ).addTo(map_63bd30139a6212ba0546419532110ea0);\n",
       "        \n",
       "    \n",
       "        var popup_57c6aad0c452a3073e3156eccf5bfc42 = L.popup({&quot;maxWidth&quot;: &quot;100%&quot;});\n",
       "\n",
       "        \n",
       "            \n",
       "                var html_300785181856230021470ef394c57c39 = $(`&lt;div id=&quot;html_300785181856230021470ef394c57c39&quot; style=&quot;width: 100.0%; height: 100.0%;&quot;&gt;&lt;strong&gt;State&lt;/strong&gt;N/a&lt;br&gt;&lt;strong&gt;Confirmed Cases&lt;/strong&gt;1380.2459016393443&lt;br&gt;&lt;/div&gt;`)[0];\n",
       "                popup_57c6aad0c452a3073e3156eccf5bfc42.setContent(html_300785181856230021470ef394c57c39);\n",
       "            \n",
       "        \n",
       "\n",
       "        circle_marker_d98278b4af3c8c9976813e1dd95bb516.bindPopup(popup_57c6aad0c452a3073e3156eccf5bfc42)\n",
       "        ;\n",
       "\n",
       "        \n",
       "    \n",
       "    \n",
       "            var circle_marker_3f45ed69f7ed43051df283e52eef3c70 = L.circleMarker(\n",
       "                [20.593684, 78.96288],\n",
       "                {&quot;bubblingMouseEvents&quot;: true, &quot;color&quot;: &quot;blue&quot;, &quot;dashArray&quot;: null, &quot;dashOffset&quot;: null, &quot;fill&quot;: true, &quot;fillColor&quot;: &quot;crimson&quot;, &quot;fillOpacity&quot;: 0.3, &quot;fillRule&quot;: &quot;evenodd&quot;, &quot;lineCap&quot;: &quot;round&quot;, &quot;lineJoin&quot;: &quot;round&quot;, &quot;opacity&quot;: 1.0, &quot;radius&quot;: 9.33896774590164, &quot;stroke&quot;: true, &quot;weight&quot;: 3}\n",
       "            ).addTo(map_63bd30139a6212ba0546419532110ea0);\n",
       "        \n",
       "    \n",
       "        var popup_0a3af01d7f0357b9749e86a73ad16b16 = L.popup({&quot;maxWidth&quot;: &quot;100%&quot;});\n",
       "\n",
       "        \n",
       "            \n",
       "                var html_fb2e8fa933502a28122b02e7bf0b76b4 = $(`&lt;div id=&quot;html_fb2e8fa933502a28122b02e7bf0b76b4&quot; style=&quot;width: 100.0%; height: 100.0%;&quot;&gt;&lt;strong&gt;State&lt;/strong&gt;N/a&lt;br&gt;&lt;strong&gt;Confirmed Cases&lt;/strong&gt;933896.774590164&lt;br&gt;&lt;/div&gt;`)[0];\n",
       "                popup_0a3af01d7f0357b9749e86a73ad16b16.setContent(html_fb2e8fa933502a28122b02e7bf0b76b4);\n",
       "            \n",
       "        \n",
       "\n",
       "        circle_marker_3f45ed69f7ed43051df283e52eef3c70.bindPopup(popup_0a3af01d7f0357b9749e86a73ad16b16)\n",
       "        ;\n",
       "\n",
       "        \n",
       "    \n",
       "    \n",
       "            var circle_marker_a7eaafc2f3614d7bd9d185341b356291 = L.circleMarker(\n",
       "                [-0.7893, 113.9213],\n",
       "                {&quot;bubblingMouseEvents&quot;: true, &quot;color&quot;: &quot;blue&quot;, &quot;dashArray&quot;: null, &quot;dashOffset&quot;: null, &quot;fill&quot;: true, &quot;fillColor&quot;: &quot;crimson&quot;, &quot;fillOpacity&quot;: 0.3, &quot;fillRule&quot;: &quot;evenodd&quot;, &quot;lineCap&quot;: &quot;round&quot;, &quot;lineJoin&quot;: &quot;round&quot;, &quot;opacity&quot;: 1.0, &quot;radius&quot;: 0.5434659426229508, &quot;stroke&quot;: true, &quot;weight&quot;: 3}\n",
       "            ).addTo(map_63bd30139a6212ba0546419532110ea0);\n",
       "        \n",
       "    \n",
       "        var popup_c902a97fecfc44386a84a55bc5edb77a = L.popup({&quot;maxWidth&quot;: &quot;100%&quot;});\n",
       "\n",
       "        \n",
       "            \n",
       "                var html_f54ee96681b801e11e3f5525cb3ca814 = $(`&lt;div id=&quot;html_f54ee96681b801e11e3f5525cb3ca814&quot; style=&quot;width: 100.0%; height: 100.0%;&quot;&gt;&lt;strong&gt;State&lt;/strong&gt;N/a&lt;br&gt;&lt;strong&gt;Confirmed Cases&lt;/strong&gt;54346.59426229508&lt;br&gt;&lt;/div&gt;`)[0];\n",
       "                popup_c902a97fecfc44386a84a55bc5edb77a.setContent(html_f54ee96681b801e11e3f5525cb3ca814);\n",
       "            \n",
       "        \n",
       "\n",
       "        circle_marker_a7eaafc2f3614d7bd9d185341b356291.bindPopup(popup_c902a97fecfc44386a84a55bc5edb77a)\n",
       "        ;\n",
       "\n",
       "        \n",
       "    \n",
       "    \n",
       "            var circle_marker_2a486028a89f835af0a05f38aae93828 = L.circleMarker(\n",
       "                [32.427908, 53.68804599999999],\n",
       "                {&quot;bubblingMouseEvents&quot;: true, &quot;color&quot;: &quot;blue&quot;, &quot;dashArray&quot;: null, &quot;dashOffset&quot;: null, &quot;fill&quot;: true, &quot;fillColor&quot;: &quot;crimson&quot;, &quot;fillOpacity&quot;: 0.3, &quot;fillRule&quot;: &quot;evenodd&quot;, &quot;lineCap&quot;: &quot;round&quot;, &quot;lineJoin&quot;: &quot;round&quot;, &quot;opacity&quot;: 1.0, &quot;radius&quot;: 1.6205067213114752, &quot;stroke&quot;: true, &quot;weight&quot;: 3}\n",
       "            ).addTo(map_63bd30139a6212ba0546419532110ea0);\n",
       "        \n",
       "    \n",
       "        var popup_42da07f1bf616b994803e8cb8fb537a9 = L.popup({&quot;maxWidth&quot;: &quot;100%&quot;});\n",
       "\n",
       "        \n",
       "            \n",
       "                var html_d4d7dbcf0e8ec7ee80dbefdcd2c4b02b = $(`&lt;div id=&quot;html_d4d7dbcf0e8ec7ee80dbefdcd2c4b02b&quot; style=&quot;width: 100.0%; height: 100.0%;&quot;&gt;&lt;strong&gt;State&lt;/strong&gt;N/a&lt;br&gt;&lt;strong&gt;Confirmed Cases&lt;/strong&gt;162050.67213114753&lt;br&gt;&lt;/div&gt;`)[0];\n",
       "                popup_42da07f1bf616b994803e8cb8fb537a9.setContent(html_d4d7dbcf0e8ec7ee80dbefdcd2c4b02b);\n",
       "            \n",
       "        \n",
       "\n",
       "        circle_marker_2a486028a89f835af0a05f38aae93828.bindPopup(popup_42da07f1bf616b994803e8cb8fb537a9)\n",
       "        ;\n",
       "\n",
       "        \n",
       "    \n",
       "    \n",
       "            var circle_marker_83594fffa79ac47dc29b1176a8d6009b = L.circleMarker(\n",
       "                [33.223191, 43.679291],\n",
       "                {&quot;bubblingMouseEvents&quot;: true, &quot;color&quot;: &quot;blue&quot;, &quot;dashArray&quot;: null, &quot;dashOffset&quot;: null, &quot;fill&quot;: true, &quot;fillColor&quot;: &quot;crimson&quot;, &quot;fillOpacity&quot;: 0.3, &quot;fillRule&quot;: &quot;evenodd&quot;, &quot;lineCap&quot;: &quot;round&quot;, &quot;lineJoin&quot;: &quot;round&quot;, &quot;opacity&quot;: 1.0, &quot;radius&quot;: 0.6149818442622951, &quot;stroke&quot;: true, &quot;weight&quot;: 3}\n",
       "            ).addTo(map_63bd30139a6212ba0546419532110ea0);\n",
       "        \n",
       "    \n",
       "        var popup_d75fec668bd5e6456aba6756d06d4aae = L.popup({&quot;maxWidth&quot;: &quot;100%&quot;});\n",
       "\n",
       "        \n",
       "            \n",
       "                var html_28a6126261a3cbe97e09f7dc8c4e73b8 = $(`&lt;div id=&quot;html_28a6126261a3cbe97e09f7dc8c4e73b8&quot; style=&quot;width: 100.0%; height: 100.0%;&quot;&gt;&lt;strong&gt;State&lt;/strong&gt;N/a&lt;br&gt;&lt;strong&gt;Confirmed Cases&lt;/strong&gt;61498.184426229505&lt;br&gt;&lt;/div&gt;`)[0];\n",
       "                popup_d75fec668bd5e6456aba6756d06d4aae.setContent(html_28a6126261a3cbe97e09f7dc8c4e73b8);\n",
       "            \n",
       "        \n",
       "\n",
       "        circle_marker_83594fffa79ac47dc29b1176a8d6009b.bindPopup(popup_d75fec668bd5e6456aba6756d06d4aae)\n",
       "        ;\n",
       "\n",
       "        \n",
       "    \n",
       "    \n",
       "            var circle_marker_90bcbc6d59bdc714291537a321bdb7bc = L.circleMarker(\n",
       "                [53.1424, -7.6921],\n",
       "                {&quot;bubblingMouseEvents&quot;: true, &quot;color&quot;: &quot;blue&quot;, &quot;dashArray&quot;: null, &quot;dashOffset&quot;: null, &quot;fill&quot;: true, &quot;fillColor&quot;: &quot;crimson&quot;, &quot;fillOpacity&quot;: 0.3, &quot;fillRule&quot;: &quot;evenodd&quot;, &quot;lineCap&quot;: &quot;round&quot;, &quot;lineJoin&quot;: &quot;round&quot;, &quot;opacity&quot;: 1.0, &quot;radius&quot;: 0.17088139344262293, &quot;stroke&quot;: true, &quot;weight&quot;: 3}\n",
       "            ).addTo(map_63bd30139a6212ba0546419532110ea0);\n",
       "        \n",
       "    \n",
       "        var popup_b7e1f3926f9c841b0a4cd5e8fc6ece94 = L.popup({&quot;maxWidth&quot;: &quot;100%&quot;});\n",
       "\n",
       "        \n",
       "            \n",
       "                var html_07569752ffa6f3d3b894e0edbe336480 = $(`&lt;div id=&quot;html_07569752ffa6f3d3b894e0edbe336480&quot; style=&quot;width: 100.0%; height: 100.0%;&quot;&gt;&lt;strong&gt;State&lt;/strong&gt;N/a&lt;br&gt;&lt;strong&gt;Confirmed Cases&lt;/strong&gt;17088.139344262294&lt;br&gt;&lt;/div&gt;`)[0];\n",
       "                popup_b7e1f3926f9c841b0a4cd5e8fc6ece94.setContent(html_07569752ffa6f3d3b894e0edbe336480);\n",
       "            \n",
       "        \n",
       "\n",
       "        circle_marker_90bcbc6d59bdc714291537a321bdb7bc.bindPopup(popup_b7e1f3926f9c841b0a4cd5e8fc6ece94)\n",
       "        ;\n",
       "\n",
       "        \n",
       "    \n",
       "    \n",
       "            var circle_marker_dc2572f1eca900656cb2bc6404a7be42 = L.circleMarker(\n",
       "                [31.046051, 34.851612],\n",
       "                {&quot;bubblingMouseEvents&quot;: true, &quot;color&quot;: &quot;blue&quot;, &quot;dashArray&quot;: null, &quot;dashOffset&quot;: null, &quot;fill&quot;: true, &quot;fillColor&quot;: &quot;crimson&quot;, &quot;fillOpacity&quot;: 0.3, &quot;fillRule&quot;: &quot;evenodd&quot;, &quot;lineCap&quot;: &quot;round&quot;, &quot;lineJoin&quot;: &quot;round&quot;, &quot;opacity&quot;: 1.0, &quot;radius&quot;: 0.3703126229508196, &quot;stroke&quot;: true, &quot;weight&quot;: 3}\n",
       "            ).addTo(map_63bd30139a6212ba0546419532110ea0);\n",
       "        \n",
       "    \n",
       "        var popup_00cf367bcf1317ab64bf96e5758b96fa = L.popup({&quot;maxWidth&quot;: &quot;100%&quot;});\n",
       "\n",
       "        \n",
       "            \n",
       "                var html_dffc66c01f400913ef1b809a931c0abb = $(`&lt;div id=&quot;html_dffc66c01f400913ef1b809a931c0abb&quot; style=&quot;width: 100.0%; height: 100.0%;&quot;&gt;&lt;strong&gt;State&lt;/strong&gt;N/a&lt;br&gt;&lt;strong&gt;Confirmed Cases&lt;/strong&gt;37031.262295081964&lt;br&gt;&lt;/div&gt;`)[0];\n",
       "                popup_00cf367bcf1317ab64bf96e5758b96fa.setContent(html_dffc66c01f400913ef1b809a931c0abb);\n",
       "            \n",
       "        \n",
       "\n",
       "        circle_marker_dc2572f1eca900656cb2bc6404a7be42.bindPopup(popup_00cf367bcf1317ab64bf96e5758b96fa)\n",
       "        ;\n",
       "\n",
       "        \n",
       "    \n",
       "    \n",
       "            var circle_marker_da0e45f8fa10507a7660bb87432b6f16 = L.circleMarker(\n",
       "                [41.87194, 12.56738],\n",
       "                {&quot;bubblingMouseEvents&quot;: true, &quot;color&quot;: &quot;blue&quot;, &quot;dashArray&quot;: null, &quot;dashOffset&quot;: null, &quot;fill&quot;: true, &quot;fillColor&quot;: &quot;crimson&quot;, &quot;fillOpacity&quot;: 0.3, &quot;fillRule&quot;: &quot;evenodd&quot;, &quot;lineCap&quot;: &quot;round&quot;, &quot;lineJoin&quot;: &quot;round&quot;, &quot;opacity&quot;: 1.0, &quot;radius&quot;: 1.70618381147541, &quot;stroke&quot;: true, &quot;weight&quot;: 3}\n",
       "            ).addTo(map_63bd30139a6212ba0546419532110ea0);\n",
       "        \n",
       "    \n",
       "        var popup_e392d8119de03ead559bc81c8a6d2925 = L.popup({&quot;maxWidth&quot;: &quot;100%&quot;});\n",
       "\n",
       "        \n",
       "            \n",
       "                var html_d6c57fc0908bd292c21b59a8e9ac8bf8 = $(`&lt;div id=&quot;html_d6c57fc0908bd292c21b59a8e9ac8bf8&quot; style=&quot;width: 100.0%; height: 100.0%;&quot;&gt;&lt;strong&gt;State&lt;/strong&gt;N/a&lt;br&gt;&lt;strong&gt;Confirmed Cases&lt;/strong&gt;170618.381147541&lt;br&gt;&lt;/div&gt;`)[0];\n",
       "                popup_e392d8119de03ead559bc81c8a6d2925.setContent(html_d6c57fc0908bd292c21b59a8e9ac8bf8);\n",
       "            \n",
       "        \n",
       "\n",
       "        circle_marker_da0e45f8fa10507a7660bb87432b6f16.bindPopup(popup_e392d8119de03ead559bc81c8a6d2925)\n",
       "        ;\n",
       "\n",
       "        \n",
       "    \n",
       "    \n",
       "            var circle_marker_a84633174c3d970c3e923a51485dce90 = L.circleMarker(\n",
       "                [18.1096, -77.2975],\n",
       "                {&quot;bubblingMouseEvents&quot;: true, &quot;color&quot;: &quot;blue&quot;, &quot;dashArray&quot;: null, &quot;dashOffset&quot;: null, &quot;fill&quot;: true, &quot;fillColor&quot;: &quot;crimson&quot;, &quot;fillOpacity&quot;: 0.3, &quot;fillRule&quot;: &quot;evenodd&quot;, &quot;lineCap&quot;: &quot;round&quot;, &quot;lineJoin&quot;: &quot;round&quot;, &quot;opacity&quot;: 1.0, &quot;radius&quot;: 0.007509590163934427, &quot;stroke&quot;: true, &quot;weight&quot;: 3}\n",
       "            ).addTo(map_63bd30139a6212ba0546419532110ea0);\n",
       "        \n",
       "    \n",
       "        var popup_2d1f2fcda133ab2dc6ae0fd0b3656370 = L.popup({&quot;maxWidth&quot;: &quot;100%&quot;});\n",
       "\n",
       "        \n",
       "            \n",
       "                var html_4c15338fb32bb6a96269fd7a64ec1b6b = $(`&lt;div id=&quot;html_4c15338fb32bb6a96269fd7a64ec1b6b&quot; style=&quot;width: 100.0%; height: 100.0%;&quot;&gt;&lt;strong&gt;State&lt;/strong&gt;N/a&lt;br&gt;&lt;strong&gt;Confirmed Cases&lt;/strong&gt;750.9590163934427&lt;br&gt;&lt;/div&gt;`)[0];\n",
       "                popup_2d1f2fcda133ab2dc6ae0fd0b3656370.setContent(html_4c15338fb32bb6a96269fd7a64ec1b6b);\n",
       "            \n",
       "        \n",
       "\n",
       "        circle_marker_a84633174c3d970c3e923a51485dce90.bindPopup(popup_2d1f2fcda133ab2dc6ae0fd0b3656370)\n",
       "        ;\n",
       "\n",
       "        \n",
       "    \n",
       "    \n",
       "            var circle_marker_4c3c7bfef23cc9f62e9dbd96b0ecd7ee = L.circleMarker(\n",
       "                [36.204824, 138.252924],\n",
       "                {&quot;bubblingMouseEvents&quot;: true, &quot;color&quot;: &quot;blue&quot;, &quot;dashArray&quot;: null, &quot;dashOffset&quot;: null, &quot;fill&quot;: true, &quot;fillColor&quot;: &quot;crimson&quot;, &quot;fillOpacity&quot;: 0.3, &quot;fillRule&quot;: &quot;evenodd&quot;, &quot;lineCap&quot;: &quot;round&quot;, &quot;lineJoin&quot;: &quot;round&quot;, &quot;opacity&quot;: 1.0, &quot;radius&quot;: 0.21943266393442623, &quot;stroke&quot;: true, &quot;weight&quot;: 3}\n",
       "            ).addTo(map_63bd30139a6212ba0546419532110ea0);\n",
       "        \n",
       "    \n",
       "        var popup_b96be3907e25337c3de36092c48c4fa7 = L.popup({&quot;maxWidth&quot;: &quot;100%&quot;});\n",
       "\n",
       "        \n",
       "            \n",
       "                var html_c30964f69ec0d218e2371270e3606620 = $(`&lt;div id=&quot;html_c30964f69ec0d218e2371270e3606620&quot; style=&quot;width: 100.0%; height: 100.0%;&quot;&gt;&lt;strong&gt;State&lt;/strong&gt;N/a&lt;br&gt;&lt;strong&gt;Confirmed Cases&lt;/strong&gt;21943.266393442624&lt;br&gt;&lt;/div&gt;`)[0];\n",
       "                popup_b96be3907e25337c3de36092c48c4fa7.setContent(html_c30964f69ec0d218e2371270e3606620);\n",
       "            \n",
       "        \n",
       "\n",
       "        circle_marker_4c3c7bfef23cc9f62e9dbd96b0ecd7ee.bindPopup(popup_b96be3907e25337c3de36092c48c4fa7)\n",
       "        ;\n",
       "\n",
       "        \n",
       "    \n",
       "    \n",
       "            var circle_marker_bec2cd5d72a82f9e1b6c4b831a18e4da = L.circleMarker(\n",
       "                [31.24, 36.51],\n",
       "                {&quot;bubblingMouseEvents&quot;: true, &quot;color&quot;: &quot;blue&quot;, &quot;dashArray&quot;: null, &quot;dashOffset&quot;: null, &quot;fill&quot;: true, &quot;fillColor&quot;: &quot;crimson&quot;, &quot;fillOpacity&quot;: 0.3, &quot;fillRule&quot;: &quot;evenodd&quot;, &quot;lineCap&quot;: &quot;round&quot;, &quot;lineJoin&quot;: &quot;round&quot;, &quot;opacity&quot;: 1.0, &quot;radius&quot;: 0.008631762295081967, &quot;stroke&quot;: true, &quot;weight&quot;: 3}\n",
       "            ).addTo(map_63bd30139a6212ba0546419532110ea0);\n",
       "        \n",
       "    \n",
       "        var popup_bc50e2fc10ab364d19e1f31473f6b86d = L.popup({&quot;maxWidth&quot;: &quot;100%&quot;});\n",
       "\n",
       "        \n",
       "            \n",
       "                var html_4b6ebb2cc3566e61954bbdc5a2e7b331 = $(`&lt;div id=&quot;html_4b6ebb2cc3566e61954bbdc5a2e7b331&quot; style=&quot;width: 100.0%; height: 100.0%;&quot;&gt;&lt;strong&gt;State&lt;/strong&gt;N/a&lt;br&gt;&lt;strong&gt;Confirmed Cases&lt;/strong&gt;863.1762295081967&lt;br&gt;&lt;/div&gt;`)[0];\n",
       "                popup_bc50e2fc10ab364d19e1f31473f6b86d.setContent(html_4b6ebb2cc3566e61954bbdc5a2e7b331);\n",
       "            \n",
       "        \n",
       "\n",
       "        circle_marker_bec2cd5d72a82f9e1b6c4b831a18e4da.bindPopup(popup_bc50e2fc10ab364d19e1f31473f6b86d)\n",
       "        ;\n",
       "\n",
       "        \n",
       "    \n",
       "    \n",
       "            var circle_marker_c7a7b3130704e6397d0675e20d237d6e = L.circleMarker(\n",
       "                [48.0196, 66.9237],\n",
       "                {&quot;bubblingMouseEvents&quot;: true, &quot;color&quot;: &quot;blue&quot;, &quot;dashArray&quot;: null, &quot;dashOffset&quot;: null, &quot;fill&quot;: true, &quot;fillColor&quot;: &quot;crimson&quot;, &quot;fillOpacity&quot;: 0.3, &quot;fillRule&quot;: &quot;evenodd&quot;, &quot;lineCap&quot;: &quot;round&quot;, &quot;lineJoin&quot;: &quot;round&quot;, &quot;opacity&quot;: 1.0, &quot;radius&quot;: 0.33481446721311475, &quot;stroke&quot;: true, &quot;weight&quot;: 3}\n",
       "            ).addTo(map_63bd30139a6212ba0546419532110ea0);\n",
       "        \n",
       "    \n",
       "        var popup_ef19b4691fad495f9b298543c4238517 = L.popup({&quot;maxWidth&quot;: &quot;100%&quot;});\n",
       "\n",
       "        \n",
       "            \n",
       "                var html_bbeb653470dad9fcf5e5f6becb805514 = $(`&lt;div id=&quot;html_bbeb653470dad9fcf5e5f6becb805514&quot; style=&quot;width: 100.0%; height: 100.0%;&quot;&gt;&lt;strong&gt;State&lt;/strong&gt;N/a&lt;br&gt;&lt;strong&gt;Confirmed Cases&lt;/strong&gt;33481.44672131148&lt;br&gt;&lt;/div&gt;`)[0];\n",
       "                popup_ef19b4691fad495f9b298543c4238517.setContent(html_bbeb653470dad9fcf5e5f6becb805514);\n",
       "            \n",
       "        \n",
       "\n",
       "        circle_marker_c7a7b3130704e6397d0675e20d237d6e.bindPopup(popup_ef19b4691fad495f9b298543c4238517)\n",
       "        ;\n",
       "\n",
       "        \n",
       "    \n",
       "    \n",
       "            var circle_marker_29ddd6e1d1e06e4cf91d5a97e2e1a808 = L.circleMarker(\n",
       "                [-0.0236, 37.9062],\n",
       "                {&quot;bubblingMouseEvents&quot;: true, &quot;color&quot;: &quot;blue&quot;, &quot;dashArray&quot;: null, &quot;dashOffset&quot;: null, &quot;fill&quot;: true, &quot;fillColor&quot;: &quot;crimson&quot;, &quot;fillOpacity&quot;: 0.3, &quot;fillRule&quot;: &quot;evenodd&quot;, &quot;lineCap&quot;: &quot;round&quot;, &quot;lineJoin&quot;: &quot;round&quot;, &quot;opacity&quot;: 1.0, &quot;radius&quot;: 0.09002008196721312, &quot;stroke&quot;: true, &quot;weight&quot;: 3}\n",
       "            ).addTo(map_63bd30139a6212ba0546419532110ea0);\n",
       "        \n",
       "    \n",
       "        var popup_0ba7ea25be5ed1ae385151d0c8bf22b5 = L.popup({&quot;maxWidth&quot;: &quot;100%&quot;});\n",
       "\n",
       "        \n",
       "            \n",
       "                var html_272629963a57d1357a8f2b18ec1cd757 = $(`&lt;div id=&quot;html_272629963a57d1357a8f2b18ec1cd757&quot; style=&quot;width: 100.0%; height: 100.0%;&quot;&gt;&lt;strong&gt;State&lt;/strong&gt;N/a&lt;br&gt;&lt;strong&gt;Confirmed Cases&lt;/strong&gt;9002.008196721312&lt;br&gt;&lt;/div&gt;`)[0];\n",
       "                popup_0ba7ea25be5ed1ae385151d0c8bf22b5.setContent(html_272629963a57d1357a8f2b18ec1cd757);\n",
       "            \n",
       "        \n",
       "\n",
       "        circle_marker_29ddd6e1d1e06e4cf91d5a97e2e1a808.bindPopup(popup_0ba7ea25be5ed1ae385151d0c8bf22b5)\n",
       "        ;\n",
       "\n",
       "        \n",
       "    \n",
       "    \n",
       "            var circle_marker_5a16460cbfd58464c283df83d57b4634 = L.circleMarker(\n",
       "                [35.90775700000001, 127.766922],\n",
       "                {&quot;bubblingMouseEvents&quot;: true, &quot;color&quot;: &quot;blue&quot;, &quot;dashArray&quot;: null, &quot;dashOffset&quot;: null, &quot;fill&quot;: true, &quot;fillColor&quot;: &quot;crimson&quot;, &quot;fillOpacity&quot;: 0.3, &quot;fillRule&quot;: &quot;evenodd&quot;, &quot;lineCap&quot;: &quot;round&quot;, &quot;lineJoin&quot;: &quot;round&quot;, &quot;opacity&quot;: 1.0, &quot;radius&quot;: 0.1094720081967213, &quot;stroke&quot;: true, &quot;weight&quot;: 3}\n",
       "            ).addTo(map_63bd30139a6212ba0546419532110ea0);\n",
       "        \n",
       "    \n",
       "        var popup_aae628d9792cf18988025b744217d161 = L.popup({&quot;maxWidth&quot;: &quot;100%&quot;});\n",
       "\n",
       "        \n",
       "            \n",
       "                var html_3d10faea4d94ea92365217cd25cd02ae = $(`&lt;div id=&quot;html_3d10faea4d94ea92365217cd25cd02ae&quot; style=&quot;width: 100.0%; height: 100.0%;&quot;&gt;&lt;strong&gt;State&lt;/strong&gt;N/a&lt;br&gt;&lt;strong&gt;Confirmed Cases&lt;/strong&gt;10947.20081967213&lt;br&gt;&lt;/div&gt;`)[0];\n",
       "                popup_aae628d9792cf18988025b744217d161.setContent(html_3d10faea4d94ea92365217cd25cd02ae);\n",
       "            \n",
       "        \n",
       "\n",
       "        circle_marker_5a16460cbfd58464c283df83d57b4634.bindPopup(popup_aae628d9792cf18988025b744217d161)\n",
       "        ;\n",
       "\n",
       "        \n",
       "    \n",
       "    \n",
       "            var circle_marker_d3fe5eb1c67f420ebc183c9feab31ad7 = L.circleMarker(\n",
       "                [42.602636, 20.902977],\n",
       "                {&quot;bubblingMouseEvents&quot;: true, &quot;color&quot;: &quot;blue&quot;, &quot;dashArray&quot;: null, &quot;dashOffset&quot;: null, &quot;fill&quot;: true, &quot;fillColor&quot;: &quot;crimson&quot;, &quot;fillOpacity&quot;: 0.3, &quot;fillRule&quot;: &quot;evenodd&quot;, &quot;lineCap&quot;: &quot;round&quot;, &quot;lineJoin&quot;: &quot;round&quot;, &quot;opacity&quot;: 1.0, &quot;radius&quot;: 0.03568729508196721, &quot;stroke&quot;: true, &quot;weight&quot;: 3}\n",
       "            ).addTo(map_63bd30139a6212ba0546419532110ea0);\n",
       "        \n",
       "    \n",
       "        var popup_43f0b120c5bc99b7649ff8a4eada4f2b = L.popup({&quot;maxWidth&quot;: &quot;100%&quot;});\n",
       "\n",
       "        \n",
       "            \n",
       "                var html_b355bf31d34864e364a5e6f0ce364f80 = $(`&lt;div id=&quot;html_b355bf31d34864e364a5e6f0ce364f80&quot; style=&quot;width: 100.0%; height: 100.0%;&quot;&gt;&lt;strong&gt;State&lt;/strong&gt;N/a&lt;br&gt;&lt;strong&gt;Confirmed Cases&lt;/strong&gt;3568.7295081967213&lt;br&gt;&lt;/div&gt;`)[0];\n",
       "                popup_43f0b120c5bc99b7649ff8a4eada4f2b.setContent(html_b355bf31d34864e364a5e6f0ce364f80);\n",
       "            \n",
       "        \n",
       "\n",
       "        circle_marker_d3fe5eb1c67f420ebc183c9feab31ad7.bindPopup(popup_43f0b120c5bc99b7649ff8a4eada4f2b)\n",
       "        ;\n",
       "\n",
       "        \n",
       "    \n",
       "    \n",
       "            var circle_marker_06a9c97640f5c969050292b2bae428d3 = L.circleMarker(\n",
       "                [29.31166, 47.481766],\n",
       "                {&quot;bubblingMouseEvents&quot;: true, &quot;color&quot;: &quot;blue&quot;, &quot;dashArray&quot;: null, &quot;dashOffset&quot;: null, &quot;fill&quot;: true, &quot;fillColor&quot;: &quot;crimson&quot;, &quot;fillOpacity&quot;: 0.3, &quot;fillRule&quot;: &quot;evenodd&quot;, &quot;lineCap&quot;: &quot;round&quot;, &quot;lineJoin&quot;: &quot;round&quot;, &quot;opacity&quot;: 1.0, &quot;radius&quot;: 0.31583340163934426, &quot;stroke&quot;: true, &quot;weight&quot;: 3}\n",
       "            ).addTo(map_63bd30139a6212ba0546419532110ea0);\n",
       "        \n",
       "    \n",
       "        var popup_972452120fe8de9a75b2455ee7a271c8 = L.popup({&quot;maxWidth&quot;: &quot;100%&quot;});\n",
       "\n",
       "        \n",
       "            \n",
       "                var html_8b92195dfa9ba5e014750bab73a6a10a = $(`&lt;div id=&quot;html_8b92195dfa9ba5e014750bab73a6a10a&quot; style=&quot;width: 100.0%; height: 100.0%;&quot;&gt;&lt;strong&gt;State&lt;/strong&gt;N/a&lt;br&gt;&lt;strong&gt;Confirmed Cases&lt;/strong&gt;31583.340163934427&lt;br&gt;&lt;/div&gt;`)[0];\n",
       "                popup_972452120fe8de9a75b2455ee7a271c8.setContent(html_8b92195dfa9ba5e014750bab73a6a10a);\n",
       "            \n",
       "        \n",
       "\n",
       "        circle_marker_06a9c97640f5c969050292b2bae428d3.bindPopup(popup_972452120fe8de9a75b2455ee7a271c8)\n",
       "        ;\n",
       "\n",
       "        \n",
       "    \n",
       "    \n",
       "            var circle_marker_5d34652d27f5bbc26555b52081459f5a = L.circleMarker(\n",
       "                [41.20438, 74.766098],\n",
       "                {&quot;bubblingMouseEvents&quot;: true, &quot;color&quot;: &quot;blue&quot;, &quot;dashArray&quot;: null, &quot;dashOffset&quot;: null, &quot;fill&quot;: true, &quot;fillColor&quot;: &quot;crimson&quot;, &quot;fillOpacity&quot;: 0.3, &quot;fillRule&quot;: &quot;evenodd&quot;, &quot;lineCap&quot;: &quot;round&quot;, &quot;lineJoin&quot;: &quot;round&quot;, &quot;opacity&quot;: 1.0, &quot;radius&quot;: 0.12094577868852459, &quot;stroke&quot;: true, &quot;weight&quot;: 3}\n",
       "            ).addTo(map_63bd30139a6212ba0546419532110ea0);\n",
       "        \n",
       "    \n",
       "        var popup_ecd0d0d2d9edf62329f60a2808a6e83a = L.popup({&quot;maxWidth&quot;: &quot;100%&quot;});\n",
       "\n",
       "        \n",
       "            \n",
       "                var html_03145b22f9f747f15ded8328c9facaa7 = $(`&lt;div id=&quot;html_03145b22f9f747f15ded8328c9facaa7&quot; style=&quot;width: 100.0%; height: 100.0%;&quot;&gt;&lt;strong&gt;State&lt;/strong&gt;N/a&lt;br&gt;&lt;strong&gt;Confirmed Cases&lt;/strong&gt;12094.577868852459&lt;br&gt;&lt;/div&gt;`)[0];\n",
       "                popup_ecd0d0d2d9edf62329f60a2808a6e83a.setContent(html_03145b22f9f747f15ded8328c9facaa7);\n",
       "            \n",
       "        \n",
       "\n",
       "        circle_marker_5d34652d27f5bbc26555b52081459f5a.bindPopup(popup_ecd0d0d2d9edf62329f60a2808a6e83a)\n",
       "        ;\n",
       "\n",
       "        \n",
       "    \n",
       "    \n",
       "            var circle_marker_face4565d9cb98ff92706ba3ce18f8d0 = L.circleMarker(\n",
       "                [19.85627, 102.495496],\n",
       "                {&quot;bubblingMouseEvents&quot;: true, &quot;color&quot;: &quot;blue&quot;, &quot;dashArray&quot;: null, &quot;dashOffset&quot;: null, &quot;fill&quot;: true, &quot;fillColor&quot;: &quot;crimson&quot;, &quot;fillOpacity&quot;: 0.3, &quot;fillRule&quot;: &quot;evenodd&quot;, &quot;lineCap&quot;: &quot;round&quot;, &quot;lineJoin&quot;: &quot;round&quot;, &quot;opacity&quot;: 1.0, &quot;radius&quot;: 0.0001409016393442623, &quot;stroke&quot;: true, &quot;weight&quot;: 3}\n",
       "            ).addTo(map_63bd30139a6212ba0546419532110ea0);\n",
       "        \n",
       "    \n",
       "        var popup_a74f533cf7b8a499d731ff3eceabfcc7 = L.popup({&quot;maxWidth&quot;: &quot;100%&quot;});\n",
       "\n",
       "        \n",
       "            \n",
       "                var html_0cc9d52c6567e4075cd3342ba8295306 = $(`&lt;div id=&quot;html_0cc9d52c6567e4075cd3342ba8295306&quot; style=&quot;width: 100.0%; height: 100.0%;&quot;&gt;&lt;strong&gt;State&lt;/strong&gt;N/a&lt;br&gt;&lt;strong&gt;Confirmed Cases&lt;/strong&gt;14.09016393442623&lt;br&gt;&lt;/div&gt;`)[0];\n",
       "                popup_a74f533cf7b8a499d731ff3eceabfcc7.setContent(html_0cc9d52c6567e4075cd3342ba8295306);\n",
       "            \n",
       "        \n",
       "\n",
       "        circle_marker_face4565d9cb98ff92706ba3ce18f8d0.bindPopup(popup_a74f533cf7b8a499d731ff3eceabfcc7)\n",
       "        ;\n",
       "\n",
       "        \n",
       "    \n",
       "    \n",
       "            var circle_marker_6abdb2422dcb6c02be555710c198fa48 = L.circleMarker(\n",
       "                [56.8796, 24.6032],\n",
       "                {&quot;bubblingMouseEvents&quot;: true, &quot;color&quot;: &quot;blue&quot;, &quot;dashArray&quot;: null, &quot;dashOffset&quot;: null, &quot;fill&quot;: true, &quot;fillColor&quot;: &quot;crimson&quot;, &quot;fillOpacity&quot;: 0.3, &quot;fillRule&quot;: &quot;evenodd&quot;, &quot;lineCap&quot;: &quot;round&quot;, &quot;lineJoin&quot;: &quot;round&quot;, &quot;opacity&quot;: 1.0, &quot;radius&quot;: 0.007978729508196721, &quot;stroke&quot;: true, &quot;weight&quot;: 3}\n",
       "            ).addTo(map_63bd30139a6212ba0546419532110ea0);\n",
       "        \n",
       "    \n",
       "        var popup_663ae71a746219bf837746f2663008eb = L.popup({&quot;maxWidth&quot;: &quot;100%&quot;});\n",
       "\n",
       "        \n",
       "            \n",
       "                var html_01e09b39a7768666c2d5d9cf28f85892 = $(`&lt;div id=&quot;html_01e09b39a7768666c2d5d9cf28f85892&quot; style=&quot;width: 100.0%; height: 100.0%;&quot;&gt;&lt;strong&gt;State&lt;/strong&gt;N/a&lt;br&gt;&lt;strong&gt;Confirmed Cases&lt;/strong&gt;797.8729508196722&lt;br&gt;&lt;/div&gt;`)[0];\n",
       "                popup_663ae71a746219bf837746f2663008eb.setContent(html_01e09b39a7768666c2d5d9cf28f85892);\n",
       "            \n",
       "        \n",
       "\n",
       "        circle_marker_6abdb2422dcb6c02be555710c198fa48.bindPopup(popup_663ae71a746219bf837746f2663008eb)\n",
       "        ;\n",
       "\n",
       "        \n",
       "    \n",
       "    \n",
       "            var circle_marker_cfc702556cee71e42dfd4ceb888a334e = L.circleMarker(\n",
       "                [33.8547, 35.8623],\n",
       "                {&quot;bubblingMouseEvents&quot;: true, &quot;color&quot;: &quot;blue&quot;, &quot;dashArray&quot;: null, &quot;dashOffset&quot;: null, &quot;fill&quot;: true, &quot;fillColor&quot;: &quot;crimson&quot;, &quot;fillOpacity&quot;: 0.3, &quot;fillRule&quot;: &quot;evenodd&quot;, &quot;lineCap&quot;: &quot;round&quot;, &quot;lineJoin&quot;: &quot;round&quot;, &quot;opacity&quot;: 1.0, &quot;radius&quot;: 0.0400777868852459, &quot;stroke&quot;: true, &quot;weight&quot;: 3}\n",
       "            ).addTo(map_63bd30139a6212ba0546419532110ea0);\n",
       "        \n",
       "    \n",
       "        var popup_678dec26729570a61db9bc968a2dd7f3 = L.popup({&quot;maxWidth&quot;: &quot;100%&quot;});\n",
       "\n",
       "        \n",
       "            \n",
       "                var html_621d3b142c6ec1f20775828f8398b17e = $(`&lt;div id=&quot;html_621d3b142c6ec1f20775828f8398b17e&quot; style=&quot;width: 100.0%; height: 100.0%;&quot;&gt;&lt;strong&gt;State&lt;/strong&gt;N/a&lt;br&gt;&lt;strong&gt;Confirmed Cases&lt;/strong&gt;4007.77868852459&lt;br&gt;&lt;/div&gt;`)[0];\n",
       "                popup_678dec26729570a61db9bc968a2dd7f3.setContent(html_621d3b142c6ec1f20775828f8398b17e);\n",
       "            \n",
       "        \n",
       "\n",
       "        circle_marker_cfc702556cee71e42dfd4ceb888a334e.bindPopup(popup_678dec26729570a61db9bc968a2dd7f3)\n",
       "        ;\n",
       "\n",
       "        \n",
       "    \n",
       "    \n",
       "            var circle_marker_e77b80276a56b7a7cacf3f914ae118d0 = L.circleMarker(\n",
       "                [-29.61, 28.2336],\n",
       "                {&quot;bubblingMouseEvents&quot;: true, &quot;color&quot;: &quot;blue&quot;, &quot;dashArray&quot;: null, &quot;dashOffset&quot;: null, &quot;fill&quot;: true, &quot;fillColor&quot;: &quot;crimson&quot;, &quot;fillOpacity&quot;: 0.3, &quot;fillRule&quot;: &quot;evenodd&quot;, &quot;lineCap&quot;: &quot;round&quot;, &quot;lineJoin&quot;: &quot;round&quot;, &quot;opacity&quot;: 1.0, &quot;radius&quot;: 0.0025739344262295082, &quot;stroke&quot;: true, &quot;weight&quot;: 3}\n",
       "            ).addTo(map_63bd30139a6212ba0546419532110ea0);\n",
       "        \n",
       "    \n",
       "        var popup_25d17423a6d8f9d0500efe914f3ab695 = L.popup({&quot;maxWidth&quot;: &quot;100%&quot;});\n",
       "\n",
       "        \n",
       "            \n",
       "                var html_3b532908301cdacce49812ee170e094f = $(`&lt;div id=&quot;html_3b532908301cdacce49812ee170e094f&quot; style=&quot;width: 100.0%; height: 100.0%;&quot;&gt;&lt;strong&gt;State&lt;/strong&gt;N/a&lt;br&gt;&lt;strong&gt;Confirmed Cases&lt;/strong&gt;257.39344262295083&lt;br&gt;&lt;/div&gt;`)[0];\n",
       "                popup_25d17423a6d8f9d0500efe914f3ab695.setContent(html_3b532908301cdacce49812ee170e094f);\n",
       "            \n",
       "        \n",
       "\n",
       "        circle_marker_e77b80276a56b7a7cacf3f914ae118d0.bindPopup(popup_25d17423a6d8f9d0500efe914f3ab695)\n",
       "        ;\n",
       "\n",
       "        \n",
       "    \n",
       "    \n",
       "            var circle_marker_1f457e77ab9627fcc6feaae7181a6ef9 = L.circleMarker(\n",
       "                [6.4280550000000005, -9.429499],\n",
       "                {&quot;bubblingMouseEvents&quot;: true, &quot;color&quot;: &quot;blue&quot;, &quot;dashArray&quot;: null, &quot;dashOffset&quot;: null, &quot;fill&quot;: true, &quot;fillColor&quot;: &quot;crimson&quot;, &quot;fillOpacity&quot;: 0.3, &quot;fillRule&quot;: &quot;evenodd&quot;, &quot;lineCap&quot;: &quot;round&quot;, &quot;lineJoin&quot;: &quot;round&quot;, &quot;opacity&quot;: 1.0, &quot;radius&quot;: 0.005052909836065574, &quot;stroke&quot;: true, &quot;weight&quot;: 3}\n",
       "            ).addTo(map_63bd30139a6212ba0546419532110ea0);\n",
       "        \n",
       "    \n",
       "        var popup_53624c3b6c152f5ef627b7a860af4021 = L.popup({&quot;maxWidth&quot;: &quot;100%&quot;});\n",
       "\n",
       "        \n",
       "            \n",
       "                var html_ba463064e7d22a5a65c8bf5a54da49f7 = $(`&lt;div id=&quot;html_ba463064e7d22a5a65c8bf5a54da49f7&quot; style=&quot;width: 100.0%; height: 100.0%;&quot;&gt;&lt;strong&gt;State&lt;/strong&gt;N/a&lt;br&gt;&lt;strong&gt;Confirmed Cases&lt;/strong&gt;505.2909836065574&lt;br&gt;&lt;/div&gt;`)[0];\n",
       "                popup_53624c3b6c152f5ef627b7a860af4021.setContent(html_ba463064e7d22a5a65c8bf5a54da49f7);\n",
       "            \n",
       "        \n",
       "\n",
       "        circle_marker_1f457e77ab9627fcc6feaae7181a6ef9.bindPopup(popup_53624c3b6c152f5ef627b7a860af4021)\n",
       "        ;\n",
       "\n",
       "        \n",
       "    \n",
       "    \n",
       "            var circle_marker_f7c9481517e7d0e9a4821c31accf840c = L.circleMarker(\n",
       "                [26.3351, 17.228331],\n",
       "                {&quot;bubblingMouseEvents&quot;: true, &quot;color&quot;: &quot;blue&quot;, &quot;dashArray&quot;: null, &quot;dashOffset&quot;: null, &quot;fill&quot;: true, &quot;fillColor&quot;: &quot;crimson&quot;, &quot;fillOpacity&quot;: 0.3, &quot;fillRule&quot;: &quot;evenodd&quot;, &quot;lineCap&quot;: &quot;round&quot;, &quot;lineJoin&quot;: &quot;round&quot;, &quot;opacity&quot;: 1.0, &quot;radius&quot;: 0.03218831967213115, &quot;stroke&quot;: true, &quot;weight&quot;: 3}\n",
       "            ).addTo(map_63bd30139a6212ba0546419532110ea0);\n",
       "        \n",
       "    \n",
       "        var popup_2fb6a54accd3a169fdf9fdecb52593f5 = L.popup({&quot;maxWidth&quot;: &quot;100%&quot;});\n",
       "\n",
       "        \n",
       "            \n",
       "                var html_0980cf6d5730573fdebfd71a89a69ff9 = $(`&lt;div id=&quot;html_0980cf6d5730573fdebfd71a89a69ff9&quot; style=&quot;width: 100.0%; height: 100.0%;&quot;&gt;&lt;strong&gt;State&lt;/strong&gt;N/a&lt;br&gt;&lt;strong&gt;Confirmed Cases&lt;/strong&gt;3218.8319672131147&lt;br&gt;&lt;/div&gt;`)[0];\n",
       "                popup_2fb6a54accd3a169fdf9fdecb52593f5.setContent(html_0980cf6d5730573fdebfd71a89a69ff9);\n",
       "            \n",
       "        \n",
       "\n",
       "        circle_marker_f7c9481517e7d0e9a4821c31accf840c.bindPopup(popup_2fb6a54accd3a169fdf9fdecb52593f5)\n",
       "        ;\n",
       "\n",
       "        \n",
       "    \n",
       "    \n",
       "            var circle_marker_5c4b36ac2f090cd9d42092f3fecf8282 = L.circleMarker(\n",
       "                [47.14, 9.55],\n",
       "                {&quot;bubblingMouseEvents&quot;: true, &quot;color&quot;: &quot;blue&quot;, &quot;dashArray&quot;: null, &quot;dashOffset&quot;: null, &quot;fill&quot;: true, &quot;fillColor&quot;: &quot;crimson&quot;, &quot;fillOpacity&quot;: 0.3, &quot;fillRule&quot;: &quot;evenodd&quot;, &quot;lineCap&quot;: &quot;round&quot;, &quot;lineJoin&quot;: &quot;round&quot;, &quot;opacity&quot;: 1.0, &quot;radius&quot;: 0.0006538934426229508, &quot;stroke&quot;: true, &quot;weight&quot;: 3}\n",
       "            ).addTo(map_63bd30139a6212ba0546419532110ea0);\n",
       "        \n",
       "    \n",
       "        var popup_69d32383d411e9d482bc72e7a882b986 = L.popup({&quot;maxWidth&quot;: &quot;100%&quot;});\n",
       "\n",
       "        \n",
       "            \n",
       "                var html_477c201a4c37ffe72164c50801f4abae = $(`&lt;div id=&quot;html_477c201a4c37ffe72164c50801f4abae&quot; style=&quot;width: 100.0%; height: 100.0%;&quot;&gt;&lt;strong&gt;State&lt;/strong&gt;N/a&lt;br&gt;&lt;strong&gt;Confirmed Cases&lt;/strong&gt;65.38934426229508&lt;br&gt;&lt;/div&gt;`)[0];\n",
       "                popup_69d32383d411e9d482bc72e7a882b986.setContent(html_477c201a4c37ffe72164c50801f4abae);\n",
       "            \n",
       "        \n",
       "\n",
       "        circle_marker_5c4b36ac2f090cd9d42092f3fecf8282.bindPopup(popup_69d32383d411e9d482bc72e7a882b986)\n",
       "        ;\n",
       "\n",
       "        \n",
       "    \n",
       "    \n",
       "            var circle_marker_dff26f5e427983f9e743359147475abb = L.circleMarker(\n",
       "                [55.1694, 23.8813],\n",
       "                {&quot;bubblingMouseEvents&quot;: true, &quot;color&quot;: &quot;blue&quot;, &quot;dashArray&quot;: null, &quot;dashOffset&quot;: null, &quot;fill&quot;: true, &quot;fillColor&quot;: &quot;crimson&quot;, &quot;fillOpacity&quot;: 0.3, &quot;fillRule&quot;: &quot;evenodd&quot;, &quot;lineCap&quot;: &quot;round&quot;, &quot;lineJoin&quot;: &quot;round&quot;, &quot;opacity&quot;: 1.0, &quot;radius&quot;: 0.014006188524590164, &quot;stroke&quot;: true, &quot;weight&quot;: 3}\n",
       "            ).addTo(map_63bd30139a6212ba0546419532110ea0);\n",
       "        \n",
       "    \n",
       "        var popup_3cced2f336edbbe9cd8b82b683c3a5b8 = L.popup({&quot;maxWidth&quot;: &quot;100%&quot;});\n",
       "\n",
       "        \n",
       "            \n",
       "                var html_9f6e1f27b2806253186dcf110b69d923 = $(`&lt;div id=&quot;html_9f6e1f27b2806253186dcf110b69d923&quot; style=&quot;width: 100.0%; height: 100.0%;&quot;&gt;&lt;strong&gt;State&lt;/strong&gt;N/a&lt;br&gt;&lt;strong&gt;Confirmed Cases&lt;/strong&gt;1400.6188524590164&lt;br&gt;&lt;/div&gt;`)[0];\n",
       "                popup_3cced2f336edbbe9cd8b82b683c3a5b8.setContent(html_9f6e1f27b2806253186dcf110b69d923);\n",
       "            \n",
       "        \n",
       "\n",
       "        circle_marker_dff26f5e427983f9e743359147475abb.bindPopup(popup_3cced2f336edbbe9cd8b82b683c3a5b8)\n",
       "        ;\n",
       "\n",
       "        \n",
       "    \n",
       "    \n",
       "            var circle_marker_c24d2a912ce8de38c80abfe24abeff9b = L.circleMarker(\n",
       "                [49.8153, 6.1296],\n",
       "                {&quot;bubblingMouseEvents&quot;: true, &quot;color&quot;: &quot;blue&quot;, &quot;dashArray&quot;: null, &quot;dashOffset&quot;: null, &quot;fill&quot;: true, &quot;fillColor&quot;: &quot;crimson&quot;, &quot;fillOpacity&quot;: 0.3, &quot;fillRule&quot;: &quot;evenodd&quot;, &quot;lineCap&quot;: &quot;round&quot;, &quot;lineJoin&quot;: &quot;round&quot;, &quot;opacity&quot;: 1.0, &quot;radius&quot;: 0.03705811475409836, &quot;stroke&quot;: true, &quot;weight&quot;: 3}\n",
       "            ).addTo(map_63bd30139a6212ba0546419532110ea0);\n",
       "        \n",
       "    \n",
       "        var popup_9399be054ad2b79b94253a1fe0666125 = L.popup({&quot;maxWidth&quot;: &quot;100%&quot;});\n",
       "\n",
       "        \n",
       "            \n",
       "                var html_68184ec9ec5704a2e85d44538817ae62 = $(`&lt;div id=&quot;html_68184ec9ec5704a2e85d44538817ae62&quot; style=&quot;width: 100.0%; height: 100.0%;&quot;&gt;&lt;strong&gt;State&lt;/strong&gt;N/a&lt;br&gt;&lt;strong&gt;Confirmed Cases&lt;/strong&gt;3705.811475409836&lt;br&gt;&lt;/div&gt;`)[0];\n",
       "                popup_9399be054ad2b79b94253a1fe0666125.setContent(html_68184ec9ec5704a2e85d44538817ae62);\n",
       "            \n",
       "        \n",
       "\n",
       "        circle_marker_c24d2a912ce8de38c80abfe24abeff9b.bindPopup(popup_9399be054ad2b79b94253a1fe0666125)\n",
       "        ;\n",
       "\n",
       "        \n",
       "    \n",
       "    \n",
       "            var circle_marker_cbed5557ad3a42371476f2a7873b4bc3 = L.circleMarker(\n",
       "                [0.0, 0.0],\n",
       "                {&quot;bubblingMouseEvents&quot;: true, &quot;color&quot;: &quot;blue&quot;, &quot;dashArray&quot;: null, &quot;dashOffset&quot;: null, &quot;fill&quot;: true, &quot;fillColor&quot;: &quot;crimson&quot;, &quot;fillOpacity&quot;: 0.3, &quot;fillRule&quot;: &quot;evenodd&quot;, &quot;lineCap&quot;: &quot;round&quot;, &quot;lineJoin&quot;: &quot;round&quot;, &quot;opacity&quot;: 1.0, &quot;radius&quot;: 6.450819672131147e-05, &quot;stroke&quot;: true, &quot;weight&quot;: 3}\n",
       "            ).addTo(map_63bd30139a6212ba0546419532110ea0);\n",
       "        \n",
       "    \n",
       "        var popup_d67d3a1120912e41d9ca6457f4fa5f3c = L.popup({&quot;maxWidth&quot;: &quot;100%&quot;});\n",
       "\n",
       "        \n",
       "            \n",
       "                var html_f7041b5aba76a26eaca19c852c96a012 = $(`&lt;div id=&quot;html_f7041b5aba76a26eaca19c852c96a012&quot; style=&quot;width: 100.0%; height: 100.0%;&quot;&gt;&lt;strong&gt;State&lt;/strong&gt;N/a&lt;br&gt;&lt;strong&gt;Confirmed Cases&lt;/strong&gt;6.450819672131147&lt;br&gt;&lt;/div&gt;`)[0];\n",
       "                popup_d67d3a1120912e41d9ca6457f4fa5f3c.setContent(html_f7041b5aba76a26eaca19c852c96a012);\n",
       "            \n",
       "        \n",
       "\n",
       "        circle_marker_cbed5557ad3a42371476f2a7873b4bc3.bindPopup(popup_d67d3a1120912e41d9ca6457f4fa5f3c)\n",
       "        ;\n",
       "\n",
       "        \n",
       "    \n",
       "    \n",
       "            var circle_marker_ef6fb1b227bdb568087a41e43849f12e = L.circleMarker(\n",
       "                [-18.766947, 46.869107],\n",
       "                {&quot;bubblingMouseEvents&quot;: true, &quot;color&quot;: &quot;blue&quot;, &quot;dashArray&quot;: null, &quot;dashOffset&quot;: null, &quot;fill&quot;: true, &quot;fillColor&quot;: &quot;crimson&quot;, &quot;fillOpacity&quot;: 0.3, &quot;fillRule&quot;: &quot;evenodd&quot;, &quot;lineCap&quot;: &quot;round&quot;, &quot;lineJoin&quot;: &quot;round&quot;, &quot;opacity&quot;: 1.0, &quot;radius&quot;: 0.04087647540983606, &quot;stroke&quot;: true, &quot;weight&quot;: 3}\n",
       "            ).addTo(map_63bd30139a6212ba0546419532110ea0);\n",
       "        \n",
       "    \n",
       "        var popup_6c6460cecd29e3f30585f9f0a9a79e96 = L.popup({&quot;maxWidth&quot;: &quot;100%&quot;});\n",
       "\n",
       "        \n",
       "            \n",
       "                var html_80a11902c46fab9173116b7c4644d435 = $(`&lt;div id=&quot;html_80a11902c46fab9173116b7c4644d435&quot; style=&quot;width: 100.0%; height: 100.0%;&quot;&gt;&lt;strong&gt;State&lt;/strong&gt;N/a&lt;br&gt;&lt;strong&gt;Confirmed Cases&lt;/strong&gt;4087.6475409836066&lt;br&gt;&lt;/div&gt;`)[0];\n",
       "                popup_6c6460cecd29e3f30585f9f0a9a79e96.setContent(html_80a11902c46fab9173116b7c4644d435);\n",
       "            \n",
       "        \n",
       "\n",
       "        circle_marker_ef6fb1b227bdb568087a41e43849f12e.bindPopup(popup_6c6460cecd29e3f30585f9f0a9a79e96)\n",
       "        ;\n",
       "\n",
       "        \n",
       "    \n",
       "    \n",
       "            var circle_marker_db25546a4ac0a3a2ab6497ebe5a2cb02 = L.circleMarker(\n",
       "                [-13.2543, 34.3015],\n",
       "                {&quot;bubblingMouseEvents&quot;: true, &quot;color&quot;: &quot;blue&quot;, &quot;dashArray&quot;: null, &quot;dashOffset&quot;: null, &quot;fill&quot;: true, &quot;fillColor&quot;: &quot;crimson&quot;, &quot;fillOpacity&quot;: 0.3, &quot;fillRule&quot;: &quot;evenodd&quot;, &quot;lineCap&quot;: &quot;round&quot;, &quot;lineJoin&quot;: &quot;round&quot;, &quot;opacity&quot;: 1.0, &quot;radius&quot;: 0.015525491803278689, &quot;stroke&quot;: true, &quot;weight&quot;: 3}\n",
       "            ).addTo(map_63bd30139a6212ba0546419532110ea0);\n",
       "        \n",
       "    \n",
       "        var popup_c970c5c829cea1d59b44802c9c522300 = L.popup({&quot;maxWidth&quot;: &quot;100%&quot;});\n",
       "\n",
       "        \n",
       "            \n",
       "                var html_7761474450bb33b20e86bc2cd7159740 = $(`&lt;div id=&quot;html_7761474450bb33b20e86bc2cd7159740&quot; style=&quot;width: 100.0%; height: 100.0%;&quot;&gt;&lt;strong&gt;State&lt;/strong&gt;N/a&lt;br&gt;&lt;strong&gt;Confirmed Cases&lt;/strong&gt;1552.549180327869&lt;br&gt;&lt;/div&gt;`)[0];\n",
       "                popup_c970c5c829cea1d59b44802c9c522300.setContent(html_7761474450bb33b20e86bc2cd7159740);\n",
       "            \n",
       "        \n",
       "\n",
       "        circle_marker_db25546a4ac0a3a2ab6497ebe5a2cb02.bindPopup(popup_c970c5c829cea1d59b44802c9c522300)\n",
       "        ;\n",
       "\n",
       "        \n",
       "    \n",
       "    \n",
       "            var circle_marker_00ba0e7b2968146ab566d6fc8ce3178a = L.circleMarker(\n",
       "                [4.210483999999999, 101.975766],\n",
       "                {&quot;bubblingMouseEvents&quot;: true, &quot;color&quot;: &quot;blue&quot;, &quot;dashArray&quot;: null, &quot;dashOffset&quot;: null, &quot;fill&quot;: true, &quot;fillColor&quot;: &quot;crimson&quot;, &quot;fillOpacity&quot;: 0.3, &quot;fillRule&quot;: &quot;evenodd&quot;, &quot;lineCap&quot;: &quot;round&quot;, &quot;lineJoin&quot;: &quot;round&quot;, &quot;opacity&quot;: 1.0, &quot;radius&quot;: 0.057457090163934424, &quot;stroke&quot;: true, &quot;weight&quot;: 3}\n",
       "            ).addTo(map_63bd30139a6212ba0546419532110ea0);\n",
       "        \n",
       "    \n",
       "        var popup_3280f9ffb73e38a0cb7de4e717cc395c = L.popup({&quot;maxWidth&quot;: &quot;100%&quot;});\n",
       "\n",
       "        \n",
       "            \n",
       "                var html_cafa074eb477ea9c8d1b11312c5620fd = $(`&lt;div id=&quot;html_cafa074eb477ea9c8d1b11312c5620fd&quot; style=&quot;width: 100.0%; height: 100.0%;&quot;&gt;&lt;strong&gt;State&lt;/strong&gt;N/a&lt;br&gt;&lt;strong&gt;Confirmed Cases&lt;/strong&gt;5745.709016393443&lt;br&gt;&lt;/div&gt;`)[0];\n",
       "                popup_3280f9ffb73e38a0cb7de4e717cc395c.setContent(html_cafa074eb477ea9c8d1b11312c5620fd);\n",
       "            \n",
       "        \n",
       "\n",
       "        circle_marker_00ba0e7b2968146ab566d6fc8ce3178a.bindPopup(popup_3280f9ffb73e38a0cb7de4e717cc395c)\n",
       "        ;\n",
       "\n",
       "        \n",
       "    \n",
       "    \n",
       "            var circle_marker_56381b804c0e3a4b81ce478ab23d362e = L.circleMarker(\n",
       "                [3.2028, 73.2207],\n",
       "                {&quot;bubblingMouseEvents&quot;: true, &quot;color&quot;: &quot;blue&quot;, &quot;dashArray&quot;: null, &quot;dashOffset&quot;: null, &quot;fill&quot;: true, &quot;fillColor&quot;: &quot;crimson&quot;, &quot;fillOpacity&quot;: 0.3, &quot;fillRule&quot;: &quot;evenodd&quot;, &quot;lineCap&quot;: &quot;round&quot;, &quot;lineJoin&quot;: &quot;round&quot;, &quot;opacity&quot;: 1.0, &quot;radius&quot;: 0.022923319672131147, &quot;stroke&quot;: true, &quot;weight&quot;: 3}\n",
       "            ).addTo(map_63bd30139a6212ba0546419532110ea0);\n",
       "        \n",
       "    \n",
       "        var popup_99aaab18ee081956efbb579728ede40b = L.popup({&quot;maxWidth&quot;: &quot;100%&quot;});\n",
       "\n",
       "        \n",
       "            \n",
       "                var html_9b09be4c2c676f734f8dbb6700bf2cd7 = $(`&lt;div id=&quot;html_9b09be4c2c676f734f8dbb6700bf2cd7&quot; style=&quot;width: 100.0%; height: 100.0%;&quot;&gt;&lt;strong&gt;State&lt;/strong&gt;N/a&lt;br&gt;&lt;strong&gt;Confirmed Cases&lt;/strong&gt;2292.3319672131147&lt;br&gt;&lt;/div&gt;`)[0];\n",
       "                popup_99aaab18ee081956efbb579728ede40b.setContent(html_9b09be4c2c676f734f8dbb6700bf2cd7);\n",
       "            \n",
       "        \n",
       "\n",
       "        circle_marker_56381b804c0e3a4b81ce478ab23d362e.bindPopup(popup_99aaab18ee081956efbb579728ede40b)\n",
       "        ;\n",
       "\n",
       "        \n",
       "    \n",
       "    \n",
       "            var circle_marker_7ff25950b96b1e69df8f458967f5541c = L.circleMarker(\n",
       "                [17.570692, -3.996166000000001],\n",
       "                {&quot;bubblingMouseEvents&quot;: true, &quot;color&quot;: &quot;blue&quot;, &quot;dashArray&quot;: null, &quot;dashOffset&quot;: null, &quot;fill&quot;: true, &quot;fillColor&quot;: &quot;crimson&quot;, &quot;fillOpacity&quot;: 0.3, &quot;fillRule&quot;: &quot;evenodd&quot;, &quot;lineCap&quot;: &quot;round&quot;, &quot;lineJoin&quot;: &quot;round&quot;, &quot;opacity&quot;: 1.0, &quot;radius&quot;: 0.01247516393442623, &quot;stroke&quot;: true, &quot;weight&quot;: 3}\n",
       "            ).addTo(map_63bd30139a6212ba0546419532110ea0);\n",
       "        \n",
       "    \n",
       "        var popup_c3d7e01c0164338bab8ad1e581aa924f = L.popup({&quot;maxWidth&quot;: &quot;100%&quot;});\n",
       "\n",
       "        \n",
       "            \n",
       "                var html_65f7fc2780e98a2e49ba6ea0e876b3e1 = $(`&lt;div id=&quot;html_65f7fc2780e98a2e49ba6ea0e876b3e1&quot; style=&quot;width: 100.0%; height: 100.0%;&quot;&gt;&lt;strong&gt;State&lt;/strong&gt;N/a&lt;br&gt;&lt;strong&gt;Confirmed Cases&lt;/strong&gt;1247.516393442623&lt;br&gt;&lt;/div&gt;`)[0];\n",
       "                popup_c3d7e01c0164338bab8ad1e581aa924f.setContent(html_65f7fc2780e98a2e49ba6ea0e876b3e1);\n",
       "            \n",
       "        \n",
       "\n",
       "        circle_marker_7ff25950b96b1e69df8f458967f5541c.bindPopup(popup_c3d7e01c0164338bab8ad1e581aa924f)\n",
       "        ;\n",
       "\n",
       "        \n",
       "    \n",
       "    \n",
       "            var circle_marker_4267f8fa3b8aad09f2123af854f1dbf3 = L.circleMarker(\n",
       "                [35.9375, 14.3754],\n",
       "                {&quot;bubblingMouseEvents&quot;: true, &quot;color&quot;: &quot;blue&quot;, &quot;dashArray&quot;: null, &quot;dashOffset&quot;: null, &quot;fill&quot;: true, &quot;fillColor&quot;: &quot;crimson&quot;, &quot;fillOpacity&quot;: 0.3, &quot;fillRule&quot;: &quot;evenodd&quot;, &quot;lineCap&quot;: &quot;round&quot;, &quot;lineJoin&quot;: &quot;round&quot;, &quot;opacity&quot;: 1.0, &quot;radius&quot;: 0.006580860655737705, &quot;stroke&quot;: true, &quot;weight&quot;: 3}\n",
       "            ).addTo(map_63bd30139a6212ba0546419532110ea0);\n",
       "        \n",
       "    \n",
       "        var popup_f29f4d1b0473e2e7700a50b020a147df = L.popup({&quot;maxWidth&quot;: &quot;100%&quot;});\n",
       "\n",
       "        \n",
       "            \n",
       "                var html_fee577e88c5b3620ccb82a9d09f48c21 = $(`&lt;div id=&quot;html_fee577e88c5b3620ccb82a9d09f48c21&quot; style=&quot;width: 100.0%; height: 100.0%;&quot;&gt;&lt;strong&gt;State&lt;/strong&gt;N/a&lt;br&gt;&lt;strong&gt;Confirmed Cases&lt;/strong&gt;658.0860655737705&lt;br&gt;&lt;/div&gt;`)[0];\n",
       "                popup_f29f4d1b0473e2e7700a50b020a147df.setContent(html_fee577e88c5b3620ccb82a9d09f48c21);\n",
       "            \n",
       "        \n",
       "\n",
       "        circle_marker_4267f8fa3b8aad09f2123af854f1dbf3.bindPopup(popup_f29f4d1b0473e2e7700a50b020a147df)\n",
       "        ;\n",
       "\n",
       "        \n",
       "    \n",
       "    \n",
       "            var circle_marker_c45e02bc8d363e458175b00174a4947c = L.circleMarker(\n",
       "                [21.0079, -10.9408],\n",
       "                {&quot;bubblingMouseEvents&quot;: true, &quot;color&quot;: &quot;blue&quot;, &quot;dashArray&quot;: null, &quot;dashOffset&quot;: null, &quot;fill&quot;: true, &quot;fillColor&quot;: &quot;crimson&quot;, &quot;fillOpacity&quot;: 0.3, &quot;fillRule&quot;: &quot;evenodd&quot;, &quot;lineCap&quot;: &quot;round&quot;, &quot;lineJoin&quot;: &quot;round&quot;, &quot;opacity&quot;: 1.0, &quot;radius&quot;: 0.024772131147540986, &quot;stroke&quot;: true, &quot;weight&quot;: 3}\n",
       "            ).addTo(map_63bd30139a6212ba0546419532110ea0);\n",
       "        \n",
       "    \n",
       "        var popup_f58b6463bfd65cb3b8e0b7191a79ebc0 = L.popup({&quot;maxWidth&quot;: &quot;100%&quot;});\n",
       "\n",
       "        \n",
       "            \n",
       "                var html_282f63f69880da381725c60dd85c5dce = $(`&lt;div id=&quot;html_282f63f69880da381725c60dd85c5dce&quot; style=&quot;width: 100.0%; height: 100.0%;&quot;&gt;&lt;strong&gt;State&lt;/strong&gt;N/a&lt;br&gt;&lt;strong&gt;Confirmed Cases&lt;/strong&gt;2477.2131147540986&lt;br&gt;&lt;/div&gt;`)[0];\n",
       "                popup_f58b6463bfd65cb3b8e0b7191a79ebc0.setContent(html_282f63f69880da381725c60dd85c5dce);\n",
       "            \n",
       "        \n",
       "\n",
       "        circle_marker_c45e02bc8d363e458175b00174a4947c.bindPopup(popup_f58b6463bfd65cb3b8e0b7191a79ebc0)\n",
       "        ;\n",
       "\n",
       "        \n",
       "    \n",
       "    \n",
       "            var circle_marker_991d4b2821bca69fb6cf9d4b498b1474 = L.circleMarker(\n",
       "                [-20.348404, 57.552152],\n",
       "                {&quot;bubblingMouseEvents&quot;: true, &quot;color&quot;: &quot;blue&quot;, &quot;dashArray&quot;: null, &quot;dashOffset&quot;: null, &quot;fill&quot;: true, &quot;fillColor&quot;: &quot;crimson&quot;, &quot;fillOpacity&quot;: 0.3, &quot;fillRule&quot;: &quot;evenodd&quot;, &quot;lineCap&quot;: &quot;round&quot;, &quot;lineJoin&quot;: &quot;round&quot;, &quot;opacity&quot;: 1.0, &quot;radius&quot;: 0.0024243032786885246, &quot;stroke&quot;: true, &quot;weight&quot;: 3}\n",
       "            ).addTo(map_63bd30139a6212ba0546419532110ea0);\n",
       "        \n",
       "    \n",
       "        var popup_946757d69246fe049e863ff64c378ec1 = L.popup({&quot;maxWidth&quot;: &quot;100%&quot;});\n",
       "\n",
       "        \n",
       "            \n",
       "                var html_02d7819af424cd02c7f566a35e52f866 = $(`&lt;div id=&quot;html_02d7819af424cd02c7f566a35e52f866&quot; style=&quot;width: 100.0%; height: 100.0%;&quot;&gt;&lt;strong&gt;State&lt;/strong&gt;N/a&lt;br&gt;&lt;strong&gt;Confirmed Cases&lt;/strong&gt;242.43032786885246&lt;br&gt;&lt;/div&gt;`)[0];\n",
       "                popup_946757d69246fe049e863ff64c378ec1.setContent(html_02d7819af424cd02c7f566a35e52f866);\n",
       "            \n",
       "        \n",
       "\n",
       "        circle_marker_991d4b2821bca69fb6cf9d4b498b1474.bindPopup(popup_946757d69246fe049e863ff64c378ec1)\n",
       "        ;\n",
       "\n",
       "        \n",
       "    \n",
       "    \n",
       "            var circle_marker_b2549f6d42c839ec3f8a40dc3a9d45cb = L.circleMarker(\n",
       "                [23.6345, -102.5528],\n",
       "                {&quot;bubblingMouseEvents&quot;: true, &quot;color&quot;: &quot;blue&quot;, &quot;dashArray&quot;: null, &quot;dashOffset&quot;: null, &quot;fill&quot;: true, &quot;fillColor&quot;: &quot;crimson&quot;, &quot;fillOpacity&quot;: 0.3, &quot;fillRule&quot;: &quot;evenodd&quot;, &quot;lineCap&quot;: &quot;round&quot;, &quot;lineJoin&quot;: &quot;round&quot;, &quot;opacity&quot;: 1.0, &quot;radius&quot;: 1.9054045491803278, &quot;stroke&quot;: true, &quot;weight&quot;: 3}\n",
       "            ).addTo(map_63bd30139a6212ba0546419532110ea0);\n",
       "        \n",
       "    \n",
       "        var popup_f8afafd09712d2538240f383be373212 = L.popup({&quot;maxWidth&quot;: &quot;100%&quot;});\n",
       "\n",
       "        \n",
       "            \n",
       "                var html_b949aa7f4ee3856f3bc786661f64556c = $(`&lt;div id=&quot;html_b949aa7f4ee3856f3bc786661f64556c&quot; style=&quot;width: 100.0%; height: 100.0%;&quot;&gt;&lt;strong&gt;State&lt;/strong&gt;N/a&lt;br&gt;&lt;strong&gt;Confirmed Cases&lt;/strong&gt;190540.45491803277&lt;br&gt;&lt;/div&gt;`)[0];\n",
       "                popup_f8afafd09712d2538240f383be373212.setContent(html_b949aa7f4ee3856f3bc786661f64556c);\n",
       "            \n",
       "        \n",
       "\n",
       "        circle_marker_b2549f6d42c839ec3f8a40dc3a9d45cb.bindPopup(popup_f8afafd09712d2538240f383be373212)\n",
       "        ;\n",
       "\n",
       "        \n",
       "    \n",
       "    \n",
       "            var circle_marker_70b6424bd76756b86d95d29715438cb0 = L.circleMarker(\n",
       "                [47.4116, 28.3699],\n",
       "                {&quot;bubblingMouseEvents&quot;: true, &quot;color&quot;: &quot;blue&quot;, &quot;dashArray&quot;: null, &quot;dashOffset&quot;: null, &quot;fill&quot;: true, &quot;fillColor&quot;: &quot;crimson&quot;, &quot;fillOpacity&quot;: 0.3, &quot;fillRule&quot;: &quot;evenodd&quot;, &quot;lineCap&quot;: &quot;round&quot;, &quot;lineJoin&quot;: &quot;round&quot;, &quot;opacity&quot;: 1.0, &quot;radius&quot;: 0.12648848360655737, &quot;stroke&quot;: true, &quot;weight&quot;: 3}\n",
       "            ).addTo(map_63bd30139a6212ba0546419532110ea0);\n",
       "        \n",
       "    \n",
       "        var popup_c5671b1432a53501750e0345b448fb47 = L.popup({&quot;maxWidth&quot;: &quot;100%&quot;});\n",
       "\n",
       "        \n",
       "            \n",
       "                var html_9268c93903e4f9b1a86f81a7c578dc2a = $(`&lt;div id=&quot;html_9268c93903e4f9b1a86f81a7c578dc2a&quot; style=&quot;width: 100.0%; height: 100.0%;&quot;&gt;&lt;strong&gt;State&lt;/strong&gt;N/a&lt;br&gt;&lt;strong&gt;Confirmed Cases&lt;/strong&gt;12648.848360655738&lt;br&gt;&lt;/div&gt;`)[0];\n",
       "                popup_c5671b1432a53501750e0345b448fb47.setContent(html_9268c93903e4f9b1a86f81a7c578dc2a);\n",
       "            \n",
       "        \n",
       "\n",
       "        circle_marker_70b6424bd76756b86d95d29715438cb0.bindPopup(popup_c5671b1432a53501750e0345b448fb47)\n",
       "        ;\n",
       "\n",
       "        \n",
       "    \n",
       "    \n",
       "            var circle_marker_38975958b3123063b68535a5f368c69c = L.circleMarker(\n",
       "                [43.7333, 7.4167],\n",
       "                {&quot;bubblingMouseEvents&quot;: true, &quot;color&quot;: &quot;blue&quot;, &quot;dashArray&quot;: null, &quot;dashOffset&quot;: null, &quot;fill&quot;: true, &quot;fillColor&quot;: &quot;crimson&quot;, &quot;fillOpacity&quot;: 0.3, &quot;fillRule&quot;: &quot;evenodd&quot;, &quot;lineCap&quot;: &quot;round&quot;, &quot;lineJoin&quot;: &quot;round&quot;, &quot;opacity&quot;: 1.0, &quot;radius&quot;: 0.0008358196721311475, &quot;stroke&quot;: true, &quot;weight&quot;: 3}\n",
       "            ).addTo(map_63bd30139a6212ba0546419532110ea0);\n",
       "        \n",
       "    \n",
       "        var popup_75300122f5c8e0f82554bef9ac24d21d = L.popup({&quot;maxWidth&quot;: &quot;100%&quot;});\n",
       "\n",
       "        \n",
       "            \n",
       "                var html_ff52ae5ce0b1a923faff220d802c7b86 = $(`&lt;div id=&quot;html_ff52ae5ce0b1a923faff220d802c7b86&quot; style=&quot;width: 100.0%; height: 100.0%;&quot;&gt;&lt;strong&gt;State&lt;/strong&gt;N/a&lt;br&gt;&lt;strong&gt;Confirmed Cases&lt;/strong&gt;83.58196721311475&lt;br&gt;&lt;/div&gt;`)[0];\n",
       "                popup_75300122f5c8e0f82554bef9ac24d21d.setContent(html_ff52ae5ce0b1a923faff220d802c7b86);\n",
       "            \n",
       "        \n",
       "\n",
       "        circle_marker_38975958b3123063b68535a5f368c69c.bindPopup(popup_75300122f5c8e0f82554bef9ac24d21d)\n",
       "        ;\n",
       "\n",
       "        \n",
       "    \n",
       "    \n",
       "            var circle_marker_2c5a11d4cdd11582653badb3ecbbdf84 = L.circleMarker(\n",
       "                [46.8625, 103.8467],\n",
       "                {&quot;bubblingMouseEvents&quot;: true, &quot;color&quot;: &quot;blue&quot;, &quot;dashArray&quot;: null, &quot;dashOffset&quot;: null, &quot;fill&quot;: true, &quot;fillColor&quot;: &quot;crimson&quot;, &quot;fillOpacity&quot;: 0.3, &quot;fillRule&quot;: &quot;evenodd&quot;, &quot;lineCap&quot;: &quot;round&quot;, &quot;lineJoin&quot;: &quot;round&quot;, &quot;opacity&quot;: 1.0, &quot;radius&quot;: 0.0013887295081967213, &quot;stroke&quot;: true, &quot;weight&quot;: 3}\n",
       "            ).addTo(map_63bd30139a6212ba0546419532110ea0);\n",
       "        \n",
       "    \n",
       "        var popup_2680f75d40fe1c35c9a4e458cd6b2696 = L.popup({&quot;maxWidth&quot;: &quot;100%&quot;});\n",
       "\n",
       "        \n",
       "            \n",
       "                var html_f304f527d9b518c571aab2a863669679 = $(`&lt;div id=&quot;html_f304f527d9b518c571aab2a863669679&quot; style=&quot;width: 100.0%; height: 100.0%;&quot;&gt;&lt;strong&gt;State&lt;/strong&gt;N/a&lt;br&gt;&lt;strong&gt;Confirmed Cases&lt;/strong&gt;138.87295081967213&lt;br&gt;&lt;/div&gt;`)[0];\n",
       "                popup_2680f75d40fe1c35c9a4e458cd6b2696.setContent(html_f304f527d9b518c571aab2a863669679);\n",
       "            \n",
       "        \n",
       "\n",
       "        circle_marker_2c5a11d4cdd11582653badb3ecbbdf84.bindPopup(popup_2680f75d40fe1c35c9a4e458cd6b2696)\n",
       "        ;\n",
       "\n",
       "        \n",
       "    \n",
       "    \n",
       "            var circle_marker_59dcc2cd065378c16690e8ed6358d490 = L.circleMarker(\n",
       "                [42.708678000000006, 19.37439],\n",
       "                {&quot;bubblingMouseEvents&quot;: true, &quot;color&quot;: &quot;blue&quot;, &quot;dashArray&quot;: null, &quot;dashOffset&quot;: null, &quot;fill&quot;: true, &quot;fillColor&quot;: &quot;crimson&quot;, &quot;fillOpacity&quot;: 0.3, &quot;fillRule&quot;: &quot;evenodd&quot;, &quot;lineCap&quot;: &quot;round&quot;, &quot;lineJoin&quot;: &quot;round&quot;, &quot;opacity&quot;: 1.0, &quot;radius&quot;: 0.014154590163934427, &quot;stroke&quot;: true, &quot;weight&quot;: 3}\n",
       "            ).addTo(map_63bd30139a6212ba0546419532110ea0);\n",
       "        \n",
       "    \n",
       "        var popup_ee4c712c9210666992b1c2b3cc8ad8b0 = L.popup({&quot;maxWidth&quot;: &quot;100%&quot;});\n",
       "\n",
       "        \n",
       "            \n",
       "                var html_6a2ef656a3b8e37347d38beeb5c71a88 = $(`&lt;div id=&quot;html_6a2ef656a3b8e37347d38beeb5c71a88&quot; style=&quot;width: 100.0%; height: 100.0%;&quot;&gt;&lt;strong&gt;State&lt;/strong&gt;N/a&lt;br&gt;&lt;strong&gt;Confirmed Cases&lt;/strong&gt;1415.4590163934427&lt;br&gt;&lt;/div&gt;`)[0];\n",
       "                popup_ee4c712c9210666992b1c2b3cc8ad8b0.setContent(html_6a2ef656a3b8e37347d38beeb5c71a88);\n",
       "            \n",
       "        \n",
       "\n",
       "        circle_marker_59dcc2cd065378c16690e8ed6358d490.bindPopup(popup_ee4c712c9210666992b1c2b3cc8ad8b0)\n",
       "        ;\n",
       "\n",
       "        \n",
       "    \n",
       "    \n",
       "            var circle_marker_d8c55e72a63567e485532fe480e2ec6b = L.circleMarker(\n",
       "                [31.7917, -7.0926],\n",
       "                {&quot;bubblingMouseEvents&quot;: true, &quot;color&quot;: &quot;blue&quot;, &quot;dashArray&quot;: null, &quot;dashOffset&quot;: null, &quot;fill&quot;: true, &quot;fillColor&quot;: &quot;crimson&quot;, &quot;fillOpacity&quot;: 0.3, &quot;fillRule&quot;: &quot;evenodd&quot;, &quot;lineCap&quot;: &quot;round&quot;, &quot;lineJoin&quot;: &quot;round&quot;, &quot;opacity&quot;: 1.0, &quot;radius&quot;: 0.17013360655737705, &quot;stroke&quot;: true, &quot;weight&quot;: 3}\n",
       "            ).addTo(map_63bd30139a6212ba0546419532110ea0);\n",
       "        \n",
       "    \n",
       "        var popup_e2b8ea9205ad693cdcd037908d8f8a7d = L.popup({&quot;maxWidth&quot;: &quot;100%&quot;});\n",
       "\n",
       "        \n",
       "            \n",
       "                var html_a90ba0a7b335b89106df4efea73df045 = $(`&lt;div id=&quot;html_a90ba0a7b335b89106df4efea73df045&quot; style=&quot;width: 100.0%; height: 100.0%;&quot;&gt;&lt;strong&gt;State&lt;/strong&gt;N/a&lt;br&gt;&lt;strong&gt;Confirmed Cases&lt;/strong&gt;17013.360655737706&lt;br&gt;&lt;/div&gt;`)[0];\n",
       "                popup_e2b8ea9205ad693cdcd037908d8f8a7d.setContent(html_a90ba0a7b335b89106df4efea73df045);\n",
       "            \n",
       "        \n",
       "\n",
       "        circle_marker_d8c55e72a63567e485532fe480e2ec6b.bindPopup(popup_e2b8ea9205ad693cdcd037908d8f8a7d)\n",
       "        ;\n",
       "\n",
       "        \n",
       "    \n",
       "    \n",
       "            var circle_marker_65bf979e4e146473dad6b45e19927b29 = L.circleMarker(\n",
       "                [-18.6657, 35.5296],\n",
       "                {&quot;bubblingMouseEvents&quot;: true, &quot;color&quot;: &quot;blue&quot;, &quot;dashArray&quot;: null, &quot;dashOffset&quot;: null, &quot;fill&quot;: true, &quot;fillColor&quot;: &quot;crimson&quot;, &quot;fillOpacity&quot;: 0.3, &quot;fillRule&quot;: &quot;evenodd&quot;, &quot;lineCap&quot;: &quot;round&quot;, &quot;lineJoin&quot;: &quot;round&quot;, &quot;opacity&quot;: 1.0, &quot;stroke&quot;: true, &quot;weight&quot;: 3}\n",
       "            ).addTo(map_63bd30139a6212ba0546419532110ea0);\n",
       "        \n",
       "    \n",
       "        var popup_aac313e8db972d20f0c8c9274994c7d1 = L.popup({&quot;maxWidth&quot;: &quot;100%&quot;});\n",
       "\n",
       "        \n",
       "            \n",
       "                var html_2ec22d11d0a64e09a2fa5f9097d30bf9 = $(`&lt;div id=&quot;html_2ec22d11d0a64e09a2fa5f9097d30bf9&quot; style=&quot;width: 100.0%; height: 100.0%;&quot;&gt;&lt;strong&gt;State&lt;/strong&gt;N/a&lt;br&gt;&lt;strong&gt;Confirmed Cases&lt;/strong&gt;0.0&lt;br&gt;&lt;/div&gt;`)[0];\n",
       "                popup_aac313e8db972d20f0c8c9274994c7d1.setContent(html_2ec22d11d0a64e09a2fa5f9097d30bf9);\n",
       "            \n",
       "        \n",
       "\n",
       "        circle_marker_65bf979e4e146473dad6b45e19927b29.bindPopup(popup_aac313e8db972d20f0c8c9274994c7d1)\n",
       "        ;\n",
       "\n",
       "        \n",
       "    \n",
       "    \n",
       "            var circle_marker_d4aba41336a8bd41e1bf19bc11eeb080 = L.circleMarker(\n",
       "                [-18.665695, 35.529562],\n",
       "                {&quot;bubblingMouseEvents&quot;: true, &quot;color&quot;: &quot;blue&quot;, &quot;dashArray&quot;: null, &quot;dashOffset&quot;: null, &quot;fill&quot;: true, &quot;fillColor&quot;: &quot;crimson&quot;, &quot;fillOpacity&quot;: 0.3, &quot;fillRule&quot;: &quot;evenodd&quot;, &quot;lineCap&quot;: &quot;round&quot;, &quot;lineJoin&quot;: &quot;round&quot;, &quot;opacity&quot;: 1.0, &quot;radius&quot;: 0.01077795081967213, &quot;stroke&quot;: true, &quot;weight&quot;: 3}\n",
       "            ).addTo(map_63bd30139a6212ba0546419532110ea0);\n",
       "        \n",
       "    \n",
       "        var popup_2c1dbbbc793c22d4a5fa74b5d4776842 = L.popup({&quot;maxWidth&quot;: &quot;100%&quot;});\n",
       "\n",
       "        \n",
       "            \n",
       "                var html_612e59570c15d3b18a6f8fc03288e758 = $(`&lt;div id=&quot;html_612e59570c15d3b18a6f8fc03288e758&quot; style=&quot;width: 100.0%; height: 100.0%;&quot;&gt;&lt;strong&gt;State&lt;/strong&gt;N/a&lt;br&gt;&lt;strong&gt;Confirmed Cases&lt;/strong&gt;1077.795081967213&lt;br&gt;&lt;/div&gt;`)[0];\n",
       "                popup_2c1dbbbc793c22d4a5fa74b5d4776842.setContent(html_612e59570c15d3b18a6f8fc03288e758);\n",
       "            \n",
       "        \n",
       "\n",
       "        circle_marker_d4aba41336a8bd41e1bf19bc11eeb080.bindPopup(popup_2c1dbbbc793c22d4a5fa74b5d4776842)\n",
       "        ;\n",
       "\n",
       "        \n",
       "    \n",
       "    \n",
       "            var circle_marker_7ab0b55d052f991ab7a3679a0003c3a4 = L.circleMarker(\n",
       "                [-22.9576, 18.4904],\n",
       "                {&quot;bubblingMouseEvents&quot;: true, &quot;color&quot;: &quot;blue&quot;, &quot;dashArray&quot;: null, &quot;dashOffset&quot;: null, &quot;fill&quot;: true, &quot;fillColor&quot;: &quot;crimson&quot;, &quot;fillOpacity&quot;: 0.3, &quot;fillRule&quot;: &quot;evenodd&quot;, &quot;lineCap&quot;: &quot;round&quot;, &quot;lineJoin&quot;: &quot;round&quot;, &quot;opacity&quot;: 1.0, &quot;radius&quot;: 0.01514610655737705, &quot;stroke&quot;: true, &quot;weight&quot;: 3}\n",
       "            ).addTo(map_63bd30139a6212ba0546419532110ea0);\n",
       "        \n",
       "    \n",
       "        var popup_1588c6b33090d9b581fbc908fa929f35 = L.popup({&quot;maxWidth&quot;: &quot;100%&quot;});\n",
       "\n",
       "        \n",
       "            \n",
       "                var html_046494e370c6232965c309fdaa1cfcc6 = $(`&lt;div id=&quot;html_046494e370c6232965c309fdaa1cfcc6&quot; style=&quot;width: 100.0%; height: 100.0%;&quot;&gt;&lt;strong&gt;State&lt;/strong&gt;N/a&lt;br&gt;&lt;strong&gt;Confirmed Cases&lt;/strong&gt;1514.610655737705&lt;br&gt;&lt;/div&gt;`)[0];\n",
       "                popup_1588c6b33090d9b581fbc908fa929f35.setContent(html_046494e370c6232965c309fdaa1cfcc6);\n",
       "            \n",
       "        \n",
       "\n",
       "        circle_marker_7ab0b55d052f991ab7a3679a0003c3a4.bindPopup(popup_1588c6b33090d9b581fbc908fa929f35)\n",
       "        ;\n",
       "\n",
       "        \n",
       "    \n",
       "    \n",
       "            var circle_marker_a46f02e993599d47bc2e2fe63319363a = L.circleMarker(\n",
       "                [28.1667, 84.25],\n",
       "                {&quot;bubblingMouseEvents&quot;: true, &quot;color&quot;: &quot;blue&quot;, &quot;dashArray&quot;: null, &quot;dashOffset&quot;: null, &quot;fill&quot;: true, &quot;fillColor&quot;: &quot;crimson&quot;, &quot;fillOpacity&quot;: 0.3, &quot;fillRule&quot;: &quot;evenodd&quot;, &quot;lineCap&quot;: &quot;round&quot;, &quot;lineJoin&quot;: &quot;round&quot;, &quot;opacity&quot;: 1.0, &quot;radius&quot;: 0.11158713114754099, &quot;stroke&quot;: true, &quot;weight&quot;: 3}\n",
       "            ).addTo(map_63bd30139a6212ba0546419532110ea0);\n",
       "        \n",
       "    \n",
       "        var popup_cf45bdd0aa93e5e871ec4f9c490e3b79 = L.popup({&quot;maxWidth&quot;: &quot;100%&quot;});\n",
       "\n",
       "        \n",
       "            \n",
       "                var html_761c4060b2bb93763720535c5e24fb21 = $(`&lt;div id=&quot;html_761c4060b2bb93763720535c5e24fb21&quot; style=&quot;width: 100.0%; height: 100.0%;&quot;&gt;&lt;strong&gt;State&lt;/strong&gt;N/a&lt;br&gt;&lt;strong&gt;Confirmed Cases&lt;/strong&gt;11158.713114754099&lt;br&gt;&lt;/div&gt;`)[0];\n",
       "                popup_cf45bdd0aa93e5e871ec4f9c490e3b79.setContent(html_761c4060b2bb93763720535c5e24fb21);\n",
       "            \n",
       "        \n",
       "\n",
       "        circle_marker_a46f02e993599d47bc2e2fe63319363a.bindPopup(popup_cf45bdd0aa93e5e871ec4f9c490e3b79)\n",
       "        ;\n",
       "\n",
       "        \n",
       "    \n",
       "    \n",
       "            var circle_marker_daf1f73feed87f27485f7b15d1feab6d = L.circleMarker(\n",
       "                [52.1326, 5.2913],\n",
       "                {&quot;bubblingMouseEvents&quot;: true, &quot;color&quot;: &quot;blue&quot;, &quot;dashArray&quot;: null, &quot;dashOffset&quot;: null, &quot;fill&quot;: true, &quot;fillColor&quot;: &quot;crimson&quot;, &quot;fillOpacity&quot;: 0.3, &quot;fillRule&quot;: &quot;evenodd&quot;, &quot;lineCap&quot;: &quot;round&quot;, &quot;lineJoin&quot;: &quot;round&quot;, &quot;opacity&quot;: 1.0, &quot;radius&quot;: 0.36908245901639347, &quot;stroke&quot;: true, &quot;weight&quot;: 3}\n",
       "            ).addTo(map_63bd30139a6212ba0546419532110ea0);\n",
       "        \n",
       "    \n",
       "        var popup_bb5faa274e619ad62e65e0f25e3da728 = L.popup({&quot;maxWidth&quot;: &quot;100%&quot;});\n",
       "\n",
       "        \n",
       "            \n",
       "                var html_6864380b599382e13a903bd73f582d99 = $(`&lt;div id=&quot;html_6864380b599382e13a903bd73f582d99&quot; style=&quot;width: 100.0%; height: 100.0%;&quot;&gt;&lt;strong&gt;State&lt;/strong&gt;N/a&lt;br&gt;&lt;strong&gt;Confirmed Cases&lt;/strong&gt;36908.24590163935&lt;br&gt;&lt;/div&gt;`)[0];\n",
       "                popup_bb5faa274e619ad62e65e0f25e3da728.setContent(html_6864380b599382e13a903bd73f582d99);\n",
       "            \n",
       "        \n",
       "\n",
       "        circle_marker_daf1f73feed87f27485f7b15d1feab6d.bindPopup(popup_bb5faa274e619ad62e65e0f25e3da728)\n",
       "        ;\n",
       "\n",
       "        \n",
       "    \n",
       "    \n",
       "            var circle_marker_5771195636cebf649031d1c92642769a = L.circleMarker(\n",
       "                [-40.9006, 174.886],\n",
       "                {&quot;bubblingMouseEvents&quot;: true, &quot;color&quot;: &quot;blue&quot;, &quot;dashArray&quot;: null, &quot;dashOffset&quot;: null, &quot;fill&quot;: true, &quot;fillColor&quot;: &quot;crimson&quot;, &quot;fillOpacity&quot;: 0.3, &quot;fillRule&quot;: &quot;evenodd&quot;, &quot;lineCap&quot;: &quot;round&quot;, &quot;lineJoin&quot;: &quot;round&quot;, &quot;opacity&quot;: 1.0, &quot;radius&quot;: 0.011087254098360656, &quot;stroke&quot;: true, &quot;weight&quot;: 3}\n",
       "            ).addTo(map_63bd30139a6212ba0546419532110ea0);\n",
       "        \n",
       "    \n",
       "        var popup_1082e93b52ea796551694c1d71c7a1ce = L.popup({&quot;maxWidth&quot;: &quot;100%&quot;});\n",
       "\n",
       "        \n",
       "            \n",
       "                var html_21ee80a12e7f0f67048c46d34ae5da33 = $(`&lt;div id=&quot;html_21ee80a12e7f0f67048c46d34ae5da33&quot; style=&quot;width: 100.0%; height: 100.0%;&quot;&gt;&lt;strong&gt;State&lt;/strong&gt;N/a&lt;br&gt;&lt;strong&gt;Confirmed Cases&lt;/strong&gt;1108.7254098360656&lt;br&gt;&lt;/div&gt;`)[0];\n",
       "                popup_1082e93b52ea796551694c1d71c7a1ce.setContent(html_21ee80a12e7f0f67048c46d34ae5da33);\n",
       "            \n",
       "        \n",
       "\n",
       "        circle_marker_5771195636cebf649031d1c92642769a.bindPopup(popup_1082e93b52ea796551694c1d71c7a1ce)\n",
       "        ;\n",
       "\n",
       "        \n",
       "    \n",
       "    \n",
       "            var circle_marker_3f58ba388632086021f9039f8c092a1b = L.circleMarker(\n",
       "                [12.865416, -85.207229],\n",
       "                {&quot;bubblingMouseEvents&quot;: true, &quot;color&quot;: &quot;blue&quot;, &quot;dashArray&quot;: null, &quot;dashOffset&quot;: null, &quot;fill&quot;: true, &quot;fillColor&quot;: &quot;crimson&quot;, &quot;fillOpacity&quot;: 0.3, &quot;fillRule&quot;: &quot;evenodd&quot;, &quot;lineCap&quot;: &quot;round&quot;, &quot;lineJoin&quot;: &quot;round&quot;, &quot;opacity&quot;: 1.0, &quot;radius&quot;: 0.015661147540983605, &quot;stroke&quot;: true, &quot;weight&quot;: 3}\n",
       "            ).addTo(map_63bd30139a6212ba0546419532110ea0);\n",
       "        \n",
       "    \n",
       "        var popup_a9efcfcdcc1b4eeb1f994d187750ea18 = L.popup({&quot;maxWidth&quot;: &quot;100%&quot;});\n",
       "\n",
       "        \n",
       "            \n",
       "                var html_dc6f8f16952b70079c82d0eac26fd356 = $(`&lt;div id=&quot;html_dc6f8f16952b70079c82d0eac26fd356&quot; style=&quot;width: 100.0%; height: 100.0%;&quot;&gt;&lt;strong&gt;State&lt;/strong&gt;N/a&lt;br&gt;&lt;strong&gt;Confirmed Cases&lt;/strong&gt;1566.1147540983607&lt;br&gt;&lt;/div&gt;`)[0];\n",
       "                popup_a9efcfcdcc1b4eeb1f994d187750ea18.setContent(html_dc6f8f16952b70079c82d0eac26fd356);\n",
       "            \n",
       "        \n",
       "\n",
       "        circle_marker_3f58ba388632086021f9039f8c092a1b.bindPopup(popup_a9efcfcdcc1b4eeb1f994d187750ea18)\n",
       "        ;\n",
       "\n",
       "        \n",
       "    \n",
       "    \n",
       "            var circle_marker_afa8ad2d366654c114820fe57b1ea8ce = L.circleMarker(\n",
       "                [17.607789, 8.081666],\n",
       "                {&quot;bubblingMouseEvents&quot;: true, &quot;color&quot;: &quot;blue&quot;, &quot;dashArray&quot;: null, &quot;dashOffset&quot;: null, &quot;fill&quot;: true, &quot;fillColor&quot;: &quot;crimson&quot;, &quot;fillOpacity&quot;: 0.3, &quot;fillRule&quot;: &quot;evenodd&quot;, &quot;lineCap&quot;: &quot;round&quot;, &quot;lineJoin&quot;: &quot;round&quot;, &quot;opacity&quot;: 1.0, &quot;radius&quot;: 0.0068688934426229505, &quot;stroke&quot;: true, &quot;weight&quot;: 3}\n",
       "            ).addTo(map_63bd30139a6212ba0546419532110ea0);\n",
       "        \n",
       "    \n",
       "        var popup_d3c375c76f92e689a3b09d18a7599a70 = L.popup({&quot;maxWidth&quot;: &quot;100%&quot;});\n",
       "\n",
       "        \n",
       "            \n",
       "                var html_ea05c3e6f6548422d0918717bf04d041 = $(`&lt;div id=&quot;html_ea05c3e6f6548422d0918717bf04d041&quot; style=&quot;width: 100.0%; height: 100.0%;&quot;&gt;&lt;strong&gt;State&lt;/strong&gt;N/a&lt;br&gt;&lt;strong&gt;Confirmed Cases&lt;/strong&gt;686.889344262295&lt;br&gt;&lt;/div&gt;`)[0];\n",
       "                popup_d3c375c76f92e689a3b09d18a7599a70.setContent(html_ea05c3e6f6548422d0918717bf04d041);\n",
       "            \n",
       "        \n",
       "\n",
       "        circle_marker_afa8ad2d366654c114820fe57b1ea8ce.bindPopup(popup_d3c375c76f92e689a3b09d18a7599a70)\n",
       "        ;\n",
       "\n",
       "        \n",
       "    \n",
       "    \n",
       "            var circle_marker_56ff1ee2129eddc216547f98d6a72922 = L.circleMarker(\n",
       "                [9.082, 8.6753],\n",
       "                {&quot;bubblingMouseEvents&quot;: true, &quot;color&quot;: &quot;blue&quot;, &quot;dashArray&quot;: null, &quot;dashOffset&quot;: null, &quot;fill&quot;: true, &quot;fillColor&quot;: &quot;crimson&quot;, &quot;fillOpacity&quot;: 0.3, &quot;fillRule&quot;: &quot;evenodd&quot;, &quot;lineCap&quot;: &quot;round&quot;, &quot;lineJoin&quot;: &quot;round&quot;, &quot;opacity&quot;: 1.0, &quot;radius&quot;: 0.18447389344262294, &quot;stroke&quot;: true, &quot;weight&quot;: 3}\n",
       "            ).addTo(map_63bd30139a6212ba0546419532110ea0);\n",
       "        \n",
       "    \n",
       "        var popup_7d00c016ec7a6e264c2c6002cc704edd = L.popup({&quot;maxWidth&quot;: &quot;100%&quot;});\n",
       "\n",
       "        \n",
       "            \n",
       "                var html_4514d6d25a9051e8c59fee6a4839ada9 = $(`&lt;div id=&quot;html_4514d6d25a9051e8c59fee6a4839ada9&quot; style=&quot;width: 100.0%; height: 100.0%;&quot;&gt;&lt;strong&gt;State&lt;/strong&gt;N/a&lt;br&gt;&lt;strong&gt;Confirmed Cases&lt;/strong&gt;18447.389344262294&lt;br&gt;&lt;/div&gt;`)[0];\n",
       "                popup_7d00c016ec7a6e264c2c6002cc704edd.setContent(html_4514d6d25a9051e8c59fee6a4839ada9);\n",
       "            \n",
       "        \n",
       "\n",
       "        circle_marker_56ff1ee2129eddc216547f98d6a72922.bindPopup(popup_7d00c016ec7a6e264c2c6002cc704edd)\n",
       "        ;\n",
       "\n",
       "        \n",
       "    \n",
       "    \n",
       "            var circle_marker_5ad0ef0ab1a397dfe349f81078887a42 = L.circleMarker(\n",
       "                [41.6086, 21.7453],\n",
       "                {&quot;bubblingMouseEvents&quot;: true, &quot;color&quot;: &quot;blue&quot;, &quot;dashArray&quot;: null, &quot;dashOffset&quot;: null, &quot;fill&quot;: true, &quot;fillColor&quot;: &quot;crimson&quot;, &quot;fillOpacity&quot;: 0.3, &quot;fillRule&quot;: &quot;evenodd&quot;, &quot;lineCap&quot;: &quot;round&quot;, &quot;lineJoin&quot;: &quot;round&quot;, &quot;opacity&quot;: 1.0, &quot;radius&quot;: 0.04933299180327869, &quot;stroke&quot;: true, &quot;weight&quot;: 3}\n",
       "            ).addTo(map_63bd30139a6212ba0546419532110ea0);\n",
       "        \n",
       "    \n",
       "        var popup_82073aae1768023fd20c0283a9aa8374 = L.popup({&quot;maxWidth&quot;: &quot;100%&quot;});\n",
       "\n",
       "        \n",
       "            \n",
       "                var html_0a2076054a1555c6f1ac010b70cdda28 = $(`&lt;div id=&quot;html_0a2076054a1555c6f1ac010b70cdda28&quot; style=&quot;width: 100.0%; height: 100.0%;&quot;&gt;&lt;strong&gt;State&lt;/strong&gt;N/a&lt;br&gt;&lt;strong&gt;Confirmed Cases&lt;/strong&gt;4933.299180327869&lt;br&gt;&lt;/div&gt;`)[0];\n",
       "                popup_82073aae1768023fd20c0283a9aa8374.setContent(html_0a2076054a1555c6f1ac010b70cdda28);\n",
       "            \n",
       "        \n",
       "\n",
       "        circle_marker_5ad0ef0ab1a397dfe349f81078887a42.bindPopup(popup_82073aae1768023fd20c0283a9aa8374)\n",
       "        ;\n",
       "\n",
       "        \n",
       "    \n",
       "    \n",
       "            var circle_marker_c8112644ff2cb5f3c71fd89e9e6c6ffa = L.circleMarker(\n",
       "                [60.472, 8.4689],\n",
       "                {&quot;bubblingMouseEvents&quot;: true, &quot;color&quot;: &quot;blue&quot;, &quot;dashArray&quot;: null, &quot;dashOffset&quot;: null, &quot;fill&quot;: true, &quot;fillColor&quot;: &quot;crimson&quot;, &quot;fillOpacity&quot;: 0.3, &quot;fillRule&quot;: &quot;evenodd&quot;, &quot;lineCap&quot;: &quot;round&quot;, &quot;lineJoin&quot;: &quot;round&quot;, &quot;opacity&quot;: 1.0, &quot;radius&quot;: 0.06584561475409836, &quot;stroke&quot;: true, &quot;weight&quot;: 3}\n",
       "            ).addTo(map_63bd30139a6212ba0546419532110ea0);\n",
       "        \n",
       "    \n",
       "        var popup_8f6058311fd3650accdc5f7910a698cb = L.popup({&quot;maxWidth&quot;: &quot;100%&quot;});\n",
       "\n",
       "        \n",
       "            \n",
       "                var html_fb1a26f6f20afda810279772104740b2 = $(`&lt;div id=&quot;html_fb1a26f6f20afda810279772104740b2&quot; style=&quot;width: 100.0%; height: 100.0%;&quot;&gt;&lt;strong&gt;State&lt;/strong&gt;N/a&lt;br&gt;&lt;strong&gt;Confirmed Cases&lt;/strong&gt;6584.561475409836&lt;br&gt;&lt;/div&gt;`)[0];\n",
       "                popup_8f6058311fd3650accdc5f7910a698cb.setContent(html_fb1a26f6f20afda810279772104740b2);\n",
       "            \n",
       "        \n",
       "\n",
       "        circle_marker_c8112644ff2cb5f3c71fd89e9e6c6ffa.bindPopup(popup_8f6058311fd3650accdc5f7910a698cb)\n",
       "        ;\n",
       "\n",
       "        \n",
       "    \n",
       "    \n",
       "            var circle_marker_aee97752127fa113967450136f5c2fcb = L.circleMarker(\n",
       "                [21.512583, 55.92325500000001],\n",
       "                {&quot;bubblingMouseEvents&quot;: true, &quot;color&quot;: &quot;blue&quot;, &quot;dashArray&quot;: null, &quot;dashOffset&quot;: null, &quot;fill&quot;: true, &quot;fillColor&quot;: &quot;crimson&quot;, &quot;fillOpacity&quot;: 0.3, &quot;fillRule&quot;: &quot;evenodd&quot;, &quot;lineCap&quot;: &quot;round&quot;, &quot;lineJoin&quot;: &quot;round&quot;, &quot;opacity&quot;: 1.0, &quot;radius&quot;: 0.29958008196721314, &quot;stroke&quot;: true, &quot;weight&quot;: 3}\n",
       "            ).addTo(map_63bd30139a6212ba0546419532110ea0);\n",
       "        \n",
       "    \n",
       "        var popup_cd9efc602de95e4ee1c6d5a3e0ac7544 = L.popup({&quot;maxWidth&quot;: &quot;100%&quot;});\n",
       "\n",
       "        \n",
       "            \n",
       "                var html_f29195420d6f4de579a56fe638c666ca = $(`&lt;div id=&quot;html_f29195420d6f4de579a56fe638c666ca&quot; style=&quot;width: 100.0%; height: 100.0%;&quot;&gt;&lt;strong&gt;State&lt;/strong&gt;N/a&lt;br&gt;&lt;strong&gt;Confirmed Cases&lt;/strong&gt;29958.008196721312&lt;br&gt;&lt;/div&gt;`)[0];\n",
       "                popup_cd9efc602de95e4ee1c6d5a3e0ac7544.setContent(html_f29195420d6f4de579a56fe638c666ca);\n",
       "            \n",
       "        \n",
       "\n",
       "        circle_marker_aee97752127fa113967450136f5c2fcb.bindPopup(popup_cd9efc602de95e4ee1c6d5a3e0ac7544)\n",
       "        ;\n",
       "\n",
       "        \n",
       "    \n",
       "    \n",
       "            var circle_marker_5b3456b16e06b85537bff9352afac607 = L.circleMarker(\n",
       "                [30.3753, 69.3451],\n",
       "                {&quot;bubblingMouseEvents&quot;: true, &quot;color&quot;: &quot;blue&quot;, &quot;dashArray&quot;: null, &quot;dashOffset&quot;: null, &quot;fill&quot;: true, &quot;fillColor&quot;: &quot;crimson&quot;, &quot;fillOpacity&quot;: 0.3, &quot;fillRule&quot;: &quot;evenodd&quot;, &quot;lineCap&quot;: &quot;round&quot;, &quot;lineJoin&quot;: &quot;round&quot;, &quot;opacity&quot;: 1.0, &quot;radius&quot;: 1.1968191803278687, &quot;stroke&quot;: true, &quot;weight&quot;: 3}\n",
       "            ).addTo(map_63bd30139a6212ba0546419532110ea0);\n",
       "        \n",
       "    \n",
       "        var popup_98bae1ade648db2c388371402e50bc00 = L.popup({&quot;maxWidth&quot;: &quot;100%&quot;});\n",
       "\n",
       "        \n",
       "            \n",
       "                var html_a9e4586bc76ac8874ba10105843430d5 = $(`&lt;div id=&quot;html_a9e4586bc76ac8874ba10105843430d5&quot; style=&quot;width: 100.0%; height: 100.0%;&quot;&gt;&lt;strong&gt;State&lt;/strong&gt;N/a&lt;br&gt;&lt;strong&gt;Confirmed Cases&lt;/strong&gt;119681.91803278688&lt;br&gt;&lt;/div&gt;`)[0];\n",
       "                popup_98bae1ade648db2c388371402e50bc00.setContent(html_a9e4586bc76ac8874ba10105843430d5);\n",
       "            \n",
       "        \n",
       "\n",
       "        circle_marker_5b3456b16e06b85537bff9352afac607.bindPopup(popup_98bae1ade648db2c388371402e50bc00)\n",
       "        ;\n",
       "\n",
       "        \n",
       "    \n",
       "    \n",
       "            var circle_marker_8ddc5902e9cb35fc68b104cea2dfbce2 = L.circleMarker(\n",
       "                [8.538, -80.7821],\n",
       "                {&quot;bubblingMouseEvents&quot;: true, &quot;color&quot;: &quot;blue&quot;, &quot;dashArray&quot;: null, &quot;dashOffset&quot;: null, &quot;fill&quot;: true, &quot;fillColor&quot;: &quot;crimson&quot;, &quot;fillOpacity&quot;: 0.3, &quot;fillRule&quot;: &quot;evenodd&quot;, &quot;lineCap&quot;: &quot;round&quot;, &quot;lineJoin&quot;: &quot;round&quot;, &quot;opacity&quot;: 1.0, &quot;radius&quot;: 0.29647368852459016, &quot;stroke&quot;: true, &quot;weight&quot;: 3}\n",
       "            ).addTo(map_63bd30139a6212ba0546419532110ea0);\n",
       "        \n",
       "    \n",
       "        var popup_fe6d8834839474a70d98f1e20dd4e8d5 = L.popup({&quot;maxWidth&quot;: &quot;100%&quot;});\n",
       "\n",
       "        \n",
       "            \n",
       "                var html_3358048341811e9bb6685515f5a07ca9 = $(`&lt;div id=&quot;html_3358048341811e9bb6685515f5a07ca9&quot; style=&quot;width: 100.0%; height: 100.0%;&quot;&gt;&lt;strong&gt;State&lt;/strong&gt;N/a&lt;br&gt;&lt;strong&gt;Confirmed Cases&lt;/strong&gt;29647.368852459018&lt;br&gt;&lt;/div&gt;`)[0];\n",
       "                popup_fe6d8834839474a70d98f1e20dd4e8d5.setContent(html_3358048341811e9bb6685515f5a07ca9);\n",
       "            \n",
       "        \n",
       "\n",
       "        circle_marker_8ddc5902e9cb35fc68b104cea2dfbce2.bindPopup(popup_fe6d8834839474a70d98f1e20dd4e8d5)\n",
       "        ;\n",
       "\n",
       "        \n",
       "    \n",
       "    \n",
       "            var circle_marker_259356827e6274fde0a7d07dc94e1d48 = L.circleMarker(\n",
       "                [-6.314993, 143.95555],\n",
       "                {&quot;bubblingMouseEvents&quot;: true, &quot;color&quot;: &quot;blue&quot;, &quot;dashArray&quot;: null, &quot;dashOffset&quot;: null, &quot;fill&quot;: true, &quot;fillColor&quot;: &quot;crimson&quot;, &quot;fillOpacity&quot;: 0.3, &quot;fillRule&quot;: &quot;evenodd&quot;, &quot;lineCap&quot;: &quot;round&quot;, &quot;lineJoin&quot;: &quot;round&quot;, &quot;opacity&quot;: 1.0, &quot;radius&quot;: 0.0008668032786885246, &quot;stroke&quot;: true, &quot;weight&quot;: 3}\n",
       "            ).addTo(map_63bd30139a6212ba0546419532110ea0);\n",
       "        \n",
       "    \n",
       "        var popup_45d579cc2064ecf2aab9643eee26b94e = L.popup({&quot;maxWidth&quot;: &quot;100%&quot;});\n",
       "\n",
       "        \n",
       "            \n",
       "                var html_908cf9c81d61ec8d40a2aa41c97954b1 = $(`&lt;div id=&quot;html_908cf9c81d61ec8d40a2aa41c97954b1&quot; style=&quot;width: 100.0%; height: 100.0%;&quot;&gt;&lt;strong&gt;State&lt;/strong&gt;N/a&lt;br&gt;&lt;strong&gt;Confirmed Cases&lt;/strong&gt;86.68032786885246&lt;br&gt;&lt;/div&gt;`)[0];\n",
       "                popup_45d579cc2064ecf2aab9643eee26b94e.setContent(html_908cf9c81d61ec8d40a2aa41c97954b1);\n",
       "            \n",
       "        \n",
       "\n",
       "        circle_marker_259356827e6274fde0a7d07dc94e1d48.bindPopup(popup_45d579cc2064ecf2aab9643eee26b94e)\n",
       "        ;\n",
       "\n",
       "        \n",
       "    \n",
       "    \n",
       "            var circle_marker_ecfc83e5f3960e286267f86fd2794244 = L.circleMarker(\n",
       "                [-23.4425, -58.4438],\n",
       "                {&quot;bubblingMouseEvents&quot;: true, &quot;color&quot;: &quot;blue&quot;, &quot;dashArray&quot;: null, &quot;dashOffset&quot;: null, &quot;fill&quot;: true, &quot;fillColor&quot;: &quot;crimson&quot;, &quot;fillOpacity&quot;: 0.3, &quot;fillRule&quot;: &quot;evenodd&quot;, &quot;lineCap&quot;: &quot;round&quot;, &quot;lineJoin&quot;: &quot;round&quot;, &quot;opacity&quot;: 1.0, &quot;radius&quot;: 0.04315795081967213, &quot;stroke&quot;: true, &quot;weight&quot;: 3}\n",
       "            ).addTo(map_63bd30139a6212ba0546419532110ea0);\n",
       "        \n",
       "    \n",
       "        var popup_54f20a602ec88007885569dfb72b3233 = L.popup({&quot;maxWidth&quot;: &quot;100%&quot;});\n",
       "\n",
       "        \n",
       "            \n",
       "                var html_6d81bb33a2fd65d1fd764fa086d5257c = $(`&lt;div id=&quot;html_6d81bb33a2fd65d1fd764fa086d5257c&quot; style=&quot;width: 100.0%; height: 100.0%;&quot;&gt;&lt;strong&gt;State&lt;/strong&gt;N/a&lt;br&gt;&lt;strong&gt;Confirmed Cases&lt;/strong&gt;4315.795081967213&lt;br&gt;&lt;/div&gt;`)[0];\n",
       "                popup_54f20a602ec88007885569dfb72b3233.setContent(html_6d81bb33a2fd65d1fd764fa086d5257c);\n",
       "            \n",
       "        \n",
       "\n",
       "        circle_marker_ecfc83e5f3960e286267f86fd2794244.bindPopup(popup_54f20a602ec88007885569dfb72b3233)\n",
       "        ;\n",
       "\n",
       "        \n",
       "    \n",
       "    \n",
       "            var circle_marker_ba66997320a9cfe858787c102f537d97 = L.circleMarker(\n",
       "                [-9.19, -75.0152],\n",
       "                {&quot;bubblingMouseEvents&quot;: true, &quot;color&quot;: &quot;blue&quot;, &quot;dashArray&quot;: null, &quot;dashOffset&quot;: null, &quot;fill&quot;: true, &quot;fillColor&quot;: &quot;crimson&quot;, &quot;fillOpacity&quot;: 0.3, &quot;fillRule&quot;: &quot;evenodd&quot;, &quot;lineCap&quot;: &quot;round&quot;, &quot;lineJoin&quot;: &quot;round&quot;, &quot;opacity&quot;: 1.0, &quot;radius&quot;: 2.138698032786885, &quot;stroke&quot;: true, &quot;weight&quot;: 3}\n",
       "            ).addTo(map_63bd30139a6212ba0546419532110ea0);\n",
       "        \n",
       "    \n",
       "        var popup_453ba75e2427b9387048c1e558622079 = L.popup({&quot;maxWidth&quot;: &quot;100%&quot;});\n",
       "\n",
       "        \n",
       "            \n",
       "                var html_17da8babd2cdf0bf807879ccfc55862a = $(`&lt;div id=&quot;html_17da8babd2cdf0bf807879ccfc55862a&quot; style=&quot;width: 100.0%; height: 100.0%;&quot;&gt;&lt;strong&gt;State&lt;/strong&gt;N/a&lt;br&gt;&lt;strong&gt;Confirmed Cases&lt;/strong&gt;213869.80327868852&lt;br&gt;&lt;/div&gt;`)[0];\n",
       "                popup_453ba75e2427b9387048c1e558622079.setContent(html_17da8babd2cdf0bf807879ccfc55862a);\n",
       "            \n",
       "        \n",
       "\n",
       "        circle_marker_ba66997320a9cfe858787c102f537d97.bindPopup(popup_453ba75e2427b9387048c1e558622079)\n",
       "        ;\n",
       "\n",
       "        \n",
       "    \n",
       "    \n",
       "            var circle_marker_ef32d5e0bc0a0ff1f124d551d3f4dd7a = L.circleMarker(\n",
       "                [12.879721, 121.774017],\n",
       "                {&quot;bubblingMouseEvents&quot;: true, &quot;color&quot;: &quot;blue&quot;, &quot;dashArray&quot;: null, &quot;dashOffset&quot;: null, &quot;fill&quot;: true, &quot;fillColor&quot;: &quot;crimson&quot;, &quot;fillOpacity&quot;: 0.3, &quot;fillRule&quot;: &quot;evenodd&quot;, &quot;lineCap&quot;: &quot;round&quot;, &quot;lineJoin&quot;: &quot;round&quot;, &quot;opacity&quot;: 1.0, &quot;radius&quot;: 0.5598137704918033, &quot;stroke&quot;: true, &quot;weight&quot;: 3}\n",
       "            ).addTo(map_63bd30139a6212ba0546419532110ea0);\n",
       "        \n",
       "    \n",
       "        var popup_9243ef13e62ccbb02f8b3a6c35e4aa83 = L.popup({&quot;maxWidth&quot;: &quot;100%&quot;});\n",
       "\n",
       "        \n",
       "            \n",
       "                var html_5a1777ad769ebefb38fc39bef3605096 = $(`&lt;div id=&quot;html_5a1777ad769ebefb38fc39bef3605096&quot; style=&quot;width: 100.0%; height: 100.0%;&quot;&gt;&lt;strong&gt;State&lt;/strong&gt;N/a&lt;br&gt;&lt;strong&gt;Confirmed Cases&lt;/strong&gt;55981.37704918033&lt;br&gt;&lt;/div&gt;`)[0];\n",
       "                popup_9243ef13e62ccbb02f8b3a6c35e4aa83.setContent(html_5a1777ad769ebefb38fc39bef3605096);\n",
       "            \n",
       "        \n",
       "\n",
       "        circle_marker_ef32d5e0bc0a0ff1f124d551d3f4dd7a.bindPopup(popup_9243ef13e62ccbb02f8b3a6c35e4aa83)\n",
       "        ;\n",
       "\n",
       "        \n",
       "    \n",
       "    \n",
       "            var circle_marker_2cd5b2e1e789ac1f8c68adeb13184418 = L.circleMarker(\n",
       "                [51.9194, 19.1451],\n",
       "                {&quot;bubblingMouseEvents&quot;: true, &quot;color&quot;: &quot;blue&quot;, &quot;dashArray&quot;: null, &quot;dashOffset&quot;: null, &quot;fill&quot;: true, &quot;fillColor&quot;: &quot;crimson&quot;, &quot;fillOpacity&quot;: 0.3, &quot;fillRule&quot;: &quot;evenodd&quot;, &quot;lineCap&quot;: &quot;round&quot;, &quot;lineJoin&quot;: &quot;round&quot;, &quot;opacity&quot;: 1.0, &quot;radius&quot;: 0.25549967213114755, &quot;stroke&quot;: true, &quot;weight&quot;: 3}\n",
       "            ).addTo(map_63bd30139a6212ba0546419532110ea0);\n",
       "        \n",
       "    \n",
       "        var popup_6d70093287dcdd626f8f9cdd55b2847d = L.popup({&quot;maxWidth&quot;: &quot;100%&quot;});\n",
       "\n",
       "        \n",
       "            \n",
       "                var html_244dba011d230c3b3a55bb67f67f5637 = $(`&lt;div id=&quot;html_244dba011d230c3b3a55bb67f67f5637&quot; style=&quot;width: 100.0%; height: 100.0%;&quot;&gt;&lt;strong&gt;State&lt;/strong&gt;N/a&lt;br&gt;&lt;strong&gt;Confirmed Cases&lt;/strong&gt;25549.967213114753&lt;br&gt;&lt;/div&gt;`)[0];\n",
       "                popup_6d70093287dcdd626f8f9cdd55b2847d.setContent(html_244dba011d230c3b3a55bb67f67f5637);\n",
       "            \n",
       "        \n",
       "\n",
       "        circle_marker_2cd5b2e1e789ac1f8c68adeb13184418.bindPopup(popup_6d70093287dcdd626f8f9cdd55b2847d)\n",
       "        ;\n",
       "\n",
       "        \n",
       "    \n",
       "    \n",
       "            var circle_marker_6694e23958701124736a96f88d16a855 = L.circleMarker(\n",
       "                [39.3999, -8.2245],\n",
       "                {&quot;bubblingMouseEvents&quot;: true, &quot;color&quot;: &quot;blue&quot;, &quot;dashArray&quot;: null, &quot;dashOffset&quot;: null, &quot;fill&quot;: true, &quot;fillColor&quot;: &quot;crimson&quot;, &quot;fillOpacity&quot;: 0.3, &quot;fillRule&quot;: &quot;evenodd&quot;, &quot;lineCap&quot;: &quot;round&quot;, &quot;lineJoin&quot;: &quot;round&quot;, &quot;opacity&quot;: 1.0, &quot;radius&quot;: 0.2895538524590164, &quot;stroke&quot;: true, &quot;weight&quot;: 3}\n",
       "            ).addTo(map_63bd30139a6212ba0546419532110ea0);\n",
       "        \n",
       "    \n",
       "        var popup_45797c45d0419d55085a93ac677bfdfd = L.popup({&quot;maxWidth&quot;: &quot;100%&quot;});\n",
       "\n",
       "        \n",
       "            \n",
       "                var html_57f905226b58b2d4c1fcfd1cc94f447e = $(`&lt;div id=&quot;html_57f905226b58b2d4c1fcfd1cc94f447e&quot; style=&quot;width: 100.0%; height: 100.0%;&quot;&gt;&lt;strong&gt;State&lt;/strong&gt;N/a&lt;br&gt;&lt;strong&gt;Confirmed Cases&lt;/strong&gt;28955.385245901638&lt;br&gt;&lt;/div&gt;`)[0];\n",
       "                popup_45797c45d0419d55085a93ac677bfdfd.setContent(html_57f905226b58b2d4c1fcfd1cc94f447e);\n",
       "            \n",
       "        \n",
       "\n",
       "        circle_marker_6694e23958701124736a96f88d16a855.bindPopup(popup_45797c45d0419d55085a93ac677bfdfd)\n",
       "        ;\n",
       "\n",
       "        \n",
       "    \n",
       "    \n",
       "            var circle_marker_2184e691f65547902febe08bac2ba54e = L.circleMarker(\n",
       "                [25.3548, 51.1839],\n",
       "                {&quot;bubblingMouseEvents&quot;: true, &quot;color&quot;: &quot;blue&quot;, &quot;dashArray&quot;: null, &quot;dashOffset&quot;: null, &quot;fill&quot;: true, &quot;fillColor&quot;: &quot;crimson&quot;, &quot;fillOpacity&quot;: 0.3, &quot;fillRule&quot;: &quot;evenodd&quot;, &quot;lineCap&quot;: &quot;round&quot;, &quot;lineJoin&quot;: &quot;round&quot;, &quot;opacity&quot;: 1.0, &quot;radius&quot;: 0.5299170491803279, &quot;stroke&quot;: true, &quot;weight&quot;: 3}\n",
       "            ).addTo(map_63bd30139a6212ba0546419532110ea0);\n",
       "        \n",
       "    \n",
       "        var popup_a1b270539dd850c4c7b2513b6d54a0b2 = L.popup({&quot;maxWidth&quot;: &quot;100%&quot;});\n",
       "\n",
       "        \n",
       "            \n",
       "                var html_a0403ac560ca33a45881109550814327 = $(`&lt;div id=&quot;html_a0403ac560ca33a45881109550814327&quot; style=&quot;width: 100.0%; height: 100.0%;&quot;&gt;&lt;strong&gt;State&lt;/strong&gt;N/a&lt;br&gt;&lt;strong&gt;Confirmed Cases&lt;/strong&gt;52991.70491803279&lt;br&gt;&lt;/div&gt;`)[0];\n",
       "                popup_a1b270539dd850c4c7b2513b6d54a0b2.setContent(html_a0403ac560ca33a45881109550814327);\n",
       "            \n",
       "        \n",
       "\n",
       "        circle_marker_2184e691f65547902febe08bac2ba54e.bindPopup(popup_a1b270539dd850c4c7b2513b6d54a0b2)\n",
       "        ;\n",
       "\n",
       "        \n",
       "    \n",
       "    \n",
       "            var circle_marker_aafd8f9fc0a4f4e62ce3a2772a66611b = L.circleMarker(\n",
       "                [45.9432, 24.9668],\n",
       "                {&quot;bubblingMouseEvents&quot;: true, &quot;color&quot;: &quot;blue&quot;, &quot;dashArray&quot;: null, &quot;dashOffset&quot;: null, &quot;fill&quot;: true, &quot;fillColor&quot;: &quot;crimson&quot;, &quot;fillOpacity&quot;: 0.3, &quot;fillRule&quot;: &quot;evenodd&quot;, &quot;lineCap&quot;: &quot;round&quot;, &quot;lineJoin&quot;: &quot;round&quot;, &quot;opacity&quot;: 1.0, &quot;radius&quot;: 0.28079872950819673, &quot;stroke&quot;: true, &quot;weight&quot;: 3}\n",
       "            ).addTo(map_63bd30139a6212ba0546419532110ea0);\n",
       "        \n",
       "    \n",
       "        var popup_a358b8e8eae2cff124cd2ca1f57fd6f9 = L.popup({&quot;maxWidth&quot;: &quot;100%&quot;});\n",
       "\n",
       "        \n",
       "            \n",
       "                var html_9c46ff3010d2c0795ca9c03159f04f50 = $(`&lt;div id=&quot;html_9c46ff3010d2c0795ca9c03159f04f50&quot; style=&quot;width: 100.0%; height: 100.0%;&quot;&gt;&lt;strong&gt;State&lt;/strong&gt;N/a&lt;br&gt;&lt;strong&gt;Confirmed Cases&lt;/strong&gt;28079.872950819674&lt;br&gt;&lt;/div&gt;`)[0];\n",
       "                popup_a358b8e8eae2cff124cd2ca1f57fd6f9.setContent(html_9c46ff3010d2c0795ca9c03159f04f50);\n",
       "            \n",
       "        \n",
       "\n",
       "        circle_marker_aafd8f9fc0a4f4e62ce3a2772a66611b.bindPopup(popup_a358b8e8eae2cff124cd2ca1f57fd6f9)\n",
       "        ;\n",
       "\n",
       "        \n",
       "    \n",
       "    \n",
       "            var circle_marker_90a81431c7f29a50edd035741d99c13a = L.circleMarker(\n",
       "                [61.52401, 105.318756],\n",
       "                {&quot;bubblingMouseEvents&quot;: true, &quot;color&quot;: &quot;blue&quot;, &quot;dashArray&quot;: null, &quot;dashOffset&quot;: null, &quot;fill&quot;: true, &quot;fillColor&quot;: &quot;crimson&quot;, &quot;fillOpacity&quot;: 0.3, &quot;fillRule&quot;: &quot;evenodd&quot;, &quot;lineCap&quot;: &quot;round&quot;, &quot;lineJoin&quot;: &quot;round&quot;, &quot;opacity&quot;: 1.0, &quot;radius&quot;: 4.068467295081967, &quot;stroke&quot;: true, &quot;weight&quot;: 3}\n",
       "            ).addTo(map_63bd30139a6212ba0546419532110ea0);\n",
       "        \n",
       "    \n",
       "        var popup_5bc02d311c1d5b3f62acc368e7273bf5 = L.popup({&quot;maxWidth&quot;: &quot;100%&quot;});\n",
       "\n",
       "        \n",
       "            \n",
       "                var html_421b5c8979aeb02790959612078edac8 = $(`&lt;div id=&quot;html_421b5c8979aeb02790959612078edac8&quot; style=&quot;width: 100.0%; height: 100.0%;&quot;&gt;&lt;strong&gt;State&lt;/strong&gt;N/a&lt;br&gt;&lt;strong&gt;Confirmed Cases&lt;/strong&gt;406846.7295081967&lt;br&gt;&lt;/div&gt;`)[0];\n",
       "                popup_5bc02d311c1d5b3f62acc368e7273bf5.setContent(html_421b5c8979aeb02790959612078edac8);\n",
       "            \n",
       "        \n",
       "\n",
       "        circle_marker_90a81431c7f29a50edd035741d99c13a.bindPopup(popup_5bc02d311c1d5b3f62acc368e7273bf5)\n",
       "        ;\n",
       "\n",
       "        \n",
       "    \n",
       "    \n",
       "            var circle_marker_36f71047ef428ef66bdaaaa4e416f55e = L.circleMarker(\n",
       "                [-1.9403, 29.8739],\n",
       "                {&quot;bubblingMouseEvents&quot;: true, &quot;color&quot;: &quot;blue&quot;, &quot;dashArray&quot;: null, &quot;dashOffset&quot;: null, &quot;fill&quot;: true, &quot;fillColor&quot;: &quot;crimson&quot;, &quot;fillOpacity&quot;: 0.3, &quot;fillRule&quot;: &quot;evenodd&quot;, &quot;lineCap&quot;: &quot;round&quot;, &quot;lineJoin&quot;: &quot;round&quot;, &quot;opacity&quot;: 1.0, &quot;radius&quot;: 0.010546639344262296, &quot;stroke&quot;: true, &quot;weight&quot;: 3}\n",
       "            ).addTo(map_63bd30139a6212ba0546419532110ea0);\n",
       "        \n",
       "    \n",
       "        var popup_eeec140fb0bd254f9739eda665ac27dd = L.popup({&quot;maxWidth&quot;: &quot;100%&quot;});\n",
       "\n",
       "        \n",
       "            \n",
       "                var html_068fa62b1cfa9d1d304f81e9011c1ea8 = $(`&lt;div id=&quot;html_068fa62b1cfa9d1d304f81e9011c1ea8&quot; style=&quot;width: 100.0%; height: 100.0%;&quot;&gt;&lt;strong&gt;State&lt;/strong&gt;N/a&lt;br&gt;&lt;strong&gt;Confirmed Cases&lt;/strong&gt;1054.6639344262296&lt;br&gt;&lt;/div&gt;`)[0];\n",
       "                popup_eeec140fb0bd254f9739eda665ac27dd.setContent(html_068fa62b1cfa9d1d304f81e9011c1ea8);\n",
       "            \n",
       "        \n",
       "\n",
       "        circle_marker_36f71047ef428ef66bdaaaa4e416f55e.bindPopup(popup_eeec140fb0bd254f9739eda665ac27dd)\n",
       "        ;\n",
       "\n",
       "        \n",
       "    \n",
       "    \n",
       "            var circle_marker_1bb52b00830db0ed4f64357d7fb9db7d = L.circleMarker(\n",
       "                [17.357822, -62.782998],\n",
       "                {&quot;bubblingMouseEvents&quot;: true, &quot;color&quot;: &quot;blue&quot;, &quot;dashArray&quot;: null, &quot;dashOffset&quot;: null, &quot;fill&quot;: true, &quot;fillColor&quot;: &quot;crimson&quot;, &quot;fillOpacity&quot;: 0.3, &quot;fillRule&quot;: &quot;evenodd&quot;, &quot;lineCap&quot;: &quot;round&quot;, &quot;lineJoin&quot;: &quot;round&quot;, &quot;opacity&quot;: 1.0, &quot;radius&quot;: 0.00011172131147540985, &quot;stroke&quot;: true, &quot;weight&quot;: 3}\n",
       "            ).addTo(map_63bd30139a6212ba0546419532110ea0);\n",
       "        \n",
       "    \n",
       "        var popup_8d78d4def717e6de94e071b045f27bfc = L.popup({&quot;maxWidth&quot;: &quot;100%&quot;});\n",
       "\n",
       "        \n",
       "            \n",
       "                var html_ec5950a92ae2ae4ac9a6ffaa3b5589fb = $(`&lt;div id=&quot;html_ec5950a92ae2ae4ac9a6ffaa3b5589fb&quot; style=&quot;width: 100.0%; height: 100.0%;&quot;&gt;&lt;strong&gt;State&lt;/strong&gt;N/a&lt;br&gt;&lt;strong&gt;Confirmed Cases&lt;/strong&gt;11.172131147540984&lt;br&gt;&lt;/div&gt;`)[0];\n",
       "                popup_8d78d4def717e6de94e071b045f27bfc.setContent(html_ec5950a92ae2ae4ac9a6ffaa3b5589fb);\n",
       "            \n",
       "        \n",
       "\n",
       "        circle_marker_1bb52b00830db0ed4f64357d7fb9db7d.bindPopup(popup_8d78d4def717e6de94e071b045f27bfc)\n",
       "        ;\n",
       "\n",
       "        \n",
       "    \n",
       "    \n",
       "            var circle_marker_2e63d81c3496a800fd3925692f1b2fcc = L.circleMarker(\n",
       "                [13.9094, -60.9789],\n",
       "                {&quot;bubblingMouseEvents&quot;: true, &quot;color&quot;: &quot;blue&quot;, &quot;dashArray&quot;: null, &quot;dashOffset&quot;: null, &quot;fill&quot;: true, &quot;fillColor&quot;: &quot;crimson&quot;, &quot;fillOpacity&quot;: 0.3, &quot;fillRule&quot;: &quot;evenodd&quot;, &quot;lineCap&quot;: &quot;round&quot;, &quot;lineJoin&quot;: &quot;round&quot;, &quot;opacity&quot;: 1.0, &quot;radius&quot;: 0.0001509016393442623, &quot;stroke&quot;: true, &quot;weight&quot;: 3}\n",
       "            ).addTo(map_63bd30139a6212ba0546419532110ea0);\n",
       "        \n",
       "    \n",
       "        var popup_79956030b988d422a89d3a3c94651ea6 = L.popup({&quot;maxWidth&quot;: &quot;100%&quot;});\n",
       "\n",
       "        \n",
       "            \n",
       "                var html_eb18e17c816fafc719242aed162ccf79 = $(`&lt;div id=&quot;html_eb18e17c816fafc719242aed162ccf79&quot; style=&quot;width: 100.0%; height: 100.0%;&quot;&gt;&lt;strong&gt;State&lt;/strong&gt;N/a&lt;br&gt;&lt;strong&gt;Confirmed Cases&lt;/strong&gt;15.09016393442623&lt;br&gt;&lt;/div&gt;`)[0];\n",
       "                popup_79956030b988d422a89d3a3c94651ea6.setContent(html_eb18e17c816fafc719242aed162ccf79);\n",
       "            \n",
       "        \n",
       "\n",
       "        circle_marker_2e63d81c3496a800fd3925692f1b2fcc.bindPopup(popup_79956030b988d422a89d3a3c94651ea6)\n",
       "        ;\n",
       "\n",
       "        \n",
       "    \n",
       "    \n",
       "            var circle_marker_2c04fe2b1f2435e3315d478d4fee8228 = L.circleMarker(\n",
       "                [12.9843, -61.2872],\n",
       "                {&quot;bubblingMouseEvents&quot;: true, &quot;color&quot;: &quot;blue&quot;, &quot;dashArray&quot;: null, &quot;dashOffset&quot;: null, &quot;fill&quot;: true, &quot;fillColor&quot;: &quot;crimson&quot;, &quot;fillOpacity&quot;: 0.3, &quot;fillRule&quot;: &quot;evenodd&quot;, &quot;lineCap&quot;: &quot;round&quot;, &quot;lineJoin&quot;: &quot;round&quot;, &quot;opacity&quot;: 1.0, &quot;radius&quot;: 0.0002490983606557377, &quot;stroke&quot;: true, &quot;weight&quot;: 3}\n",
       "            ).addTo(map_63bd30139a6212ba0546419532110ea0);\n",
       "        \n",
       "    \n",
       "        var popup_6910415d9c03cf374ba954d01e908175 = L.popup({&quot;maxWidth&quot;: &quot;100%&quot;});\n",
       "\n",
       "        \n",
       "            \n",
       "                var html_f7953939d973d6639325be52f5bd2ac4 = $(`&lt;div id=&quot;html_f7953939d973d6639325be52f5bd2ac4&quot; style=&quot;width: 100.0%; height: 100.0%;&quot;&gt;&lt;strong&gt;State&lt;/strong&gt;N/a&lt;br&gt;&lt;strong&gt;Confirmed Cases&lt;/strong&gt;24.90983606557377&lt;br&gt;&lt;/div&gt;`)[0];\n",
       "                popup_6910415d9c03cf374ba954d01e908175.setContent(html_f7953939d973d6639325be52f5bd2ac4);\n",
       "            \n",
       "        \n",
       "\n",
       "        circle_marker_2c04fe2b1f2435e3315d478d4fee8228.bindPopup(popup_6910415d9c03cf374ba954d01e908175)\n",
       "        ;\n",
       "\n",
       "        \n",
       "    \n",
       "    \n",
       "            var circle_marker_ac817cdbe01677d43e41963814036628 = L.circleMarker(\n",
       "                [43.9424, 12.4578],\n",
       "                {&quot;bubblingMouseEvents&quot;: true, &quot;color&quot;: &quot;blue&quot;, &quot;dashArray&quot;: null, &quot;dashOffset&quot;: null, &quot;fill&quot;: true, &quot;fillColor&quot;: &quot;crimson&quot;, &quot;fillOpacity&quot;: 0.3, &quot;fillRule&quot;: &quot;evenodd&quot;, &quot;lineCap&quot;: &quot;round&quot;, &quot;lineJoin&quot;: &quot;round&quot;, &quot;opacity&quot;: 1.0, &quot;radius&quot;: 0.004701065573770492, &quot;stroke&quot;: true, &quot;weight&quot;: 3}\n",
       "            ).addTo(map_63bd30139a6212ba0546419532110ea0);\n",
       "        \n",
       "    \n",
       "        var popup_9b1761a33ead69ce15e3907e17d123fc = L.popup({&quot;maxWidth&quot;: &quot;100%&quot;});\n",
       "\n",
       "        \n",
       "            \n",
       "                var html_1ebe854c0982c7a958ed3d6273e72708 = $(`&lt;div id=&quot;html_1ebe854c0982c7a958ed3d6273e72708&quot; style=&quot;width: 100.0%; height: 100.0%;&quot;&gt;&lt;strong&gt;State&lt;/strong&gt;N/a&lt;br&gt;&lt;strong&gt;Confirmed Cases&lt;/strong&gt;470.10655737704917&lt;br&gt;&lt;/div&gt;`)[0];\n",
       "                popup_9b1761a33ead69ce15e3907e17d123fc.setContent(html_1ebe854c0982c7a958ed3d6273e72708);\n",
       "            \n",
       "        \n",
       "\n",
       "        circle_marker_ac817cdbe01677d43e41963814036628.bindPopup(popup_9b1761a33ead69ce15e3907e17d123fc)\n",
       "        ;\n",
       "\n",
       "        \n",
       "    \n",
       "    \n",
       "            var circle_marker_e53b2c17996ed7a0d7dd50e5e5041528 = L.circleMarker(\n",
       "                [0.1864, 6.6131],\n",
       "                {&quot;bubblingMouseEvents&quot;: true, &quot;color&quot;: &quot;blue&quot;, &quot;dashArray&quot;: null, &quot;dashOffset&quot;: null, &quot;fill&quot;: true, &quot;fillColor&quot;: &quot;crimson&quot;, &quot;fillOpacity&quot;: 0.3, &quot;fillRule&quot;: &quot;evenodd&quot;, &quot;lineCap&quot;: &quot;round&quot;, &quot;lineJoin&quot;: &quot;round&quot;, &quot;opacity&quot;: 1.0, &quot;radius&quot;: 0.003965163934426229, &quot;stroke&quot;: true, &quot;weight&quot;: 3}\n",
       "            ).addTo(map_63bd30139a6212ba0546419532110ea0);\n",
       "        \n",
       "    \n",
       "        var popup_2a7448c0537f90d3d1365533c4a4e8b6 = L.popup({&quot;maxWidth&quot;: &quot;100%&quot;});\n",
       "\n",
       "        \n",
       "            \n",
       "                var html_b8f479fe47b011eb09170951d6c54c6c = $(`&lt;div id=&quot;html_b8f479fe47b011eb09170951d6c54c6c&quot; style=&quot;width: 100.0%; height: 100.0%;&quot;&gt;&lt;strong&gt;State&lt;/strong&gt;N/a&lt;br&gt;&lt;strong&gt;Confirmed Cases&lt;/strong&gt;396.5163934426229&lt;br&gt;&lt;/div&gt;`)[0];\n",
       "                popup_2a7448c0537f90d3d1365533c4a4e8b6.setContent(html_b8f479fe47b011eb09170951d6c54c6c);\n",
       "            \n",
       "        \n",
       "\n",
       "        circle_marker_e53b2c17996ed7a0d7dd50e5e5041528.bindPopup(popup_2a7448c0537f90d3d1365533c4a4e8b6)\n",
       "        ;\n",
       "\n",
       "        \n",
       "    \n",
       "    \n",
       "            var circle_marker_4c5f2780c8b7131fca6629ab9b2bec3b = L.circleMarker(\n",
       "                [23.885942, 45.079162],\n",
       "                {&quot;bubblingMouseEvents&quot;: true, &quot;color&quot;: &quot;blue&quot;, &quot;dashArray&quot;: null, &quot;dashOffset&quot;: null, &quot;fill&quot;: true, &quot;fillColor&quot;: &quot;crimson&quot;, &quot;fillOpacity&quot;: 0.3, &quot;fillRule&quot;: &quot;evenodd&quot;, &quot;lineCap&quot;: &quot;round&quot;, &quot;lineJoin&quot;: &quot;round&quot;, &quot;opacity&quot;: 1.0, &quot;radius&quot;: 1.2087708196721312, &quot;stroke&quot;: true, &quot;weight&quot;: 3}\n",
       "            ).addTo(map_63bd30139a6212ba0546419532110ea0);\n",
       "        \n",
       "    \n",
       "        var popup_a88b1e6d827a566bb82758402d8ebb2b = L.popup({&quot;maxWidth&quot;: &quot;100%&quot;});\n",
       "\n",
       "        \n",
       "            \n",
       "                var html_e1f3fe036c58cd9ec5117023609f0e78 = $(`&lt;div id=&quot;html_e1f3fe036c58cd9ec5117023609f0e78&quot; style=&quot;width: 100.0%; height: 100.0%;&quot;&gt;&lt;strong&gt;State&lt;/strong&gt;N/a&lt;br&gt;&lt;strong&gt;Confirmed Cases&lt;/strong&gt;120877.08196721312&lt;br&gt;&lt;/div&gt;`)[0];\n",
       "                popup_a88b1e6d827a566bb82758402d8ebb2b.setContent(html_e1f3fe036c58cd9ec5117023609f0e78);\n",
       "            \n",
       "        \n",
       "\n",
       "        circle_marker_4c5f2780c8b7131fca6629ab9b2bec3b.bindPopup(popup_a88b1e6d827a566bb82758402d8ebb2b)\n",
       "        ;\n",
       "\n",
       "        \n",
       "    \n",
       "    \n",
       "            var circle_marker_11b3eb23657a690159ccef35e4db5162 = L.circleMarker(\n",
       "                [14.4974, -14.4524],\n",
       "                {&quot;bubblingMouseEvents&quot;: true, &quot;color&quot;: &quot;blue&quot;, &quot;dashArray&quot;: null, &quot;dashOffset&quot;: null, &quot;fill&quot;: true, &quot;fillColor&quot;: &quot;crimson&quot;, &quot;fillOpacity&quot;: 0.3, &quot;fillRule&quot;: &quot;evenodd&quot;, &quot;lineCap&quot;: &quot;round&quot;, &quot;lineJoin&quot;: &quot;round&quot;, &quot;opacity&quot;: 1.0, &quot;radius&quot;: 0.04831422131147541, &quot;stroke&quot;: true, &quot;weight&quot;: 3}\n",
       "            ).addTo(map_63bd30139a6212ba0546419532110ea0);\n",
       "        \n",
       "    \n",
       "        var popup_806751631990284ea86a883f8c134afe = L.popup({&quot;maxWidth&quot;: &quot;100%&quot;});\n",
       "\n",
       "        \n",
       "            \n",
       "                var html_0fd09304d548e7ff3bcddc8b033e30dc = $(`&lt;div id=&quot;html_0fd09304d548e7ff3bcddc8b033e30dc&quot; style=&quot;width: 100.0%; height: 100.0%;&quot;&gt;&lt;strong&gt;State&lt;/strong&gt;N/a&lt;br&gt;&lt;strong&gt;Confirmed Cases&lt;/strong&gt;4831.422131147541&lt;br&gt;&lt;/div&gt;`)[0];\n",
       "                popup_806751631990284ea86a883f8c134afe.setContent(html_0fd09304d548e7ff3bcddc8b033e30dc);\n",
       "            \n",
       "        \n",
       "\n",
       "        circle_marker_11b3eb23657a690159ccef35e4db5162.bindPopup(popup_806751631990284ea86a883f8c134afe)\n",
       "        ;\n",
       "\n",
       "        \n",
       "    \n",
       "    \n",
       "            var circle_marker_a9b9994a6587d17f3e79a24dcf6e358a = L.circleMarker(\n",
       "                [44.0165, 21.0059],\n",
       "                {&quot;bubblingMouseEvents&quot;: true, &quot;color&quot;: &quot;blue&quot;, &quot;dashArray&quot;: null, &quot;dashOffset&quot;: null, &quot;fill&quot;: true, &quot;fillColor&quot;: &quot;crimson&quot;, &quot;fillOpacity&quot;: 0.3, &quot;fillRule&quot;: &quot;evenodd&quot;, &quot;lineCap&quot;: &quot;round&quot;, &quot;lineJoin&quot;: &quot;round&quot;, &quot;opacity&quot;: 1.0, &quot;radius&quot;: 0.1254106557377049, &quot;stroke&quot;: true, &quot;weight&quot;: 3}\n",
       "            ).addTo(map_63bd30139a6212ba0546419532110ea0);\n",
       "        \n",
       "    \n",
       "        var popup_9e18ad69bdf4b470b85b66dd2f376fd9 = L.popup({&quot;maxWidth&quot;: &quot;100%&quot;});\n",
       "\n",
       "        \n",
       "            \n",
       "                var html_ea7dee444d0f5c33e95c6ac062760b29 = $(`&lt;div id=&quot;html_ea7dee444d0f5c33e95c6ac062760b29&quot; style=&quot;width: 100.0%; height: 100.0%;&quot;&gt;&lt;strong&gt;State&lt;/strong&gt;N/a&lt;br&gt;&lt;strong&gt;Confirmed Cases&lt;/strong&gt;12541.065573770491&lt;br&gt;&lt;/div&gt;`)[0];\n",
       "                popup_9e18ad69bdf4b470b85b66dd2f376fd9.setContent(html_ea7dee444d0f5c33e95c6ac062760b29);\n",
       "            \n",
       "        \n",
       "\n",
       "        circle_marker_a9b9994a6587d17f3e79a24dcf6e358a.bindPopup(popup_9e18ad69bdf4b470b85b66dd2f376fd9)\n",
       "        ;\n",
       "\n",
       "        \n",
       "    \n",
       "    \n",
       "            var circle_marker_9bdd3ef5ac884494a9b352d3b99aac72 = L.circleMarker(\n",
       "                [-4.6796, 55.492],\n",
       "                {&quot;bubblingMouseEvents&quot;: true, &quot;color&quot;: &quot;blue&quot;, &quot;dashArray&quot;: null, &quot;dashOffset&quot;: null, &quot;fill&quot;: true, &quot;fillColor&quot;: &quot;crimson&quot;, &quot;fillOpacity&quot;: 0.3, &quot;fillRule&quot;: &quot;evenodd&quot;, &quot;lineCap&quot;: &quot;round&quot;, &quot;lineJoin&quot;: &quot;round&quot;, &quot;opacity&quot;: 1.0, &quot;radius&quot;: 0.00046360655737704917, &quot;stroke&quot;: true, &quot;weight&quot;: 3}\n",
       "            ).addTo(map_63bd30139a6212ba0546419532110ea0);\n",
       "        \n",
       "    \n",
       "        var popup_8b0f027237597cb512e19d03b9fcd408 = L.popup({&quot;maxWidth&quot;: &quot;100%&quot;});\n",
       "\n",
       "        \n",
       "            \n",
       "                var html_0830e5ae7cfed558241cc1162c2581eb = $(`&lt;div id=&quot;html_0830e5ae7cfed558241cc1162c2581eb&quot; style=&quot;width: 100.0%; height: 100.0%;&quot;&gt;&lt;strong&gt;State&lt;/strong&gt;N/a&lt;br&gt;&lt;strong&gt;Confirmed Cases&lt;/strong&gt;46.36065573770492&lt;br&gt;&lt;/div&gt;`)[0];\n",
       "                popup_8b0f027237597cb512e19d03b9fcd408.setContent(html_0830e5ae7cfed558241cc1162c2581eb);\n",
       "            \n",
       "        \n",
       "\n",
       "        circle_marker_9bdd3ef5ac884494a9b352d3b99aac72.bindPopup(popup_8b0f027237597cb512e19d03b9fcd408)\n",
       "        ;\n",
       "\n",
       "        \n",
       "    \n",
       "    \n",
       "            var circle_marker_8648999fe58ca5bcc36ed1d2a14c15e5 = L.circleMarker(\n",
       "                [8.460555000000001, -11.779889],\n",
       "                {&quot;bubblingMouseEvents&quot;: true, &quot;color&quot;: &quot;blue&quot;, &quot;dashArray&quot;: null, &quot;dashOffset&quot;: null, &quot;fill&quot;: true, &quot;fillColor&quot;: &quot;crimson&quot;, &quot;fillOpacity&quot;: 0.3, &quot;fillRule&quot;: &quot;evenodd&quot;, &quot;lineCap&quot;: &quot;round&quot;, &quot;lineJoin&quot;: &quot;round&quot;, &quot;opacity&quot;: 1.0, &quot;radius&quot;: 0.008494590163934427, &quot;stroke&quot;: true, &quot;weight&quot;: 3}\n",
       "            ).addTo(map_63bd30139a6212ba0546419532110ea0);\n",
       "        \n",
       "    \n",
       "        var popup_5efb49742c221b315ff28fb61bcbae1c = L.popup({&quot;maxWidth&quot;: &quot;100%&quot;});\n",
       "\n",
       "        \n",
       "            \n",
       "                var html_10af49c995276167498031d2a22cde02 = $(`&lt;div id=&quot;html_10af49c995276167498031d2a22cde02&quot; style=&quot;width: 100.0%; height: 100.0%;&quot;&gt;&lt;strong&gt;State&lt;/strong&gt;N/a&lt;br&gt;&lt;strong&gt;Confirmed Cases&lt;/strong&gt;849.4590163934427&lt;br&gt;&lt;/div&gt;`)[0];\n",
       "                popup_5efb49742c221b315ff28fb61bcbae1c.setContent(html_10af49c995276167498031d2a22cde02);\n",
       "            \n",
       "        \n",
       "\n",
       "        circle_marker_8648999fe58ca5bcc36ed1d2a14c15e5.bindPopup(popup_5efb49742c221b315ff28fb61bcbae1c)\n",
       "        ;\n",
       "\n",
       "        \n",
       "    \n",
       "    \n",
       "            var circle_marker_1596e22a38ddcc4346295b89c211c4bc = L.circleMarker(\n",
       "                [1.2833, 103.8333],\n",
       "                {&quot;bubblingMouseEvents&quot;: true, &quot;color&quot;: &quot;blue&quot;, &quot;dashArray&quot;: null, &quot;dashOffset&quot;: null, &quot;fill&quot;: true, &quot;fillColor&quot;: &quot;crimson&quot;, &quot;fillOpacity&quot;: 0.3, &quot;fillRule&quot;: &quot;evenodd&quot;, &quot;lineCap&quot;: &quot;round&quot;, &quot;lineJoin&quot;: &quot;round&quot;, &quot;opacity&quot;: 1.0, &quot;radius&quot;: 0.2717695081967213, &quot;stroke&quot;: true, &quot;weight&quot;: 3}\n",
       "            ).addTo(map_63bd30139a6212ba0546419532110ea0);\n",
       "        \n",
       "    \n",
       "        var popup_48a2244cda233519724489a5087356c2 = L.popup({&quot;maxWidth&quot;: &quot;100%&quot;});\n",
       "\n",
       "        \n",
       "            \n",
       "                var html_e869a3f150f40235f1db1e6e12ad4009 = $(`&lt;div id=&quot;html_e869a3f150f40235f1db1e6e12ad4009&quot; style=&quot;width: 100.0%; height: 100.0%;&quot;&gt;&lt;strong&gt;State&lt;/strong&gt;N/a&lt;br&gt;&lt;strong&gt;Confirmed Cases&lt;/strong&gt;27176.950819672133&lt;br&gt;&lt;/div&gt;`)[0];\n",
       "                popup_48a2244cda233519724489a5087356c2.setContent(html_e869a3f150f40235f1db1e6e12ad4009);\n",
       "            \n",
       "        \n",
       "\n",
       "        circle_marker_1596e22a38ddcc4346295b89c211c4bc.bindPopup(popup_48a2244cda233519724489a5087356c2)\n",
       "        ;\n",
       "\n",
       "        \n",
       "    \n",
       "    \n",
       "            var circle_marker_d087170784324c3bf2546438f3f362f9 = L.circleMarker(\n",
       "                [48.669, 19.699],\n",
       "                {&quot;bubblingMouseEvents&quot;: true, &quot;color&quot;: &quot;blue&quot;, &quot;dashArray&quot;: null, &quot;dashOffset&quot;: null, &quot;fill&quot;: true, &quot;fillColor&quot;: &quot;crimson&quot;, &quot;fillOpacity&quot;: 0.3, &quot;fillRule&quot;: &quot;evenodd&quot;, &quot;lineCap&quot;: &quot;round&quot;, &quot;lineJoin&quot;: &quot;round&quot;, &quot;opacity&quot;: 1.0, &quot;radius&quot;: 0.01592311475409836, &quot;stroke&quot;: true, &quot;weight&quot;: 3}\n",
       "            ).addTo(map_63bd30139a6212ba0546419532110ea0);\n",
       "        \n",
       "    \n",
       "        var popup_49f216adad29197e360f95d44a8212c7 = L.popup({&quot;maxWidth&quot;: &quot;100%&quot;});\n",
       "\n",
       "        \n",
       "            \n",
       "                var html_ac03c5d5e1cb2b5dbe8b058fdef81048 = $(`&lt;div id=&quot;html_ac03c5d5e1cb2b5dbe8b058fdef81048&quot; style=&quot;width: 100.0%; height: 100.0%;&quot;&gt;&lt;strong&gt;State&lt;/strong&gt;N/a&lt;br&gt;&lt;strong&gt;Confirmed Cases&lt;/strong&gt;1592.311475409836&lt;br&gt;&lt;/div&gt;`)[0];\n",
       "                popup_49f216adad29197e360f95d44a8212c7.setContent(html_ac03c5d5e1cb2b5dbe8b058fdef81048);\n",
       "            \n",
       "        \n",
       "\n",
       "        circle_marker_d087170784324c3bf2546438f3f362f9.bindPopup(popup_49f216adad29197e360f95d44a8212c7)\n",
       "        ;\n",
       "\n",
       "        \n",
       "    \n",
       "    \n",
       "            var circle_marker_eb67d130468921e2c15b2ace5d601da0 = L.circleMarker(\n",
       "                [46.1512, 14.9955],\n",
       "                {&quot;bubblingMouseEvents&quot;: true, &quot;color&quot;: &quot;blue&quot;, &quot;dashArray&quot;: null, &quot;dashOffset&quot;: null, &quot;fill&quot;: true, &quot;fillColor&quot;: &quot;crimson&quot;, &quot;fillOpacity&quot;: 0.3, &quot;fillRule&quot;: &quot;evenodd&quot;, &quot;lineCap&quot;: &quot;round&quot;, &quot;lineJoin&quot;: &quot;round&quot;, &quot;opacity&quot;: 1.0, &quot;radius&quot;: 0.014182295081967214, &quot;stroke&quot;: true, &quot;weight&quot;: 3}\n",
       "            ).addTo(map_63bd30139a6212ba0546419532110ea0);\n",
       "        \n",
       "    \n",
       "        var popup_abc8d91167b44286960b15e0a086f313 = L.popup({&quot;maxWidth&quot;: &quot;100%&quot;});\n",
       "\n",
       "        \n",
       "            \n",
       "                var html_7ea558938385d9f9cb0cad3460dd701f = $(`&lt;div id=&quot;html_7ea558938385d9f9cb0cad3460dd701f&quot; style=&quot;width: 100.0%; height: 100.0%;&quot;&gt;&lt;strong&gt;State&lt;/strong&gt;N/a&lt;br&gt;&lt;strong&gt;Confirmed Cases&lt;/strong&gt;1418.2295081967213&lt;br&gt;&lt;/div&gt;`)[0];\n",
       "                popup_abc8d91167b44286960b15e0a086f313.setContent(html_7ea558938385d9f9cb0cad3460dd701f);\n",
       "            \n",
       "        \n",
       "\n",
       "        circle_marker_eb67d130468921e2c15b2ace5d601da0.bindPopup(popup_abc8d91167b44286960b15e0a086f313)\n",
       "        ;\n",
       "\n",
       "        \n",
       "    \n",
       "    \n",
       "            var circle_marker_d0b18cbe7b6830b48c23905828eae60a = L.circleMarker(\n",
       "                [5.152149, 46.199616],\n",
       "                {&quot;bubblingMouseEvents&quot;: true, &quot;color&quot;: &quot;blue&quot;, &quot;dashArray&quot;: null, &quot;dashOffset&quot;: null, &quot;fill&quot;: true, &quot;fillColor&quot;: &quot;crimson&quot;, &quot;fillOpacity&quot;: 0.3, &quot;fillRule&quot;: &quot;evenodd&quot;, &quot;lineCap&quot;: &quot;round&quot;, &quot;lineJoin&quot;: &quot;round&quot;, &quot;opacity&quot;: 1.0, &quot;radius&quot;: 0.01603032786885246, &quot;stroke&quot;: true, &quot;weight&quot;: 3}\n",
       "            ).addTo(map_63bd30139a6212ba0546419532110ea0);\n",
       "        \n",
       "    \n",
       "        var popup_7c0e45a8721f23fa16a05add1af3ef0b = L.popup({&quot;maxWidth&quot;: &quot;100%&quot;});\n",
       "\n",
       "        \n",
       "            \n",
       "                var html_f0f8568220a414d492f287ad0d144720 = $(`&lt;div id=&quot;html_f0f8568220a414d492f287ad0d144720&quot; style=&quot;width: 100.0%; height: 100.0%;&quot;&gt;&lt;strong&gt;State&lt;/strong&gt;N/a&lt;br&gt;&lt;strong&gt;Confirmed Cases&lt;/strong&gt;1603.032786885246&lt;br&gt;&lt;/div&gt;`)[0];\n",
       "                popup_7c0e45a8721f23fa16a05add1af3ef0b.setContent(html_f0f8568220a414d492f287ad0d144720);\n",
       "            \n",
       "        \n",
       "\n",
       "        circle_marker_d0b18cbe7b6830b48c23905828eae60a.bindPopup(popup_7c0e45a8721f23fa16a05add1af3ef0b)\n",
       "        ;\n",
       "\n",
       "        \n",
       "    \n",
       "    \n",
       "            var circle_marker_29f7b240d62b39029c65c509b97b980a = L.circleMarker(\n",
       "                [-30.5595, 22.9375],\n",
       "                {&quot;bubblingMouseEvents&quot;: true, &quot;color&quot;: &quot;blue&quot;, &quot;dashArray&quot;: null, &quot;dashOffset&quot;: null, &quot;fill&quot;: true, &quot;fillColor&quot;: &quot;crimson&quot;, &quot;fillOpacity&quot;: 0.3, &quot;fillRule&quot;: &quot;evenodd&quot;, &quot;lineCap&quot;: &quot;round&quot;, &quot;lineJoin&quot;: &quot;round&quot;, &quot;opacity&quot;: 1.0, &quot;radius&quot;: 1.82757, &quot;stroke&quot;: true, &quot;weight&quot;: 3}\n",
       "            ).addTo(map_63bd30139a6212ba0546419532110ea0);\n",
       "        \n",
       "    \n",
       "        var popup_3e37d1c9ae47dd43d397ee9b7cb927f5 = L.popup({&quot;maxWidth&quot;: &quot;100%&quot;});\n",
       "\n",
       "        \n",
       "            \n",
       "                var html_01f107381a295cfd99a12ee22283bebe = $(`&lt;div id=&quot;html_01f107381a295cfd99a12ee22283bebe&quot; style=&quot;width: 100.0%; height: 100.0%;&quot;&gt;&lt;strong&gt;State&lt;/strong&gt;N/a&lt;br&gt;&lt;strong&gt;Confirmed Cases&lt;/strong&gt;182757.0&lt;br&gt;&lt;/div&gt;`)[0];\n",
       "                popup_3e37d1c9ae47dd43d397ee9b7cb927f5.setContent(html_01f107381a295cfd99a12ee22283bebe);\n",
       "            \n",
       "        \n",
       "\n",
       "        circle_marker_29f7b240d62b39029c65c509b97b980a.bindPopup(popup_3e37d1c9ae47dd43d397ee9b7cb927f5)\n",
       "        ;\n",
       "\n",
       "        \n",
       "    \n",
       "    \n",
       "            var circle_marker_d0812f01ac6ec19a508e4119071bde60 = L.circleMarker(\n",
       "                [6.877000000000002, 31.307],\n",
       "                {&quot;bubblingMouseEvents&quot;: true, &quot;color&quot;: &quot;blue&quot;, &quot;dashArray&quot;: null, &quot;dashOffset&quot;: null, &quot;fill&quot;: true, &quot;fillColor&quot;: &quot;crimson&quot;, &quot;fillOpacity&quot;: 0.3, &quot;fillRule&quot;: &quot;evenodd&quot;, &quot;lineCap&quot;: &quot;round&quot;, &quot;lineJoin&quot;: &quot;round&quot;, &quot;opacity&quot;: 1.0, &quot;radius&quot;: 0.01061483606557377, &quot;stroke&quot;: true, &quot;weight&quot;: 3}\n",
       "            ).addTo(map_63bd30139a6212ba0546419532110ea0);\n",
       "        \n",
       "    \n",
       "        var popup_21b06711dcca40fa16a3d610a8b482cf = L.popup({&quot;maxWidth&quot;: &quot;100%&quot;});\n",
       "\n",
       "        \n",
       "            \n",
       "                var html_b28a50676018cc53848aace87fd0f6cd = $(`&lt;div id=&quot;html_b28a50676018cc53848aace87fd0f6cd&quot; style=&quot;width: 100.0%; height: 100.0%;&quot;&gt;&lt;strong&gt;State&lt;/strong&gt;N/a&lt;br&gt;&lt;strong&gt;Confirmed Cases&lt;/strong&gt;1061.483606557377&lt;br&gt;&lt;/div&gt;`)[0];\n",
       "                popup_21b06711dcca40fa16a3d610a8b482cf.setContent(html_b28a50676018cc53848aace87fd0f6cd);\n",
       "            \n",
       "        \n",
       "\n",
       "        circle_marker_d0812f01ac6ec19a508e4119071bde60.bindPopup(popup_21b06711dcca40fa16a3d610a8b482cf)\n",
       "        ;\n",
       "\n",
       "        \n",
       "    \n",
       "    \n",
       "            var circle_marker_37f38c06556319e1d73c1ec06b1a884e = L.circleMarker(\n",
       "                [40.463667, -3.74922],\n",
       "                {&quot;bubblingMouseEvents&quot;: true, &quot;color&quot;: &quot;blue&quot;, &quot;dashArray&quot;: null, &quot;dashOffset&quot;: null, &quot;fill&quot;: true, &quot;fillColor&quot;: &quot;crimson&quot;, &quot;fillOpacity&quot;: 0.3, &quot;fillRule&quot;: &quot;evenodd&quot;, &quot;lineCap&quot;: &quot;round&quot;, &quot;lineJoin&quot;: &quot;round&quot;, &quot;opacity&quot;: 1.0, &quot;radius&quot;: 2.111791680327869, &quot;stroke&quot;: true, &quot;weight&quot;: 3}\n",
       "            ).addTo(map_63bd30139a6212ba0546419532110ea0);\n",
       "        \n",
       "    \n",
       "        var popup_3dbcd6d59d3d0d81b8dc63559a8770e8 = L.popup({&quot;maxWidth&quot;: &quot;100%&quot;});\n",
       "\n",
       "        \n",
       "            \n",
       "                var html_1d9a579321f2ef70dd7b0c8cb26ba3ce = $(`&lt;div id=&quot;html_1d9a579321f2ef70dd7b0c8cb26ba3ce&quot; style=&quot;width: 100.0%; height: 100.0%;&quot;&gt;&lt;strong&gt;State&lt;/strong&gt;N/a&lt;br&gt;&lt;strong&gt;Confirmed Cases&lt;/strong&gt;211179.1680327869&lt;br&gt;&lt;/div&gt;`)[0];\n",
       "                popup_3dbcd6d59d3d0d81b8dc63559a8770e8.setContent(html_1d9a579321f2ef70dd7b0c8cb26ba3ce);\n",
       "            \n",
       "        \n",
       "\n",
       "        circle_marker_37f38c06556319e1d73c1ec06b1a884e.bindPopup(popup_3dbcd6d59d3d0d81b8dc63559a8770e8)\n",
       "        ;\n",
       "\n",
       "        \n",
       "    \n",
       "    \n",
       "            var circle_marker_23340b0523cd8955efc4b46cf06b72f4 = L.circleMarker(\n",
       "                [7.873054, 80.77179699999998],\n",
       "                {&quot;bubblingMouseEvents&quot;: true, &quot;color&quot;: &quot;blue&quot;, &quot;dashArray&quot;: null, &quot;dashOffset&quot;: null, &quot;fill&quot;: true, &quot;fillColor&quot;: &quot;crimson&quot;, &quot;fillOpacity&quot;: 0.3, &quot;fillRule&quot;: &quot;evenodd&quot;, &quot;lineCap&quot;: &quot;round&quot;, &quot;lineJoin&quot;: &quot;round&quot;, &quot;opacity&quot;: 1.0, &quot;radius&quot;: 0.0137402868852459, &quot;stroke&quot;: true, &quot;weight&quot;: 3}\n",
       "            ).addTo(map_63bd30139a6212ba0546419532110ea0);\n",
       "        \n",
       "    \n",
       "        var popup_43b229434bd93af1a2a87b632f3a44a5 = L.popup({&quot;maxWidth&quot;: &quot;100%&quot;});\n",
       "\n",
       "        \n",
       "            \n",
       "                var html_996dfe4153c307fa07c7d7f9e8cfc0e4 = $(`&lt;div id=&quot;html_996dfe4153c307fa07c7d7f9e8cfc0e4&quot; style=&quot;width: 100.0%; height: 100.0%;&quot;&gt;&lt;strong&gt;State&lt;/strong&gt;N/a&lt;br&gt;&lt;strong&gt;Confirmed Cases&lt;/strong&gt;1374.02868852459&lt;br&gt;&lt;/div&gt;`)[0];\n",
       "                popup_43b229434bd93af1a2a87b632f3a44a5.setContent(html_996dfe4153c307fa07c7d7f9e8cfc0e4);\n",
       "            \n",
       "        \n",
       "\n",
       "        circle_marker_23340b0523cd8955efc4b46cf06b72f4.bindPopup(popup_43b229434bd93af1a2a87b632f3a44a5)\n",
       "        ;\n",
       "\n",
       "        \n",
       "    \n",
       "    \n",
       "            var circle_marker_ecdc6c34f04449f752da0ab5e80a57ab = L.circleMarker(\n",
       "                [12.8628, 30.2176],\n",
       "                {&quot;bubblingMouseEvents&quot;: true, &quot;color&quot;: &quot;blue&quot;, &quot;dashArray&quot;: null, &quot;dashOffset&quot;: null, &quot;fill&quot;: true, &quot;fillColor&quot;: &quot;crimson&quot;, &quot;fillOpacity&quot;: 0.3, &quot;fillRule&quot;: &quot;evenodd&quot;, &quot;lineCap&quot;: &quot;round&quot;, &quot;lineJoin&quot;: &quot;round&quot;, &quot;opacity&quot;: 1.0, &quot;radius&quot;: 0.053216352459016396, &quot;stroke&quot;: true, &quot;weight&quot;: 3}\n",
       "            ).addTo(map_63bd30139a6212ba0546419532110ea0);\n",
       "        \n",
       "    \n",
       "        var popup_752fff0790361d8a71e01f23da36219f = L.popup({&quot;maxWidth&quot;: &quot;100%&quot;});\n",
       "\n",
       "        \n",
       "            \n",
       "                var html_678431b2045f4537096d1c4687a46529 = $(`&lt;div id=&quot;html_678431b2045f4537096d1c4687a46529&quot; style=&quot;width: 100.0%; height: 100.0%;&quot;&gt;&lt;strong&gt;State&lt;/strong&gt;N/a&lt;br&gt;&lt;strong&gt;Confirmed Cases&lt;/strong&gt;5321.63524590164&lt;br&gt;&lt;/div&gt;`)[0];\n",
       "                popup_752fff0790361d8a71e01f23da36219f.setContent(html_678431b2045f4537096d1c4687a46529);\n",
       "            \n",
       "        \n",
       "\n",
       "        circle_marker_ecdc6c34f04449f752da0ab5e80a57ab.bindPopup(popup_752fff0790361d8a71e01f23da36219f)\n",
       "        ;\n",
       "\n",
       "        \n",
       "    \n",
       "    \n",
       "            var circle_marker_d627963021f092a2f63d83f5ae04ffcb = L.circleMarker(\n",
       "                [3.9193, -56.0278],\n",
       "                {&quot;bubblingMouseEvents&quot;: true, &quot;color&quot;: &quot;blue&quot;, &quot;dashArray&quot;: null, &quot;dashOffset&quot;: null, &quot;fill&quot;: true, &quot;fillColor&quot;: &quot;crimson&quot;, &quot;fillOpacity&quot;: 0.3, &quot;fillRule&quot;: &quot;evenodd&quot;, &quot;lineCap&quot;: &quot;round&quot;, &quot;lineJoin&quot;: &quot;round&quot;, &quot;opacity&quot;: 1.0, &quot;radius&quot;: 0.00921672131147541, &quot;stroke&quot;: true, &quot;weight&quot;: 3}\n",
       "            ).addTo(map_63bd30139a6212ba0546419532110ea0);\n",
       "        \n",
       "    \n",
       "        var popup_bbacf361a00ca92c47b83e41e38926a0 = L.popup({&quot;maxWidth&quot;: &quot;100%&quot;});\n",
       "\n",
       "        \n",
       "            \n",
       "                var html_2a7e86358f5d9fca73cf93bae2710881 = $(`&lt;div id=&quot;html_2a7e86358f5d9fca73cf93bae2710881&quot; style=&quot;width: 100.0%; height: 100.0%;&quot;&gt;&lt;strong&gt;State&lt;/strong&gt;N/a&lt;br&gt;&lt;strong&gt;Confirmed Cases&lt;/strong&gt;921.672131147541&lt;br&gt;&lt;/div&gt;`)[0];\n",
       "                popup_bbacf361a00ca92c47b83e41e38926a0.setContent(html_2a7e86358f5d9fca73cf93bae2710881);\n",
       "            \n",
       "        \n",
       "\n",
       "        circle_marker_d627963021f092a2f63d83f5ae04ffcb.bindPopup(popup_bbacf361a00ca92c47b83e41e38926a0)\n",
       "        ;\n",
       "\n",
       "        \n",
       "    \n",
       "    \n",
       "            var circle_marker_7c68c39e87309dbf3d0c2688ef0607d4 = L.circleMarker(\n",
       "                [60.128161, 18.643501],\n",
       "                {&quot;bubblingMouseEvents&quot;: true, &quot;color&quot;: &quot;blue&quot;, &quot;dashArray&quot;: null, &quot;dashOffset&quot;: null, &quot;fill&quot;: true, &quot;fillColor&quot;: &quot;crimson&quot;, &quot;fillOpacity&quot;: 0.3, &quot;fillRule&quot;: &quot;evenodd&quot;, &quot;lineCap&quot;: &quot;round&quot;, &quot;lineJoin&quot;: &quot;round&quot;, &quot;opacity&quot;: 1.0, &quot;radius&quot;: 0.393519631147541, &quot;stroke&quot;: true, &quot;weight&quot;: 3}\n",
       "            ).addTo(map_63bd30139a6212ba0546419532110ea0);\n",
       "        \n",
       "    \n",
       "        var popup_ad9c6bb40943b263e9913b5b7165e8a5 = L.popup({&quot;maxWidth&quot;: &quot;100%&quot;});\n",
       "\n",
       "        \n",
       "            \n",
       "                var html_27396e113ed99af0c4bf9f935f19cec4 = $(`&lt;div id=&quot;html_27396e113ed99af0c4bf9f935f19cec4&quot; style=&quot;width: 100.0%; height: 100.0%;&quot;&gt;&lt;strong&gt;State&lt;/strong&gt;N/a&lt;br&gt;&lt;strong&gt;Confirmed Cases&lt;/strong&gt;39351.9631147541&lt;br&gt;&lt;/div&gt;`)[0];\n",
       "                popup_ad9c6bb40943b263e9913b5b7165e8a5.setContent(html_27396e113ed99af0c4bf9f935f19cec4);\n",
       "            \n",
       "        \n",
       "\n",
       "        circle_marker_7c68c39e87309dbf3d0c2688ef0607d4.bindPopup(popup_ad9c6bb40943b263e9913b5b7165e8a5)\n",
       "        ;\n",
       "\n",
       "        \n",
       "    \n",
       "    \n",
       "            var circle_marker_1bfe446422f5007e1ba7f19ef3ca0e69 = L.circleMarker(\n",
       "                [46.8182, 8.2275],\n",
       "                {&quot;bubblingMouseEvents&quot;: true, &quot;color&quot;: &quot;blue&quot;, &quot;dashArray&quot;: null, &quot;dashOffset&quot;: null, &quot;fill&quot;: true, &quot;fillColor&quot;: &quot;crimson&quot;, &quot;fillOpacity&quot;: 0.3, &quot;fillRule&quot;: &quot;evenodd&quot;, &quot;lineCap&quot;: &quot;round&quot;, &quot;lineJoin&quot;: &quot;round&quot;, &quot;opacity&quot;: 1.0, &quot;radius&quot;: 0.24572299180327867, &quot;stroke&quot;: true, &quot;weight&quot;: 3}\n",
       "            ).addTo(map_63bd30139a6212ba0546419532110ea0);\n",
       "        \n",
       "    \n",
       "        var popup_5a8d115129a18eff137651cd81ed37ce = L.popup({&quot;maxWidth&quot;: &quot;100%&quot;});\n",
       "\n",
       "        \n",
       "            \n",
       "                var html_400dd59ce776fd2d5f2690cfe49ba2cb = $(`&lt;div id=&quot;html_400dd59ce776fd2d5f2690cfe49ba2cb&quot; style=&quot;width: 100.0%; height: 100.0%;&quot;&gt;&lt;strong&gt;State&lt;/strong&gt;N/a&lt;br&gt;&lt;strong&gt;Confirmed Cases&lt;/strong&gt;24572.299180327867&lt;br&gt;&lt;/div&gt;`)[0];\n",
       "                popup_5a8d115129a18eff137651cd81ed37ce.setContent(html_400dd59ce776fd2d5f2690cfe49ba2cb);\n",
       "            \n",
       "        \n",
       "\n",
       "        circle_marker_1bfe446422f5007e1ba7f19ef3ca0e69.bindPopup(popup_5a8d115129a18eff137651cd81ed37ce)\n",
       "        ;\n",
       "\n",
       "        \n",
       "    \n",
       "    \n",
       "            var circle_marker_4f12fce243cfe7d11469698ba0e08d97 = L.circleMarker(\n",
       "                [34.802075, 38.99681500000001],\n",
       "                {&quot;bubblingMouseEvents&quot;: true, &quot;color&quot;: &quot;blue&quot;, &quot;dashArray&quot;: null, &quot;dashOffset&quot;: null, &quot;fill&quot;: true, &quot;fillColor&quot;: &quot;crimson&quot;, &quot;fillOpacity&quot;: 0.3, &quot;fillRule&quot;: &quot;evenodd&quot;, &quot;lineCap&quot;: &quot;round&quot;, &quot;lineJoin&quot;: &quot;round&quot;, &quot;opacity&quot;: 1.0, &quot;radius&quot;: 0.006079795081967213, &quot;stroke&quot;: true, &quot;weight&quot;: 3}\n",
       "            ).addTo(map_63bd30139a6212ba0546419532110ea0);\n",
       "        \n",
       "    \n",
       "        var popup_b288d76f12e2f0b5bf8793c3ab5c8799 = L.popup({&quot;maxWidth&quot;: &quot;100%&quot;});\n",
       "\n",
       "        \n",
       "            \n",
       "                var html_f859118fd0e936267388f56f48ba6e11 = $(`&lt;div id=&quot;html_f859118fd0e936267388f56f48ba6e11&quot; style=&quot;width: 100.0%; height: 100.0%;&quot;&gt;&lt;strong&gt;State&lt;/strong&gt;N/a&lt;br&gt;&lt;strong&gt;Confirmed Cases&lt;/strong&gt;607.9795081967213&lt;br&gt;&lt;/div&gt;`)[0];\n",
       "                popup_b288d76f12e2f0b5bf8793c3ab5c8799.setContent(html_f859118fd0e936267388f56f48ba6e11);\n",
       "            \n",
       "        \n",
       "\n",
       "        circle_marker_4f12fce243cfe7d11469698ba0e08d97.bindPopup(popup_b288d76f12e2f0b5bf8793c3ab5c8799)\n",
       "        ;\n",
       "\n",
       "        \n",
       "    \n",
       "    \n",
       "            var circle_marker_cc131cbfc6966a18e9071c340db040a5 = L.circleMarker(\n",
       "                [34.8021, 38.9968],\n",
       "                {&quot;bubblingMouseEvents&quot;: true, &quot;color&quot;: &quot;blue&quot;, &quot;dashArray&quot;: null, &quot;dashOffset&quot;: null, &quot;fill&quot;: true, &quot;fillColor&quot;: &quot;crimson&quot;, &quot;fillOpacity&quot;: 0.3, &quot;fillRule&quot;: &quot;evenodd&quot;, &quot;lineCap&quot;: &quot;round&quot;, &quot;lineJoin&quot;: &quot;round&quot;, &quot;opacity&quot;: 1.0, &quot;stroke&quot;: true, &quot;weight&quot;: 3}\n",
       "            ).addTo(map_63bd30139a6212ba0546419532110ea0);\n",
       "        \n",
       "    \n",
       "        var popup_afa5243a2f7992ac14e87b9f8771648e = L.popup({&quot;maxWidth&quot;: &quot;100%&quot;});\n",
       "\n",
       "        \n",
       "            \n",
       "                var html_09e15a6f7bf21aea9c0f48c534a74697 = $(`&lt;div id=&quot;html_09e15a6f7bf21aea9c0f48c534a74697&quot; style=&quot;width: 100.0%; height: 100.0%;&quot;&gt;&lt;strong&gt;State&lt;/strong&gt;N/a&lt;br&gt;&lt;strong&gt;Confirmed Cases&lt;/strong&gt;0.0&lt;br&gt;&lt;/div&gt;`)[0];\n",
       "                popup_afa5243a2f7992ac14e87b9f8771648e.setContent(html_09e15a6f7bf21aea9c0f48c534a74697);\n",
       "            \n",
       "        \n",
       "\n",
       "        circle_marker_cc131cbfc6966a18e9071c340db040a5.bindPopup(popup_afa5243a2f7992ac14e87b9f8771648e)\n",
       "        ;\n",
       "\n",
       "        \n",
       "    \n",
       "    \n",
       "            var circle_marker_ffa51ce72a481af5fdde30a923ea94de = L.circleMarker(\n",
       "                [23.7, 121.0],\n",
       "                {&quot;bubblingMouseEvents&quot;: true, &quot;color&quot;: &quot;blue&quot;, &quot;dashArray&quot;: null, &quot;dashOffset&quot;: null, &quot;fill&quot;: true, &quot;fillColor&quot;: &quot;crimson&quot;, &quot;fillOpacity&quot;: 0.3, &quot;fillRule&quot;: &quot;evenodd&quot;, &quot;lineCap&quot;: &quot;round&quot;, &quot;lineJoin&quot;: &quot;round&quot;, &quot;opacity&quot;: 1.0, &quot;radius&quot;: 0.0033957377049180326, &quot;stroke&quot;: true, &quot;weight&quot;: 3}\n",
       "            ).addTo(map_63bd30139a6212ba0546419532110ea0);\n",
       "        \n",
       "    \n",
       "        var popup_a42bd9601f5fc035ff5018b9bcf35e6b = L.popup({&quot;maxWidth&quot;: &quot;100%&quot;});\n",
       "\n",
       "        \n",
       "            \n",
       "                var html_bf4a52bf4ea01bf9daac7d54a4752daa = $(`&lt;div id=&quot;html_bf4a52bf4ea01bf9daac7d54a4752daa&quot; style=&quot;width: 100.0%; height: 100.0%;&quot;&gt;&lt;strong&gt;State&lt;/strong&gt;N/a&lt;br&gt;&lt;strong&gt;Confirmed Cases&lt;/strong&gt;339.57377049180326&lt;br&gt;&lt;/div&gt;`)[0];\n",
       "                popup_a42bd9601f5fc035ff5018b9bcf35e6b.setContent(html_bf4a52bf4ea01bf9daac7d54a4752daa);\n",
       "            \n",
       "        \n",
       "\n",
       "        circle_marker_ffa51ce72a481af5fdde30a923ea94de.bindPopup(popup_a42bd9601f5fc035ff5018b9bcf35e6b)\n",
       "        ;\n",
       "\n",
       "        \n",
       "    \n",
       "    \n",
       "            var circle_marker_d30753dccb2cbf14da7961109aad2f56 = L.circleMarker(\n",
       "                [38.861, 71.2761],\n",
       "                {&quot;bubblingMouseEvents&quot;: true, &quot;color&quot;: &quot;blue&quot;, &quot;dashArray&quot;: null, &quot;dashOffset&quot;: null, &quot;fill&quot;: true, &quot;fillColor&quot;: &quot;crimson&quot;, &quot;fillOpacity&quot;: 0.3, &quot;fillRule&quot;: &quot;evenodd&quot;, &quot;lineCap&quot;: &quot;round&quot;, &quot;lineJoin&quot;: &quot;round&quot;, &quot;opacity&quot;: 1.0, &quot;radius&quot;: 0.034850860655737705, &quot;stroke&quot;: true, &quot;weight&quot;: 3}\n",
       "            ).addTo(map_63bd30139a6212ba0546419532110ea0);\n",
       "        \n",
       "    \n",
       "        var popup_753cb20353eccaa1f93e6cfc70467b63 = L.popup({&quot;maxWidth&quot;: &quot;100%&quot;});\n",
       "\n",
       "        \n",
       "            \n",
       "                var html_e32906fb049ebdbabfbd74fa8fcd725a = $(`&lt;div id=&quot;html_e32906fb049ebdbabfbd74fa8fcd725a&quot; style=&quot;width: 100.0%; height: 100.0%;&quot;&gt;&lt;strong&gt;State&lt;/strong&gt;N/a&lt;br&gt;&lt;strong&gt;Confirmed Cases&lt;/strong&gt;3485.0860655737706&lt;br&gt;&lt;/div&gt;`)[0];\n",
       "                popup_753cb20353eccaa1f93e6cfc70467b63.setContent(html_e32906fb049ebdbabfbd74fa8fcd725a);\n",
       "            \n",
       "        \n",
       "\n",
       "        circle_marker_d30753dccb2cbf14da7961109aad2f56.bindPopup(popup_753cb20353eccaa1f93e6cfc70467b63)\n",
       "        ;\n",
       "\n",
       "        \n",
       "    \n",
       "    \n",
       "            var circle_marker_53064dd8d4c172e82506638aedc0d218 = L.circleMarker(\n",
       "                [-6.369028, 34.888822],\n",
       "                {&quot;bubblingMouseEvents&quot;: true, &quot;color&quot;: &quot;blue&quot;, &quot;dashArray&quot;: null, &quot;dashOffset&quot;: null, &quot;fill&quot;: true, &quot;fillColor&quot;: &quot;crimson&quot;, &quot;fillOpacity&quot;: 0.3, &quot;fillRule&quot;: &quot;evenodd&quot;, &quot;lineCap&quot;: &quot;round&quot;, &quot;lineJoin&quot;: &quot;round&quot;, &quot;opacity&quot;: 1.0, &quot;radius&quot;: 0.0031897950819672134, &quot;stroke&quot;: true, &quot;weight&quot;: 3}\n",
       "            ).addTo(map_63bd30139a6212ba0546419532110ea0);\n",
       "        \n",
       "    \n",
       "        var popup_6bcad05d9d8961c8aa5c4c694526d19a = L.popup({&quot;maxWidth&quot;: &quot;100%&quot;});\n",
       "\n",
       "        \n",
       "            \n",
       "                var html_fbaa3c3579a4521e14794ea202680e69 = $(`&lt;div id=&quot;html_fbaa3c3579a4521e14794ea202680e69&quot; style=&quot;width: 100.0%; height: 100.0%;&quot;&gt;&lt;strong&gt;State&lt;/strong&gt;N/a&lt;br&gt;&lt;strong&gt;Confirmed Cases&lt;/strong&gt;318.9795081967213&lt;br&gt;&lt;/div&gt;`)[0];\n",
       "                popup_6bcad05d9d8961c8aa5c4c694526d19a.setContent(html_fbaa3c3579a4521e14794ea202680e69);\n",
       "            \n",
       "        \n",
       "\n",
       "        circle_marker_53064dd8d4c172e82506638aedc0d218.bindPopup(popup_6bcad05d9d8961c8aa5c4c694526d19a)\n",
       "        ;\n",
       "\n",
       "        \n",
       "    \n",
       "    \n",
       "            var circle_marker_8b7415081c7028cd5dd6c3a42bf0a026 = L.circleMarker(\n",
       "                [15.870032, 100.992541],\n",
       "                {&quot;bubblingMouseEvents&quot;: true, &quot;color&quot;: &quot;blue&quot;, &quot;dashArray&quot;: null, &quot;dashOffset&quot;: null, &quot;fill&quot;: true, &quot;fillColor&quot;: &quot;crimson&quot;, &quot;fillOpacity&quot;: 0.3, &quot;fillRule&quot;: &quot;evenodd&quot;, &quot;lineCap&quot;: &quot;round&quot;, &quot;lineJoin&quot;: &quot;round&quot;, &quot;opacity&quot;: 1.0, &quot;radius&quot;: 0.02282872950819672, &quot;stroke&quot;: true, &quot;weight&quot;: 3}\n",
       "            ).addTo(map_63bd30139a6212ba0546419532110ea0);\n",
       "        \n",
       "    \n",
       "        var popup_38f28e07494a3292ca133dd5d4d27c3b = L.popup({&quot;maxWidth&quot;: &quot;100%&quot;});\n",
       "\n",
       "        \n",
       "            \n",
       "                var html_c1c5385c1fc00edea5ad493e78a8f715 = $(`&lt;div id=&quot;html_c1c5385c1fc00edea5ad493e78a8f715&quot; style=&quot;width: 100.0%; height: 100.0%;&quot;&gt;&lt;strong&gt;State&lt;/strong&gt;N/a&lt;br&gt;&lt;strong&gt;Confirmed Cases&lt;/strong&gt;2282.872950819672&lt;br&gt;&lt;/div&gt;`)[0];\n",
       "                popup_38f28e07494a3292ca133dd5d4d27c3b.setContent(html_c1c5385c1fc00edea5ad493e78a8f715);\n",
       "            \n",
       "        \n",
       "\n",
       "        circle_marker_8b7415081c7028cd5dd6c3a42bf0a026.bindPopup(popup_38f28e07494a3292ca133dd5d4d27c3b)\n",
       "        ;\n",
       "\n",
       "        \n",
       "    \n",
       "    \n",
       "            var circle_marker_236b03d0b882bf7bc95ff288c88dd7b5 = L.circleMarker(\n",
       "                [-8.874217, 125.727539],\n",
       "                {&quot;bubblingMouseEvents&quot;: true, &quot;color&quot;: &quot;blue&quot;, &quot;dashArray&quot;: null, &quot;dashOffset&quot;: null, &quot;fill&quot;: true, &quot;fillColor&quot;: &quot;crimson&quot;, &quot;fillOpacity&quot;: 0.3, &quot;fillRule&quot;: &quot;evenodd&quot;, &quot;lineCap&quot;: &quot;round&quot;, &quot;lineJoin&quot;: &quot;round&quot;, &quot;opacity&quot;: 1.0, &quot;radius&quot;: 0.00016135245901639344, &quot;stroke&quot;: true, &quot;weight&quot;: 3}\n",
       "            ).addTo(map_63bd30139a6212ba0546419532110ea0);\n",
       "        \n",
       "    \n",
       "        var popup_e7b1982745275b2d2808ae9dfc41699f = L.popup({&quot;maxWidth&quot;: &quot;100%&quot;});\n",
       "\n",
       "        \n",
       "            \n",
       "                var html_0fb3f9a8bd0e42022bea4c07e9734e92 = $(`&lt;div id=&quot;html_0fb3f9a8bd0e42022bea4c07e9734e92&quot; style=&quot;width: 100.0%; height: 100.0%;&quot;&gt;&lt;strong&gt;State&lt;/strong&gt;N/a&lt;br&gt;&lt;strong&gt;Confirmed Cases&lt;/strong&gt;16.135245901639344&lt;br&gt;&lt;/div&gt;`)[0];\n",
       "                popup_e7b1982745275b2d2808ae9dfc41699f.setContent(html_0fb3f9a8bd0e42022bea4c07e9734e92);\n",
       "            \n",
       "        \n",
       "\n",
       "        circle_marker_236b03d0b882bf7bc95ff288c88dd7b5.bindPopup(popup_e7b1982745275b2d2808ae9dfc41699f)\n",
       "        ;\n",
       "\n",
       "        \n",
       "    \n",
       "    \n",
       "            var circle_marker_c9c0c70df9a9d3d43b834969db3ce68e = L.circleMarker(\n",
       "                [-8.8742, 125.7275],\n",
       "                {&quot;bubblingMouseEvents&quot;: true, &quot;color&quot;: &quot;blue&quot;, &quot;dashArray&quot;: null, &quot;dashOffset&quot;: null, &quot;fill&quot;: true, &quot;fillColor&quot;: &quot;crimson&quot;, &quot;fillOpacity&quot;: 0.3, &quot;fillRule&quot;: &quot;evenodd&quot;, &quot;lineCap&quot;: &quot;round&quot;, &quot;lineJoin&quot;: &quot;round&quot;, &quot;opacity&quot;: 1.0, &quot;stroke&quot;: true, &quot;weight&quot;: 3}\n",
       "            ).addTo(map_63bd30139a6212ba0546419532110ea0);\n",
       "        \n",
       "    \n",
       "        var popup_8efc61c82019d907eff6071d6002181b = L.popup({&quot;maxWidth&quot;: &quot;100%&quot;});\n",
       "\n",
       "        \n",
       "            \n",
       "                var html_f36b83b2cbf1f22b1be984c8ac85bd64 = $(`&lt;div id=&quot;html_f36b83b2cbf1f22b1be984c8ac85bd64&quot; style=&quot;width: 100.0%; height: 100.0%;&quot;&gt;&lt;strong&gt;State&lt;/strong&gt;N/a&lt;br&gt;&lt;strong&gt;Confirmed Cases&lt;/strong&gt;0.0&lt;br&gt;&lt;/div&gt;`)[0];\n",
       "                popup_8efc61c82019d907eff6071d6002181b.setContent(html_f36b83b2cbf1f22b1be984c8ac85bd64);\n",
       "            \n",
       "        \n",
       "\n",
       "        circle_marker_c9c0c70df9a9d3d43b834969db3ce68e.bindPopup(popup_8efc61c82019d907eff6071d6002181b)\n",
       "        ;\n",
       "\n",
       "        \n",
       "    \n",
       "    \n",
       "            var circle_marker_602a1baa2c12f0ac6b8c0c21f3db524e = L.circleMarker(\n",
       "                [8.6195, 0.8248],\n",
       "                {&quot;bubblingMouseEvents&quot;: true, &quot;color&quot;: &quot;blue&quot;, &quot;dashArray&quot;: null, &quot;dashOffset&quot;: null, &quot;fill&quot;: true, &quot;fillColor&quot;: &quot;crimson&quot;, &quot;fillOpacity&quot;: 0.3, &quot;fillRule&quot;: &quot;evenodd&quot;, &quot;lineCap&quot;: &quot;round&quot;, &quot;lineJoin&quot;: &quot;round&quot;, &quot;opacity&quot;: 1.0, &quot;radius&quot;: 0.0049022950819672135, &quot;stroke&quot;: true, &quot;weight&quot;: 3}\n",
       "            ).addTo(map_63bd30139a6212ba0546419532110ea0);\n",
       "        \n",
       "    \n",
       "        var popup_39c0b8e76d25014dab9830d052c6db60 = L.popup({&quot;maxWidth&quot;: &quot;100%&quot;});\n",
       "\n",
       "        \n",
       "            \n",
       "                var html_dcaa1668b1e889737fa97ef576767776 = $(`&lt;div id=&quot;html_dcaa1668b1e889737fa97ef576767776&quot; style=&quot;width: 100.0%; height: 100.0%;&quot;&gt;&lt;strong&gt;State&lt;/strong&gt;N/a&lt;br&gt;&lt;strong&gt;Confirmed Cases&lt;/strong&gt;490.2295081967213&lt;br&gt;&lt;/div&gt;`)[0];\n",
       "                popup_39c0b8e76d25014dab9830d052c6db60.setContent(html_dcaa1668b1e889737fa97ef576767776);\n",
       "            \n",
       "        \n",
       "\n",
       "        circle_marker_602a1baa2c12f0ac6b8c0c21f3db524e.bindPopup(popup_39c0b8e76d25014dab9830d052c6db60)\n",
       "        ;\n",
       "\n",
       "        \n",
       "    \n",
       "    \n",
       "            var circle_marker_d4a688c9f5319706ab2e08b2ae39d503 = L.circleMarker(\n",
       "                [10.6918, -61.2225],\n",
       "                {&quot;bubblingMouseEvents&quot;: true, &quot;color&quot;: &quot;blue&quot;, &quot;dashArray&quot;: null, &quot;dashOffset&quot;: null, &quot;fill&quot;: true, &quot;fillColor&quot;: &quot;crimson&quot;, &quot;fillOpacity&quot;: 0.3, &quot;fillRule&quot;: &quot;evenodd&quot;, &quot;lineCap&quot;: &quot;round&quot;, &quot;lineJoin&quot;: &quot;round&quot;, &quot;opacity&quot;: 1.0, &quot;radius&quot;: 0.0039806147540983605, &quot;stroke&quot;: true, &quot;weight&quot;: 3}\n",
       "            ).addTo(map_63bd30139a6212ba0546419532110ea0);\n",
       "        \n",
       "    \n",
       "        var popup_e2ee0d660fd0c696f3aad8e3bbc3f05d = L.popup({&quot;maxWidth&quot;: &quot;100%&quot;});\n",
       "\n",
       "        \n",
       "            \n",
       "                var html_7ca5ddf1212ff2b65869cbaefeb9903c = $(`&lt;div id=&quot;html_7ca5ddf1212ff2b65869cbaefeb9903c&quot; style=&quot;width: 100.0%; height: 100.0%;&quot;&gt;&lt;strong&gt;State&lt;/strong&gt;N/a&lt;br&gt;&lt;strong&gt;Confirmed Cases&lt;/strong&gt;398.0614754098361&lt;br&gt;&lt;/div&gt;`)[0];\n",
       "                popup_e2ee0d660fd0c696f3aad8e3bbc3f05d.setContent(html_7ca5ddf1212ff2b65869cbaefeb9903c);\n",
       "            \n",
       "        \n",
       "\n",
       "        circle_marker_d4a688c9f5319706ab2e08b2ae39d503.bindPopup(popup_e2ee0d660fd0c696f3aad8e3bbc3f05d)\n",
       "        ;\n",
       "\n",
       "        \n",
       "    \n",
       "    \n",
       "            var circle_marker_6db31c905fad2aacbf7d2f09b272d665 = L.circleMarker(\n",
       "                [33.886917, 9.537499],\n",
       "                {&quot;bubblingMouseEvents&quot;: true, &quot;color&quot;: &quot;blue&quot;, &quot;dashArray&quot;: null, &quot;dashOffset&quot;: null, &quot;fill&quot;: true, &quot;fillColor&quot;: &quot;crimson&quot;, &quot;fillOpacity&quot;: 0.3, &quot;fillRule&quot;: &quot;evenodd&quot;, &quot;lineCap&quot;: &quot;round&quot;, &quot;lineJoin&quot;: &quot;round&quot;, &quot;opacity&quot;: 1.0, &quot;radius&quot;: 0.014119590163934426, &quot;stroke&quot;: true, &quot;weight&quot;: 3}\n",
       "            ).addTo(map_63bd30139a6212ba0546419532110ea0);\n",
       "        \n",
       "    \n",
       "        var popup_ddfc58834dd5b8167c8a0822a8d55737 = L.popup({&quot;maxWidth&quot;: &quot;100%&quot;});\n",
       "\n",
       "        \n",
       "            \n",
       "                var html_aa221b6aa9455bd6def13894067d3d6d = $(`&lt;div id=&quot;html_aa221b6aa9455bd6def13894067d3d6d&quot; style=&quot;width: 100.0%; height: 100.0%;&quot;&gt;&lt;strong&gt;State&lt;/strong&gt;N/a&lt;br&gt;&lt;strong&gt;Confirmed Cases&lt;/strong&gt;1411.9590163934427&lt;br&gt;&lt;/div&gt;`)[0];\n",
       "                popup_ddfc58834dd5b8167c8a0822a8d55737.setContent(html_aa221b6aa9455bd6def13894067d3d6d);\n",
       "            \n",
       "        \n",
       "\n",
       "        circle_marker_6db31c905fad2aacbf7d2f09b272d665.bindPopup(popup_ddfc58834dd5b8167c8a0822a8d55737)\n",
       "        ;\n",
       "\n",
       "        \n",
       "    \n",
       "    \n",
       "            var circle_marker_1505afb41b0a25874ccd0d8273fca540 = L.circleMarker(\n",
       "                [38.9637, 35.2433],\n",
       "                {&quot;bubblingMouseEvents&quot;: true, &quot;color&quot;: &quot;blue&quot;, &quot;dashArray&quot;: null, &quot;dashOffset&quot;: null, &quot;fill&quot;: true, &quot;fillColor&quot;: &quot;crimson&quot;, &quot;fillOpacity&quot;: 0.3, &quot;fillRule&quot;: &quot;evenodd&quot;, &quot;lineCap&quot;: &quot;round&quot;, &quot;lineJoin&quot;: &quot;round&quot;, &quot;opacity&quot;: 1.0, &quot;radius&quot;: 1.3367253278688525, &quot;stroke&quot;: true, &quot;weight&quot;: 3}\n",
       "            ).addTo(map_63bd30139a6212ba0546419532110ea0);\n",
       "        \n",
       "    \n",
       "        var popup_3ecb29cdbcff2bc7da9b261e06fbc5e8 = L.popup({&quot;maxWidth&quot;: &quot;100%&quot;});\n",
       "\n",
       "        \n",
       "            \n",
       "                var html_7b6118ddd696aac4360593061874969b = $(`&lt;div id=&quot;html_7b6118ddd696aac4360593061874969b&quot; style=&quot;width: 100.0%; height: 100.0%;&quot;&gt;&lt;strong&gt;State&lt;/strong&gt;N/a&lt;br&gt;&lt;strong&gt;Confirmed Cases&lt;/strong&gt;133672.53278688525&lt;br&gt;&lt;/div&gt;`)[0];\n",
       "                popup_3ecb29cdbcff2bc7da9b261e06fbc5e8.setContent(html_7b6118ddd696aac4360593061874969b);\n",
       "            \n",
       "        \n",
       "\n",
       "        circle_marker_1505afb41b0a25874ccd0d8273fca540.bindPopup(popup_3ecb29cdbcff2bc7da9b261e06fbc5e8)\n",
       "        ;\n",
       "\n",
       "        \n",
       "    \n",
       "    \n",
       "            var circle_marker_02d3cb6257a6a64e8c11efea3793989a = L.circleMarker(\n",
       "                [40.0, -100.0],\n",
       "                {&quot;bubblingMouseEvents&quot;: true, &quot;color&quot;: &quot;blue&quot;, &quot;dashArray&quot;: null, &quot;dashOffset&quot;: null, &quot;fill&quot;: true, &quot;fillColor&quot;: &quot;crimson&quot;, &quot;fillOpacity&quot;: 0.3, &quot;fillRule&quot;: &quot;evenodd&quot;, &quot;lineCap&quot;: &quot;round&quot;, &quot;lineJoin&quot;: &quot;round&quot;, &quot;opacity&quot;: 1.0, &quot;radius&quot;: 22.296227213114758, &quot;stroke&quot;: true, &quot;weight&quot;: 3}\n",
       "            ).addTo(map_63bd30139a6212ba0546419532110ea0);\n",
       "        \n",
       "    \n",
       "        var popup_1a01855bd64da52f3848f897b1aba8ef = L.popup({&quot;maxWidth&quot;: &quot;100%&quot;});\n",
       "\n",
       "        \n",
       "            \n",
       "                var html_de87b167f4fb1c8102625e929b7caa73 = $(`&lt;div id=&quot;html_de87b167f4fb1c8102625e929b7caa73&quot; style=&quot;width: 100.0%; height: 100.0%;&quot;&gt;&lt;strong&gt;State&lt;/strong&gt;N/a&lt;br&gt;&lt;strong&gt;Confirmed Cases&lt;/strong&gt;2229622.7213114756&lt;br&gt;&lt;/div&gt;`)[0];\n",
       "                popup_1a01855bd64da52f3848f897b1aba8ef.setContent(html_de87b167f4fb1c8102625e929b7caa73);\n",
       "            \n",
       "        \n",
       "\n",
       "        circle_marker_02d3cb6257a6a64e8c11efea3793989a.bindPopup(popup_1a01855bd64da52f3848f897b1aba8ef)\n",
       "        ;\n",
       "\n",
       "        \n",
       "    \n",
       "    \n",
       "            var circle_marker_146b762d10090405fdf178520f07f225 = L.circleMarker(\n",
       "                [1.373333, 32.290275],\n",
       "                {&quot;bubblingMouseEvents&quot;: true, &quot;color&quot;: &quot;blue&quot;, &quot;dashArray&quot;: null, &quot;dashOffset&quot;: null, &quot;fill&quot;: true, &quot;fillColor&quot;: &quot;crimson&quot;, &quot;fillOpacity&quot;: 0.3, &quot;fillRule&quot;: &quot;evenodd&quot;, &quot;lineCap&quot;: &quot;round&quot;, &quot;lineJoin&quot;: &quot;round&quot;, &quot;opacity&quot;: 1.0, &quot;radius&quot;: 0.00865860655737705, &quot;stroke&quot;: true, &quot;weight&quot;: 3}\n",
       "            ).addTo(map_63bd30139a6212ba0546419532110ea0);\n",
       "        \n",
       "    \n",
       "        var popup_dc2b10dbab8e2dd3303b9038896eaa6d = L.popup({&quot;maxWidth&quot;: &quot;100%&quot;});\n",
       "\n",
       "        \n",
       "            \n",
       "                var html_53415297e7e905a88141e77be4be1519 = $(`&lt;div id=&quot;html_53415297e7e905a88141e77be4be1519&quot; style=&quot;width: 100.0%; height: 100.0%;&quot;&gt;&lt;strong&gt;State&lt;/strong&gt;N/a&lt;br&gt;&lt;strong&gt;Confirmed Cases&lt;/strong&gt;865.860655737705&lt;br&gt;&lt;/div&gt;`)[0];\n",
       "                popup_dc2b10dbab8e2dd3303b9038896eaa6d.setContent(html_53415297e7e905a88141e77be4be1519);\n",
       "            \n",
       "        \n",
       "\n",
       "        circle_marker_146b762d10090405fdf178520f07f225.bindPopup(popup_dc2b10dbab8e2dd3303b9038896eaa6d)\n",
       "        ;\n",
       "\n",
       "        \n",
       "    \n",
       "    \n",
       "            var circle_marker_0c53816295dee4261defd6287f57e158 = L.circleMarker(\n",
       "                [48.3794, 31.1656],\n",
       "                {&quot;bubblingMouseEvents&quot;: true, &quot;color&quot;: &quot;blue&quot;, &quot;dashArray&quot;: null, &quot;dashOffset&quot;: null, &quot;fill&quot;: true, &quot;fillColor&quot;: &quot;crimson&quot;, &quot;fillOpacity&quot;: 0.3, &quot;fillRule&quot;: &quot;evenodd&quot;, &quot;lineCap&quot;: &quot;round&quot;, &quot;lineJoin&quot;: &quot;round&quot;, &quot;opacity&quot;: 1.0, &quot;radius&quot;: 0.3960960655737705, &quot;stroke&quot;: true, &quot;weight&quot;: 3}\n",
       "            ).addTo(map_63bd30139a6212ba0546419532110ea0);\n",
       "        \n",
       "    \n",
       "        var popup_429311cae7a470ec07d852708b39d5ed = L.popup({&quot;maxWidth&quot;: &quot;100%&quot;});\n",
       "\n",
       "        \n",
       "            \n",
       "                var html_068af52d36cda01bc3138337b160dee3 = $(`&lt;div id=&quot;html_068af52d36cda01bc3138337b160dee3&quot; style=&quot;width: 100.0%; height: 100.0%;&quot;&gt;&lt;strong&gt;State&lt;/strong&gt;N/a&lt;br&gt;&lt;strong&gt;Confirmed Cases&lt;/strong&gt;39609.60655737705&lt;br&gt;&lt;/div&gt;`)[0];\n",
       "                popup_429311cae7a470ec07d852708b39d5ed.setContent(html_068af52d36cda01bc3138337b160dee3);\n",
       "            \n",
       "        \n",
       "\n",
       "        circle_marker_0c53816295dee4261defd6287f57e158.bindPopup(popup_429311cae7a470ec07d852708b39d5ed)\n",
       "        ;\n",
       "\n",
       "        \n",
       "    \n",
       "    \n",
       "            var circle_marker_d64a0ce6044433c628d4d69b3363689d = L.circleMarker(\n",
       "                [23.424076, 53.847818],\n",
       "                {&quot;bubblingMouseEvents&quot;: true, &quot;color&quot;: &quot;blue&quot;, &quot;dashArray&quot;: null, &quot;dashOffset&quot;: null, &quot;fill&quot;: true, &quot;fillColor&quot;: &quot;crimson&quot;, &quot;fillOpacity&quot;: 0.3, &quot;fillRule&quot;: &quot;evenodd&quot;, &quot;lineCap&quot;: &quot;round&quot;, &quot;lineJoin&quot;: &quot;round&quot;, &quot;opacity&quot;: 1.0, &quot;radius&quot;: 0.3092346721311475, &quot;stroke&quot;: true, &quot;weight&quot;: 3}\n",
       "            ).addTo(map_63bd30139a6212ba0546419532110ea0);\n",
       "        \n",
       "    \n",
       "        var popup_0946a3dc7a60e840ad3c236ed28684ab = L.popup({&quot;maxWidth&quot;: &quot;100%&quot;});\n",
       "\n",
       "        \n",
       "            \n",
       "                var html_abd2eab8d2e73f71f72b7d4e52ec5dae = $(`&lt;div id=&quot;html_abd2eab8d2e73f71f72b7d4e52ec5dae&quot; style=&quot;width: 100.0%; height: 100.0%;&quot;&gt;&lt;strong&gt;State&lt;/strong&gt;N/a&lt;br&gt;&lt;strong&gt;Confirmed Cases&lt;/strong&gt;30923.467213114753&lt;br&gt;&lt;/div&gt;`)[0];\n",
       "                popup_0946a3dc7a60e840ad3c236ed28684ab.setContent(html_abd2eab8d2e73f71f72b7d4e52ec5dae);\n",
       "            \n",
       "        \n",
       "\n",
       "        circle_marker_d64a0ce6044433c628d4d69b3363689d.bindPopup(popup_0946a3dc7a60e840ad3c236ed28684ab)\n",
       "        ;\n",
       "\n",
       "        \n",
       "    \n",
       "    \n",
       "            var circle_marker_f55c18345b0e35813a33eb10e3c99ada = L.circleMarker(\n",
       "                [55.3781, -3.4360000000000004],\n",
       "                {&quot;bubblingMouseEvents&quot;: true, &quot;color&quot;: &quot;blue&quot;, &quot;dashArray&quot;: null, &quot;dashOffset&quot;: null, &quot;fill&quot;: true, &quot;fillColor&quot;: &quot;crimson&quot;, &quot;fillOpacity&quot;: 0.3, &quot;fillRule&quot;: &quot;evenodd&quot;, &quot;lineCap&quot;: &quot;round&quot;, &quot;lineJoin&quot;: &quot;round&quot;, &quot;opacity&quot;: 1.0, &quot;radius&quot;: 1.8570068032786884, &quot;stroke&quot;: true, &quot;weight&quot;: 3}\n",
       "            ).addTo(map_63bd30139a6212ba0546419532110ea0);\n",
       "        \n",
       "    \n",
       "        var popup_25449e20d922779ead368090d60dbee3 = L.popup({&quot;maxWidth&quot;: &quot;100%&quot;});\n",
       "\n",
       "        \n",
       "            \n",
       "                var html_d09b8090e3e650340e6f967a63bc84bc = $(`&lt;div id=&quot;html_d09b8090e3e650340e6f967a63bc84bc&quot; style=&quot;width: 100.0%; height: 100.0%;&quot;&gt;&lt;strong&gt;State&lt;/strong&gt;N/a&lt;br&gt;&lt;strong&gt;Confirmed Cases&lt;/strong&gt;185700.68032786885&lt;br&gt;&lt;/div&gt;`)[0];\n",
       "                popup_25449e20d922779ead368090d60dbee3.setContent(html_d09b8090e3e650340e6f967a63bc84bc);\n",
       "            \n",
       "        \n",
       "\n",
       "        circle_marker_f55c18345b0e35813a33eb10e3c99ada.bindPopup(popup_25449e20d922779ead368090d60dbee3)\n",
       "        ;\n",
       "\n",
       "        \n",
       "    \n",
       "    \n",
       "            var circle_marker_f1eee7f439ac76c155fd31c27b901460 = L.circleMarker(\n",
       "                [-32.5228, -55.7658],\n",
       "                {&quot;bubblingMouseEvents&quot;: true, &quot;color&quot;: &quot;blue&quot;, &quot;dashArray&quot;: null, &quot;dashOffset&quot;: null, &quot;fill&quot;: true, &quot;fillColor&quot;: &quot;crimson&quot;, &quot;fillOpacity&quot;: 0.3, &quot;fillRule&quot;: &quot;evenodd&quot;, &quot;lineCap&quot;: &quot;round&quot;, &quot;lineJoin&quot;: &quot;round&quot;, &quot;opacity&quot;: 1.0, &quot;radius&quot;: 0.007437213114754098, &quot;stroke&quot;: true, &quot;weight&quot;: 3}\n",
       "            ).addTo(map_63bd30139a6212ba0546419532110ea0);\n",
       "        \n",
       "    \n",
       "        var popup_3a99eda1419451a917c67ecfb22ffc15 = L.popup({&quot;maxWidth&quot;: &quot;100%&quot;});\n",
       "\n",
       "        \n",
       "            \n",
       "                var html_12de2985188681544df173d21967bd8d = $(`&lt;div id=&quot;html_12de2985188681544df173d21967bd8d&quot; style=&quot;width: 100.0%; height: 100.0%;&quot;&gt;&lt;strong&gt;State&lt;/strong&gt;N/a&lt;br&gt;&lt;strong&gt;Confirmed Cases&lt;/strong&gt;743.7213114754098&lt;br&gt;&lt;/div&gt;`)[0];\n",
       "                popup_3a99eda1419451a917c67ecfb22ffc15.setContent(html_12de2985188681544df173d21967bd8d);\n",
       "            \n",
       "        \n",
       "\n",
       "        circle_marker_f1eee7f439ac76c155fd31c27b901460.bindPopup(popup_3a99eda1419451a917c67ecfb22ffc15)\n",
       "        ;\n",
       "\n",
       "        \n",
       "    \n",
       "    \n",
       "            var circle_marker_28331dd0b11c2743bb5e54a941d90f83 = L.circleMarker(\n",
       "                [41.377491, 64.585262],\n",
       "                {&quot;bubblingMouseEvents&quot;: true, &quot;color&quot;: &quot;blue&quot;, &quot;dashArray&quot;: null, &quot;dashOffset&quot;: null, &quot;fill&quot;: true, &quot;fillColor&quot;: &quot;crimson&quot;, &quot;fillOpacity&quot;: 0.3, &quot;fillRule&quot;: &quot;evenodd&quot;, &quot;lineCap&quot;: &quot;round&quot;, &quot;lineJoin&quot;: &quot;round&quot;, &quot;opacity&quot;: 1.0, &quot;radius&quot;: 0.115305, &quot;stroke&quot;: true, &quot;weight&quot;: 3}\n",
       "            ).addTo(map_63bd30139a6212ba0546419532110ea0);\n",
       "        \n",
       "    \n",
       "        var popup_a41f1d1f2c36dbd194d2fbc1c6619e2a = L.popup({&quot;maxWidth&quot;: &quot;100%&quot;});\n",
       "\n",
       "        \n",
       "            \n",
       "                var html_38a33b6a9499a04d104e58abb23eb8b1 = $(`&lt;div id=&quot;html_38a33b6a9499a04d104e58abb23eb8b1&quot; style=&quot;width: 100.0%; height: 100.0%;&quot;&gt;&lt;strong&gt;State&lt;/strong&gt;N/a&lt;br&gt;&lt;strong&gt;Confirmed Cases&lt;/strong&gt;11530.5&lt;br&gt;&lt;/div&gt;`)[0];\n",
       "                popup_a41f1d1f2c36dbd194d2fbc1c6619e2a.setContent(html_38a33b6a9499a04d104e58abb23eb8b1);\n",
       "            \n",
       "        \n",
       "\n",
       "        circle_marker_28331dd0b11c2743bb5e54a941d90f83.bindPopup(popup_a41f1d1f2c36dbd194d2fbc1c6619e2a)\n",
       "        ;\n",
       "\n",
       "        \n",
       "    \n",
       "    \n",
       "            var circle_marker_c231a1dc5d13a4c4e66f745026a58868 = L.circleMarker(\n",
       "                [6.4238, -66.5897],\n",
       "                {&quot;bubblingMouseEvents&quot;: true, &quot;color&quot;: &quot;blue&quot;, &quot;dashArray&quot;: null, &quot;dashOffset&quot;: null, &quot;fill&quot;: true, &quot;fillColor&quot;: &quot;crimson&quot;, &quot;fillOpacity&quot;: 0.3, &quot;fillRule&quot;: &quot;evenodd&quot;, &quot;lineCap&quot;: &quot;round&quot;, &quot;lineJoin&quot;: &quot;round&quot;, &quot;opacity&quot;: 1.0, &quot;radius&quot;: 0.11186663934426229, &quot;stroke&quot;: true, &quot;weight&quot;: 3}\n",
       "            ).addTo(map_63bd30139a6212ba0546419532110ea0);\n",
       "        \n",
       "    \n",
       "        var popup_7e5799ba7a197ebbb5e3dcf6cc60c163 = L.popup({&quot;maxWidth&quot;: &quot;100%&quot;});\n",
       "\n",
       "        \n",
       "            \n",
       "                var html_9ab4c2c3a03b904f8cbd1ea76ecd0c69 = $(`&lt;div id=&quot;html_9ab4c2c3a03b904f8cbd1ea76ecd0c69&quot; style=&quot;width: 100.0%; height: 100.0%;&quot;&gt;&lt;strong&gt;State&lt;/strong&gt;N/a&lt;br&gt;&lt;strong&gt;Confirmed Cases&lt;/strong&gt;11186.66393442623&lt;br&gt;&lt;/div&gt;`)[0];\n",
       "                popup_7e5799ba7a197ebbb5e3dcf6cc60c163.setContent(html_9ab4c2c3a03b904f8cbd1ea76ecd0c69);\n",
       "            \n",
       "        \n",
       "\n",
       "        circle_marker_c231a1dc5d13a4c4e66f745026a58868.bindPopup(popup_7e5799ba7a197ebbb5e3dcf6cc60c163)\n",
       "        ;\n",
       "\n",
       "        \n",
       "    \n",
       "    \n",
       "            var circle_marker_9d0ba2aa512c42aa475df736cd81be1e = L.circleMarker(\n",
       "                [14.058324, 108.277199],\n",
       "                {&quot;bubblingMouseEvents&quot;: true, &quot;color&quot;: &quot;blue&quot;, &quot;dashArray&quot;: null, &quot;dashOffset&quot;: null, &quot;fill&quot;: true, &quot;fillColor&quot;: &quot;crimson&quot;, &quot;fillOpacity&quot;: 0.3, &quot;fillRule&quot;: &quot;evenodd&quot;, &quot;lineCap&quot;: &quot;round&quot;, &quot;lineJoin&quot;: &quot;round&quot;, &quot;opacity&quot;: 1.0, &quot;radius&quot;: 0.0038095081967213116, &quot;stroke&quot;: true, &quot;weight&quot;: 3}\n",
       "            ).addTo(map_63bd30139a6212ba0546419532110ea0);\n",
       "        \n",
       "    \n",
       "        var popup_9101450b07942a36896bcaf0a66a34c5 = L.popup({&quot;maxWidth&quot;: &quot;100%&quot;});\n",
       "\n",
       "        \n",
       "            \n",
       "                var html_36dd20ebcd7d7c840323117146a4793e = $(`&lt;div id=&quot;html_36dd20ebcd7d7c840323117146a4793e&quot; style=&quot;width: 100.0%; height: 100.0%;&quot;&gt;&lt;strong&gt;State&lt;/strong&gt;N/a&lt;br&gt;&lt;strong&gt;Confirmed Cases&lt;/strong&gt;380.95081967213116&lt;br&gt;&lt;/div&gt;`)[0];\n",
       "                popup_9101450b07942a36896bcaf0a66a34c5.setContent(html_36dd20ebcd7d7c840323117146a4793e);\n",
       "            \n",
       "        \n",
       "\n",
       "        circle_marker_9d0ba2aa512c42aa475df736cd81be1e.bindPopup(popup_9101450b07942a36896bcaf0a66a34c5)\n",
       "        ;\n",
       "\n",
       "        \n",
       "    \n",
       "    \n",
       "            var circle_marker_11ae713317546413a7112153f9f9c20b = L.circleMarker(\n",
       "                [31.9522, 35.2332],\n",
       "                {&quot;bubblingMouseEvents&quot;: true, &quot;color&quot;: &quot;blue&quot;, &quot;dashArray&quot;: null, &quot;dashOffset&quot;: null, &quot;fill&quot;: true, &quot;fillColor&quot;: &quot;crimson&quot;, &quot;fillOpacity&quot;: 0.3, &quot;fillRule&quot;: &quot;evenodd&quot;, &quot;lineCap&quot;: &quot;round&quot;, &quot;lineJoin&quot;: &quot;round&quot;, &quot;opacity&quot;: 1.0, &quot;radius&quot;: 0.058167336065573776, &quot;stroke&quot;: true, &quot;weight&quot;: 3}\n",
       "            ).addTo(map_63bd30139a6212ba0546419532110ea0);\n",
       "        \n",
       "    \n",
       "        var popup_6a981c60b9c2b9db73a948907a8ad993 = L.popup({&quot;maxWidth&quot;: &quot;100%&quot;});\n",
       "\n",
       "        \n",
       "            \n",
       "                var html_4e489954c9d0a948d78ddee648f045af = $(`&lt;div id=&quot;html_4e489954c9d0a948d78ddee648f045af&quot; style=&quot;width: 100.0%; height: 100.0%;&quot;&gt;&lt;strong&gt;State&lt;/strong&gt;N/a&lt;br&gt;&lt;strong&gt;Confirmed Cases&lt;/strong&gt;5816.733606557377&lt;br&gt;&lt;/div&gt;`)[0];\n",
       "                popup_6a981c60b9c2b9db73a948907a8ad993.setContent(html_4e489954c9d0a948d78ddee648f045af);\n",
       "            \n",
       "        \n",
       "\n",
       "        circle_marker_11ae713317546413a7112153f9f9c20b.bindPopup(popup_6a981c60b9c2b9db73a948907a8ad993)\n",
       "        ;\n",
       "\n",
       "        \n",
       "    \n",
       "    \n",
       "            var circle_marker_541a805215c42ced132116ed488f3eca = L.circleMarker(\n",
       "                [24.2155, -12.8858],\n",
       "                {&quot;bubblingMouseEvents&quot;: true, &quot;color&quot;: &quot;blue&quot;, &quot;dashArray&quot;: null, &quot;dashOffset&quot;: null, &quot;fill&quot;: true, &quot;fillColor&quot;: &quot;crimson&quot;, &quot;fillOpacity&quot;: 0.3, &quot;fillRule&quot;: &quot;evenodd&quot;, &quot;lineCap&quot;: &quot;round&quot;, &quot;lineJoin&quot;: &quot;round&quot;, &quot;opacity&quot;: 1.0, &quot;radius&quot;: 5.987704918032786e-05, &quot;stroke&quot;: true, &quot;weight&quot;: 3}\n",
       "            ).addTo(map_63bd30139a6212ba0546419532110ea0);\n",
       "        \n",
       "    \n",
       "        var popup_a52c98fba1286b0a8206adedfeccb5c9 = L.popup({&quot;maxWidth&quot;: &quot;100%&quot;});\n",
       "\n",
       "        \n",
       "            \n",
       "                var html_79fb75f4f2ec96c450c5334a82584ef7 = $(`&lt;div id=&quot;html_79fb75f4f2ec96c450c5334a82584ef7&quot; style=&quot;width: 100.0%; height: 100.0%;&quot;&gt;&lt;strong&gt;State&lt;/strong&gt;N/a&lt;br&gt;&lt;strong&gt;Confirmed Cases&lt;/strong&gt;5.987704918032787&lt;br&gt;&lt;/div&gt;`)[0];\n",
       "                popup_a52c98fba1286b0a8206adedfeccb5c9.setContent(html_79fb75f4f2ec96c450c5334a82584ef7);\n",
       "            \n",
       "        \n",
       "\n",
       "        circle_marker_541a805215c42ced132116ed488f3eca.bindPopup(popup_a52c98fba1286b0a8206adedfeccb5c9)\n",
       "        ;\n",
       "\n",
       "        \n",
       "    \n",
       "    \n",
       "            var circle_marker_f28f7a78831b5aa782a9cd73ce1432b8 = L.circleMarker(\n",
       "                [15.552727, 48.516388],\n",
       "                {&quot;bubblingMouseEvents&quot;: true, &quot;color&quot;: &quot;blue&quot;, &quot;dashArray&quot;: null, &quot;dashOffset&quot;: null, &quot;fill&quot;: true, &quot;fillColor&quot;: &quot;crimson&quot;, &quot;fillOpacity&quot;: 0.3, &quot;fillRule&quot;: &quot;evenodd&quot;, &quot;lineCap&quot;: &quot;round&quot;, &quot;lineJoin&quot;: &quot;round&quot;, &quot;opacity&quot;: 1.0, &quot;radius&quot;: 0.007119467213114753, &quot;stroke&quot;: true, &quot;weight&quot;: 3}\n",
       "            ).addTo(map_63bd30139a6212ba0546419532110ea0);\n",
       "        \n",
       "    \n",
       "        var popup_043d8ffeec0c58d2efadf880a9127f32 = L.popup({&quot;maxWidth&quot;: &quot;100%&quot;});\n",
       "\n",
       "        \n",
       "            \n",
       "                var html_f177c745d6713338abf016a390620be1 = $(`&lt;div id=&quot;html_f177c745d6713338abf016a390620be1&quot; style=&quot;width: 100.0%; height: 100.0%;&quot;&gt;&lt;strong&gt;State&lt;/strong&gt;N/a&lt;br&gt;&lt;strong&gt;Confirmed Cases&lt;/strong&gt;711.9467213114754&lt;br&gt;&lt;/div&gt;`)[0];\n",
       "                popup_043d8ffeec0c58d2efadf880a9127f32.setContent(html_f177c745d6713338abf016a390620be1);\n",
       "            \n",
       "        \n",
       "\n",
       "        circle_marker_f28f7a78831b5aa782a9cd73ce1432b8.bindPopup(popup_043d8ffeec0c58d2efadf880a9127f32)\n",
       "        ;\n",
       "\n",
       "        \n",
       "    \n",
       "    \n",
       "            var circle_marker_832f5342aeacb8ddfc08d6c086c038ad = L.circleMarker(\n",
       "                [-13.133897, 27.849332],\n",
       "                {&quot;bubblingMouseEvents&quot;: true, &quot;color&quot;: &quot;blue&quot;, &quot;dashArray&quot;: null, &quot;dashOffset&quot;: null, &quot;fill&quot;: true, &quot;fillColor&quot;: &quot;crimson&quot;, &quot;fillOpacity&quot;: 0.3, &quot;fillRule&quot;: &quot;evenodd&quot;, &quot;lineCap&quot;: &quot;round&quot;, &quot;lineJoin&quot;: &quot;round&quot;, &quot;opacity&quot;: 1.0, &quot;radius&quot;: 0.02958184426229508, &quot;stroke&quot;: true, &quot;weight&quot;: 3}\n",
       "            ).addTo(map_63bd30139a6212ba0546419532110ea0);\n",
       "        \n",
       "    \n",
       "        var popup_f61a74b3ae3606256b9ff57978d01853 = L.popup({&quot;maxWidth&quot;: &quot;100%&quot;});\n",
       "\n",
       "        \n",
       "            \n",
       "                var html_bac5c0c3ee6d5bbd1ecffc76200782e3 = $(`&lt;div id=&quot;html_bac5c0c3ee6d5bbd1ecffc76200782e3&quot; style=&quot;width: 100.0%; height: 100.0%;&quot;&gt;&lt;strong&gt;State&lt;/strong&gt;N/a&lt;br&gt;&lt;strong&gt;Confirmed Cases&lt;/strong&gt;2958.184426229508&lt;br&gt;&lt;/div&gt;`)[0];\n",
       "                popup_f61a74b3ae3606256b9ff57978d01853.setContent(html_bac5c0c3ee6d5bbd1ecffc76200782e3);\n",
       "            \n",
       "        \n",
       "\n",
       "        circle_marker_832f5342aeacb8ddfc08d6c086c038ad.bindPopup(popup_f61a74b3ae3606256b9ff57978d01853)\n",
       "        ;\n",
       "\n",
       "        \n",
       "    \n",
       "    \n",
       "            var circle_marker_00a7bc17832d02480ae0a3ae9c8f4751 = L.circleMarker(\n",
       "                [-19.015438, 29.154857],\n",
       "                {&quot;bubblingMouseEvents&quot;: true, &quot;color&quot;: &quot;blue&quot;, &quot;dashArray&quot;: null, &quot;dashOffset&quot;: null, &quot;fill&quot;: true, &quot;fillColor&quot;: &quot;crimson&quot;, &quot;fillOpacity&quot;: 0.3, &quot;fillRule&quot;: &quot;evenodd&quot;, &quot;lineCap&quot;: &quot;round&quot;, &quot;lineJoin&quot;: &quot;round&quot;, &quot;opacity&quot;: 1.0, &quot;radius&quot;: 0.015554672131147541, &quot;stroke&quot;: true, &quot;weight&quot;: 3}\n",
       "            ).addTo(map_63bd30139a6212ba0546419532110ea0);\n",
       "        \n",
       "    \n",
       "        var popup_26fb0f637e8357ab2cccc6cb0cd3d175 = L.popup({&quot;maxWidth&quot;: &quot;100%&quot;});\n",
       "\n",
       "        \n",
       "            \n",
       "                var html_9d2a79261d67f83a58c74046014f44be = $(`&lt;div id=&quot;html_9d2a79261d67f83a58c74046014f44be&quot; style=&quot;width: 100.0%; height: 100.0%;&quot;&gt;&lt;strong&gt;State&lt;/strong&gt;N/a&lt;br&gt;&lt;strong&gt;Confirmed Cases&lt;/strong&gt;1555.467213114754&lt;br&gt;&lt;/div&gt;`)[0];\n",
       "                popup_26fb0f637e8357ab2cccc6cb0cd3d175.setContent(html_9d2a79261d67f83a58c74046014f44be);\n",
       "            \n",
       "        \n",
       "\n",
       "        circle_marker_00a7bc17832d02480ae0a3ae9c8f4751.bindPopup(popup_26fb0f637e8357ab2cccc6cb0cd3d175)\n",
       "        ;\n",
       "\n",
       "        \n",
       "    \n",
       "    \n",
       "            var circle_marker_80c373e70e891317c6afdd6b4f314dec = L.circleMarker(\n",
       "                [46.5653, -66.4619],\n",
       "                {&quot;bubblingMouseEvents&quot;: true, &quot;color&quot;: &quot;blue&quot;, &quot;dashArray&quot;: null, &quot;dashOffset&quot;: null, &quot;fill&quot;: true, &quot;fillColor&quot;: &quot;crimson&quot;, &quot;fillOpacity&quot;: 0.3, &quot;fillRule&quot;: &quot;evenodd&quot;, &quot;lineCap&quot;: &quot;round&quot;, &quot;lineJoin&quot;: &quot;round&quot;, &quot;opacity&quot;: 1.0, &quot;radius&quot;: 0.0011104508196721312, &quot;stroke&quot;: true, &quot;weight&quot;: 3}\n",
       "            ).addTo(map_63bd30139a6212ba0546419532110ea0);\n",
       "        \n",
       "    \n",
       "        var popup_ca34cd50be0dfcc8a4f90d599c086f89 = L.popup({&quot;maxWidth&quot;: &quot;100%&quot;});\n",
       "\n",
       "        \n",
       "            \n",
       "                var html_5a0138c6a7e228893ecc49c5336b606c = $(`&lt;div id=&quot;html_5a0138c6a7e228893ecc49c5336b606c&quot; style=&quot;width: 100.0%; height: 100.0%;&quot;&gt;&lt;strong&gt;State&lt;/strong&gt;New brunswick&lt;br&gt;&lt;strong&gt;Confirmed Cases&lt;/strong&gt;111.04508196721312&lt;br&gt;&lt;/div&gt;`)[0];\n",
       "                popup_ca34cd50be0dfcc8a4f90d599c086f89.setContent(html_5a0138c6a7e228893ecc49c5336b606c);\n",
       "            \n",
       "        \n",
       "\n",
       "        circle_marker_80c373e70e891317c6afdd6b4f314dec.bindPopup(popup_ca34cd50be0dfcc8a4f90d599c086f89)\n",
       "        ;\n",
       "\n",
       "        \n",
       "    \n",
       "    \n",
       "            var circle_marker_ff131cb0e4d734f2eb2175ca76477dda = L.circleMarker(\n",
       "                [-20.904305, 165.618042],\n",
       "                {&quot;bubblingMouseEvents&quot;: true, &quot;color&quot;: &quot;blue&quot;, &quot;dashArray&quot;: null, &quot;dashOffset&quot;: null, &quot;fill&quot;: true, &quot;fillColor&quot;: &quot;crimson&quot;, &quot;fillOpacity&quot;: 0.3, &quot;fillRule&quot;: &quot;evenodd&quot;, &quot;lineCap&quot;: &quot;round&quot;, &quot;lineJoin&quot;: &quot;round&quot;, &quot;opacity&quot;: 1.0, &quot;radius&quot;: 0.0001544672131147541, &quot;stroke&quot;: true, &quot;weight&quot;: 3}\n",
       "            ).addTo(map_63bd30139a6212ba0546419532110ea0);\n",
       "        \n",
       "    \n",
       "        var popup_210a47b1bf723e84c7e5ff726d5d2aa2 = L.popup({&quot;maxWidth&quot;: &quot;100%&quot;});\n",
       "\n",
       "        \n",
       "            \n",
       "                var html_1bc7012c13863b3e7cf09d50caf6e2d6 = $(`&lt;div id=&quot;html_1bc7012c13863b3e7cf09d50caf6e2d6&quot; style=&quot;width: 100.0%; height: 100.0%;&quot;&gt;&lt;strong&gt;State&lt;/strong&gt;New caledonia&lt;br&gt;&lt;strong&gt;Confirmed Cases&lt;/strong&gt;15.44672131147541&lt;br&gt;&lt;/div&gt;`)[0];\n",
       "                popup_210a47b1bf723e84c7e5ff726d5d2aa2.setContent(html_1bc7012c13863b3e7cf09d50caf6e2d6);\n",
       "            \n",
       "        \n",
       "\n",
       "        circle_marker_ff131cb0e4d734f2eb2175ca76477dda.bindPopup(popup_210a47b1bf723e84c7e5ff726d5d2aa2)\n",
       "        ;\n",
       "\n",
       "        \n",
       "    \n",
       "    \n",
       "            var circle_marker_a9cf1341686c03f1f86c0960fef6526e = L.circleMarker(\n",
       "                [-33.8688, 151.2093],\n",
       "                {&quot;bubblingMouseEvents&quot;: true, &quot;color&quot;: &quot;blue&quot;, &quot;dashArray&quot;: null, &quot;dashOffset&quot;: null, &quot;fill&quot;: true, &quot;fillColor&quot;: &quot;crimson&quot;, &quot;fillOpacity&quot;: 0.3, &quot;fillRule&quot;: &quot;evenodd&quot;, &quot;lineCap&quot;: &quot;round&quot;, &quot;lineJoin&quot;: &quot;round&quot;, &quot;opacity&quot;: 1.0, &quot;radius&quot;: 0.024952745901639345, &quot;stroke&quot;: true, &quot;weight&quot;: 3}\n",
       "            ).addTo(map_63bd30139a6212ba0546419532110ea0);\n",
       "        \n",
       "    \n",
       "        var popup_85df7e08b2c2dbe29ca6a2d787888a03 = L.popup({&quot;maxWidth&quot;: &quot;100%&quot;});\n",
       "\n",
       "        \n",
       "            \n",
       "                var html_63c4107043ec90a77a3812f48b5fdedd = $(`&lt;div id=&quot;html_63c4107043ec90a77a3812f48b5fdedd&quot; style=&quot;width: 100.0%; height: 100.0%;&quot;&gt;&lt;strong&gt;State&lt;/strong&gt;New south wales&lt;br&gt;&lt;strong&gt;Confirmed Cases&lt;/strong&gt;2495.2745901639346&lt;br&gt;&lt;/div&gt;`)[0];\n",
       "                popup_85df7e08b2c2dbe29ca6a2d787888a03.setContent(html_63c4107043ec90a77a3812f48b5fdedd);\n",
       "            \n",
       "        \n",
       "\n",
       "        circle_marker_a9cf1341686c03f1f86c0960fef6526e.bindPopup(popup_85df7e08b2c2dbe29ca6a2d787888a03)\n",
       "        ;\n",
       "\n",
       "        \n",
       "    \n",
       "    \n",
       "            var circle_marker_0f9986d8b19cdb713dcd5ccee930e96a = L.circleMarker(\n",
       "                [53.1355, -57.6604],\n",
       "                {&quot;bubblingMouseEvents&quot;: true, &quot;color&quot;: &quot;blue&quot;, &quot;dashArray&quot;: null, &quot;dashOffset&quot;: null, &quot;fill&quot;: true, &quot;fillColor&quot;: &quot;crimson&quot;, &quot;fillOpacity&quot;: 0.3, &quot;fillRule&quot;: &quot;evenodd&quot;, &quot;lineCap&quot;: &quot;round&quot;, &quot;lineJoin&quot;: &quot;round&quot;, &quot;opacity&quot;: 1.0, &quot;radius&quot;: 0.0018881557377049179, &quot;stroke&quot;: true, &quot;weight&quot;: 3}\n",
       "            ).addTo(map_63bd30139a6212ba0546419532110ea0);\n",
       "        \n",
       "    \n",
       "        var popup_140b5f3e8c8c23e28f8cb6ed64d4037a = L.popup({&quot;maxWidth&quot;: &quot;100%&quot;});\n",
       "\n",
       "        \n",
       "            \n",
       "                var html_eadd6a335faffe0742a24716580c8b0b = $(`&lt;div id=&quot;html_eadd6a335faffe0742a24716580c8b0b&quot; style=&quot;width: 100.0%; height: 100.0%;&quot;&gt;&lt;strong&gt;State&lt;/strong&gt;Newfoundland and labrador&lt;br&gt;&lt;strong&gt;Confirmed Cases&lt;/strong&gt;188.8155737704918&lt;br&gt;&lt;/div&gt;`)[0];\n",
       "                popup_140b5f3e8c8c23e28f8cb6ed64d4037a.setContent(html_eadd6a335faffe0742a24716580c8b0b);\n",
       "            \n",
       "        \n",
       "\n",
       "        circle_marker_0f9986d8b19cdb713dcd5ccee930e96a.bindPopup(popup_140b5f3e8c8c23e28f8cb6ed64d4037a)\n",
       "        ;\n",
       "\n",
       "        \n",
       "    \n",
       "    \n",
       "            var circle_marker_c58eb4c4a1060ae2a6668cf41bc5bbc9 = L.circleMarker(\n",
       "                [37.2692, 106.1655],\n",
       "                {&quot;bubblingMouseEvents&quot;: true, &quot;color&quot;: &quot;blue&quot;, &quot;dashArray&quot;: null, &quot;dashOffset&quot;: null, &quot;fill&quot;: true, &quot;fillColor&quot;: &quot;crimson&quot;, &quot;fillOpacity&quot;: 0.3, &quot;fillRule&quot;: &quot;evenodd&quot;, &quot;lineCap&quot;: &quot;round&quot;, &quot;lineJoin&quot;: &quot;round&quot;, &quot;opacity&quot;: 1.0, &quot;radius&quot;: 0.0007021311475409836, &quot;stroke&quot;: true, &quot;weight&quot;: 3}\n",
       "            ).addTo(map_63bd30139a6212ba0546419532110ea0);\n",
       "        \n",
       "    \n",
       "        var popup_f0dfd428cea693bc17f40f6a52705ef4 = L.popup({&quot;maxWidth&quot;: &quot;100%&quot;});\n",
       "\n",
       "        \n",
       "            \n",
       "                var html_858c49121a0ca2f8aad45aec566d4db4 = $(`&lt;div id=&quot;html_858c49121a0ca2f8aad45aec566d4db4&quot; style=&quot;width: 100.0%; height: 100.0%;&quot;&gt;&lt;strong&gt;State&lt;/strong&gt;Ningxia&lt;br&gt;&lt;strong&gt;Confirmed Cases&lt;/strong&gt;70.21311475409836&lt;br&gt;&lt;/div&gt;`)[0];\n",
       "                popup_f0dfd428cea693bc17f40f6a52705ef4.setContent(html_858c49121a0ca2f8aad45aec566d4db4);\n",
       "            \n",
       "        \n",
       "\n",
       "        circle_marker_c58eb4c4a1060ae2a6668cf41bc5bbc9.bindPopup(popup_f0dfd428cea693bc17f40f6a52705ef4)\n",
       "        ;\n",
       "\n",
       "        \n",
       "    \n",
       "    \n",
       "            var circle_marker_4b5a6715eb4d7dadf4e9e18fe6f34dd9 = L.circleMarker(\n",
       "                [-12.4634, 130.8456],\n",
       "                {&quot;bubblingMouseEvents&quot;: true, &quot;color&quot;: &quot;blue&quot;, &quot;dashArray&quot;: null, &quot;dashOffset&quot;: null, &quot;fill&quot;: true, &quot;fillColor&quot;: &quot;crimson&quot;, &quot;fillOpacity&quot;: 0.3, &quot;fillRule&quot;: &quot;evenodd&quot;, &quot;lineCap&quot;: &quot;round&quot;, &quot;lineJoin&quot;: &quot;round&quot;, &quot;opacity&quot;: 1.0, &quot;radius&quot;: 0.00022045081967213116, &quot;stroke&quot;: true, &quot;weight&quot;: 3}\n",
       "            ).addTo(map_63bd30139a6212ba0546419532110ea0);\n",
       "        \n",
       "    \n",
       "        var popup_2872c6d571dcc5d2c5f10c41ee193396 = L.popup({&quot;maxWidth&quot;: &quot;100%&quot;});\n",
       "\n",
       "        \n",
       "            \n",
       "                var html_a75f999e8929b37c254514e8793e62d0 = $(`&lt;div id=&quot;html_a75f999e8929b37c254514e8793e62d0&quot; style=&quot;width: 100.0%; height: 100.0%;&quot;&gt;&lt;strong&gt;State&lt;/strong&gt;Northern territory&lt;br&gt;&lt;strong&gt;Confirmed Cases&lt;/strong&gt;22.045081967213115&lt;br&gt;&lt;/div&gt;`)[0];\n",
       "                popup_2872c6d571dcc5d2c5f10c41ee193396.setContent(html_a75f999e8929b37c254514e8793e62d0);\n",
       "            \n",
       "        \n",
       "\n",
       "        circle_marker_4b5a6715eb4d7dadf4e9e18fe6f34dd9.bindPopup(popup_2872c6d571dcc5d2c5f10c41ee193396)\n",
       "        ;\n",
       "\n",
       "        \n",
       "    \n",
       "    \n",
       "            var circle_marker_0e49d69407af2568227c4192903e9b26 = L.circleMarker(\n",
       "                [64.8255, -124.8457],\n",
       "                {&quot;bubblingMouseEvents&quot;: true, &quot;color&quot;: &quot;blue&quot;, &quot;dashArray&quot;: null, &quot;dashOffset&quot;: null, &quot;fill&quot;: true, &quot;fillColor&quot;: &quot;crimson&quot;, &quot;fillOpacity&quot;: 0.3, &quot;fillRule&quot;: &quot;evenodd&quot;, &quot;lineCap&quot;: &quot;round&quot;, &quot;lineJoin&quot;: &quot;round&quot;, &quot;opacity&quot;: 1.0, &quot;radius&quot;: 3.545081967213115e-05, &quot;stroke&quot;: true, &quot;weight&quot;: 3}\n",
       "            ).addTo(map_63bd30139a6212ba0546419532110ea0);\n",
       "        \n",
       "    \n",
       "        var popup_0898fb27e404cd508bee3f9fb3c054c6 = L.popup({&quot;maxWidth&quot;: &quot;100%&quot;});\n",
       "\n",
       "        \n",
       "            \n",
       "                var html_8879436a6683379ce78c5685a6844c98 = $(`&lt;div id=&quot;html_8879436a6683379ce78c5685a6844c98&quot; style=&quot;width: 100.0%; height: 100.0%;&quot;&gt;&lt;strong&gt;State&lt;/strong&gt;Northwest territories&lt;br&gt;&lt;strong&gt;Confirmed Cases&lt;/strong&gt;3.5450819672131146&lt;br&gt;&lt;/div&gt;`)[0];\n",
       "                popup_0898fb27e404cd508bee3f9fb3c054c6.setContent(html_8879436a6683379ce78c5685a6844c98);\n",
       "            \n",
       "        \n",
       "\n",
       "        circle_marker_0e49d69407af2568227c4192903e9b26.bindPopup(popup_0898fb27e404cd508bee3f9fb3c054c6)\n",
       "        ;\n",
       "\n",
       "        \n",
       "    \n",
       "    \n",
       "            var circle_marker_7746b80f3dcb98a7eda3e2679be63c6e = L.circleMarker(\n",
       "                [44.682, -63.7443],\n",
       "                {&quot;bubblingMouseEvents&quot;: true, &quot;color&quot;: &quot;blue&quot;, &quot;dashArray&quot;: null, &quot;dashOffset&quot;: null, &quot;fill&quot;: true, &quot;fillColor&quot;: &quot;crimson&quot;, &quot;fillOpacity&quot;: 0.3, &quot;fillRule&quot;: &quot;evenodd&quot;, &quot;lineCap&quot;: &quot;round&quot;, &quot;lineJoin&quot;: &quot;round&quot;, &quot;opacity&quot;: 1.0, &quot;radius&quot;: 0.00699733606557377, &quot;stroke&quot;: true, &quot;weight&quot;: 3}\n",
       "            ).addTo(map_63bd30139a6212ba0546419532110ea0);\n",
       "        \n",
       "    \n",
       "        var popup_ae87dd19a21a0ccd20ef69232b2c7d0e = L.popup({&quot;maxWidth&quot;: &quot;100%&quot;});\n",
       "\n",
       "        \n",
       "            \n",
       "                var html_2a7567fc47b7ff236f1de30797e468a5 = $(`&lt;div id=&quot;html_2a7567fc47b7ff236f1de30797e468a5&quot; style=&quot;width: 100.0%; height: 100.0%;&quot;&gt;&lt;strong&gt;State&lt;/strong&gt;Nova scotia&lt;br&gt;&lt;strong&gt;Confirmed Cases&lt;/strong&gt;699.733606557377&lt;br&gt;&lt;/div&gt;`)[0];\n",
       "                popup_ae87dd19a21a0ccd20ef69232b2c7d0e.setContent(html_2a7567fc47b7ff236f1de30797e468a5);\n",
       "            \n",
       "        \n",
       "\n",
       "        circle_marker_7746b80f3dcb98a7eda3e2679be63c6e.bindPopup(popup_ae87dd19a21a0ccd20ef69232b2c7d0e)\n",
       "        ;\n",
       "\n",
       "        \n",
       "    \n",
       "    \n",
       "            var circle_marker_553865f829f5f2b410fb0457f3b78788 = L.circleMarker(\n",
       "                [51.2538, -85.3232],\n",
       "                {&quot;bubblingMouseEvents&quot;: true, &quot;color&quot;: &quot;blue&quot;, &quot;dashArray&quot;: null, &quot;dashOffset&quot;: null, &quot;fill&quot;: true, &quot;fillColor&quot;: &quot;crimson&quot;, &quot;fillOpacity&quot;: 0.3, &quot;fillRule&quot;: &quot;evenodd&quot;, &quot;lineCap&quot;: &quot;round&quot;, &quot;lineJoin&quot;: &quot;round&quot;, &quot;opacity&quot;: 1.0, &quot;radius&quot;: 0.22791340163934426, &quot;stroke&quot;: true, &quot;weight&quot;: 3}\n",
       "            ).addTo(map_63bd30139a6212ba0546419532110ea0);\n",
       "        \n",
       "    \n",
       "        var popup_c343c169e4cd754c59148f7bb1ff7bbb = L.popup({&quot;maxWidth&quot;: &quot;100%&quot;});\n",
       "\n",
       "        \n",
       "            \n",
       "                var html_4becfa88687b1d21d432f80e5addafdc = $(`&lt;div id=&quot;html_4becfa88687b1d21d432f80e5addafdc&quot; style=&quot;width: 100.0%; height: 100.0%;&quot;&gt;&lt;strong&gt;State&lt;/strong&gt;Ontario&lt;br&gt;&lt;strong&gt;Confirmed Cases&lt;/strong&gt;22791.340163934427&lt;br&gt;&lt;/div&gt;`)[0];\n",
       "                popup_c343c169e4cd754c59148f7bb1ff7bbb.setContent(html_4becfa88687b1d21d432f80e5addafdc);\n",
       "            \n",
       "        \n",
       "\n",
       "        circle_marker_553865f829f5f2b410fb0457f3b78788.bindPopup(popup_c343c169e4cd754c59148f7bb1ff7bbb)\n",
       "        ;\n",
       "\n",
       "        \n",
       "    \n",
       "    \n",
       "            var circle_marker_d3edd8cab193182c7a0422d6db6a9755 = L.circleMarker(\n",
       "                [46.5107, -63.4168],\n",
       "                {&quot;bubblingMouseEvents&quot;: true, &quot;color&quot;: &quot;blue&quot;, &quot;dashArray&quot;: null, &quot;dashOffset&quot;: null, &quot;fill&quot;: true, &quot;fillColor&quot;: &quot;crimson&quot;, &quot;fillOpacity&quot;: 0.3, &quot;fillRule&quot;: &quot;evenodd&quot;, &quot;lineCap&quot;: &quot;round&quot;, &quot;lineJoin&quot;: &quot;round&quot;, &quot;opacity&quot;: 1.0, &quot;radius&quot;: 0.00024233606557377049, &quot;stroke&quot;: true, &quot;weight&quot;: 3}\n",
       "            ).addTo(map_63bd30139a6212ba0546419532110ea0);\n",
       "        \n",
       "    \n",
       "        var popup_81c0d45555e6f91dea55c39c9cc9b23d = L.popup({&quot;maxWidth&quot;: &quot;100%&quot;});\n",
       "\n",
       "        \n",
       "            \n",
       "                var html_78438e836d20135f7c107a8e651fb422 = $(`&lt;div id=&quot;html_78438e836d20135f7c107a8e651fb422&quot; style=&quot;width: 100.0%; height: 100.0%;&quot;&gt;&lt;strong&gt;State&lt;/strong&gt;Prince edward island&lt;br&gt;&lt;strong&gt;Confirmed Cases&lt;/strong&gt;24.233606557377048&lt;br&gt;&lt;/div&gt;`)[0];\n",
       "                popup_81c0d45555e6f91dea55c39c9cc9b23d.setContent(html_78438e836d20135f7c107a8e651fb422);\n",
       "            \n",
       "        \n",
       "\n",
       "        circle_marker_d3edd8cab193182c7a0422d6db6a9755.bindPopup(popup_81c0d45555e6f91dea55c39c9cc9b23d)\n",
       "        ;\n",
       "\n",
       "        \n",
       "    \n",
       "    \n",
       "            var circle_marker_bca2eeb9d7b82b8f67bbc2d3bd127219 = L.circleMarker(\n",
       "                [35.7452, 95.9956],\n",
       "                {&quot;bubblingMouseEvents&quot;: true, &quot;color&quot;: &quot;blue&quot;, &quot;dashArray&quot;: null, &quot;dashOffset&quot;: null, &quot;fill&quot;: true, &quot;fillColor&quot;: &quot;crimson&quot;, &quot;fillOpacity&quot;: 0.3, &quot;fillRule&quot;: &quot;evenodd&quot;, &quot;lineCap&quot;: &quot;round&quot;, &quot;lineJoin&quot;: &quot;round&quot;, &quot;opacity&quot;: 1.0, &quot;radius&quot;: 0.00017307377049180327, &quot;stroke&quot;: true, &quot;weight&quot;: 3}\n",
       "            ).addTo(map_63bd30139a6212ba0546419532110ea0);\n",
       "        \n",
       "    \n",
       "        var popup_975eb26669f6d67f40185d94eccb9e70 = L.popup({&quot;maxWidth&quot;: &quot;100%&quot;});\n",
       "\n",
       "        \n",
       "            \n",
       "                var html_ede09d2270b046db8f8b9aa0dea33658 = $(`&lt;div id=&quot;html_ede09d2270b046db8f8b9aa0dea33658&quot; style=&quot;width: 100.0%; height: 100.0%;&quot;&gt;&lt;strong&gt;State&lt;/strong&gt;Qinghai&lt;br&gt;&lt;strong&gt;Confirmed Cases&lt;/strong&gt;17.307377049180328&lt;br&gt;&lt;/div&gt;`)[0];\n",
       "                popup_975eb26669f6d67f40185d94eccb9e70.setContent(html_ede09d2270b046db8f8b9aa0dea33658);\n",
       "            \n",
       "        \n",
       "\n",
       "        circle_marker_bca2eeb9d7b82b8f67bbc2d3bd127219.bindPopup(popup_975eb26669f6d67f40185d94eccb9e70)\n",
       "        ;\n",
       "\n",
       "        \n",
       "    \n",
       "    \n",
       "            var circle_marker_8c91a5dcb849ceaff788151e7235263a = L.circleMarker(\n",
       "                [52.9399, -73.5491],\n",
       "                {&quot;bubblingMouseEvents&quot;: true, &quot;color&quot;: &quot;blue&quot;, &quot;dashArray&quot;: null, &quot;dashOffset&quot;: null, &quot;fill&quot;: true, &quot;fillColor&quot;: &quot;crimson&quot;, &quot;fillOpacity&quot;: 0.3, &quot;fillRule&quot;: &quot;evenodd&quot;, &quot;lineCap&quot;: &quot;round&quot;, &quot;lineJoin&quot;: &quot;round&quot;, &quot;opacity&quot;: 1.0, &quot;radius&quot;: 0.3452625, &quot;stroke&quot;: true, &quot;weight&quot;: 3}\n",
       "            ).addTo(map_63bd30139a6212ba0546419532110ea0);\n",
       "        \n",
       "    \n",
       "        var popup_054e18417ec5a93ff344ec3b2843b2df = L.popup({&quot;maxWidth&quot;: &quot;100%&quot;});\n",
       "\n",
       "        \n",
       "            \n",
       "                var html_7880253b392393235c00b33151318dd5 = $(`&lt;div id=&quot;html_7880253b392393235c00b33151318dd5&quot; style=&quot;width: 100.0%; height: 100.0%;&quot;&gt;&lt;strong&gt;State&lt;/strong&gt;Quebec&lt;br&gt;&lt;strong&gt;Confirmed Cases&lt;/strong&gt;34526.25&lt;br&gt;&lt;/div&gt;`)[0];\n",
       "                popup_054e18417ec5a93ff344ec3b2843b2df.setContent(html_7880253b392393235c00b33151318dd5);\n",
       "            \n",
       "        \n",
       "\n",
       "        circle_marker_8c91a5dcb849ceaff788151e7235263a.bindPopup(popup_054e18417ec5a93ff344ec3b2843b2df)\n",
       "        ;\n",
       "\n",
       "        \n",
       "    \n",
       "    \n",
       "            var circle_marker_8d8dc8abeab6ae9a50ddaf5b9cec7482 = L.circleMarker(\n",
       "                [-27.4698, 153.0251],\n",
       "                {&quot;bubblingMouseEvents&quot;: true, &quot;color&quot;: &quot;blue&quot;, &quot;dashArray&quot;: null, &quot;dashOffset&quot;: null, &quot;fill&quot;: true, &quot;fillColor&quot;: &quot;crimson&quot;, &quot;fillOpacity&quot;: 0.3, &quot;fillRule&quot;: &quot;evenodd&quot;, &quot;lineCap&quot;: &quot;round&quot;, &quot;lineJoin&quot;: &quot;round&quot;, &quot;opacity&quot;: 1.0, &quot;radius&quot;: 0.007848811475409837, &quot;stroke&quot;: true, &quot;weight&quot;: 3}\n",
       "            ).addTo(map_63bd30139a6212ba0546419532110ea0);\n",
       "        \n",
       "    \n",
       "        var popup_357937d51858cd051a4246af2dee783b = L.popup({&quot;maxWidth&quot;: &quot;100%&quot;});\n",
       "\n",
       "        \n",
       "            \n",
       "                var html_7be8f248a914394e000abc3337ba583d = $(`&lt;div id=&quot;html_7be8f248a914394e000abc3337ba583d&quot; style=&quot;width: 100.0%; height: 100.0%;&quot;&gt;&lt;strong&gt;State&lt;/strong&gt;Queensland&lt;br&gt;&lt;strong&gt;Confirmed Cases&lt;/strong&gt;784.8811475409836&lt;br&gt;&lt;/div&gt;`)[0];\n",
       "                popup_357937d51858cd051a4246af2dee783b.setContent(html_7be8f248a914394e000abc3337ba583d);\n",
       "            \n",
       "        \n",
       "\n",
       "        circle_marker_8d8dc8abeab6ae9a50ddaf5b9cec7482.bindPopup(popup_357937d51858cd051a4246af2dee783b)\n",
       "        ;\n",
       "\n",
       "        \n",
       "    \n",
       "    \n",
       "            var circle_marker_3a1669b2312bd7bf12218041fddbbcf7 = L.circleMarker(\n",
       "                [-21.1151, 55.5364],\n",
       "                {&quot;bubblingMouseEvents&quot;: true, &quot;color&quot;: &quot;blue&quot;, &quot;dashArray&quot;: null, &quot;dashOffset&quot;: null, &quot;fill&quot;: true, &quot;fillColor&quot;: &quot;crimson&quot;, &quot;fillOpacity&quot;: 0.3, &quot;fillRule&quot;: &quot;evenodd&quot;, &quot;lineCap&quot;: &quot;round&quot;, &quot;lineJoin&quot;: &quot;round&quot;, &quot;opacity&quot;: 1.0, &quot;radius&quot;: 0.00594110655737705, &quot;stroke&quot;: true, &quot;weight&quot;: 3}\n",
       "            ).addTo(map_63bd30139a6212ba0546419532110ea0);\n",
       "        \n",
       "    \n",
       "        var popup_c4e7793bb8bf923a277b8d62819b288e = L.popup({&quot;maxWidth&quot;: &quot;100%&quot;});\n",
       "\n",
       "        \n",
       "            \n",
       "                var html_a11f04f795dc09e75a242fa6254cbb50 = $(`&lt;div id=&quot;html_a11f04f795dc09e75a242fa6254cbb50&quot; style=&quot;width: 100.0%; height: 100.0%;&quot;&gt;&lt;strong&gt;State&lt;/strong&gt;Reunion&lt;br&gt;&lt;strong&gt;Confirmed Cases&lt;/strong&gt;594.110655737705&lt;br&gt;&lt;/div&gt;`)[0];\n",
       "                popup_c4e7793bb8bf923a277b8d62819b288e.setContent(html_a11f04f795dc09e75a242fa6254cbb50);\n",
       "            \n",
       "        \n",
       "\n",
       "        circle_marker_3a1669b2312bd7bf12218041fddbbcf7.bindPopup(popup_c4e7793bb8bf923a277b8d62819b288e)\n",
       "        ;\n",
       "\n",
       "        \n",
       "    \n",
       "    \n",
       "            var circle_marker_db961a89ffcb851c62dc4080f10670e6 = L.circleMarker(\n",
       "                [17.9, -62.8333],\n",
       "                {&quot;bubblingMouseEvents&quot;: true, &quot;color&quot;: &quot;blue&quot;, &quot;dashArray&quot;: null, &quot;dashOffset&quot;: null, &quot;fill&quot;: true, &quot;fillColor&quot;: &quot;crimson&quot;, &quot;fillOpacity&quot;: 0.3, &quot;fillRule&quot;: &quot;evenodd&quot;, &quot;lineCap&quot;: &quot;round&quot;, &quot;lineJoin&quot;: &quot;round&quot;, &quot;opacity&quot;: 1.0, &quot;radius&quot;: 6.89344262295082e-05, &quot;stroke&quot;: true, &quot;weight&quot;: 3}\n",
       "            ).addTo(map_63bd30139a6212ba0546419532110ea0);\n",
       "        \n",
       "    \n",
       "        var popup_6695d562a8be49a6cb0c758a34302e2e = L.popup({&quot;maxWidth&quot;: &quot;100%&quot;});\n",
       "\n",
       "        \n",
       "            \n",
       "                var html_d7017d6d621a5bf20717bc7d56d7b4a1 = $(`&lt;div id=&quot;html_d7017d6d621a5bf20717bc7d56d7b4a1&quot; style=&quot;width: 100.0%; height: 100.0%;&quot;&gt;&lt;strong&gt;State&lt;/strong&gt;Saint barthelemy&lt;br&gt;&lt;strong&gt;Confirmed Cases&lt;/strong&gt;6.89344262295082&lt;br&gt;&lt;/div&gt;`)[0];\n",
       "                popup_6695d562a8be49a6cb0c758a34302e2e.setContent(html_d7017d6d621a5bf20717bc7d56d7b4a1);\n",
       "            \n",
       "        \n",
       "\n",
       "        circle_marker_db961a89ffcb851c62dc4080f10670e6.bindPopup(popup_6695d562a8be49a6cb0c758a34302e2e)\n",
       "        ;\n",
       "\n",
       "        \n",
       "    \n",
       "    \n",
       "            var circle_marker_3e84da06b7395df4d3bbd5b5ec6390fb = L.circleMarker(\n",
       "                [46.8852, -56.3159],\n",
       "                {&quot;bubblingMouseEvents&quot;: true, &quot;color&quot;: &quot;blue&quot;, &quot;dashArray&quot;: null, &quot;dashOffset&quot;: null, &quot;fill&quot;: true, &quot;fillColor&quot;: &quot;crimson&quot;, &quot;fillOpacity&quot;: 0.3, &quot;fillRule&quot;: &quot;evenodd&quot;, &quot;lineCap&quot;: &quot;round&quot;, &quot;lineJoin&quot;: &quot;round&quot;, &quot;opacity&quot;: 1.0, &quot;radius&quot;: 2.0327868852459018e-05, &quot;stroke&quot;: true, &quot;weight&quot;: 3}\n",
       "            ).addTo(map_63bd30139a6212ba0546419532110ea0);\n",
       "        \n",
       "    \n",
       "        var popup_cba5a11afc131d395ac98a097bd05539 = L.popup({&quot;maxWidth&quot;: &quot;100%&quot;});\n",
       "\n",
       "        \n",
       "            \n",
       "                var html_0afcdbc7ed0b8218ffc1f6091c9dd1ef = $(`&lt;div id=&quot;html_0afcdbc7ed0b8218ffc1f6091c9dd1ef&quot; style=&quot;width: 100.0%; height: 100.0%;&quot;&gt;&lt;strong&gt;State&lt;/strong&gt;Saint pierre and miquelon&lt;br&gt;&lt;strong&gt;Confirmed Cases&lt;/strong&gt;2.0327868852459017&lt;br&gt;&lt;/div&gt;`)[0];\n",
       "                popup_cba5a11afc131d395ac98a097bd05539.setContent(html_0afcdbc7ed0b8218ffc1f6091c9dd1ef);\n",
       "            \n",
       "        \n",
       "\n",
       "        circle_marker_3e84da06b7395df4d3bbd5b5ec6390fb.bindPopup(popup_cba5a11afc131d395ac98a097bd05539)\n",
       "        ;\n",
       "\n",
       "        \n",
       "    \n",
       "    \n",
       "            var circle_marker_69879db1526b769bbee43d81443d388b = L.circleMarker(\n",
       "                [52.9399, -106.4509],\n",
       "                {&quot;bubblingMouseEvents&quot;: true, &quot;color&quot;: &quot;blue&quot;, &quot;dashArray&quot;: null, &quot;dashOffset&quot;: null, &quot;fill&quot;: true, &quot;fillColor&quot;: &quot;crimson&quot;, &quot;fillOpacity&quot;: 0.3, &quot;fillRule&quot;: &quot;evenodd&quot;, &quot;lineCap&quot;: &quot;round&quot;, &quot;lineJoin&quot;: &quot;round&quot;, &quot;opacity&quot;: 1.0, &quot;radius&quot;: 0.006623196721311475, &quot;stroke&quot;: true, &quot;weight&quot;: 3}\n",
       "            ).addTo(map_63bd30139a6212ba0546419532110ea0);\n",
       "        \n",
       "    \n",
       "        var popup_eb62ce7092489e4141bb145527bddde6 = L.popup({&quot;maxWidth&quot;: &quot;100%&quot;});\n",
       "\n",
       "        \n",
       "            \n",
       "                var html_600d09288af3acaf602cd90abcbffaa7 = $(`&lt;div id=&quot;html_600d09288af3acaf602cd90abcbffaa7&quot; style=&quot;width: 100.0%; height: 100.0%;&quot;&gt;&lt;strong&gt;State&lt;/strong&gt;Saskatchewan&lt;br&gt;&lt;strong&gt;Confirmed Cases&lt;/strong&gt;662.3196721311475&lt;br&gt;&lt;/div&gt;`)[0];\n",
       "                popup_eb62ce7092489e4141bb145527bddde6.setContent(html_600d09288af3acaf602cd90abcbffaa7);\n",
       "            \n",
       "        \n",
       "\n",
       "        circle_marker_69879db1526b769bbee43d81443d388b.bindPopup(popup_eb62ce7092489e4141bb145527bddde6)\n",
       "        ;\n",
       "\n",
       "        \n",
       "    \n",
       "    \n",
       "            var circle_marker_683cb37806635f81807cb707602816a9 = L.circleMarker(\n",
       "                [35.1917, 108.8701],\n",
       "                {&quot;bubblingMouseEvents&quot;: true, &quot;color&quot;: &quot;blue&quot;, &quot;dashArray&quot;: null, &quot;dashOffset&quot;: null, &quot;fill&quot;: true, &quot;fillColor&quot;: &quot;crimson&quot;, &quot;fillOpacity&quot;: 0.3, &quot;fillRule&quot;: &quot;evenodd&quot;, &quot;lineCap&quot;: &quot;round&quot;, &quot;lineJoin&quot;: &quot;round&quot;, &quot;opacity&quot;: 1.0, &quot;radius&quot;: 0.00286672131147541, &quot;stroke&quot;: true, &quot;weight&quot;: 3}\n",
       "            ).addTo(map_63bd30139a6212ba0546419532110ea0);\n",
       "        \n",
       "    \n",
       "        var popup_56755b5d76909d1a5eb76ac1abdc68d7 = L.popup({&quot;maxWidth&quot;: &quot;100%&quot;});\n",
       "\n",
       "        \n",
       "            \n",
       "                var html_c7a4e66ea455f72b6245962dce390978 = $(`&lt;div id=&quot;html_c7a4e66ea455f72b6245962dce390978&quot; style=&quot;width: 100.0%; height: 100.0%;&quot;&gt;&lt;strong&gt;State&lt;/strong&gt;Shaanxi&lt;br&gt;&lt;strong&gt;Confirmed Cases&lt;/strong&gt;286.672131147541&lt;br&gt;&lt;/div&gt;`)[0];\n",
       "                popup_56755b5d76909d1a5eb76ac1abdc68d7.setContent(html_c7a4e66ea455f72b6245962dce390978);\n",
       "            \n",
       "        \n",
       "\n",
       "        circle_marker_683cb37806635f81807cb707602816a9.bindPopup(popup_56755b5d76909d1a5eb76ac1abdc68d7)\n",
       "        ;\n",
       "\n",
       "        \n",
       "    \n",
       "    \n",
       "            var circle_marker_8a89b69202b72f293db631082d9ae71a = L.circleMarker(\n",
       "                [36.3427, 118.1498],\n",
       "                {&quot;bubblingMouseEvents&quot;: true, &quot;color&quot;: &quot;blue&quot;, &quot;dashArray&quot;: null, &quot;dashOffset&quot;: null, &quot;fill&quot;: true, &quot;fillColor&quot;: &quot;crimson&quot;, &quot;fillOpacity&quot;: 0.3, &quot;fillRule&quot;: &quot;evenodd&quot;, &quot;lineCap&quot;: &quot;round&quot;, &quot;lineJoin&quot;: &quot;round&quot;, &quot;opacity&quot;: 1.0, &quot;radius&quot;: 0.0073365163934426235, &quot;stroke&quot;: true, &quot;weight&quot;: 3}\n",
       "            ).addTo(map_63bd30139a6212ba0546419532110ea0);\n",
       "        \n",
       "    \n",
       "        var popup_39d8abb263bb09a4e708e7f9cdf4e8cb = L.popup({&quot;maxWidth&quot;: &quot;100%&quot;});\n",
       "\n",
       "        \n",
       "            \n",
       "                var html_b12a47b4f089b30f314280019e12d578 = $(`&lt;div id=&quot;html_b12a47b4f089b30f314280019e12d578&quot; style=&quot;width: 100.0%; height: 100.0%;&quot;&gt;&lt;strong&gt;State&lt;/strong&gt;Shandong&lt;br&gt;&lt;strong&gt;Confirmed Cases&lt;/strong&gt;733.6516393442623&lt;br&gt;&lt;/div&gt;`)[0];\n",
       "                popup_39d8abb263bb09a4e708e7f9cdf4e8cb.setContent(html_b12a47b4f089b30f314280019e12d578);\n",
       "            \n",
       "        \n",
       "\n",
       "        circle_marker_8a89b69202b72f293db631082d9ae71a.bindPopup(popup_39d8abb263bb09a4e708e7f9cdf4e8cb)\n",
       "        ;\n",
       "\n",
       "        \n",
       "    \n",
       "    \n",
       "            var circle_marker_9b33c2638215188f2e212aade4e4eb4c = L.circleMarker(\n",
       "                [31.202, 121.4491],\n",
       "                {&quot;bubblingMouseEvents&quot;: true, &quot;color&quot;: &quot;blue&quot;, &quot;dashArray&quot;: null, &quot;dashOffset&quot;: null, &quot;fill&quot;: true, &quot;fillColor&quot;: &quot;crimson&quot;, &quot;fillOpacity&quot;: 0.3, &quot;fillRule&quot;: &quot;evenodd&quot;, &quot;lineCap&quot;: &quot;round&quot;, &quot;lineJoin&quot;: &quot;round&quot;, &quot;opacity&quot;: 1.0, &quot;radius&quot;: 0.006086147540983607, &quot;stroke&quot;: true, &quot;weight&quot;: 3}\n",
       "            ).addTo(map_63bd30139a6212ba0546419532110ea0);\n",
       "        \n",
       "    \n",
       "        var popup_23b398b20b8776accbab641cd678cfc1 = L.popup({&quot;maxWidth&quot;: &quot;100%&quot;});\n",
       "\n",
       "        \n",
       "            \n",
       "                var html_7907d6de7b53b4c5fdcb2f4b48b82bff = $(`&lt;div id=&quot;html_7907d6de7b53b4c5fdcb2f4b48b82bff&quot; style=&quot;width: 100.0%; height: 100.0%;&quot;&gt;&lt;strong&gt;State&lt;/strong&gt;Shanghai&lt;br&gt;&lt;strong&gt;Confirmed Cases&lt;/strong&gt;608.6147540983607&lt;br&gt;&lt;/div&gt;`)[0];\n",
       "                popup_23b398b20b8776accbab641cd678cfc1.setContent(html_7907d6de7b53b4c5fdcb2f4b48b82bff);\n",
       "            \n",
       "        \n",
       "\n",
       "        circle_marker_9b33c2638215188f2e212aade4e4eb4c.bindPopup(popup_23b398b20b8776accbab641cd678cfc1)\n",
       "        ;\n",
       "\n",
       "        \n",
       "    \n",
       "    \n",
       "            var circle_marker_64aaccc7ba9b291a7b95f4632f6a077e = L.circleMarker(\n",
       "                [37.5777, 112.2922],\n",
       "                {&quot;bubblingMouseEvents&quot;: true, &quot;color&quot;: &quot;blue&quot;, &quot;dashArray&quot;: null, &quot;dashOffset&quot;: null, &quot;fill&quot;: true, &quot;fillColor&quot;: &quot;crimson&quot;, &quot;fillOpacity&quot;: 0.3, &quot;fillRule&quot;: &quot;evenodd&quot;, &quot;lineCap&quot;: &quot;round&quot;, &quot;lineJoin&quot;: &quot;round&quot;, &quot;opacity&quot;: 1.0, &quot;radius&quot;: 0.0017110655737704917, &quot;stroke&quot;: true, &quot;weight&quot;: 3}\n",
       "            ).addTo(map_63bd30139a6212ba0546419532110ea0);\n",
       "        \n",
       "    \n",
       "        var popup_c67dbd24f08057ffb2786c3dcbb927bd = L.popup({&quot;maxWidth&quot;: &quot;100%&quot;});\n",
       "\n",
       "        \n",
       "            \n",
       "                var html_a398a5aa9316ec5cca3348ee7d774336 = $(`&lt;div id=&quot;html_a398a5aa9316ec5cca3348ee7d774336&quot; style=&quot;width: 100.0%; height: 100.0%;&quot;&gt;&lt;strong&gt;State&lt;/strong&gt;Shanxi&lt;br&gt;&lt;strong&gt;Confirmed Cases&lt;/strong&gt;171.10655737704917&lt;br&gt;&lt;/div&gt;`)[0];\n",
       "                popup_c67dbd24f08057ffb2786c3dcbb927bd.setContent(html_a398a5aa9316ec5cca3348ee7d774336);\n",
       "            \n",
       "        \n",
       "\n",
       "        circle_marker_64aaccc7ba9b291a7b95f4632f6a077e.bindPopup(popup_c67dbd24f08057ffb2786c3dcbb927bd)\n",
       "        ;\n",
       "\n",
       "        \n",
       "    \n",
       "    \n",
       "            var circle_marker_46b4edc998696d6996754ea419c7eb7c = L.circleMarker(\n",
       "                [30.6171, 102.7103],\n",
       "                {&quot;bubblingMouseEvents&quot;: true, &quot;color&quot;: &quot;blue&quot;, &quot;dashArray&quot;: null, &quot;dashOffset&quot;: null, &quot;fill&quot;: true, &quot;fillColor&quot;: &quot;crimson&quot;, &quot;fillOpacity&quot;: 0.3, &quot;fillRule&quot;: &quot;evenodd&quot;, &quot;lineCap&quot;: &quot;round&quot;, &quot;lineJoin&quot;: &quot;round&quot;, &quot;opacity&quot;: 1.0, &quot;radius&quot;: 0.0054852868852459016, &quot;stroke&quot;: true, &quot;weight&quot;: 3}\n",
       "            ).addTo(map_63bd30139a6212ba0546419532110ea0);\n",
       "        \n",
       "    \n",
       "        var popup_f2e96691e31fa2bbf1e786a8725927c9 = L.popup({&quot;maxWidth&quot;: &quot;100%&quot;});\n",
       "\n",
       "        \n",
       "            \n",
       "                var html_0bce0bd048c2220d19b2b0ab6db89f9a = $(`&lt;div id=&quot;html_0bce0bd048c2220d19b2b0ab6db89f9a&quot; style=&quot;width: 100.0%; height: 100.0%;&quot;&gt;&lt;strong&gt;State&lt;/strong&gt;Sichuan&lt;br&gt;&lt;strong&gt;Confirmed Cases&lt;/strong&gt;548.5286885245902&lt;br&gt;&lt;/div&gt;`)[0];\n",
       "                popup_f2e96691e31fa2bbf1e786a8725927c9.setContent(html_0bce0bd048c2220d19b2b0ab6db89f9a);\n",
       "            \n",
       "        \n",
       "\n",
       "        circle_marker_46b4edc998696d6996754ea419c7eb7c.bindPopup(popup_f2e96691e31fa2bbf1e786a8725927c9)\n",
       "        ;\n",
       "\n",
       "        \n",
       "    \n",
       "    \n",
       "            var circle_marker_d1ca9b7340ad15522f292bf5fa56a94f = L.circleMarker(\n",
       "                [18.0425, -63.0548],\n",
       "                {&quot;bubblingMouseEvents&quot;: true, &quot;color&quot;: &quot;blue&quot;, &quot;dashArray&quot;: null, &quot;dashOffset&quot;: null, &quot;fill&quot;: true, &quot;fillColor&quot;: &quot;crimson&quot;, &quot;fillOpacity&quot;: 0.3, &quot;fillRule&quot;: &quot;evenodd&quot;, &quot;lineCap&quot;: &quot;round&quot;, &quot;lineJoin&quot;: &quot;round&quot;, &quot;opacity&quot;: 1.0, &quot;radius&quot;: 0.0012108196721311475, &quot;stroke&quot;: true, &quot;weight&quot;: 3}\n",
       "            ).addTo(map_63bd30139a6212ba0546419532110ea0);\n",
       "        \n",
       "    \n",
       "        var popup_40f734b3c37fc89887392dc042479b30 = L.popup({&quot;maxWidth&quot;: &quot;100%&quot;});\n",
       "\n",
       "        \n",
       "            \n",
       "                var html_f57f078d2ed4de473611ae01dc30d703 = $(`&lt;div id=&quot;html_f57f078d2ed4de473611ae01dc30d703&quot; style=&quot;width: 100.0%; height: 100.0%;&quot;&gt;&lt;strong&gt;State&lt;/strong&gt;Sint maarten&lt;br&gt;&lt;strong&gt;Confirmed Cases&lt;/strong&gt;121.08196721311475&lt;br&gt;&lt;/div&gt;`)[0];\n",
       "                popup_40f734b3c37fc89887392dc042479b30.setContent(html_f57f078d2ed4de473611ae01dc30d703);\n",
       "            \n",
       "        \n",
       "\n",
       "        circle_marker_d1ca9b7340ad15522f292bf5fa56a94f.bindPopup(popup_40f734b3c37fc89887392dc042479b30)\n",
       "        ;\n",
       "\n",
       "        \n",
       "    \n",
       "    \n",
       "            var circle_marker_2782ed178e44591455c317e00f36a8b2 = L.circleMarker(\n",
       "                [-34.9285, 138.6007],\n",
       "                {&quot;bubblingMouseEvents&quot;: true, &quot;color&quot;: &quot;blue&quot;, &quot;dashArray&quot;: null, &quot;dashOffset&quot;: null, &quot;fill&quot;: true, &quot;fillColor&quot;: &quot;crimson&quot;, &quot;fillOpacity&quot;: 0.3, &quot;fillRule&quot;: &quot;evenodd&quot;, &quot;lineCap&quot;: &quot;round&quot;, &quot;lineJoin&quot;: &quot;round&quot;, &quot;opacity&quot;: 1.0, &quot;radius&quot;: 0.0032829918032786882, &quot;stroke&quot;: true, &quot;weight&quot;: 3}\n",
       "            ).addTo(map_63bd30139a6212ba0546419532110ea0);\n",
       "        \n",
       "    \n",
       "        var popup_81b3a9c3715ea882e03429675e078fd5 = L.popup({&quot;maxWidth&quot;: &quot;100%&quot;});\n",
       "\n",
       "        \n",
       "            \n",
       "                var html_11f9f6cb51e38b16280e4552d822fa93 = $(`&lt;div id=&quot;html_11f9f6cb51e38b16280e4552d822fa93&quot; style=&quot;width: 100.0%; height: 100.0%;&quot;&gt;&lt;strong&gt;State&lt;/strong&gt;South australia&lt;br&gt;&lt;strong&gt;Confirmed Cases&lt;/strong&gt;328.29918032786884&lt;br&gt;&lt;/div&gt;`)[0];\n",
       "                popup_81b3a9c3715ea882e03429675e078fd5.setContent(html_11f9f6cb51e38b16280e4552d822fa93);\n",
       "            \n",
       "        \n",
       "\n",
       "        circle_marker_2782ed178e44591455c317e00f36a8b2.bindPopup(popup_81b3a9c3715ea882e03429675e078fd5)\n",
       "        ;\n",
       "\n",
       "        \n",
       "    \n",
       "    \n",
       "            var circle_marker_dbe085d1dfddbe0719b20f8e21b67a34 = L.circleMarker(\n",
       "                [18.0708, -63.0501],\n",
       "                {&quot;bubblingMouseEvents&quot;: true, &quot;color&quot;: &quot;blue&quot;, &quot;dashArray&quot;: null, &quot;dashOffset&quot;: null, &quot;fill&quot;: true, &quot;fillColor&quot;: &quot;crimson&quot;, &quot;fillOpacity&quot;: 0.3, &quot;fillRule&quot;: &quot;evenodd&quot;, &quot;lineCap&quot;: &quot;round&quot;, &quot;lineJoin&quot;: &quot;round&quot;, &quot;opacity&quot;: 1.0, &quot;radius&quot;: 0.0005989344262295083, &quot;stroke&quot;: true, &quot;weight&quot;: 3}\n",
       "            ).addTo(map_63bd30139a6212ba0546419532110ea0);\n",
       "        \n",
       "    \n",
       "        var popup_b765b311ef710c9403cf79c34168c39a = L.popup({&quot;maxWidth&quot;: &quot;100%&quot;});\n",
       "\n",
       "        \n",
       "            \n",
       "                var html_ad8fb5b33fa51f83f7405629d6b5fb3d = $(`&lt;div id=&quot;html_ad8fb5b33fa51f83f7405629d6b5fb3d&quot; style=&quot;width: 100.0%; height: 100.0%;&quot;&gt;&lt;strong&gt;State&lt;/strong&gt;St martin&lt;br&gt;&lt;strong&gt;Confirmed Cases&lt;/strong&gt;59.89344262295082&lt;br&gt;&lt;/div&gt;`)[0];\n",
       "                popup_b765b311ef710c9403cf79c34168c39a.setContent(html_ad8fb5b33fa51f83f7405629d6b5fb3d);\n",
       "            \n",
       "        \n",
       "\n",
       "        circle_marker_dbe085d1dfddbe0719b20f8e21b67a34.bindPopup(popup_b765b311ef710c9403cf79c34168c39a)\n",
       "        ;\n",
       "\n",
       "        \n",
       "    \n",
       "    \n",
       "            var circle_marker_42b1a933d245c63a389788b5a082047f = L.circleMarker(\n",
       "                [-42.8821, 147.3272],\n",
       "                {&quot;bubblingMouseEvents&quot;: true, &quot;color&quot;: &quot;blue&quot;, &quot;dashArray&quot;: null, &quot;dashOffset&quot;: null, &quot;fill&quot;: true, &quot;fillColor&quot;: &quot;crimson&quot;, &quot;fillOpacity&quot;: 0.3, &quot;fillRule&quot;: &quot;evenodd&quot;, &quot;lineCap&quot;: &quot;round&quot;, &quot;lineJoin&quot;: &quot;round&quot;, &quot;opacity&quot;: 1.0, &quot;radius&quot;: 0.0015626639344262295, &quot;stroke&quot;: true, &quot;weight&quot;: 3}\n",
       "            ).addTo(map_63bd30139a6212ba0546419532110ea0);\n",
       "        \n",
       "    \n",
       "        var popup_569bd37fce50b492ec0ddb3ae8c87c96 = L.popup({&quot;maxWidth&quot;: &quot;100%&quot;});\n",
       "\n",
       "        \n",
       "            \n",
       "                var html_cbc9d7e2f3f3edb4d4b81613cfd10445 = $(`&lt;div id=&quot;html_cbc9d7e2f3f3edb4d4b81613cfd10445&quot; style=&quot;width: 100.0%; height: 100.0%;&quot;&gt;&lt;strong&gt;State&lt;/strong&gt;Tasmania&lt;br&gt;&lt;strong&gt;Confirmed Cases&lt;/strong&gt;156.26639344262296&lt;br&gt;&lt;/div&gt;`)[0];\n",
       "                popup_569bd37fce50b492ec0ddb3ae8c87c96.setContent(html_cbc9d7e2f3f3edb4d4b81613cfd10445);\n",
       "            \n",
       "        \n",
       "\n",
       "        circle_marker_42b1a933d245c63a389788b5a082047f.bindPopup(popup_569bd37fce50b492ec0ddb3ae8c87c96)\n",
       "        ;\n",
       "\n",
       "        \n",
       "    \n",
       "    \n",
       "            var circle_marker_1b8553a05afbf7b28006f5f2885876c9 = L.circleMarker(\n",
       "                [39.3054, 117.323],\n",
       "                {&quot;bubblingMouseEvents&quot;: true, &quot;color&quot;: &quot;blue&quot;, &quot;dashArray&quot;: null, &quot;dashOffset&quot;: null, &quot;fill&quot;: true, &quot;fillColor&quot;: &quot;crimson&quot;, &quot;fillOpacity&quot;: 0.3, &quot;fillRule&quot;: &quot;evenodd&quot;, &quot;lineCap&quot;: &quot;round&quot;, &quot;lineJoin&quot;: &quot;round&quot;, &quot;opacity&quot;: 1.0, &quot;radius&quot;: 0.0017544672131147541, &quot;stroke&quot;: true, &quot;weight&quot;: 3}\n",
       "            ).addTo(map_63bd30139a6212ba0546419532110ea0);\n",
       "        \n",
       "    \n",
       "        var popup_d62f06f88db27de17006ca5fc475807e = L.popup({&quot;maxWidth&quot;: &quot;100%&quot;});\n",
       "\n",
       "        \n",
       "            \n",
       "                var html_41e321108194ccb735f6b7fd0f2a5159 = $(`&lt;div id=&quot;html_41e321108194ccb735f6b7fd0f2a5159&quot; style=&quot;width: 100.0%; height: 100.0%;&quot;&gt;&lt;strong&gt;State&lt;/strong&gt;Tianjin&lt;br&gt;&lt;strong&gt;Confirmed Cases&lt;/strong&gt;175.44672131147541&lt;br&gt;&lt;/div&gt;`)[0];\n",
       "                popup_d62f06f88db27de17006ca5fc475807e.setContent(html_41e321108194ccb735f6b7fd0f2a5159);\n",
       "            \n",
       "        \n",
       "\n",
       "        circle_marker_1b8553a05afbf7b28006f5f2885876c9.bindPopup(popup_d62f06f88db27de17006ca5fc475807e)\n",
       "        ;\n",
       "\n",
       "        \n",
       "    \n",
       "    \n",
       "            var circle_marker_c8bfa9d429173d398f2c254dd1880bb1 = L.circleMarker(\n",
       "                [31.6927, 88.0924],\n",
       "                {&quot;bubblingMouseEvents&quot;: true, &quot;color&quot;: &quot;blue&quot;, &quot;dashArray&quot;: null, &quot;dashOffset&quot;: null, &quot;fill&quot;: true, &quot;fillColor&quot;: &quot;crimson&quot;, &quot;fillOpacity&quot;: 0.3, &quot;fillRule&quot;: &quot;evenodd&quot;, &quot;lineCap&quot;: &quot;round&quot;, &quot;lineJoin&quot;: &quot;round&quot;, &quot;opacity&quot;: 1.0, &quot;radius&quot;: 9.672131147540983e-06, &quot;stroke&quot;: true, &quot;weight&quot;: 3}\n",
       "            ).addTo(map_63bd30139a6212ba0546419532110ea0);\n",
       "        \n",
       "    \n",
       "        var popup_27c98efdb9ded030c032ecac83ba66d7 = L.popup({&quot;maxWidth&quot;: &quot;100%&quot;});\n",
       "\n",
       "        \n",
       "            \n",
       "                var html_55ada1f52750dd8d4940765f5f571c70 = $(`&lt;div id=&quot;html_55ada1f52750dd8d4940765f5f571c70&quot; style=&quot;width: 100.0%; height: 100.0%;&quot;&gt;&lt;strong&gt;State&lt;/strong&gt;Tibet&lt;br&gt;&lt;strong&gt;Confirmed Cases&lt;/strong&gt;0.9672131147540983&lt;br&gt;&lt;/div&gt;`)[0];\n",
       "                popup_27c98efdb9ded030c032ecac83ba66d7.setContent(html_55ada1f52750dd8d4940765f5f571c70);\n",
       "            \n",
       "        \n",
       "\n",
       "        circle_marker_c8bfa9d429173d398f2c254dd1880bb1.bindPopup(popup_27c98efdb9ded030c032ecac83ba66d7)\n",
       "        ;\n",
       "\n",
       "        \n",
       "    \n",
       "    \n",
       "            var circle_marker_304b8d339a35a51d4014e59bfb394bd5 = L.circleMarker(\n",
       "                [21.69400000000001, -71.7979],\n",
       "                {&quot;bubblingMouseEvents&quot;: true, &quot;color&quot;: &quot;blue&quot;, &quot;dashArray&quot;: null, &quot;dashOffset&quot;: null, &quot;fill&quot;: true, &quot;fillColor&quot;: &quot;crimson&quot;, &quot;fillOpacity&quot;: 0.3, &quot;fillRule&quot;: &quot;evenodd&quot;, &quot;lineCap&quot;: &quot;round&quot;, &quot;lineJoin&quot;: &quot;round&quot;, &quot;opacity&quot;: 1.0, &quot;radius&quot;: 0.0010541803278688526, &quot;stroke&quot;: true, &quot;weight&quot;: 3}\n",
       "            ).addTo(map_63bd30139a6212ba0546419532110ea0);\n",
       "        \n",
       "    \n",
       "        var popup_9ca45bf1424ba7894fbdc453c70cf8fc = L.popup({&quot;maxWidth&quot;: &quot;100%&quot;});\n",
       "\n",
       "        \n",
       "            \n",
       "                var html_94ff1a2655381a61cf7a2594a687c42f = $(`&lt;div id=&quot;html_94ff1a2655381a61cf7a2594a687c42f&quot; style=&quot;width: 100.0%; height: 100.0%;&quot;&gt;&lt;strong&gt;State&lt;/strong&gt;Turks and caicos islands&lt;br&gt;&lt;strong&gt;Confirmed Cases&lt;/strong&gt;105.41803278688525&lt;br&gt;&lt;/div&gt;`)[0];\n",
       "                popup_9ca45bf1424ba7894fbdc453c70cf8fc.setContent(html_94ff1a2655381a61cf7a2594a687c42f);\n",
       "            \n",
       "        \n",
       "\n",
       "        circle_marker_304b8d339a35a51d4014e59bfb394bd5.bindPopup(popup_9ca45bf1424ba7894fbdc453c70cf8fc)\n",
       "        ;\n",
       "\n",
       "        \n",
       "    \n",
       "    \n",
       "            var circle_marker_263bb12e553b7adb3a204d0a50f69f51 = L.circleMarker(\n",
       "                [-37.8136, 144.9631],\n",
       "                {&quot;bubblingMouseEvents&quot;: true, &quot;color&quot;: &quot;blue&quot;, &quot;dashArray&quot;: null, &quot;dashOffset&quot;: null, &quot;fill&quot;: true, &quot;fillColor&quot;: &quot;crimson&quot;, &quot;fillOpacity&quot;: 0.3, &quot;fillRule&quot;: &quot;evenodd&quot;, &quot;lineCap&quot;: &quot;round&quot;, &quot;lineJoin&quot;: &quot;round&quot;, &quot;opacity&quot;: 1.0, &quot;radius&quot;: 0.050992172131147546, &quot;stroke&quot;: true, &quot;weight&quot;: 3}\n",
       "            ).addTo(map_63bd30139a6212ba0546419532110ea0);\n",
       "        \n",
       "    \n",
       "        var popup_a6a59cd4d2f5b8273ca7eff9c91c79ba = L.popup({&quot;maxWidth&quot;: &quot;100%&quot;});\n",
       "\n",
       "        \n",
       "            \n",
       "                var html_1ac40b39a7d9ea1e77aacd3277fbe4a4 = $(`&lt;div id=&quot;html_1ac40b39a7d9ea1e77aacd3277fbe4a4&quot; style=&quot;width: 100.0%; height: 100.0%;&quot;&gt;&lt;strong&gt;State&lt;/strong&gt;Victoria&lt;br&gt;&lt;strong&gt;Confirmed Cases&lt;/strong&gt;5099.2172131147545&lt;br&gt;&lt;/div&gt;`)[0];\n",
       "                popup_a6a59cd4d2f5b8273ca7eff9c91c79ba.setContent(html_1ac40b39a7d9ea1e77aacd3277fbe4a4);\n",
       "            \n",
       "        \n",
       "\n",
       "        circle_marker_263bb12e553b7adb3a204d0a50f69f51.bindPopup(popup_a6a59cd4d2f5b8273ca7eff9c91c79ba)\n",
       "        ;\n",
       "\n",
       "        \n",
       "    \n",
       "    \n",
       "            var circle_marker_7d734e64c40d297347d89aaa3a1d8c07 = L.circleMarker(\n",
       "                [-31.9505, 115.8605],\n",
       "                {&quot;bubblingMouseEvents&quot;: true, &quot;color&quot;: &quot;blue&quot;, &quot;dashArray&quot;: null, &quot;dashOffset&quot;: null, &quot;fill&quot;: true, &quot;fillColor&quot;: &quot;crimson&quot;, &quot;fillOpacity&quot;: 0.3, &quot;fillRule&quot;: &quot;evenodd&quot;, &quot;lineCap&quot;: &quot;round&quot;, &quot;lineJoin&quot;: &quot;round&quot;, &quot;opacity&quot;: 1.0, &quot;radius&quot;: 0.00439905737704918, &quot;stroke&quot;: true, &quot;weight&quot;: 3}\n",
       "            ).addTo(map_63bd30139a6212ba0546419532110ea0);\n",
       "        \n",
       "    \n",
       "        var popup_dee6634cb10e9334983f95ffa87a9e1b = L.popup({&quot;maxWidth&quot;: &quot;100%&quot;});\n",
       "\n",
       "        \n",
       "            \n",
       "                var html_5fb350f1d431bb5297811ae55a2c29c0 = $(`&lt;div id=&quot;html_5fb350f1d431bb5297811ae55a2c29c0&quot; style=&quot;width: 100.0%; height: 100.0%;&quot;&gt;&lt;strong&gt;State&lt;/strong&gt;Western australia&lt;br&gt;&lt;strong&gt;Confirmed Cases&lt;/strong&gt;439.905737704918&lt;br&gt;&lt;/div&gt;`)[0];\n",
       "                popup_dee6634cb10e9334983f95ffa87a9e1b.setContent(html_5fb350f1d431bb5297811ae55a2c29c0);\n",
       "            \n",
       "        \n",
       "\n",
       "        circle_marker_7d734e64c40d297347d89aaa3a1d8c07.bindPopup(popup_dee6634cb10e9334983f95ffa87a9e1b)\n",
       "        ;\n",
       "\n",
       "        \n",
       "    \n",
       "    \n",
       "            var circle_marker_6f906187d7259a696b047f6aaea8d909 = L.circleMarker(\n",
       "                [41.1129, 85.2401],\n",
       "                {&quot;bubblingMouseEvents&quot;: true, &quot;color&quot;: &quot;blue&quot;, &quot;dashArray&quot;: null, &quot;dashOffset&quot;: null, &quot;fill&quot;: true, &quot;fillColor&quot;: &quot;crimson&quot;, &quot;fillOpacity&quot;: 0.3, &quot;fillRule&quot;: &quot;evenodd&quot;, &quot;lineCap&quot;: &quot;round&quot;, &quot;lineJoin&quot;: &quot;round&quot;, &quot;opacity&quot;: 1.0, &quot;radius&quot;: 0.0025374590163934427, &quot;stroke&quot;: true, &quot;weight&quot;: 3}\n",
       "            ).addTo(map_63bd30139a6212ba0546419532110ea0);\n",
       "        \n",
       "    \n",
       "        var popup_fe7e7780d13c09644f5601a98e6b86aa = L.popup({&quot;maxWidth&quot;: &quot;100%&quot;});\n",
       "\n",
       "        \n",
       "            \n",
       "                var html_36cf391dec5beb7dda79e3dc43f0debb = $(`&lt;div id=&quot;html_36cf391dec5beb7dda79e3dc43f0debb&quot; style=&quot;width: 100.0%; height: 100.0%;&quot;&gt;&lt;strong&gt;State&lt;/strong&gt;Xinjiang&lt;br&gt;&lt;strong&gt;Confirmed Cases&lt;/strong&gt;253.74590163934425&lt;br&gt;&lt;/div&gt;`)[0];\n",
       "                popup_fe7e7780d13c09644f5601a98e6b86aa.setContent(html_36cf391dec5beb7dda79e3dc43f0debb);\n",
       "            \n",
       "        \n",
       "\n",
       "        circle_marker_6f906187d7259a696b047f6aaea8d909.bindPopup(popup_fe7e7780d13c09644f5601a98e6b86aa)\n",
       "        ;\n",
       "\n",
       "        \n",
       "    \n",
       "    \n",
       "            var circle_marker_d3220b8a4b44f0bd2a51434324d4e5c6 = L.circleMarker(\n",
       "                [64.2823, -135.0],\n",
       "                {&quot;bubblingMouseEvents&quot;: true, &quot;color&quot;: &quot;blue&quot;, &quot;dashArray&quot;: null, &quot;dashOffset&quot;: null, &quot;fill&quot;: true, &quot;fillColor&quot;: &quot;crimson&quot;, &quot;fillOpacity&quot;: 0.3, &quot;fillRule&quot;: &quot;evenodd&quot;, &quot;lineCap&quot;: &quot;round&quot;, &quot;lineJoin&quot;: &quot;round&quot;, &quot;opacity&quot;: 1.0, &quot;radius&quot;: 8.631147540983607e-05, &quot;stroke&quot;: true, &quot;weight&quot;: 3}\n",
       "            ).addTo(map_63bd30139a6212ba0546419532110ea0);\n",
       "        \n",
       "    \n",
       "        var popup_e9224e79a45d360fd5c6cb39544efb82 = L.popup({&quot;maxWidth&quot;: &quot;100%&quot;});\n",
       "\n",
       "        \n",
       "            \n",
       "                var html_7f7b222d88256dfb7f686e5e908e59e2 = $(`&lt;div id=&quot;html_7f7b222d88256dfb7f686e5e908e59e2&quot; style=&quot;width: 100.0%; height: 100.0%;&quot;&gt;&lt;strong&gt;State&lt;/strong&gt;Yukon&lt;br&gt;&lt;strong&gt;Confirmed Cases&lt;/strong&gt;8.631147540983607&lt;br&gt;&lt;/div&gt;`)[0];\n",
       "                popup_e9224e79a45d360fd5c6cb39544efb82.setContent(html_7f7b222d88256dfb7f686e5e908e59e2);\n",
       "            \n",
       "        \n",
       "\n",
       "        circle_marker_d3220b8a4b44f0bd2a51434324d4e5c6.bindPopup(popup_e9224e79a45d360fd5c6cb39544efb82)\n",
       "        ;\n",
       "\n",
       "        \n",
       "    \n",
       "    \n",
       "            var circle_marker_6d373788417b7ba8023e63218f6be788 = L.circleMarker(\n",
       "                [24.974, 101.487],\n",
       "                {&quot;bubblingMouseEvents&quot;: true, &quot;color&quot;: &quot;blue&quot;, &quot;dashArray&quot;: null, &quot;dashOffset&quot;: null, &quot;fill&quot;: true, &quot;fillColor&quot;: &quot;crimson&quot;, &quot;fillOpacity&quot;: 0.3, &quot;fillRule&quot;: &quot;evenodd&quot;, &quot;lineCap&quot;: &quot;round&quot;, &quot;lineJoin&quot;: &quot;round&quot;, &quot;opacity&quot;: 1.0, &quot;radius&quot;: 0.0017688114754098362, &quot;stroke&quot;: true, &quot;weight&quot;: 3}\n",
       "            ).addTo(map_63bd30139a6212ba0546419532110ea0);\n",
       "        \n",
       "    \n",
       "        var popup_f08bf8d997300d50876f5bee7ab3bd53 = L.popup({&quot;maxWidth&quot;: &quot;100%&quot;});\n",
       "\n",
       "        \n",
       "            \n",
       "                var html_526fed2ffd2eebd290c862ced453ccff = $(`&lt;div id=&quot;html_526fed2ffd2eebd290c862ced453ccff&quot; style=&quot;width: 100.0%; height: 100.0%;&quot;&gt;&lt;strong&gt;State&lt;/strong&gt;Yunnan&lt;br&gt;&lt;strong&gt;Confirmed Cases&lt;/strong&gt;176.88114754098362&lt;br&gt;&lt;/div&gt;`)[0];\n",
       "                popup_f08bf8d997300d50876f5bee7ab3bd53.setContent(html_526fed2ffd2eebd290c862ced453ccff);\n",
       "            \n",
       "        \n",
       "\n",
       "        circle_marker_6d373788417b7ba8023e63218f6be788.bindPopup(popup_f08bf8d997300d50876f5bee7ab3bd53)\n",
       "        ;\n",
       "\n",
       "        \n",
       "    \n",
       "    \n",
       "            var circle_marker_7b72a9fe36ff36be8820921c2e702849 = L.circleMarker(\n",
       "                [29.1832, 120.0934],\n",
       "                {&quot;bubblingMouseEvents&quot;: true, &quot;color&quot;: &quot;blue&quot;, &quot;dashArray&quot;: null, &quot;dashOffset&quot;: null, &quot;fill&quot;: true, &quot;fillColor&quot;: &quot;crimson&quot;, &quot;fillOpacity&quot;: 0.3, &quot;fillRule&quot;: &quot;evenodd&quot;, &quot;lineCap&quot;: &quot;round&quot;, &quot;lineJoin&quot;: &quot;round&quot;, &quot;opacity&quot;: 1.0, &quot;radius&quot;: 0.011979180327868853, &quot;stroke&quot;: true, &quot;weight&quot;: 3}\n",
       "            ).addTo(map_63bd30139a6212ba0546419532110ea0);\n",
       "        \n",
       "    \n",
       "        var popup_cbc7979caa2e04456915aef3b614ffd5 = L.popup({&quot;maxWidth&quot;: &quot;100%&quot;});\n",
       "\n",
       "        \n",
       "            \n",
       "                var html_25346574b4b6458abc34a0af57889efe = $(`&lt;div id=&quot;html_25346574b4b6458abc34a0af57889efe&quot; style=&quot;width: 100.0%; height: 100.0%;&quot;&gt;&lt;strong&gt;State&lt;/strong&gt;Zhejiang&lt;br&gt;&lt;strong&gt;Confirmed Cases&lt;/strong&gt;1197.9180327868853&lt;br&gt;&lt;/div&gt;`)[0];\n",
       "                popup_cbc7979caa2e04456915aef3b614ffd5.setContent(html_25346574b4b6458abc34a0af57889efe);\n",
       "            \n",
       "        \n",
       "\n",
       "        circle_marker_7b72a9fe36ff36be8820921c2e702849.bindPopup(popup_cbc7979caa2e04456915aef3b614ffd5)\n",
       "        ;\n",
       "\n",
       "        \n",
       "    \n",
       "&lt;/script&gt;\n",
       "&lt;/html&gt;\" style=\"position:absolute;width:100%;height:100%;left:0;top:0;border:none !important;\" allowfullscreen webkitallowfullscreen mozallowfullscreen></iframe></div></div>"
      ],
      "text/plain": [
       "<folium.folium.Map at 0x221fa8eb210>"
      ]
     },
     "execution_count": 54,
     "metadata": {},
     "output_type": "execute_result"
    }
   ],
   "source": [
    "map"
   ]
  },
  {
   "cell_type": "code",
   "execution_count": 91,
   "metadata": {},
   "outputs": [
    {
     "data": {
      "text/html": [
       "<div>\n",
       "<style scoped>\n",
       "    .dataframe tbody tr th:only-of-type {\n",
       "        vertical-align: middle;\n",
       "    }\n",
       "\n",
       "    .dataframe tbody tr th {\n",
       "        vertical-align: top;\n",
       "    }\n",
       "\n",
       "    .dataframe thead th {\n",
       "        text-align: right;\n",
       "    }\n",
       "</style>\n",
       "<table border=\"1\" class=\"dataframe\">\n",
       "  <thead>\n",
       "    <tr style=\"text-align: right;\">\n",
       "      <th>Status</th>\n",
       "      <th>Country</th>\n",
       "      <th>Lat</th>\n",
       "      <th>Long</th>\n",
       "      <th>Confirmed</th>\n",
       "      <th>Dealth</th>\n",
       "      <th>Recovered</th>\n",
       "    </tr>\n",
       "  </thead>\n",
       "  <tbody>\n",
       "    <tr>\n",
       "      <th>0</th>\n",
       "      <td>32</td>\n",
       "      <td>53.9333</td>\n",
       "      <td>-116.5765</td>\n",
       "      <td>6126.057377</td>\n",
       "      <td>110.983607</td>\n",
       "      <td>0.000000</td>\n",
       "    </tr>\n",
       "    <tr>\n",
       "      <th>1</th>\n",
       "      <td>178</td>\n",
       "      <td>18.2206</td>\n",
       "      <td>-63.0686</td>\n",
       "      <td>2.168033</td>\n",
       "      <td>0.000000</td>\n",
       "      <td>1.877049</td>\n",
       "    </tr>\n",
       "    <tr>\n",
       "      <th>2</th>\n",
       "      <td>36</td>\n",
       "      <td>31.8257</td>\n",
       "      <td>117.2264</td>\n",
       "      <td>934.397541</td>\n",
       "      <td>5.504098</td>\n",
       "      <td>864.459016</td>\n",
       "    </tr>\n",
       "    <tr>\n",
       "      <th>3</th>\n",
       "      <td>122</td>\n",
       "      <td>12.5211</td>\n",
       "      <td>-69.9683</td>\n",
       "      <td>433.922131</td>\n",
       "      <td>3.413934</td>\n",
       "      <td>210.147541</td>\n",
       "    </tr>\n",
       "    <tr>\n",
       "      <th>4</th>\n",
       "      <td>8</td>\n",
       "      <td>-35.4735</td>\n",
       "      <td>149.0124</td>\n",
       "      <td>79.926230</td>\n",
       "      <td>2.077869</td>\n",
       "      <td>71.397541</td>\n",
       "    </tr>\n",
       "  </tbody>\n",
       "</table>\n",
       "</div>"
      ],
      "text/plain": [
       "Status  Country      Lat      Long    Confirmed      Dealth   Recovered\n",
       "0            32  53.9333 -116.5765  6126.057377  110.983607    0.000000\n",
       "1           178  18.2206  -63.0686     2.168033    0.000000    1.877049\n",
       "2            36  31.8257  117.2264   934.397541    5.504098  864.459016\n",
       "3           122  12.5211  -69.9683   433.922131    3.413934  210.147541\n",
       "4             8 -35.4735  149.0124    79.926230    2.077869   71.397541"
      ]
     },
     "execution_count": 91,
     "metadata": {},
     "output_type": "execute_result"
    }
   ],
   "source": [
    "x=tranformeddata.drop(\"Province\",axis=1)\n",
    "x.head()"
   ]
  },
  {
   "cell_type": "markdown",
   "metadata": {},
   "source": [
    "Scaling"
   ]
  },
  {
   "cell_type": "code",
   "execution_count": 92,
   "metadata": {},
   "outputs": [
    {
     "name": "stdout",
     "output_type": "stream",
     "text": [
      "[[1.71122995e-01 8.56087939e-01 5.88488014e-02 2.74757578e-03\n",
      "  1.28453407e-03 0.00000000e+00]\n",
      " [9.51871658e-01 5.66923772e-01 2.29765065e-01 9.72376522e-07\n",
      "  0.00000000e+00 2.06390958e-06]\n",
      " [1.92513369e-01 6.77083671e-01 8.05667833e-01 4.19083252e-04\n",
      "  6.37049207e-05 9.50515983e-04]\n",
      " ...\n",
      " [1.71122995e-01 9.39883339e-01 0.00000000e+00 3.87112468e-06\n",
      "  0.00000000e+00 0.00000000e+00]\n",
      " [1.92513369e-01 6.21605756e-01 7.55392650e-01 7.93323219e-05\n",
      "  2.04443938e-05 1.75986596e-04]\n",
      " [1.92513369e-01 6.55687464e-01 8.14825675e-01 5.37273872e-04\n",
      "  1.01984795e-05 1.21587257e-03]]\n"
     ]
    }
   ],
   "source": [
    "from sklearn.preprocessing import MinMaxScaler\n",
    "scaler=MinMaxScaler()\n",
    "x=scaler.fit_transform(x)\n",
    "print(x)"
   ]
  },
  {
   "cell_type": "markdown",
   "metadata": {},
   "source": [
    "Features engineering"
   ]
  },
  {
   "cell_type": "code",
   "execution_count": 86,
   "metadata": {},
   "outputs": [
    {
     "data": {
      "text/html": [
       "<div>\n",
       "<style scoped>\n",
       "    .dataframe tbody tr th:only-of-type {\n",
       "        vertical-align: middle;\n",
       "    }\n",
       "\n",
       "    .dataframe tbody tr th {\n",
       "        vertical-align: top;\n",
       "    }\n",
       "\n",
       "    .dataframe thead th {\n",
       "        text-align: right;\n",
       "    }\n",
       "</style>\n",
       "<table border=\"1\" class=\"dataframe\">\n",
       "  <thead>\n",
       "    <tr style=\"text-align: right;\">\n",
       "      <th>Status</th>\n",
       "      <th>Lat</th>\n",
       "      <th>Long</th>\n",
       "      <th>Confirmed</th>\n",
       "      <th>Dealth</th>\n",
       "      <th>Recovered</th>\n",
       "    </tr>\n",
       "  </thead>\n",
       "  <tbody>\n",
       "    <tr>\n",
       "      <th>2</th>\n",
       "      <td>31.8257</td>\n",
       "      <td>117.2264</td>\n",
       "      <td>934.397541</td>\n",
       "      <td>5.504098</td>\n",
       "      <td>864.459016</td>\n",
       "    </tr>\n",
       "    <tr>\n",
       "      <th>3</th>\n",
       "      <td>12.5211</td>\n",
       "      <td>-69.9683</td>\n",
       "      <td>433.922131</td>\n",
       "      <td>3.413934</td>\n",
       "      <td>210.147541</td>\n",
       "    </tr>\n",
       "    <tr>\n",
       "      <th>4</th>\n",
       "      <td>-35.4735</td>\n",
       "      <td>149.0124</td>\n",
       "      <td>79.926230</td>\n",
       "      <td>2.077869</td>\n",
       "      <td>71.397541</td>\n",
       "    </tr>\n",
       "    <tr>\n",
       "      <th>5</th>\n",
       "      <td>40.1824</td>\n",
       "      <td>116.4142</td>\n",
       "      <td>659.241803</td>\n",
       "      <td>7.733607</td>\n",
       "      <td>555.372951</td>\n",
       "    </tr>\n",
       "    <tr>\n",
       "      <th>6</th>\n",
       "      <td>32.3078</td>\n",
       "      <td>-64.7505</td>\n",
       "      <td>98.049180</td>\n",
       "      <td>5.692623</td>\n",
       "      <td>78.479508</td>\n",
       "    </tr>\n",
       "    <tr>\n",
       "      <th>7</th>\n",
       "      <td>12.1784</td>\n",
       "      <td>-68.2385</td>\n",
       "      <td>6.954918</td>\n",
       "      <td>0.024590</td>\n",
       "      <td>3.954918</td>\n",
       "    </tr>\n",
       "    <tr>\n",
       "      <th>8</th>\n",
       "      <td>53.7267</td>\n",
       "      <td>-127.6476</td>\n",
       "      <td>2450.709016</td>\n",
       "      <td>115.594262</td>\n",
       "      <td>0.000000</td>\n",
       "    </tr>\n",
       "    <tr>\n",
       "      <th>9</th>\n",
       "      <td>18.4207</td>\n",
       "      <td>-64.6400</td>\n",
       "      <td>10.963115</td>\n",
       "      <td>0.639344</td>\n",
       "      <td>5.676230</td>\n",
       "    </tr>\n",
       "  </tbody>\n",
       "</table>\n",
       "</div>"
      ],
      "text/plain": [
       "Status      Lat      Long    Confirmed      Dealth   Recovered\n",
       "2       31.8257  117.2264   934.397541    5.504098  864.459016\n",
       "3       12.5211  -69.9683   433.922131    3.413934  210.147541\n",
       "4      -35.4735  149.0124    79.926230    2.077869   71.397541\n",
       "5       40.1824  116.4142   659.241803    7.733607  555.372951\n",
       "6       32.3078  -64.7505    98.049180    5.692623   78.479508\n",
       "7       12.1784  -68.2385     6.954918    0.024590    3.954918\n",
       "8       53.7267 -127.6476  2450.709016  115.594262    0.000000\n",
       "9       18.4207  -64.6400    10.963115    0.639344    5.676230"
      ]
     },
     "execution_count": 86,
     "metadata": {},
     "output_type": "execute_result"
    }
   ],
   "source": [
    "data2=tranformeddata.iloc[2:10,2:10]\n",
    "data2"
   ]
  },
  {
   "cell_type": "code",
   "execution_count": 87,
   "metadata": {},
   "outputs": [
    {
     "data": {
      "image/png": "[encoded data removed]",
      "text/plain": [
       "<Figure size 2000x1500 with 2 Axes>"
      ]
     },
     "metadata": {},
     "output_type": "display_data"
    }
   ],
   "source": [
    "# Heatmap- to find the correlation between independent to independent and independent to dependent variables\n",
    "plt.figure(figsize=(20,15))\n",
    "sns.heatmap(data2.corr(),annot = True, cmap = \"RdYlGn\")\n",
    "plt.tick_params(labelsize=11)"
   ]
  },
  {
   "cell_type": "code",
   "execution_count": 130,
   "metadata": {},
   "outputs": [
    {
     "data": {
      "text/html": [
       "<div>\n",
       "<style scoped>\n",
       "    .dataframe tbody tr th:only-of-type {\n",
       "        vertical-align: middle;\n",
       "    }\n",
       "\n",
       "    .dataframe tbody tr th {\n",
       "        vertical-align: top;\n",
       "    }\n",
       "\n",
       "    .dataframe thead th {\n",
       "        text-align: right;\n",
       "    }\n",
       "</style>\n",
       "<table border=\"1\" class=\"dataframe\">\n",
       "  <thead>\n",
       "    <tr style=\"text-align: right;\">\n",
       "      <th>Status</th>\n",
       "      <th>Province</th>\n",
       "      <th>Country</th>\n",
       "      <th>Lat</th>\n",
       "      <th>Long</th>\n",
       "      <th>Confirmed</th>\n",
       "      <th>Dealth</th>\n",
       "      <th>Recovered</th>\n",
       "    </tr>\n",
       "  </thead>\n",
       "  <tbody>\n",
       "    <tr>\n",
       "      <th>0</th>\n",
       "      <td>Alberta</td>\n",
       "      <td>32</td>\n",
       "      <td>53.9333</td>\n",
       "      <td>-116.5765</td>\n",
       "      <td>6126.057377</td>\n",
       "      <td>110.983607</td>\n",
       "      <td>0.000000</td>\n",
       "    </tr>\n",
       "    <tr>\n",
       "      <th>1</th>\n",
       "      <td>Anguilla</td>\n",
       "      <td>178</td>\n",
       "      <td>18.2206</td>\n",
       "      <td>-63.0686</td>\n",
       "      <td>2.168033</td>\n",
       "      <td>0.000000</td>\n",
       "      <td>1.877049</td>\n",
       "    </tr>\n",
       "    <tr>\n",
       "      <th>2</th>\n",
       "      <td>Anhui</td>\n",
       "      <td>36</td>\n",
       "      <td>31.8257</td>\n",
       "      <td>117.2264</td>\n",
       "      <td>934.397541</td>\n",
       "      <td>5.504098</td>\n",
       "      <td>864.459016</td>\n",
       "    </tr>\n",
       "    <tr>\n",
       "      <th>3</th>\n",
       "      <td>Aruba</td>\n",
       "      <td>122</td>\n",
       "      <td>12.5211</td>\n",
       "      <td>-69.9683</td>\n",
       "      <td>433.922131</td>\n",
       "      <td>3.413934</td>\n",
       "      <td>210.147541</td>\n",
       "    </tr>\n",
       "    <tr>\n",
       "      <th>4</th>\n",
       "      <td>Australian Capital Territory</td>\n",
       "      <td>8</td>\n",
       "      <td>-35.4735</td>\n",
       "      <td>149.0124</td>\n",
       "      <td>79.926230</td>\n",
       "      <td>2.077869</td>\n",
       "      <td>71.397541</td>\n",
       "    </tr>\n",
       "    <tr>\n",
       "      <th>...</th>\n",
       "      <td>...</td>\n",
       "      <td>...</td>\n",
       "      <td>...</td>\n",
       "      <td>...</td>\n",
       "      <td>...</td>\n",
       "      <td>...</td>\n",
       "      <td>...</td>\n",
       "    </tr>\n",
       "    <tr>\n",
       "      <th>267</th>\n",
       "      <td>Western Australia</td>\n",
       "      <td>8</td>\n",
       "      <td>-31.9505</td>\n",
       "      <td>115.8605</td>\n",
       "      <td>439.905738</td>\n",
       "      <td>6.184426</td>\n",
       "      <td>392.344262</td>\n",
       "    </tr>\n",
       "    <tr>\n",
       "      <th>268</th>\n",
       "      <td>Xinjiang</td>\n",
       "      <td>36</td>\n",
       "      <td>41.1129</td>\n",
       "      <td>85.2401</td>\n",
       "      <td>253.745902</td>\n",
       "      <td>2.631148</td>\n",
       "      <td>186.868852</td>\n",
       "    </tr>\n",
       "    <tr>\n",
       "      <th>269</th>\n",
       "      <td>Yukon</td>\n",
       "      <td>32</td>\n",
       "      <td>64.2823</td>\n",
       "      <td>-135.0000</td>\n",
       "      <td>8.631148</td>\n",
       "      <td>0.000000</td>\n",
       "      <td>0.000000</td>\n",
       "    </tr>\n",
       "    <tr>\n",
       "      <th>270</th>\n",
       "      <td>Yunnan</td>\n",
       "      <td>36</td>\n",
       "      <td>24.9740</td>\n",
       "      <td>101.4870</td>\n",
       "      <td>176.881148</td>\n",
       "      <td>1.766393</td>\n",
       "      <td>160.053279</td>\n",
       "    </tr>\n",
       "    <tr>\n",
       "      <th>271</th>\n",
       "      <td>Zhejiang</td>\n",
       "      <td>36</td>\n",
       "      <td>29.1832</td>\n",
       "      <td>120.0934</td>\n",
       "      <td>1197.918033</td>\n",
       "      <td>0.881148</td>\n",
       "      <td>1105.790984</td>\n",
       "    </tr>\n",
       "  </tbody>\n",
       "</table>\n",
       "<p>272 rows × 7 columns</p>\n",
       "</div>"
      ],
      "text/plain": [
       "Status                      Province  Country      Lat      Long    Confirmed  \\\n",
       "0                            Alberta       32  53.9333 -116.5765  6126.057377   \n",
       "1                           Anguilla      178  18.2206  -63.0686     2.168033   \n",
       "2                              Anhui       36  31.8257  117.2264   934.397541   \n",
       "3                              Aruba      122  12.5211  -69.9683   433.922131   \n",
       "4       Australian Capital Territory        8 -35.4735  149.0124    79.926230   \n",
       "..                               ...      ...      ...       ...          ...   \n",
       "267                Western Australia        8 -31.9505  115.8605   439.905738   \n",
       "268                         Xinjiang       36  41.1129   85.2401   253.745902   \n",
       "269                            Yukon       32  64.2823 -135.0000     8.631148   \n",
       "270                           Yunnan       36  24.9740  101.4870   176.881148   \n",
       "271                         Zhejiang       36  29.1832  120.0934  1197.918033   \n",
       "\n",
       "Status      Dealth    Recovered  \n",
       "0       110.983607     0.000000  \n",
       "1         0.000000     1.877049  \n",
       "2         5.504098   864.459016  \n",
       "3         3.413934   210.147541  \n",
       "4         2.077869    71.397541  \n",
       "..             ...          ...  \n",
       "267       6.184426   392.344262  \n",
       "268       2.631148   186.868852  \n",
       "269       0.000000     0.000000  \n",
       "270       1.766393   160.053279  \n",
       "271       0.881148  1105.790984  \n",
       "\n",
       "[272 rows x 7 columns]"
      ]
     },
     "execution_count": 130,
     "metadata": {},
     "output_type": "execute_result"
    }
   ],
   "source": [
    "tranformeddata"
   ]
  },
  {
   "cell_type": "markdown",
   "metadata": {},
   "source": [
    "Model creation"
   ]
  },
  {
   "cell_type": "code",
   "execution_count": 142,
   "metadata": {},
   "outputs": [],
   "source": [
    "# for the model creation we have to separate the independent and dependent\n",
    "x=tranformeddata.drop([\"Country\",'Province' ],axis=1)\n",
    "y=tranformeddata[\"Country\"]"
   ]
  },
  {
   "cell_type": "code",
   "execution_count": 137,
   "metadata": {},
   "outputs": [],
   "source": [
    "## creating training and testing data\n",
    "from sklearn.model_selection import train_test_split\n",
    "x_train,x_test,y_train,y_test=train_test_split(x,y,test_size=0.25,random_state=42)"
   ]
  },
  {
   "cell_type": "code",
   "execution_count": 128,
   "metadata": {},
   "outputs": [
    {
     "name": "stdout",
     "output_type": "stream",
     "text": [
      "(204, 6)\n",
      "(204,)\n",
      "(68, 6)\n",
      "(68,)\n"
     ]
    }
   ],
   "source": [
    "print(x_train.shape)\n",
    "print(y_train.shape)\n",
    "print(x_test.shape)\n",
    "print(y_test.shape)"
   ]
  },
  {
   "cell_type": "markdown",
   "metadata": {},
   "source": [
    "Linear Regression"
   ]
  },
  {
   "cell_type": "code",
   "execution_count": 139,
   "metadata": {},
   "outputs": [],
   "source": [
    "## importing the model library\n",
    "from sklearn.linear_model import LinearRegression\n",
    "lr=LinearRegression()\n",
    "lr.fit(x_train,y_train)\n",
    "y_pred=lr.predict(x_test)"
   ]
  },
  {
   "cell_type": "code",
   "execution_count": 143,
   "metadata": {},
   "outputs": [
    {
     "name": "stdout",
     "output_type": "stream",
     "text": [
      "3175.389469357862\n",
      "49.453207249125796\n"
     ]
    }
   ],
   "source": [
    "from sklearn.metrics import mean_squared_error,mean_absolute_error,r2_score\n",
    "mse=mean_squared_error(y_test,y_pred)\n",
    "print(mse)\n",
    "mae=mean_absolute_error(y_test,y_pred)\n",
    "print(mae)"
   ]
  },
  {
   "cell_type": "code",
   "execution_count": 144,
   "metadata": {},
   "outputs": [
    {
     "name": "stdout",
     "output_type": "stream",
     "text": [
      "7.032297437475593\n"
     ]
    }
   ],
   "source": [
    "import math\n",
    "rmse=math.sqrt(mae)\n",
    "print(rmse)"
   ]
  },
  {
   "cell_type": "code",
   "execution_count": 145,
   "metadata": {},
   "outputs": [
    {
     "data": {
      "text/plain": [
       "-0.004435365912624389"
      ]
     },
     "execution_count": 145,
     "metadata": {},
     "output_type": "execute_result"
    }
   ],
   "source": [
    "lr_score=r2_score(y_test,y_pred)\n",
    "lr_score"
   ]
  },
  {
   "cell_type": "code",
   "execution_count": 146,
   "metadata": {},
   "outputs": [
    {
     "data": {
      "text/plain": [
       "-0.009349803156457392"
      ]
     },
     "execution_count": 146,
     "metadata": {},
     "output_type": "execute_result"
    }
   ],
   "source": [
    "# adjusted r2 score\n",
    "adj_r2=1-(1-lr_score)*(2671-1)/(2671-13-1)\n",
    "adj_r2"
   ]
  },
  {
   "cell_type": "markdown",
   "metadata": {},
   "source": [
    "KNN"
   ]
  },
  {
   "cell_type": "code",
   "execution_count": 147,
   "metadata": {},
   "outputs": [],
   "source": [
    "x=tranformeddata.drop([\"Country\",'Province' ],axis=1)\n",
    "y=tranformeddata[\"Country\"]"
   ]
  },
  {
   "cell_type": "code",
   "execution_count": 148,
   "metadata": {},
   "outputs": [],
   "source": [
    "from sklearn.model_selection import train_test_split## splitting the training and testing data\n",
    "x_train,x_test,y_train,y_test=train_test_split(x,y,test_size=0.25,random_state=42)"
   ]
  },
  {
   "cell_type": "code",
   "execution_count": 149,
   "metadata": {},
   "outputs": [],
   "source": [
    "from sklearn.neighbors import KNeighborsRegressor\n",
    "KNN=KNeighborsRegressor(n_neighbors=5)\n",
    "KNN.fit(x_train,y_train)\n",
    "y_pred=KNN.predict(x_test)"
   ]
  },
  {
   "cell_type": "code",
   "execution_count": 150,
   "metadata": {},
   "outputs": [
    {
     "data": {
      "text/plain": [
       "66"
      ]
     },
     "execution_count": 150,
     "metadata": {},
     "output_type": "execute_result"
    }
   ],
   "source": [
    "(y_test!=y_pred).sum()"
   ]
  },
  {
   "cell_type": "code",
   "execution_count": 151,
   "metadata": {},
   "outputs": [],
   "source": [
    "## taking optimal k to determine how many nearest neighbors  to create\n",
    "# create a list to store the error values for each k\n",
    "ERROR_RATE=[]\n",
    "for i in range(1,13):\n",
    "    KNN=KNeighborsRegressor(n_neighbors=i)\n",
    "    KNN.fit(x_train,y_train)\n",
    "    y_pred=KNN.predict(x_test)\n",
    "    error_rate=(y_test!=y_pred).sum()/len(y_test)\n",
    "    ERROR_RATE.append(error_rate)"
   ]
  },
  {
   "cell_type": "code",
   "execution_count": 152,
   "metadata": {},
   "outputs": [
    {
     "data": {
      "text/plain": [
       "[0.9264705882352942,\n",
       " 0.9558823529411765,\n",
       " 0.9705882352941176,\n",
       " 0.9705882352941176,\n",
       " 0.9705882352941176,\n",
       " 0.9705882352941176,\n",
       " 1.0,\n",
       " 1.0,\n",
       " 1.0,\n",
       " 1.0,\n",
       " 1.0,\n",
       " 1.0]"
      ]
     },
     "execution_count": 152,
     "metadata": {},
     "output_type": "execute_result"
    }
   ],
   "source": [
    "ERROR_RATE"
   ]
  },
  {
   "cell_type": "code",
   "execution_count": 153,
   "metadata": {},
   "outputs": [
    {
     "data": {
      "text/plain": [
       "Text(0, 0.5, 'Error Rate')"
      ]
     },
     "execution_count": 153,
     "metadata": {},
     "output_type": "execute_result"
    },
    {
     "data": {
      "image/png": "[encoded data removed]",
      "text/plain": [
       "<Figure size 640x480 with 1 Axes>"
      ]
     },
     "metadata": {},
     "output_type": "display_data"
    }
   ],
   "source": [
    "# Lets plot the k-value and error rate\n",
    "plt.plot(range(1,13),ERROR_RATE,color='green',marker='o',linestyle='--')\n",
    "plt.title('Error Rate vs. K Value')\n",
    "plt.xlabel('K')\n",
    "plt.ylabel('Error Rate')"
   ]
  },
  {
   "cell_type": "code",
   "execution_count": 154,
   "metadata": {},
   "outputs": [],
   "source": [
    "from sklearn.neighbors import KNeighborsRegressor\n",
    "KNN=KNeighborsRegressor(n_neighbors=4)\n",
    "KNN.fit(x_train,y_train)\n",
    "y_pred=KNN.predict(x_test)"
   ]
  },
  {
   "cell_type": "code",
   "execution_count": 155,
   "metadata": {},
   "outputs": [],
   "source": [
    "from sklearn.metrics import mean_squared_error,mean_absolute_error,r2_score"
   ]
  },
  {
   "cell_type": "code",
   "execution_count": 156,
   "metadata": {},
   "outputs": [
    {
     "data": {
      "text/plain": [
       "3576.170955882353"
      ]
     },
     "execution_count": 156,
     "metadata": {},
     "output_type": "execute_result"
    }
   ],
   "source": [
    "mse=mean_squared_error(y_test,y_pred)\n",
    "mse"
   ]
  },
  {
   "cell_type": "code",
   "execution_count": 157,
   "metadata": {},
   "outputs": [
    {
     "data": {
      "text/plain": [
       "50.919117647058826"
      ]
     },
     "execution_count": 157,
     "metadata": {},
     "output_type": "execute_result"
    }
   ],
   "source": [
    "mae=mean_absolute_error(y_test,y_pred)\n",
    "mae"
   ]
  },
  {
   "cell_type": "code",
   "execution_count": 158,
   "metadata": {},
   "outputs": [
    {
     "data": {
      "text/plain": [
       "-0.13121008219636887"
      ]
     },
     "execution_count": 158,
     "metadata": {},
     "output_type": "execute_result"
    }
   ],
   "source": [
    "knn_score=r2_score(y_test,y_pred)\n",
    "knn_score"
   ]
  },
  {
   "cell_type": "code",
   "execution_count": 159,
   "metadata": {},
   "outputs": [
    {
     "data": {
      "text/plain": [
       "-0.13674479467982859"
      ]
     },
     "execution_count": 159,
     "metadata": {},
     "output_type": "execute_result"
    }
   ],
   "source": [
    "adj_r2=1-(1-knn_score)*(2671-1)/(2671-13-1)\n",
    "adj_r2"
   ]
  },
  {
   "cell_type": "markdown",
   "metadata": {},
   "source": [
    "Random forest"
   ]
  },
  {
   "cell_type": "code",
   "execution_count": 164,
   "metadata": {},
   "outputs": [],
   "source": [
    "x=tranformeddata.drop([\"Country\",'Province' ],axis=1)\n",
    "y=tranformeddata[\"Country\"]"
   ]
  },
  {
   "cell_type": "code",
   "execution_count": 165,
   "metadata": {},
   "outputs": [],
   "source": [
    "# Splitting the Data into Train & Test Split\n",
    "from sklearn.model_selection import train_test_split\n",
    "x_train,x_test,y_train,y_test=train_test_split(x,y,test_size=0.25,random_state=42)"
   ]
  },
  {
   "cell_type": "code",
   "execution_count": 166,
   "metadata": {},
   "outputs": [],
   "source": [
    "from sklearn.ensemble import RandomForestRegressor\n",
    "random_forest=RandomForestRegressor()\n",
    "random_forest.fit(x_train,y_train)\n",
    "y_pred=random_forest.predict(x_test)"
   ]
  },
  {
   "cell_type": "code",
   "execution_count": 167,
   "metadata": {},
   "outputs": [],
   "source": [
    "from sklearn.metrics import mean_squared_error,mean_absolute_error,r2_score"
   ]
  },
  {
   "cell_type": "code",
   "execution_count": 168,
   "metadata": {},
   "outputs": [
    {
     "data": {
      "text/plain": [
       "44.29014705882353"
      ]
     },
     "execution_count": 168,
     "metadata": {},
     "output_type": "execute_result"
    }
   ],
   "source": [
    "#Mean absolute error\n",
    "MAE=mean_absolute_error(y_test,y_pred)\n",
    "MAE"
   ]
  },
  {
   "cell_type": "code",
   "execution_count": 169,
   "metadata": {},
   "outputs": [
    {
     "data": {
      "text/plain": [
       "2650.8488426470585"
      ]
     },
     "execution_count": 169,
     "metadata": {},
     "output_type": "execute_result"
    }
   ],
   "source": [
    "#Mean Squared error\n",
    "MSE=mean_squared_error(y_test,y_pred)\n",
    "MSE"
   ]
  },
  {
   "cell_type": "code",
   "execution_count": 170,
   "metadata": {},
   "outputs": [
    {
     "data": {
      "text/plain": [
       "51.48639473343476"
      ]
     },
     "execution_count": 170,
     "metadata": {},
     "output_type": "execute_result"
    }
   ],
   "source": [
    "#Root mean squared error\n",
    "RMSE=np.sqrt(MSE)\n",
    "RMSE"
   ]
  },
  {
   "cell_type": "code",
   "execution_count": 171,
   "metadata": {},
   "outputs": [
    {
     "data": {
      "text/plain": [
       "0.16148669228228674"
      ]
     },
     "execution_count": 171,
     "metadata": {},
     "output_type": "execute_result"
    }
   ],
   "source": [
    "r2=r2_score(y_test,y_pred)\n",
    "r2"
   ]
  },
  {
   "cell_type": "code",
   "execution_count": 172,
   "metadata": {},
   "outputs": [
    {
     "data": {
      "text/plain": [
       "0.15738406789375448"
      ]
     },
     "execution_count": 172,
     "metadata": {},
     "output_type": "execute_result"
    }
   ],
   "source": [
    "adj_r2=1-(1-r2)*(2671-1)/(2671-13-1)\n",
    "adj_r2"
   ]
  },
  {
   "cell_type": "code",
   "execution_count": 173,
   "metadata": {},
   "outputs": [
    {
     "name": "stderr",
     "output_type": "stream",
     "text": [
      "C:\\Users\\LENOVO\\AppData\\Local\\Temp\\ipykernel_11892\\3295525070.py:2: UserWarning:\n",
      "\n",
      "\n",
      "\n",
      "`distplot` is a deprecated function and will be removed in seaborn v0.14.0.\n",
      "\n",
      "Please adapt your code to use either `displot` (a figure-level function with\n",
      "similar flexibility) or `histplot` (an axes-level function for histograms).\n",
      "\n",
      "For a guide to updating your code to use the new functions, please see\n",
      "https://gist.github.com/mwaskom/de44147ed2974457ad6372750bbe5751\n",
      "\n",
      "\n"
     ]
    },
    {
     "data": {
      "image/png": "[encoded data removed]",
      "text/plain": [
       "<Figure size 600x400 with 1 Axes>"
      ]
     },
     "metadata": {},
     "output_type": "display_data"
    }
   ],
   "source": [
    "plt.figure(figsize=(6,4))\n",
    "sns.distplot(y_test-y_pred)\n",
    "plt.show()"
   ]
  },
  {
   "cell_type": "code",
   "execution_count": 174,
   "metadata": {},
   "outputs": [
    {
     "data": {
      "image/png": "[encoded data removed]",
      "text/plain": [
       "<Figure size 640x480 with 1 Axes>"
      ]
     },
     "metadata": {},
     "output_type": "display_data"
    },
    {
     "data": {
      "text/plain": [
       "<Figure size 600x400 with 0 Axes>"
      ]
     },
     "metadata": {},
     "output_type": "display_data"
    }
   ],
   "source": [
    "plt.scatter(y_test, y_pred, alpha = 0.5)\n",
    "plt.xlabel(\"y_test\")\n",
    "plt.ylabel(\"y_pred\")\n",
    "plt.figure(figsize=(6,4))\n",
    "plt.show()"
   ]
  },
  {
   "cell_type": "markdown",
   "metadata": {},
   "source": [
    "## HYPER PARAMETERTUNING"
   ]
  },
  {
   "cell_type": "code",
   "execution_count": 160,
   "metadata": {},
   "outputs": [],
   "source": [
    "from sklearn.model_selection import RandomizedSearchCV"
   ]
  },
  {
   "cell_type": "code",
   "execution_count": 161,
   "metadata": {},
   "outputs": [],
   "source": [
    "n_estimators=[int(x)for x in np.linspace(start=100,stop=1200,num=12)]\n",
    "max_features=['auto', 'sqrt']\n",
    "max_depth = [int(x) for x in np.linspace(5, 30, num=6)]\n",
    "min_samples_split=[2,3,10,15,100]\n",
    "min_samples_leaf=[1,2,5,10]"
   ]
  },
  {
   "cell_type": "code",
   "execution_count": 162,
   "metadata": {},
   "outputs": [],
   "source": [
    "random_grid = {'n_estimators': n_estimators,\n",
    "               'max_features': max_features,\n",
    "               'max_depth': max_depth, \n",
    "               'min_samples_split': min_samples_split,\n",
    "               'min_samples_leaf': min_samples_leaf} "
   ]
  },
  {
   "cell_type": "code",
   "execution_count": 175,
   "metadata": {},
   "outputs": [],
   "source": [
    "rf_random=RandomizedSearchCV(estimator=random_forest,param_distributions=random_grid,scoring='neg_mean_squared_error',n_iter=100,cv=4,verbose=2,random_state=42,n_jobs=-1)"
   ]
  },
  {
   "cell_type": "code",
   "execution_count": 176,
   "metadata": {},
   "outputs": [
    {
     "name": "stdout",
     "output_type": "stream",
     "text": [
      "Fitting 4 folds for each of 100 candidates, totalling 400 fits\n"
     ]
    },
    {
     "name": "stderr",
     "output_type": "stream",
     "text": [
      "c:\\Users\\LENOVO\\AppData\\Local\\Programs\\Python\\Python311\\Lib\\site-packages\\sklearn\\model_selection\\_validation.py:425: FitFailedWarning:\n",
      "\n",
      "\n",
      "128 fits failed out of a total of 400.\n",
      "The score on these train-test partitions for these parameters will be set to nan.\n",
      "If these failures are not expected, you can try to debug them by setting error_score='raise'.\n",
      "\n",
      "Below are more details about the failures:\n",
      "--------------------------------------------------------------------------------\n",
      "16 fits failed with the following error:\n",
      "Traceback (most recent call last):\n",
      "  File \"c:\\Users\\LENOVO\\AppData\\Local\\Programs\\Python\\Python311\\Lib\\site-packages\\sklearn\\model_selection\\_validation.py\", line 732, in _fit_and_score\n",
      "    estimator.fit(X_train, y_train, **fit_params)\n",
      "  File \"c:\\Users\\LENOVO\\AppData\\Local\\Programs\\Python\\Python311\\Lib\\site-packages\\sklearn\\base.py\", line 1144, in wrapper\n",
      "    estimator._validate_params()\n",
      "  File \"c:\\Users\\LENOVO\\AppData\\Local\\Programs\\Python\\Python311\\Lib\\site-packages\\sklearn\\base.py\", line 637, in _validate_params\n",
      "    validate_parameter_constraints(\n",
      "  File \"c:\\Users\\LENOVO\\AppData\\Local\\Programs\\Python\\Python311\\Lib\\site-packages\\sklearn\\utils\\_param_validation.py\", line 95, in validate_parameter_constraints\n",
      "    raise InvalidParameterError(\n",
      "sklearn.utils._param_validation.InvalidParameterError: The 'max_features' parameter of RandomForestRegressor must be an int in the range [1, inf), a float in the range (0.0, 1.0], a str among {'log2', 'sqrt'} or None. Got 'auto' instead.\n",
      "\n",
      "--------------------------------------------------------------------------------\n",
      "112 fits failed with the following error:\n",
      "Traceback (most recent call last):\n",
      "  File \"c:\\Users\\LENOVO\\AppData\\Local\\Programs\\Python\\Python311\\Lib\\site-packages\\sklearn\\model_selection\\_validation.py\", line 732, in _fit_and_score\n",
      "    estimator.fit(X_train, y_train, **fit_params)\n",
      "  File \"c:\\Users\\LENOVO\\AppData\\Local\\Programs\\Python\\Python311\\Lib\\site-packages\\sklearn\\base.py\", line 1144, in wrapper\n",
      "    estimator._validate_params()\n",
      "  File \"c:\\Users\\LENOVO\\AppData\\Local\\Programs\\Python\\Python311\\Lib\\site-packages\\sklearn\\base.py\", line 637, in _validate_params\n",
      "    validate_parameter_constraints(\n",
      "  File \"c:\\Users\\LENOVO\\AppData\\Local\\Programs\\Python\\Python311\\Lib\\site-packages\\sklearn\\utils\\_param_validation.py\", line 95, in validate_parameter_constraints\n",
      "    raise InvalidParameterError(\n",
      "sklearn.utils._param_validation.InvalidParameterError: The 'max_features' parameter of RandomForestRegressor must be an int in the range [1, inf), a float in the range (0.0, 1.0], a str among {'sqrt', 'log2'} or None. Got 'auto' instead.\n",
      "\n",
      "\n",
      "c:\\Users\\LENOVO\\AppData\\Local\\Programs\\Python\\Python311\\Lib\\site-packages\\sklearn\\model_selection\\_search.py:976: UserWarning:\n",
      "\n",
      "One or more of the test scores are non-finite: [-3041.65570777            nan -3070.53799236            nan\n",
      "            nan -3036.95071962            nan -3068.6457513\n",
      " -3069.07034632 -3111.88635652 -3088.9000974  -3082.1340485\n",
      " -3052.60919545 -3142.61291227 -3060.4794985  -3142.50701638\n",
      "            nan            nan -3034.49244772 -3035.50840201\n",
      " -3041.76150685 -3167.93277605 -3129.50098893 -3069.58860123\n",
      " -3048.28075096            nan            nan            nan\n",
      " -3147.95163485 -3040.64774489 -3041.82188154            nan\n",
      " -3070.17043792            nan            nan -3079.18936826\n",
      " -3080.56640486            nan -3039.15099096 -3078.58295025\n",
      " -3076.66023846            nan -3094.40768989 -3061.55214667\n",
      " -3069.28955414            nan -3084.02478041 -3033.95371488\n",
      " -3038.6930863  -3169.31503753 -3041.8803835  -3084.15624701\n",
      "            nan -3161.82483316 -3095.28571845 -3070.54949854\n",
      "            nan            nan -3051.71207726            nan\n",
      " -3042.44598351            nan -3038.61798748 -3060.47442985\n",
      " -3150.72496395            nan -3160.31185752            nan\n",
      " -3040.30249375 -3075.46556493 -3104.66310465            nan\n",
      "            nan -3070.28551061 -3158.11085301 -3046.76932468\n",
      "            nan -3056.51197673 -3082.82532581 -3061.38783113\n",
      " -3084.24723785            nan            nan -3074.24669791\n",
      " -3039.09235619 -3034.50531101            nan -3157.20497954\n",
      " -3071.724535   -3033.92076287 -3071.30999261            nan\n",
      " -3078.82650262            nan            nan -3040.33552372\n",
      "            nan -3151.83028181 -3169.5304744  -3091.67862842]\n",
      "\n"
     ]
    },
    {
     "data": {
      "text/html": [
       "<style>#sk-container-id-1 {color: black;}#sk-container-id-1 pre{padding: 0;}#sk-container-id-1 div.sk-toggleable {background-color: white;}#sk-container-id-1 label.sk-toggleable__label {cursor: pointer;display: block;width: 100%;margin-bottom: 0;padding: 0.3em;box-sizing: border-box;text-align: center;}#sk-container-id-1 label.sk-toggleable__label-arrow:before {content: \"▸\";float: left;margin-right: 0.25em;color: #696969;}#sk-container-id-1 label.sk-toggleable__label-arrow:hover:before {color: black;}#sk-container-id-1 div.sk-estimator:hover label.sk-toggleable__label-arrow:before {color: black;}#sk-container-id-1 div.sk-toggleable__content {max-height: 0;max-width: 0;overflow: hidden;text-align: left;background-color: #f0f8ff;}#sk-container-id-1 div.sk-toggleable__content pre {margin: 0.2em;color: black;border-radius: 0.25em;background-color: #f0f8ff;}#sk-container-id-1 input.sk-toggleable__control:checked~div.sk-toggleable__content {max-height: 200px;max-width: 100%;overflow: auto;}#sk-container-id-1 input.sk-toggleable__control:checked~label.sk-toggleable__label-arrow:before {content: \"▾\";}#sk-container-id-1 div.sk-estimator input.sk-toggleable__control:checked~label.sk-toggleable__label {background-color: #d4ebff;}#sk-container-id-1 div.sk-label input.sk-toggleable__control:checked~label.sk-toggleable__label {background-color: #d4ebff;}#sk-container-id-1 input.sk-hidden--visually {border: 0;clip: rect(1px 1px 1px 1px);clip: rect(1px, 1px, 1px, 1px);height: 1px;margin: -1px;overflow: hidden;padding: 0;position: absolute;width: 1px;}#sk-container-id-1 div.sk-estimator {font-family: monospace;background-color: #f0f8ff;border: 1px dotted black;border-radius: 0.25em;box-sizing: border-box;margin-bottom: 0.5em;}#sk-container-id-1 div.sk-estimator:hover {background-color: #d4ebff;}#sk-container-id-1 div.sk-parallel-item::after {content: \"\";width: 100%;border-bottom: 1px solid gray;flex-grow: 1;}#sk-container-id-1 div.sk-label:hover label.sk-toggleable__label {background-color: #d4ebff;}#sk-container-id-1 div.sk-serial::before {content: \"\";position: absolute;border-left: 1px solid gray;box-sizing: border-box;top: 0;bottom: 0;left: 50%;z-index: 0;}#sk-container-id-1 div.sk-serial {display: flex;flex-direction: column;align-items: center;background-color: white;padding-right: 0.2em;padding-left: 0.2em;position: relative;}#sk-container-id-1 div.sk-item {position: relative;z-index: 1;}#sk-container-id-1 div.sk-parallel {display: flex;align-items: stretch;justify-content: center;background-color: white;position: relative;}#sk-container-id-1 div.sk-item::before, #sk-container-id-1 div.sk-parallel-item::before {content: \"\";position: absolute;border-left: 1px solid gray;box-sizing: border-box;top: 0;bottom: 0;left: 50%;z-index: -1;}#sk-container-id-1 div.sk-parallel-item {display: flex;flex-direction: column;z-index: 1;position: relative;background-color: white;}#sk-container-id-1 div.sk-parallel-item:first-child::after {align-self: flex-end;width: 50%;}#sk-container-id-1 div.sk-parallel-item:last-child::after {align-self: flex-start;width: 50%;}#sk-container-id-1 div.sk-parallel-item:only-child::after {width: 0;}#sk-container-id-1 div.sk-dashed-wrapped {border: 1px dashed gray;margin: 0 0.4em 0.5em 0.4em;box-sizing: border-box;padding-bottom: 0.4em;background-color: white;}#sk-container-id-1 div.sk-label label {font-family: monospace;font-weight: bold;display: inline-block;line-height: 1.2em;}#sk-container-id-1 div.sk-label-container {text-align: center;}#sk-container-id-1 div.sk-container {/* jupyter's `normalize.less` sets `[hidden] { display: none; }` but bootstrap.min.css set `[hidden] { display: none !important; }` so we also need the `!important` here to be able to override the default hidden behavior on the sphinx rendered scikit-learn.org. See: https://github.com/scikit-learn/scikit-learn/issues/21755 */display: inline-block !important;position: relative;}#sk-container-id-1 div.sk-text-repr-fallback {display: none;}</style><div id=\"sk-container-id-1\" class=\"sk-top-container\"><div class=\"sk-text-repr-fallback\"><pre>RandomizedSearchCV(cv=4, estimator=RandomForestRegressor(), n_iter=100,\n",
       "                   n_jobs=-1,\n",
       "                   param_distributions={&#x27;max_depth&#x27;: [5, 10, 15, 20, 25, 30],\n",
       "                                        &#x27;max_features&#x27;: [&#x27;auto&#x27;, &#x27;sqrt&#x27;],\n",
       "                                        &#x27;min_samples_leaf&#x27;: [1, 2, 5, 10],\n",
       "                                        &#x27;min_samples_split&#x27;: [2, 3, 10, 15,\n",
       "                                                              100],\n",
       "                                        &#x27;n_estimators&#x27;: [100, 200, 300, 400,\n",
       "                                                         500, 600, 700, 800,\n",
       "                                                         900, 1000, 1100,\n",
       "                                                         1200]},\n",
       "                   random_state=42, scoring=&#x27;neg_mean_squared_error&#x27;,\n",
       "                   verbose=2)</pre><b>In a Jupyter environment, please rerun this cell to show the HTML representation or trust the notebook. <br />On GitHub, the HTML representation is unable to render, please try loading this page with nbviewer.org.</b></div><div class=\"sk-container\" hidden><div class=\"sk-item sk-dashed-wrapped\"><div class=\"sk-label-container\"><div class=\"sk-label sk-toggleable\"><input class=\"sk-toggleable__control sk-hidden--visually\" id=\"sk-estimator-id-1\" type=\"checkbox\" ><label for=\"sk-estimator-id-1\" class=\"sk-toggleable__label sk-toggleable__label-arrow\">RandomizedSearchCV</label><div class=\"sk-toggleable__content\"><pre>RandomizedSearchCV(cv=4, estimator=RandomForestRegressor(), n_iter=100,\n",
       "                   n_jobs=-1,\n",
       "                   param_distributions={&#x27;max_depth&#x27;: [5, 10, 15, 20, 25, 30],\n",
       "                                        &#x27;max_features&#x27;: [&#x27;auto&#x27;, &#x27;sqrt&#x27;],\n",
       "                                        &#x27;min_samples_leaf&#x27;: [1, 2, 5, 10],\n",
       "                                        &#x27;min_samples_split&#x27;: [2, 3, 10, 15,\n",
       "                                                              100],\n",
       "                                        &#x27;n_estimators&#x27;: [100, 200, 300, 400,\n",
       "                                                         500, 600, 700, 800,\n",
       "                                                         900, 1000, 1100,\n",
       "                                                         1200]},\n",
       "                   random_state=42, scoring=&#x27;neg_mean_squared_error&#x27;,\n",
       "                   verbose=2)</pre></div></div></div><div class=\"sk-parallel\"><div class=\"sk-parallel-item\"><div class=\"sk-item\"><div class=\"sk-label-container\"><div class=\"sk-label sk-toggleable\"><input class=\"sk-toggleable__control sk-hidden--visually\" id=\"sk-estimator-id-2\" type=\"checkbox\" ><label for=\"sk-estimator-id-2\" class=\"sk-toggleable__label sk-toggleable__label-arrow\">estimator: RandomForestRegressor</label><div class=\"sk-toggleable__content\"><pre>RandomForestRegressor()</pre></div></div></div><div class=\"sk-serial\"><div class=\"sk-item\"><div class=\"sk-estimator sk-toggleable\"><input class=\"sk-toggleable__control sk-hidden--visually\" id=\"sk-estimator-id-3\" type=\"checkbox\" ><label for=\"sk-estimator-id-3\" class=\"sk-toggleable__label sk-toggleable__label-arrow\">RandomForestRegressor</label><div class=\"sk-toggleable__content\"><pre>RandomForestRegressor()</pre></div></div></div></div></div></div></div></div></div></div>"
      ],
      "text/plain": [
       "RandomizedSearchCV(cv=4, estimator=RandomForestRegressor(), n_iter=100,\n",
       "                   n_jobs=-1,\n",
       "                   param_distributions={'max_depth': [5, 10, 15, 20, 25, 30],\n",
       "                                        'max_features': ['auto', 'sqrt'],\n",
       "                                        'min_samples_leaf': [1, 2, 5, 10],\n",
       "                                        'min_samples_split': [2, 3, 10, 15,\n",
       "                                                              100],\n",
       "                                        'n_estimators': [100, 200, 300, 400,\n",
       "                                                         500, 600, 700, 800,\n",
       "                                                         900, 1000, 1100,\n",
       "                                                         1200]},\n",
       "                   random_state=42, scoring='neg_mean_squared_error',\n",
       "                   verbose=2)"
      ]
     },
     "execution_count": 176,
     "metadata": {},
     "output_type": "execute_result"
    }
   ],
   "source": [
    "rf_random.fit(x_train,y_train)"
   ]
  },
  {
   "cell_type": "code",
   "execution_count": 177,
   "metadata": {},
   "outputs": [
    {
     "data": {
      "text/plain": [
       "{'n_estimators': 100,\n",
       " 'min_samples_split': 10,\n",
       " 'min_samples_leaf': 2,\n",
       " 'max_features': 'sqrt',\n",
       " 'max_depth': 5}"
      ]
     },
     "execution_count": 177,
     "metadata": {},
     "output_type": "execute_result"
    }
   ],
   "source": [
    "rf_random.best_params_"
   ]
  },
  {
   "cell_type": "code",
   "execution_count": 178,
   "metadata": {},
   "outputs": [],
   "source": [
    "from sklearn.ensemble import RandomForestRegressor\n",
    "random_forest=RandomForestRegressor(n_estimators= 500,\n",
    " min_samples_split= 10,\n",
    " min_samples_leaf= 2,\n",
    " max_features= 'sqrt',\n",
    " max_depth= 5)\n",
    "random_forest.fit(x_train,y_train)\n",
    "y_pred=random_forest.predict(x_test)"
   ]
  },
  {
   "cell_type": "code",
   "execution_count": 179,
   "metadata": {},
   "outputs": [],
   "source": [
    "from sklearn.metrics import mean_squared_error,mean_absolute_error,r2_score"
   ]
  },
  {
   "cell_type": "code",
   "execution_count": 180,
   "metadata": {},
   "outputs": [
    {
     "data": {
      "text/plain": [
       "45.81510004348353"
      ]
     },
     "execution_count": 180,
     "metadata": {},
     "output_type": "execute_result"
    }
   ],
   "source": [
    "MAE=mean_absolute_error(y_test,y_pred)\n",
    "MAE"
   ]
  },
  {
   "cell_type": "code",
   "execution_count": 181,
   "metadata": {},
   "outputs": [
    {
     "data": {
      "text/plain": [
       "2811.5485971664175"
      ]
     },
     "execution_count": 181,
     "metadata": {},
     "output_type": "execute_result"
    }
   ],
   "source": [
    "MSE=mean_squared_error(y_test,y_pred)\n",
    "MSE"
   ]
  },
  {
   "cell_type": "code",
   "execution_count": 182,
   "metadata": {},
   "outputs": [
    {
     "data": {
      "text/plain": [
       "53.02403791834811"
      ]
     },
     "execution_count": 182,
     "metadata": {},
     "output_type": "execute_result"
    }
   ],
   "source": [
    "#Root mean squared error\n",
    "RMSE=np.sqrt(MSE)\n",
    "RMSE"
   ]
  },
  {
   "cell_type": "code",
   "execution_count": 183,
   "metadata": {},
   "outputs": [
    {
     "data": {
      "text/plain": [
       "0.37489592110159586"
      ]
     },
     "execution_count": 183,
     "metadata": {},
     "output_type": "execute_result"
    }
   ],
   "source": [
    "random_forest.score(x_train,y_train)"
   ]
  },
  {
   "cell_type": "code",
   "execution_count": 184,
   "metadata": {},
   "outputs": [
    {
     "data": {
      "text/plain": [
       "0.11065433981329564"
      ]
     },
     "execution_count": 184,
     "metadata": {},
     "output_type": "execute_result"
    }
   ],
   "source": [
    "random_forest.score(x_test,y_test)"
   ]
  },
  {
   "cell_type": "code",
   "execution_count": 186,
   "metadata": {},
   "outputs": [
    {
     "data": {
      "text/plain": [
       "0.11065433981329564"
      ]
     },
     "execution_count": 186,
     "metadata": {},
     "output_type": "execute_result"
    }
   ],
   "source": [
    "# R2 score\n",
    "import sklearn.metrics as metrics\n",
    "rf_score=metrics.r2_score(y_test,y_pred)\n",
    "rf_score"
   ]
  },
  {
   "cell_type": "code",
   "execution_count": 187,
   "metadata": {},
   "outputs": [],
   "source": [
    "prediction=rf_random.predict(x_test)"
   ]
  },
  {
   "cell_type": "code",
   "execution_count": 188,
   "metadata": {},
   "outputs": [
    {
     "name": "stderr",
     "output_type": "stream",
     "text": [
      "C:\\Users\\LENOVO\\AppData\\Local\\Temp\\ipykernel_11892\\4163923267.py:2: UserWarning:\n",
      "\n",
      "\n",
      "\n",
      "`distplot` is a deprecated function and will be removed in seaborn v0.14.0.\n",
      "\n",
      "Please adapt your code to use either `displot` (a figure-level function with\n",
      "similar flexibility) or `histplot` (an axes-level function for histograms).\n",
      "\n",
      "For a guide to updating your code to use the new functions, please see\n",
      "https://gist.github.com/mwaskom/de44147ed2974457ad6372750bbe5751\n",
      "\n",
      "\n"
     ]
    },
    {
     "data": {
      "image/png": "[encoded data removed]",
      "text/plain": [
       "<Figure size 600x400 with 1 Axes>"
      ]
     },
     "metadata": {},
     "output_type": "display_data"
    }
   ],
   "source": [
    "plt.figure(figsize=(6,4))\n",
    "sns.distplot(y_test-prediction)\n",
    "plt.show()"
   ]
  },
  {
   "cell_type": "code",
   "execution_count": 189,
   "metadata": {},
   "outputs": [
    {
     "data": {
      "image/png": "[encoded data removed]",
      "text/plain": [
       "<Figure size 640x480 with 1 Axes>"
      ]
     },
     "metadata": {},
     "output_type": "display_data"
    },
    {
     "data": {
      "text/plain": [
       "<Figure size 600x400 with 0 Axes>"
      ]
     },
     "metadata": {},
     "output_type": "display_data"
    }
   ],
   "source": [
    "plt.scatter(y_test, y_pred, alpha = 0.9)\n",
    "plt.xlabel(\"y_test\")\n",
    "plt.ylabel(\"y_pred\")\n",
    "plt.figure(figsize=(6,4))\n",
    "\n",
    "plt.show()"
   ]
  },
  {
   "cell_type": "markdown",
   "metadata": {},
   "source": [
    "## GRADIENT BOOSTING"
   ]
  },
  {
   "cell_type": "code",
   "execution_count": 190,
   "metadata": {},
   "outputs": [],
   "source": [
    "x=tranformeddata.drop([\"Country\",'Province' ],axis=1)\n",
    "y=tranformeddata[\"Country\"]"
   ]
  },
  {
   "cell_type": "code",
   "execution_count": 191,
   "metadata": {},
   "outputs": [],
   "source": [
    "# Splitting the Data into Train & Test Split\n",
    "from sklearn.model_selection import train_test_split\n",
    "x_train,x_test,y_train,y_test=train_test_split(x,y,test_size=0.25,random_state=42)"
   ]
  },
  {
   "cell_type": "code",
   "execution_count": 192,
   "metadata": {},
   "outputs": [],
   "source": [
    "## importing the model library\n",
    "from sklearn.ensemble import GradientBoostingRegressor\n",
    "gbm=GradientBoostingRegressor(n_estimators=100) ## object creation\n",
    "gbm.fit(x_train,y_train) ## fitting the data\n",
    "y_hat=gbm.predict(x_test)#predicting the price"
   ]
  },
  {
   "cell_type": "code",
   "execution_count": 193,
   "metadata": {},
   "outputs": [],
   "source": [
    "## evaluatin the model\n",
    "from sklearn.metrics import mean_squared_error,mean_absolute_error,r2_score"
   ]
  },
  {
   "cell_type": "code",
   "execution_count": 194,
   "metadata": {},
   "outputs": [
    {
     "data": {
      "text/plain": [
       "3097.078126203017"
      ]
     },
     "execution_count": 194,
     "metadata": {},
     "output_type": "execute_result"
    }
   ],
   "source": [
    "mse=mean_squared_error(y_test,y_hat)\n",
    "mse"
   ]
  },
  {
   "cell_type": "code",
   "execution_count": 195,
   "metadata": {},
   "outputs": [
    {
     "data": {
      "text/plain": [
       "47.7013105160964"
      ]
     },
     "execution_count": 195,
     "metadata": {},
     "output_type": "execute_result"
    }
   ],
   "source": [
    "mae=mean_absolute_error(y_test,y_hat)\n",
    "mae"
   ]
  },
  {
   "cell_type": "code",
   "execution_count": 196,
   "metadata": {},
   "outputs": [
    {
     "data": {
      "text/plain": [
       "0.020335983673274605"
      ]
     },
     "execution_count": 196,
     "metadata": {},
     "output_type": "execute_result"
    }
   ],
   "source": [
    "gb_score=r2_score(y_test,y_hat)\n",
    "gb_score"
   ]
  },
  {
   "cell_type": "code",
   "execution_count": 197,
   "metadata": {},
   "outputs": [
    {
     "data": {
      "text/plain": [
       "0.015542746107505834"
      ]
     },
     "execution_count": 197,
     "metadata": {},
     "output_type": "execute_result"
    }
   ],
   "source": [
    "adj_r2=1-(1-gb_score)*(2671-1)/(2671-13-1)\n",
    "adj_r2"
   ]
  },
  {
   "cell_type": "markdown",
   "metadata": {},
   "source": [
    "## HYPER PARAMETERTUNINIG"
   ]
  },
  {
   "cell_type": "code",
   "execution_count": 198,
   "metadata": {},
   "outputs": [],
   "source": [
    "from sklearn.model_selection import RandomizedSearchCV\n",
    "param_grid = {\n",
    "    'n_estimators': [100, 200, 300],\n",
    "    'learning_rate': [0.01, 0.1, 0.2],\n",
    "    'max_depth': [3, 4, 5],\n",
    "    'min_samples_split': [2, 5, 10],\n",
    "    'min_samples_leaf': [1, 2, 4],\n",
    "    'subsample': [0.8, 0.9, 1.0]\n",
    "}"
   ]
  },
  {
   "cell_type": "code",
   "execution_count": 200,
   "metadata": {},
   "outputs": [],
   "source": [
    "rsc=RandomizedSearchCV(estimator=gbm,param_distributions=param_grid,scoring='neg_mean_squared_error',n_iter=100,cv=4,verbose=2,random_state=42,n_jobs=-1)"
   ]
  },
  {
   "cell_type": "code",
   "execution_count": 201,
   "metadata": {},
   "outputs": [
    {
     "name": "stdout",
     "output_type": "stream",
     "text": [
      "Fitting 4 folds for each of 100 candidates, totalling 400 fits\n"
     ]
    },
    {
     "data": {
      "text/html": [
       "<style>#sk-container-id-2 {color: black;}#sk-container-id-2 pre{padding: 0;}#sk-container-id-2 div.sk-toggleable {background-color: white;}#sk-container-id-2 label.sk-toggleable__label {cursor: pointer;display: block;width: 100%;margin-bottom: 0;padding: 0.3em;box-sizing: border-box;text-align: center;}#sk-container-id-2 label.sk-toggleable__label-arrow:before {content: \"▸\";float: left;margin-right: 0.25em;color: #696969;}#sk-container-id-2 label.sk-toggleable__label-arrow:hover:before {color: black;}#sk-container-id-2 div.sk-estimator:hover label.sk-toggleable__label-arrow:before {color: black;}#sk-container-id-2 div.sk-toggleable__content {max-height: 0;max-width: 0;overflow: hidden;text-align: left;background-color: #f0f8ff;}#sk-container-id-2 div.sk-toggleable__content pre {margin: 0.2em;color: black;border-radius: 0.25em;background-color: #f0f8ff;}#sk-container-id-2 input.sk-toggleable__control:checked~div.sk-toggleable__content {max-height: 200px;max-width: 100%;overflow: auto;}#sk-container-id-2 input.sk-toggleable__control:checked~label.sk-toggleable__label-arrow:before {content: \"▾\";}#sk-container-id-2 div.sk-estimator input.sk-toggleable__control:checked~label.sk-toggleable__label {background-color: #d4ebff;}#sk-container-id-2 div.sk-label input.sk-toggleable__control:checked~label.sk-toggleable__label {background-color: #d4ebff;}#sk-container-id-2 input.sk-hidden--visually {border: 0;clip: rect(1px 1px 1px 1px);clip: rect(1px, 1px, 1px, 1px);height: 1px;margin: -1px;overflow: hidden;padding: 0;position: absolute;width: 1px;}#sk-container-id-2 div.sk-estimator {font-family: monospace;background-color: #f0f8ff;border: 1px dotted black;border-radius: 0.25em;box-sizing: border-box;margin-bottom: 0.5em;}#sk-container-id-2 div.sk-estimator:hover {background-color: #d4ebff;}#sk-container-id-2 div.sk-parallel-item::after {content: \"\";width: 100%;border-bottom: 1px solid gray;flex-grow: 1;}#sk-container-id-2 div.sk-label:hover label.sk-toggleable__label {background-color: #d4ebff;}#sk-container-id-2 div.sk-serial::before {content: \"\";position: absolute;border-left: 1px solid gray;box-sizing: border-box;top: 0;bottom: 0;left: 50%;z-index: 0;}#sk-container-id-2 div.sk-serial {display: flex;flex-direction: column;align-items: center;background-color: white;padding-right: 0.2em;padding-left: 0.2em;position: relative;}#sk-container-id-2 div.sk-item {position: relative;z-index: 1;}#sk-container-id-2 div.sk-parallel {display: flex;align-items: stretch;justify-content: center;background-color: white;position: relative;}#sk-container-id-2 div.sk-item::before, #sk-container-id-2 div.sk-parallel-item::before {content: \"\";position: absolute;border-left: 1px solid gray;box-sizing: border-box;top: 0;bottom: 0;left: 50%;z-index: -1;}#sk-container-id-2 div.sk-parallel-item {display: flex;flex-direction: column;z-index: 1;position: relative;background-color: white;}#sk-container-id-2 div.sk-parallel-item:first-child::after {align-self: flex-end;width: 50%;}#sk-container-id-2 div.sk-parallel-item:last-child::after {align-self: flex-start;width: 50%;}#sk-container-id-2 div.sk-parallel-item:only-child::after {width: 0;}#sk-container-id-2 div.sk-dashed-wrapped {border: 1px dashed gray;margin: 0 0.4em 0.5em 0.4em;box-sizing: border-box;padding-bottom: 0.4em;background-color: white;}#sk-container-id-2 div.sk-label label {font-family: monospace;font-weight: bold;display: inline-block;line-height: 1.2em;}#sk-container-id-2 div.sk-label-container {text-align: center;}#sk-container-id-2 div.sk-container {/* jupyter's `normalize.less` sets `[hidden] { display: none; }` but bootstrap.min.css set `[hidden] { display: none !important; }` so we also need the `!important` here to be able to override the default hidden behavior on the sphinx rendered scikit-learn.org. See: https://github.com/scikit-learn/scikit-learn/issues/21755 */display: inline-block !important;position: relative;}#sk-container-id-2 div.sk-text-repr-fallback {display: none;}</style><div id=\"sk-container-id-2\" class=\"sk-top-container\"><div class=\"sk-text-repr-fallback\"><pre>RandomizedSearchCV(cv=4, estimator=GradientBoostingRegressor(), n_iter=100,\n",
       "                   n_jobs=-1,\n",
       "                   param_distributions={&#x27;learning_rate&#x27;: [0.01, 0.1, 0.2],\n",
       "                                        &#x27;max_depth&#x27;: [3, 4, 5],\n",
       "                                        &#x27;min_samples_leaf&#x27;: [1, 2, 4],\n",
       "                                        &#x27;min_samples_split&#x27;: [2, 5, 10],\n",
       "                                        &#x27;n_estimators&#x27;: [100, 200, 300],\n",
       "                                        &#x27;subsample&#x27;: [0.8, 0.9, 1.0]},\n",
       "                   random_state=42, scoring=&#x27;neg_mean_squared_error&#x27;,\n",
       "                   verbose=2)</pre><b>In a Jupyter environment, please rerun this cell to show the HTML representation or trust the notebook. <br />On GitHub, the HTML representation is unable to render, please try loading this page with nbviewer.org.</b></div><div class=\"sk-container\" hidden><div class=\"sk-item sk-dashed-wrapped\"><div class=\"sk-label-container\"><div class=\"sk-label sk-toggleable\"><input class=\"sk-toggleable__control sk-hidden--visually\" id=\"sk-estimator-id-4\" type=\"checkbox\" ><label for=\"sk-estimator-id-4\" class=\"sk-toggleable__label sk-toggleable__label-arrow\">RandomizedSearchCV</label><div class=\"sk-toggleable__content\"><pre>RandomizedSearchCV(cv=4, estimator=GradientBoostingRegressor(), n_iter=100,\n",
       "                   n_jobs=-1,\n",
       "                   param_distributions={&#x27;learning_rate&#x27;: [0.01, 0.1, 0.2],\n",
       "                                        &#x27;max_depth&#x27;: [3, 4, 5],\n",
       "                                        &#x27;min_samples_leaf&#x27;: [1, 2, 4],\n",
       "                                        &#x27;min_samples_split&#x27;: [2, 5, 10],\n",
       "                                        &#x27;n_estimators&#x27;: [100, 200, 300],\n",
       "                                        &#x27;subsample&#x27;: [0.8, 0.9, 1.0]},\n",
       "                   random_state=42, scoring=&#x27;neg_mean_squared_error&#x27;,\n",
       "                   verbose=2)</pre></div></div></div><div class=\"sk-parallel\"><div class=\"sk-parallel-item\"><div class=\"sk-item\"><div class=\"sk-label-container\"><div class=\"sk-label sk-toggleable\"><input class=\"sk-toggleable__control sk-hidden--visually\" id=\"sk-estimator-id-5\" type=\"checkbox\" ><label for=\"sk-estimator-id-5\" class=\"sk-toggleable__label sk-toggleable__label-arrow\">estimator: GradientBoostingRegressor</label><div class=\"sk-toggleable__content\"><pre>GradientBoostingRegressor()</pre></div></div></div><div class=\"sk-serial\"><div class=\"sk-item\"><div class=\"sk-estimator sk-toggleable\"><input class=\"sk-toggleable__control sk-hidden--visually\" id=\"sk-estimator-id-6\" type=\"checkbox\" ><label for=\"sk-estimator-id-6\" class=\"sk-toggleable__label sk-toggleable__label-arrow\">GradientBoostingRegressor</label><div class=\"sk-toggleable__content\"><pre>GradientBoostingRegressor()</pre></div></div></div></div></div></div></div></div></div></div>"
      ],
      "text/plain": [
       "RandomizedSearchCV(cv=4, estimator=GradientBoostingRegressor(), n_iter=100,\n",
       "                   n_jobs=-1,\n",
       "                   param_distributions={'learning_rate': [0.01, 0.1, 0.2],\n",
       "                                        'max_depth': [3, 4, 5],\n",
       "                                        'min_samples_leaf': [1, 2, 4],\n",
       "                                        'min_samples_split': [2, 5, 10],\n",
       "                                        'n_estimators': [100, 200, 300],\n",
       "                                        'subsample': [0.8, 0.9, 1.0]},\n",
       "                   random_state=42, scoring='neg_mean_squared_error',\n",
       "                   verbose=2)"
      ]
     },
     "execution_count": 201,
     "metadata": {},
     "output_type": "execute_result"
    }
   ],
   "source": [
    "rsc.fit(x_train, y_train)"
   ]
  },
  {
   "cell_type": "code",
   "execution_count": 202,
   "metadata": {},
   "outputs": [
    {
     "data": {
      "text/plain": [
       "{'subsample': 1.0,\n",
       " 'n_estimators': 100,\n",
       " 'min_samples_split': 5,\n",
       " 'min_samples_leaf': 4,\n",
       " 'max_depth': 3,\n",
       " 'learning_rate': 0.01}"
      ]
     },
     "execution_count": 202,
     "metadata": {},
     "output_type": "execute_result"
    }
   ],
   "source": [
    "rsc.best_params_"
   ]
  },
  {
   "cell_type": "code",
   "execution_count": 203,
   "metadata": {},
   "outputs": [],
   "source": [
    "## importing the model library\n",
    "from sklearn.ensemble import GradientBoostingRegressor\n",
    "gradient_boost=GradientBoostingRegressor(n_estimators= 300,\n",
    "                                         min_samples_split= 5,\n",
    "                                         min_samples_leaf= 4,\n",
    "                                         subsample=1.0,\n",
    "                                         learning_rate= 0.01,\n",
    "                                         max_depth= 3)\n",
    "gradient_boost.fit(x_train,y_train)\n",
    "y_hat=gradient_boost.predict(x_test)"
   ]
  },
  {
   "cell_type": "code",
   "execution_count": 204,
   "metadata": {},
   "outputs": [],
   "source": [
    "## evaluatin the model\n",
    "from sklearn.metrics import mean_squared_error,mean_absolute_error,r2_score"
   ]
  },
  {
   "cell_type": "code",
   "execution_count": 205,
   "metadata": {},
   "outputs": [
    {
     "data": {
      "text/plain": [
       "2716.673814667842"
      ]
     },
     "execution_count": 205,
     "metadata": {},
     "output_type": "execute_result"
    }
   ],
   "source": [
    "mse=mean_squared_error(y_test,y_hat)\n",
    "mse"
   ]
  },
  {
   "cell_type": "code",
   "execution_count": 206,
   "metadata": {},
   "outputs": [
    {
     "data": {
      "text/plain": [
       "44.53837809891517"
      ]
     },
     "execution_count": 206,
     "metadata": {},
     "output_type": "execute_result"
    }
   ],
   "source": [
    "mae=mean_absolute_error(y_test,y_hat)\n",
    "mae"
   ]
  },
  {
   "cell_type": "code",
   "execution_count": 207,
   "metadata": {},
   "outputs": [
    {
     "data": {
      "text/plain": [
       "0.14066501654899333"
      ]
     },
     "execution_count": 207,
     "metadata": {},
     "output_type": "execute_result"
    }
   ],
   "source": [
    "gbst_score=r2_score(y_test,y_hat)\n",
    "gbst_score"
   ]
  },
  {
   "cell_type": "markdown",
   "metadata": {},
   "source": [
    "Result"
   ]
  },
  {
   "cell_type": "code",
   "execution_count": 208,
   "metadata": {},
   "outputs": [
    {
     "name": "stdout",
     "output_type": "stream",
     "text": [
      "The R2 score achieved using Linear Regression is: -0.004435365912624389 %\n",
      "The R2 score achieved using KNN is: -0.13121008219636887 %\n",
      "The R2 score achieved using Random Forest is: 0.11065433981329564 %\n",
      "The R2 score achieved using Gradient Boosting is: 0.14066501654899333 %\n"
     ]
    }
   ],
   "source": [
    "scores = [lr_score,knn_score,rf_score,gbst_score]\n",
    "algorithms = [\"Linear Regression\",\"KNN\",\"Random Forest\",\"Gradient Boosting\"]    \n",
    "\n",
    "for i in range(len(algorithms)):\n",
    "    print(\"The R2 score achieved using \"+algorithms[i]+\" is: \"+str(scores[i])+\" %\")"
   ]
  },
  {
   "cell_type": "code",
   "execution_count": 209,
   "metadata": {},
   "outputs": [
    {
     "data": {
      "image/png": "[encoded data removed]",
      "text/plain": [
       "<Figure size 1000x600 with 1 Axes>"
      ]
     },
     "metadata": {},
     "output_type": "display_data"
    }
   ],
   "source": [
    "plt.figure(figsize=(10,6))\n",
    "plt.xlabel(\"Algorithms\")\n",
    "plt.ylabel(\"R2 score\")\n",
    "ax=sns.barplot(x=algorithms,y=scores)\n",
    "for label in ax.containers:\n",
    "    ax.bar_label(label)\n",
    "plt.tight_layout()\n",
    "plt.tick_params(labelsize=14)"
   ]
  },
  {
   "cell_type": "markdown",
   "metadata": {},
   "source": [
    "Conclusion\n",
    "This is a daily updating version of COVID-19 Data Repository by the Center for Systems\n",
    "Science and Engineering (CSSE) at Johns Hopkins University (JHU). The data updates\n",
    "every day at 6am UTC, which updates just after the raw JHU data typically updates.\n",
    "findind which state is imfacted more , in which state more peoples are recovery."
   ]
  },
  {
   "cell_type": "markdown",
   "metadata": {},
   "source": [
    "The challenges that we faced during JohnsHopkinsCovid19 using machine learning:\n",
    "\n",
    "\n",
    "**Feature modeling:** When dealing with a large number of columns or features, finding meaningful correlations between them can be challenging. Correlation analysis helps identify which features are strongly related to the target variable and which are not. However, for a \n",
    "large number of columns, this process can become complex and time-consuming.\n",
    "\n",
    "**Merge all 3 datasets** When dealing with a large number of columns or features, merging data set is difficult.\n",
    "\n",
    "**creating map** creating a proper map is so much challenging. for this we are  Folium\n",
    "Folium basically Python's library gives you access to the mapping strengths of the Leaflet JavaScript library through a Python API."
   ]
  }
 ],
 "metadata": {
  "kernelspec": {
   "display_name": "Python 3",
   "language": "python",
   "name": "python3"
  },
  "language_info": {
   "codemirror_mode": {
    "name": "ipython",
    "version": 3
   },
   "file_extension": ".py",
   "mimetype": "text/x-python",
   "name": "python",
   "nbconvert_exporter": "python",
   "pygments_lexer": "ipython3",
   "version": "3.11.4"
  }
 },
 "nbformat": 4,
 "nbformat_minor": 2
}
